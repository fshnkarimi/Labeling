{
  "nbformat": 4,
  "nbformat_minor": 0,
  "metadata": {
    "colab": {
      "name": "Buy&Hold.ipynb",
      "provenance": [],
      "collapsed_sections": [],
      "toc_visible": true,
      "include_colab_link": true
    },
    "kernelspec": {
      "display_name": "Python 3",
      "name": "python3"
    },
    "language_info": {
      "name": "python"
    }
  },
  "cells": [
    {
      "cell_type": "markdown",
      "metadata": {
        "id": "view-in-github",
        "colab_type": "text"
      },
      "source": [
        "<a href=\"https://colab.research.google.com/github/fshnkarimi/Labeling/blob/main/Buy%26Hold.ipynb\" target=\"_parent\"><img src=\"https://colab.research.google.com/assets/colab-badge.svg\" alt=\"Open In Colab\"/></a>"
      ]
    },
    {
      "cell_type": "code",
      "metadata": {
        "id": "2BvXSh-icaqm"
      },
      "source": [
        "import pandas as pd\n",
        "import numpy as np\n",
        "import matplotlib.pyplot as plt\n",
        "import seaborn as sns\n",
        "import warnings\n",
        "warnings.filterwarnings(\"ignore\")"
      ],
      "execution_count": 1,
      "outputs": []
    },
    {
      "cell_type": "code",
      "metadata": {
        "id": "6XVGF7wIIq_b"
      },
      "source": [
        "import glob\n",
        "from dateutil import parser\n",
        "\n",
        "# Read dataframes\n",
        "path = r'/content' \n",
        "all_files = glob.glob(path + \"/*.csv\")\n",
        "\n",
        "df_dict = {}\n",
        "\n",
        "for filename in all_files:\n",
        "    key = filename.split('/')[len(filename.split('/')) -1 ].split('.')[0]\n",
        "    df = pd.read_csv(filename, index_col=None, header=0)\n",
        "    df_dict[key] = df\n"
      ],
      "execution_count": 2,
      "outputs": []
    },
    {
      "cell_type": "code",
      "metadata": {
        "id": "7avqG2EgIT1e"
      },
      "source": [
        "def buy_and_hold(df, InitialCapital):\n",
        "    \n",
        "    capital = InitialCapital\n",
        "    stock = 0\n",
        "    old_trend = new_trend = df.Label[0]\n",
        "    final_capitals = []\n",
        "\n",
        "    for i in range(df.Label.count()):\n",
        "        new_trend = df.Label[i]\n",
        "        \n",
        "        if new_trend == 1 and capital != 0:\n",
        "          # Buy\n",
        "          stock = capital / df.Price[i]\n",
        "          capital = 0\n",
        "          df['Trade Signal'][i] = 'Buy'\n",
        "          df['Number of Shares'][i] = \"{0:0.2f}\".format(stock)\n",
        "\n",
        "        elif new_trend != old_trend and new_trend == 0:\n",
        "            # sell\n",
        "            if stock != 0:\n",
        "                capital = stock * df.Price[i]\n",
        "                stock = 0\n",
        "                df['Trade Signal'][i] = 'Sell'\n",
        "                df['Number of Shares'][i] = '0'\n",
        "        else:\n",
        "            if i != 0:\n",
        "                df['Number of Shares'][i] = df['Number of Shares'][i-1] \n",
        "\n",
        "        if capital != 0:\n",
        "            final_capitals.append(capital)\n",
        "        else:\n",
        "            final_capitals.append(stock * df.Price[i])\n",
        "\n",
        "        old_trend = df.Label[i]\n",
        "    \n",
        "    df = df.assign(FinalCapital=pd.Series(final_capitals))\n",
        "    return df"
      ],
      "execution_count": 3,
      "outputs": []
    },
    {
      "cell_type": "code",
      "metadata": {
        "id": "dbtbSIg1aAY0"
      },
      "source": [
        "def ROR(df, InitialCapital):\n",
        "    ROR_list = []\n",
        "    for capital in df.FinalCapital:\n",
        "        ror = (df.FinalCapital - InitialCapital)/ InitialCapital * 100\n",
        "        ROR_list.append(ror)\n",
        "    df = df.assign(ROR=pd.Series(df.FinalCapital - InitialCapital)/ InitialCapital * 100)\n",
        "    return df"
      ],
      "execution_count": 4,
      "outputs": []
    },
    {
      "cell_type": "code",
      "metadata": {
        "id": "0VZ2WZLNn-hY"
      },
      "source": [
        "def DD(df):\n",
        "    max_ror = max(df.ROR)\n",
        "    DD_list = []\n",
        "    for ror in df.ROR:\n",
        "      DD_list.append(max_ror - ror)\n",
        "    df = df.assign(DD=pd.Series(DD_list))\n",
        "    return df"
      ],
      "execution_count": 5,
      "outputs": []
    },
    {
      "cell_type": "code",
      "metadata": {
        "id": "fj0QNC_-v7m0"
      },
      "source": [
        "# Sharpe Ratio\n",
        "def sharpe_ratio(df):\n",
        "    R = df.ROR[-1:].values[0]\n",
        "    sr = R / df.ROR.std()\n",
        "    return sr"
      ],
      "execution_count": 6,
      "outputs": []
    },
    {
      "cell_type": "code",
      "metadata": {
        "id": "cl7fAhOPbw3m"
      },
      "source": [
        "def metrics(df, InitialCapital):\n",
        "    df = buy_and_hold(df, InitialCapital)\n",
        "    df = ROR(df, InitialCapital)\n",
        "    df = DD(df)\n",
        "    MDD = max(df.DD)\n",
        "    sr = sharpe_ratio(df)\n",
        "    print(f\"Sharpe Ratio = {sr} \\n\")\n",
        "    print(f\"MDD = {MDD} \\n\")\n",
        "    return df"
      ],
      "execution_count": 13,
      "outputs": []
    },
    {
      "cell_type": "code",
      "metadata": {
        "colab": {
          "base_uri": "https://localhost:8080/"
        },
        "id": "WjmSWxAM6wvg",
        "outputId": "e415d171-7a5b-4fde-9c07-b23c83bd256f"
      },
      "source": [
        "InitialCapital = 10e6\n",
        "InitialCapital"
      ],
      "execution_count": 8,
      "outputs": [
        {
          "output_type": "execute_result",
          "data": {
            "text/plain": [
              "10000000.0"
            ]
          },
          "metadata": {
            "tags": []
          },
          "execution_count": 8
        }
      ]
    },
    {
      "cell_type": "code",
      "metadata": {
        "id": "6bPHtQ4SPsD3"
      },
      "source": [
        "def add_metrics(df, file_name, dataset_type = 'china'):\n",
        "    date_col = 'DATE'\n",
        "    close_col = 'closingprice'\n",
        "    if dataset_type == 'crypto':\n",
        "        date_col = 'Date'\n",
        "        close_col = 'Price'\n",
        "    data = {'Date': df[date_col], 'Price': df[close_col],\n",
        "        'Label': df['labels'], 'Trade Signal': '', 'Number of Shares': '0'}\n",
        "    df_new = pd.DataFrame(data)\n",
        "\n",
        "    metrics_ = metrics(df_new, InitialCapital)\n",
        "    file_name = file_name + '_metrics.csv'\n",
        "    metrics_.to_csv(file_name)\n",
        "    print(metrics_.head())"
      ],
      "execution_count": 17,
      "outputs": []
    },
    {
      "cell_type": "markdown",
      "metadata": {
        "id": "lxf3ZRB-QLd5"
      },
      "source": [
        "# China_001"
      ]
    },
    {
      "cell_type": "markdown",
      "metadata": {
        "id": "YEdAsdBHU3Nz"
      },
      "source": [
        "## LSTM"
      ]
    },
    {
      "cell_type": "code",
      "metadata": {
        "colab": {
          "base_uri": "https://localhost:8080/"
        },
        "id": "T5s7yza4Y_4u",
        "outputId": "bf3b5338-ac1a-4b95-bac1-278e1c8b9c31"
      },
      "source": [
        "df = pd.read_csv('lstm_001.csv', index_col=None, header=0)\n",
        "add_metrics(df, 'lstm_001')"
      ],
      "execution_count": 18,
      "outputs": [
        {
          "output_type": "stream",
          "text": [
            "Sharpe Ratio = 1.8237765427702168 \n",
            "\n",
            "MDD = 116.35316328217817 \n",
            "\n",
            "         Date    Price  Label  ...  FinalCapital       ROR          DD\n",
            "0  2011-10-31  2468.25      1  ...  1.000000e+07  0.000000  110.488438\n",
            "1  2011-11-01  2470.02      1  ...  1.000717e+07  0.071711  110.416727\n",
            "2  2011-11-02  2504.11      1  ...  1.014529e+07  1.452851  109.035586\n",
            "3  2011-11-03  2508.09      1  ...  1.016141e+07  1.614099  108.874339\n",
            "4  2011-11-04  2528.29      1  ...  1.024325e+07  2.432493  108.055945\n",
            "\n",
            "[5 rows x 8 columns]\n"
          ],
          "name": "stdout"
        }
      ]
    },
    {
      "cell_type": "markdown",
      "metadata": {
        "id": "DD_U7gSchdMj"
      },
      "source": [
        "## LSTM_beta"
      ]
    },
    {
      "cell_type": "code",
      "metadata": {
        "colab": {
          "base_uri": "https://localhost:8080/"
        },
        "id": "RT8zFJgjm1aW",
        "outputId": "ecd38fee-f42e-4bb3-e5a8-f320e20e7495"
      },
      "source": [
        "df = pd.read_csv('lstm_beta_001.csv', index_col=None, header=0)\n",
        "add_metrics(df, 'lstm_beta_001')"
      ],
      "execution_count": 20,
      "outputs": [
        {
          "output_type": "stream",
          "text": [
            "Sharpe Ratio = 1.2205923167710364 \n",
            "\n",
            "MDD = 111.2642665877932 \n",
            "\n",
            "         Date    Price  Label  ... FinalCapital  ROR        DD\n",
            "0  2011-12-15  2180.89      0  ...   10000000.0  0.0  83.75786\n",
            "1  2011-12-16  2224.84      0  ...   10000000.0  0.0  83.75786\n",
            "2  2011-12-19  2218.24      0  ...   10000000.0  0.0  83.75786\n",
            "3  2011-12-20  2215.92      0  ...   10000000.0  0.0  83.75786\n",
            "4  2011-12-21  2191.14      0  ...   10000000.0  0.0  83.75786\n",
            "\n",
            "[5 rows x 8 columns]\n"
          ],
          "name": "stdout"
        }
      ]
    },
    {
      "cell_type": "markdown",
      "metadata": {
        "id": "-0Hu4sKFjJB0"
      },
      "source": [
        "## GRU"
      ]
    },
    {
      "cell_type": "code",
      "metadata": {
        "colab": {
          "base_uri": "https://localhost:8080/"
        },
        "id": "vUcJhTJVnPbF",
        "outputId": "1fa9e42d-9afc-4b92-ca52-53e437757d47"
      },
      "source": [
        "df = pd.read_csv('gru_001.csv', index_col=None, header=0)\n",
        "add_metrics(df, 'gru_001')"
      ],
      "execution_count": 21,
      "outputs": [
        {
          "output_type": "stream",
          "text": [
            "Sharpe Ratio = 1.5513745946646078 \n",
            "\n",
            "MDD = 136.35792748780406 \n",
            "\n",
            "         Date    Price  Label  ...  FinalCapital       ROR          DD\n",
            "0  2011-10-31  2468.25      1  ...  1.000000e+07  0.000000  129.598515\n",
            "1  2011-11-01  2470.02      1  ...  1.000717e+07  0.071711  129.526804\n",
            "2  2011-11-02  2504.11      1  ...  1.014529e+07  1.452851  128.145663\n",
            "3  2011-11-03  2508.09      1  ...  1.016141e+07  1.614099  127.984416\n",
            "4  2011-11-04  2528.29      1  ...  1.024325e+07  2.432493  127.166022\n",
            "\n",
            "[5 rows x 8 columns]\n"
          ],
          "name": "stdout"
        }
      ]
    },
    {
      "cell_type": "markdown",
      "metadata": {
        "id": "_705rV33kp9a"
      },
      "source": [
        "## GRU_beta"
      ]
    },
    {
      "cell_type": "code",
      "metadata": {
        "colab": {
          "base_uri": "https://localhost:8080/"
        },
        "id": "t_JB22pen9cc",
        "outputId": "407cc07f-120f-4cfb-f53d-b3e5a4745793"
      },
      "source": [
        "df = pd.read_csv('gru_beta_001.csv', index_col=None, header=0)\n",
        "add_metrics(df, 'gru_beta_001')"
      ],
      "execution_count": 22,
      "outputs": [
        {
          "output_type": "stream",
          "text": [
            "Sharpe Ratio = 1.6037816358601409 \n",
            "\n",
            "MDD = 112.9492806817018 \n",
            "\n",
            "         Date    Price  Label  ... FinalCapital  ROR          DD\n",
            "0  2011-12-15  2180.89      0  ...   10000000.0  0.0  103.732527\n",
            "1  2011-12-16  2224.84      0  ...   10000000.0  0.0  103.732527\n",
            "2  2011-12-19  2218.24      0  ...   10000000.0  0.0  103.732527\n",
            "3  2011-12-20  2215.92      0  ...   10000000.0  0.0  103.732527\n",
            "4  2011-12-21  2191.14      0  ...   10000000.0  0.0  103.732527\n",
            "\n",
            "[5 rows x 8 columns]\n"
          ],
          "name": "stdout"
        }
      ]
    },
    {
      "cell_type": "markdown",
      "metadata": {
        "id": "JNtcgJiRk-wT"
      },
      "source": [
        "## SVM"
      ]
    },
    {
      "cell_type": "code",
      "metadata": {
        "colab": {
          "base_uri": "https://localhost:8080/"
        },
        "id": "FQtJbF8ToJFV",
        "outputId": "63c5836e-6b75-4f90-81f6-61145c1e2261"
      },
      "source": [
        "df = pd.read_csv('svm_001.csv', index_col=None, header=0)\n",
        "add_metrics(df, 'svm_001')"
      ],
      "execution_count": 23,
      "outputs": [
        {
          "output_type": "stream",
          "text": [
            "Sharpe Ratio = 2.008094490741153 \n",
            "\n",
            "MDD = 137.8203941588056 \n",
            "\n",
            "         Date    Price  Label  ...  FinalCapital       ROR          DD\n",
            "0  2011-10-31  2468.25      1  ...  1.000000e+07  0.000000  129.844448\n",
            "1  2011-11-01  2470.02      1  ...  1.000717e+07  0.071711  129.772737\n",
            "2  2011-11-02  2504.11      1  ...  1.014529e+07  1.452851  128.391597\n",
            "3  2011-11-03  2508.09      1  ...  1.016141e+07  1.614099  128.230349\n",
            "4  2011-11-04  2528.29      1  ...  1.024325e+07  2.432493  127.411955\n",
            "\n",
            "[5 rows x 8 columns]\n"
          ],
          "name": "stdout"
        }
      ]
    },
    {
      "cell_type": "markdown",
      "metadata": {
        "id": "6uYExpiKmbz_"
      },
      "source": [
        "## SVM_beta\n"
      ]
    },
    {
      "cell_type": "code",
      "metadata": {
        "colab": {
          "base_uri": "https://localhost:8080/"
        },
        "id": "wh8lN0DwoQ_E",
        "outputId": "efca040b-ea8a-4b79-ff7c-ca014eb02805"
      },
      "source": [
        "df = pd.read_csv('svm_beta_001.csv', index_col=None, header=0)\n",
        "add_metrics(df, 'svm_beta_001')"
      ],
      "execution_count": 24,
      "outputs": [
        {
          "output_type": "stream",
          "text": [
            "Sharpe Ratio = 1.5766596078058162 \n",
            "\n",
            "MDD = 100.8300252248614 \n",
            "\n",
            "         Date    Price  Label  ... FinalCapital  ROR         DD\n",
            "0  2011-12-15  2180.89      0  ...   10000000.0  0.0  83.334653\n",
            "1  2011-12-16  2224.84      0  ...   10000000.0  0.0  83.334653\n",
            "2  2011-12-19  2218.24      0  ...   10000000.0  0.0  83.334653\n",
            "3  2011-12-20  2215.92      0  ...   10000000.0  0.0  83.334653\n",
            "4  2011-12-21  2191.14      0  ...   10000000.0  0.0  83.334653\n",
            "\n",
            "[5 rows x 8 columns]\n"
          ],
          "name": "stdout"
        }
      ]
    },
    {
      "cell_type": "markdown",
      "metadata": {
        "id": "uvwBV2aum0ae"
      },
      "source": [
        "## XGBoost"
      ]
    },
    {
      "cell_type": "code",
      "metadata": {
        "colab": {
          "base_uri": "https://localhost:8080/"
        },
        "id": "VbNMpV_kpDqJ",
        "outputId": "5759e5cb-d3f7-4c45-91be-7bea9ab21a90"
      },
      "source": [
        "df = pd.read_csv('xgboost_001.csv', index_col=None, header=0)\n",
        "add_metrics(df, 'xgboost_001')"
      ],
      "execution_count": 25,
      "outputs": [
        {
          "output_type": "stream",
          "text": [
            "Sharpe Ratio = 1.669834474858571 \n",
            "\n",
            "MDD = 84.75963455486735 \n",
            "\n",
            "         Date    Price  Label  ...  FinalCapital       ROR         DD\n",
            "0  2011-10-31  2468.25      1  ...  1.000000e+07  0.000000  73.015204\n",
            "1  2011-11-01  2470.02      1  ...  1.000717e+07  0.071711  72.943493\n",
            "2  2011-11-02  2504.11      1  ...  1.014529e+07  1.452851  71.562353\n",
            "3  2011-11-03  2508.09      1  ...  1.016141e+07  1.614099  71.401105\n",
            "4  2011-11-04  2528.29      1  ...  1.024325e+07  2.432493  70.582711\n",
            "\n",
            "[5 rows x 8 columns]\n"
          ],
          "name": "stdout"
        }
      ]
    },
    {
      "cell_type": "markdown",
      "metadata": {
        "id": "77iYuNNbm88E"
      },
      "source": [
        "## XGBoost_beta"
      ]
    },
    {
      "cell_type": "code",
      "metadata": {
        "colab": {
          "base_uri": "https://localhost:8080/"
        },
        "id": "LR2oGrICpNT_",
        "outputId": "9e2b6b0f-8acd-42fc-b9ed-20411d1c06fe"
      },
      "source": [
        "df = pd.read_csv('xgboost_beta_001.csv', index_col=None, header=0)\n",
        "add_metrics(df, 'xgboost_beta_001')"
      ],
      "execution_count": 26,
      "outputs": [
        {
          "output_type": "stream",
          "text": [
            "Sharpe Ratio = 1.43190441113367 \n",
            "\n",
            "MDD = 105.79210039407826 \n",
            "\n",
            "         Date    Price  Label  ... FinalCapital  ROR         DD\n",
            "0  2011-12-15  2180.89      0  ...   10000000.0  0.0  88.225437\n",
            "1  2011-12-16  2224.84      0  ...   10000000.0  0.0  88.225437\n",
            "2  2011-12-19  2218.24      0  ...   10000000.0  0.0  88.225437\n",
            "3  2011-12-20  2215.92      0  ...   10000000.0  0.0  88.225437\n",
            "4  2011-12-21  2191.14      0  ...   10000000.0  0.0  88.225437\n",
            "\n",
            "[5 rows x 8 columns]\n"
          ],
          "name": "stdout"
        }
      ]
    },
    {
      "cell_type": "markdown",
      "metadata": {
        "id": "BuCfi7JkKy0A"
      },
      "source": [
        "## LR"
      ]
    },
    {
      "cell_type": "code",
      "metadata": {
        "colab": {
          "base_uri": "https://localhost:8080/"
        },
        "id": "X_z1RIg0qviZ",
        "outputId": "5f419541-2aa1-4452-8c6e-91ba62c657e3"
      },
      "source": [
        "df = pd.read_csv('001_lr.csv', index_col=None, header=0)\n",
        "add_metrics(df, 'lr_001')"
      ],
      "execution_count": 27,
      "outputs": [
        {
          "output_type": "stream",
          "text": [
            "Sharpe Ratio = 2.8723561119887884 \n",
            "\n",
            "MDD = 504.0746096624171 \n",
            "\n",
            "         Date    Price  Label  ...  FinalCapital       ROR          DD\n",
            "0  2003-03-25  1462.40      1  ...  1.000000e+07  0.000000  490.085649\n",
            "1  2003-03-26  1456.27      0  ...  9.958083e+06 -0.419174  490.504823\n",
            "2  2003-03-27  1499.34      1  ...  9.958083e+06 -0.419174  490.504823\n",
            "3  2003-03-28  1491.93      1  ...  9.908868e+06 -0.911320  490.996969\n",
            "4  2003-03-31  1510.56      1  ...  1.003260e+07  0.326019  489.759631\n",
            "\n",
            "[5 rows x 8 columns]\n"
          ],
          "name": "stdout"
        }
      ]
    },
    {
      "cell_type": "markdown",
      "metadata": {
        "id": "S_NFsMMFLXXA"
      },
      "source": [
        "## LR_beta"
      ]
    },
    {
      "cell_type": "code",
      "metadata": {
        "colab": {
          "base_uri": "https://localhost:8080/"
        },
        "id": "LFkL0MZxq-le",
        "outputId": "6824235a-759d-43ef-d87a-577d708aa8a1"
      },
      "source": [
        "df = pd.read_csv('001_lr_beta.csv', index_col=None, header=0)\n",
        "add_metrics(df, 'lr_001_beta')"
      ],
      "execution_count": 28,
      "outputs": [
        {
          "output_type": "stream",
          "text": [
            "Sharpe Ratio = 2.9121576088740495 \n",
            "\n",
            "MDD = 1176.2610267257692 \n",
            "\n",
            "         Date    Price  Label  ...  FinalCapital       ROR           DD\n",
            "0  2003-05-20  1535.52      1  ...  1.000000e+07  0.000000  1162.009869\n",
            "1  2003-05-21  1533.48      0  ...  9.986715e+06 -0.132854  1162.142723\n",
            "2  2003-05-22  1546.11      1  ...  9.986715e+06 -0.132854  1162.142723\n",
            "3  2003-05-23  1560.95      1  ...  1.008257e+07  0.825699  1161.184170\n",
            "4  2003-05-26  1569.51      1  ...  1.013786e+07  1.378611  1160.631258\n",
            "\n",
            "[5 rows x 8 columns]\n"
          ],
          "name": "stdout"
        }
      ]
    },
    {
      "cell_type": "markdown",
      "metadata": {
        "id": "Q3Zr8OV7M-Io"
      },
      "source": [
        "# China_004"
      ]
    },
    {
      "cell_type": "markdown",
      "metadata": {
        "id": "pmP3cko_M-Iw"
      },
      "source": [
        "## LSTM"
      ]
    },
    {
      "cell_type": "code",
      "metadata": {
        "colab": {
          "base_uri": "https://localhost:8080/"
        },
        "id": "8Py74-uBrtRV",
        "outputId": "2628dd1e-956f-4f6b-c622-129705a3022b"
      },
      "source": [
        "df = pd.read_csv('004_lstm.csv', index_col=None, header=0)\n",
        "add_metrics(df, '004_lstm')"
      ],
      "execution_count": 29,
      "outputs": [
        {
          "output_type": "stream",
          "text": [
            "Sharpe Ratio = 2.9911529840686732 \n",
            "\n",
            "MDD = 3479.263943558332 \n",
            "\n",
            "         Date    Price  Label  ... FinalCapital  ROR           DD\n",
            "0  2003-06-13  79.4158      0  ...   10000000.0  0.0  3455.679791\n",
            "1  2003-06-16  78.3286      0  ...   10000000.0  0.0  3455.679791\n",
            "2  2003-06-17  77.8170      0  ...   10000000.0  0.0  3455.679791\n",
            "3  2003-06-18  78.8402      0  ...   10000000.0  0.0  3455.679791\n",
            "4  2003-06-19  78.3926      0  ...   10000000.0  0.0  3455.679791\n",
            "\n",
            "[5 rows x 8 columns]\n"
          ],
          "name": "stdout"
        }
      ]
    },
    {
      "cell_type": "markdown",
      "metadata": {
        "id": "5R9wAwd_M-Iw"
      },
      "source": [
        "## LSTM_beta"
      ]
    },
    {
      "cell_type": "code",
      "metadata": {
        "colab": {
          "base_uri": "https://localhost:8080/"
        },
        "id": "_pze8nn3rztp",
        "outputId": "d7d5616e-5138-4234-9cf1-3eb6f37a26e0"
      },
      "source": [
        "df = pd.read_csv('004_lstm_beta.csv', index_col=None, header=0)\n",
        "add_metrics(df, '004_lstm_beta')"
      ],
      "execution_count": 30,
      "outputs": [
        {
          "output_type": "stream",
          "text": [
            "Sharpe Ratio = 2.8158735146837626 \n",
            "\n",
            "MDD = 1040.5289779658635 \n",
            "\n",
            "         Date    Price  Label  ... FinalCapital  ROR          DD\n",
            "0  2003-07-22  3328.87      0  ...   10000000.0  0.0  1033.62289\n",
            "1  2003-07-23  3342.71      0  ...   10000000.0  0.0  1033.62289\n",
            "2  2003-07-24  3316.48      0  ...   10000000.0  0.0  1033.62289\n",
            "3  2003-07-25  3276.37      0  ...   10000000.0  0.0  1033.62289\n",
            "4  2003-07-28  3263.60      0  ...   10000000.0  0.0  1033.62289\n",
            "\n",
            "[5 rows x 8 columns]\n"
          ],
          "name": "stdout"
        }
      ]
    },
    {
      "cell_type": "markdown",
      "metadata": {
        "id": "Qvd-aITUM-Iw"
      },
      "source": [
        "## GRU"
      ]
    },
    {
      "cell_type": "code",
      "metadata": {
        "colab": {
          "base_uri": "https://localhost:8080/"
        },
        "id": "b_fUygEMr4U2",
        "outputId": "f70ac77f-e5ca-4d52-a37d-5a3ef55454bc"
      },
      "source": [
        "df = pd.read_csv('004_gru.csv', index_col=None, header=0)\n",
        "add_metrics(df, '004_gru')"
      ],
      "execution_count": 31,
      "outputs": [
        {
          "output_type": "stream",
          "text": [
            "Sharpe Ratio = 2.8017235502575875 \n",
            "\n",
            "MDD = 1950.2052176039829 \n",
            "\n",
            "         Date    Price  Label  ... FinalCapital  ROR           DD\n",
            "0  2003-06-13  79.4158      0  ...   10000000.0  0.0  1909.782185\n",
            "1  2003-06-16  78.3286      0  ...   10000000.0  0.0  1909.782185\n",
            "2  2003-06-17  77.8170      0  ...   10000000.0  0.0  1909.782185\n",
            "3  2003-06-18  78.8402      0  ...   10000000.0  0.0  1909.782185\n",
            "4  2003-06-19  78.3926      0  ...   10000000.0  0.0  1909.782185\n",
            "\n",
            "[5 rows x 8 columns]\n"
          ],
          "name": "stdout"
        }
      ]
    },
    {
      "cell_type": "markdown",
      "metadata": {
        "id": "bXCYGFuPM-Iw"
      },
      "source": [
        "## GRU_beta"
      ]
    },
    {
      "cell_type": "code",
      "metadata": {
        "colab": {
          "base_uri": "https://localhost:8080/"
        },
        "id": "KcSYmUP3r9vp",
        "outputId": "225cad70-1e0c-4af8-f315-93e497a0aec8"
      },
      "source": [
        "df = pd.read_csv('004_gru_beta.csv', index_col=None, header=0)\n",
        "add_metrics(df, '004_gru_beta')"
      ],
      "execution_count": 32,
      "outputs": [
        {
          "output_type": "stream",
          "text": [
            "Sharpe Ratio = 2.737996526420651 \n",
            "\n",
            "MDD = 1079.9427009698948 \n",
            "\n",
            "         Date    Price  Label  ... FinalCapital  ROR          DD\n",
            "0  2003-07-22  3328.87      0  ...   10000000.0  0.0  1076.31648\n",
            "1  2003-07-23  3342.71      0  ...   10000000.0  0.0  1076.31648\n",
            "2  2003-07-24  3316.48      0  ...   10000000.0  0.0  1076.31648\n",
            "3  2003-07-25  3276.37      0  ...   10000000.0  0.0  1076.31648\n",
            "4  2003-07-28  3263.60      0  ...   10000000.0  0.0  1076.31648\n",
            "\n",
            "[5 rows x 8 columns]\n"
          ],
          "name": "stdout"
        }
      ]
    },
    {
      "cell_type": "markdown",
      "metadata": {
        "id": "I6W1XZZ-M-Ix"
      },
      "source": [
        "## SVM"
      ]
    },
    {
      "cell_type": "code",
      "metadata": {
        "colab": {
          "base_uri": "https://localhost:8080/"
        },
        "id": "CfWUZISCsCqb",
        "outputId": "17259517-b886-4948-8042-a6c2cc1bbab2"
      },
      "source": [
        "df = pd.read_csv('004_svm.csv', index_col=None, header=0)\n",
        "add_metrics(df, '004_svm')"
      ],
      "execution_count": 33,
      "outputs": [
        {
          "output_type": "stream",
          "text": [
            "Sharpe Ratio = 2.910573124595708 \n",
            "\n",
            "MDD = 2149.8041751755927 \n",
            "\n",
            "         Date    Price  Label  ... FinalCapital  ROR           DD\n",
            "0  2003-06-13  79.4158      0  ...   10000000.0  0.0  2111.914597\n",
            "1  2003-06-16  78.3286      0  ...   10000000.0  0.0  2111.914597\n",
            "2  2003-06-17  77.8170      0  ...   10000000.0  0.0  2111.914597\n",
            "3  2003-06-18  78.8402      0  ...   10000000.0  0.0  2111.914597\n",
            "4  2003-06-19  78.3926      0  ...   10000000.0  0.0  2111.914597\n",
            "\n",
            "[5 rows x 8 columns]\n"
          ],
          "name": "stdout"
        }
      ]
    },
    {
      "cell_type": "markdown",
      "metadata": {
        "id": "CkT8giuhM-Ix"
      },
      "source": [
        "## SVM_beta\n"
      ]
    },
    {
      "cell_type": "code",
      "metadata": {
        "colab": {
          "base_uri": "https://localhost:8080/"
        },
        "id": "qGRx9LuNsJQg",
        "outputId": "2f847e0d-c030-4b2a-cb6f-8a36406f4d56"
      },
      "source": [
        "df = pd.read_csv('004_svm_beta.csv', index_col=None, header=0)\n",
        "add_metrics(df, '004_svm_beta')"
      ],
      "execution_count": 34,
      "outputs": [
        {
          "output_type": "stream",
          "text": [
            "Sharpe Ratio = 2.7865536307649763 \n",
            "\n",
            "MDD = 1563.3415285946514 \n",
            "\n",
            "         Date    Price  Label  ... FinalCapital  ROR           DD\n",
            "0  2003-07-22  3328.87      0  ...   10000000.0  0.0  1558.145725\n",
            "1  2003-07-23  3342.71      0  ...   10000000.0  0.0  1558.145725\n",
            "2  2003-07-24  3316.48      0  ...   10000000.0  0.0  1558.145725\n",
            "3  2003-07-25  3276.37      0  ...   10000000.0  0.0  1558.145725\n",
            "4  2003-07-28  3263.60      0  ...   10000000.0  0.0  1558.145725\n",
            "\n",
            "[5 rows x 8 columns]\n"
          ],
          "name": "stdout"
        }
      ]
    },
    {
      "cell_type": "markdown",
      "metadata": {
        "id": "bbpeYjWKM-Ix"
      },
      "source": [
        "## XGBoost"
      ]
    },
    {
      "cell_type": "code",
      "metadata": {
        "colab": {
          "base_uri": "https://localhost:8080/"
        },
        "id": "iYuwuaX1sN4h",
        "outputId": "346abd1e-ba81-4c61-b681-aa82176987d0"
      },
      "source": [
        "df = pd.read_csv('004_xgboost.csv', index_col=None, header=0)\n",
        "add_metrics(df, '004_xgboost')"
      ],
      "execution_count": 35,
      "outputs": [
        {
          "output_type": "stream",
          "text": [
            "Sharpe Ratio = 2.807024138378604 \n",
            "\n",
            "MDD = 2552.1432957433826 \n",
            "\n",
            "         Date    Price  Label  ... FinalCapital  ROR           DD\n",
            "0  2003-06-13  79.4158      0  ...   10000000.0  0.0  2511.300522\n",
            "1  2003-06-16  78.3286      0  ...   10000000.0  0.0  2511.300522\n",
            "2  2003-06-17  77.8170      0  ...   10000000.0  0.0  2511.300522\n",
            "3  2003-06-18  78.8402      0  ...   10000000.0  0.0  2511.300522\n",
            "4  2003-06-19  78.3926      0  ...   10000000.0  0.0  2511.300522\n",
            "\n",
            "[5 rows x 8 columns]\n"
          ],
          "name": "stdout"
        }
      ]
    },
    {
      "cell_type": "markdown",
      "metadata": {
        "id": "MOxYngb0M-Ix"
      },
      "source": [
        "## XGBoost_beta"
      ]
    },
    {
      "cell_type": "code",
      "metadata": {
        "colab": {
          "base_uri": "https://localhost:8080/"
        },
        "id": "yypPKXoEsUQP",
        "outputId": "448cb97a-b837-4abc-92f1-34677b38917c"
      },
      "source": [
        "df = pd.read_csv('004_xgboost_beta.csv', index_col=None, header=0)\n",
        "add_metrics(df, '004_xgboost_beta')"
      ],
      "execution_count": 36,
      "outputs": [
        {
          "output_type": "stream",
          "text": [
            "Sharpe Ratio = 2.6698690956781057 \n",
            "\n",
            "MDD = 1694.522293280293 \n",
            "\n",
            "         Date    Price  Label  ... FinalCapital  ROR           DD\n",
            "0  2003-07-22  3328.87      0  ...   10000000.0  0.0  1688.235383\n",
            "1  2003-07-23  3342.71      0  ...   10000000.0  0.0  1688.235383\n",
            "2  2003-07-24  3316.48      0  ...   10000000.0  0.0  1688.235383\n",
            "3  2003-07-25  3276.37      0  ...   10000000.0  0.0  1688.235383\n",
            "4  2003-07-28  3263.60      0  ...   10000000.0  0.0  1688.235383\n",
            "\n",
            "[5 rows x 8 columns]\n"
          ],
          "name": "stdout"
        }
      ]
    },
    {
      "cell_type": "markdown",
      "metadata": {
        "id": "RFSfSChJM-Iy"
      },
      "source": [
        "## LR"
      ]
    },
    {
      "cell_type": "code",
      "metadata": {
        "colab": {
          "base_uri": "https://localhost:8080/"
        },
        "id": "q5gMB6yqsZDJ",
        "outputId": "7e610c36-3e87-4157-b0fa-453acc3502b4"
      },
      "source": [
        "df = pd.read_csv('004_lr.csv', index_col=None, header=0)\n",
        "add_metrics(df, 'lr_004')"
      ],
      "execution_count": 37,
      "outputs": [
        {
          "output_type": "stream",
          "text": [
            "Sharpe Ratio = 2.9509008690980836 \n",
            "\n",
            "MDD = 4792.646823416587 \n",
            "\n",
            "         Date    Price  Label  ... FinalCapital  ROR           DD\n",
            "0  2003-06-13  79.4158      0  ...   10000000.0  0.0  4744.329187\n",
            "1  2003-06-16  78.3286      0  ...   10000000.0  0.0  4744.329187\n",
            "2  2003-06-17  77.8170      0  ...   10000000.0  0.0  4744.329187\n",
            "3  2003-06-18  78.8402      0  ...   10000000.0  0.0  4744.329187\n",
            "4  2003-06-19  78.3926      0  ...   10000000.0  0.0  4744.329187\n",
            "\n",
            "[5 rows x 8 columns]\n"
          ],
          "name": "stdout"
        }
      ]
    },
    {
      "cell_type": "markdown",
      "metadata": {
        "id": "20-B8kvAM-Iz"
      },
      "source": [
        "## LR_beta"
      ]
    },
    {
      "cell_type": "code",
      "metadata": {
        "colab": {
          "base_uri": "https://localhost:8080/"
        },
        "id": "rqZbPJkgsgg6",
        "outputId": "3a0cd43e-e4be-4a05-dc16-eac539df4c53"
      },
      "source": [
        "df = pd.read_csv('004_lr_beta.csv', index_col=None, header=0)\n",
        "add_metrics(df, 'lr_004_beta')"
      ],
      "execution_count": 38,
      "outputs": [
        {
          "output_type": "stream",
          "text": [
            "Sharpe Ratio = 2.7450131590315654 \n",
            "\n",
            "MDD = 3199.0389762691657 \n",
            "\n",
            "         Date    Price  Label  ...  FinalCapital           ROR           DD\n",
            "0  2003-07-30  69.9506      0  ...  1.000000e+07  0.000000e+00  3152.459598\n",
            "1  2003-07-31  70.1425      0  ...  1.000000e+07  0.000000e+00  3152.459598\n",
            "2  2003-08-01  74.1076      1  ...  1.000000e+07  1.862645e-14  3152.459598\n",
            "3  2003-08-04  79.1600      1  ...  1.068177e+07  6.817654e+00  3145.641944\n",
            "4  2003-08-05  73.5321      1  ...  9.922343e+06 -7.765735e-01  3153.236172\n",
            "\n",
            "[5 rows x 8 columns]\n"
          ],
          "name": "stdout"
        }
      ]
    },
    {
      "cell_type": "markdown",
      "metadata": {
        "id": "xZCp872gOzBx"
      },
      "source": [
        "# China_601"
      ]
    },
    {
      "cell_type": "markdown",
      "metadata": {
        "id": "eGzuLk1XOzB4"
      },
      "source": [
        "## LSTM"
      ]
    },
    {
      "cell_type": "code",
      "metadata": {
        "colab": {
          "base_uri": "https://localhost:8080/"
        },
        "id": "Dxqrwht6s5AI",
        "outputId": "ff8cbd9d-68ec-4a51-ed70-68ae5dc5e0de"
      },
      "source": [
        "df = pd.read_csv('601_lstm.csv', index_col=None, header=0)\n",
        "add_metrics(df, '601_lstm')"
      ],
      "execution_count": 39,
      "outputs": [
        {
          "output_type": "stream",
          "text": [
            "Sharpe Ratio = 2.2901708093345574 \n",
            "\n",
            "MDD = 761.4968215734048 \n",
            "\n",
            "         Date       Price  Label  ... FinalCapital  ROR          DD\n",
            "0  2003-07-16  20004.6196      0  ...   10000000.0  0.0  743.531967\n",
            "1  2003-07-17  19131.2193      0  ...   10000000.0  0.0  743.531967\n",
            "2  2003-07-18  18548.9524      0  ...   10000000.0  0.0  743.531967\n",
            "3  2003-07-21  18476.1691      0  ...   10000000.0  0.0  743.531967\n",
            "4  2003-07-22  19301.0472      0  ...   10000000.0  0.0  743.531967\n",
            "\n",
            "[5 rows x 8 columns]\n"
          ],
          "name": "stdout"
        }
      ]
    },
    {
      "cell_type": "markdown",
      "metadata": {
        "id": "pWB8-7OSOzB5"
      },
      "source": [
        "## LSTM_beta"
      ]
    },
    {
      "cell_type": "code",
      "metadata": {
        "colab": {
          "base_uri": "https://localhost:8080/"
        },
        "id": "Dl5nvEWVtASu",
        "outputId": "81e77390-d941-447c-db8d-ff15cf87526d"
      },
      "source": [
        "df = pd.read_csv('601_lstm_beta.csv', index_col=None, header=0)\n",
        "add_metrics(df, '601_lstm_beta')"
      ],
      "execution_count": 40,
      "outputs": [
        {
          "output_type": "stream",
          "text": [
            "Sharpe Ratio = 1.4072402263510502 \n",
            "\n",
            "MDD = 591.9178440124917 \n",
            "\n",
            "         Date       Price  Label  ... FinalCapital  ROR          DD\n",
            "0  2003-09-01  17845.3800      0  ...   10000000.0  0.0  580.928113\n",
            "1  2003-09-02  17699.8132      0  ...   10000000.0  0.0  580.928113\n",
            "2  2003-09-03  17287.3742      0  ...   10000000.0  0.0  580.928113\n",
            "3  2003-09-04  17117.5464      0  ...   10000000.0  0.0  580.928113\n",
            "4  2003-09-05  16899.1963      0  ...   10000000.0  0.0  580.928113\n",
            "\n",
            "[5 rows x 8 columns]\n"
          ],
          "name": "stdout"
        }
      ]
    },
    {
      "cell_type": "markdown",
      "metadata": {
        "id": "cxVwCHz1OzB6"
      },
      "source": [
        "## GRU"
      ]
    },
    {
      "cell_type": "code",
      "metadata": {
        "colab": {
          "base_uri": "https://localhost:8080/"
        },
        "id": "8peBAkZUtF3m",
        "outputId": "39f22adf-c874-4c4a-a1e2-da665335e13a"
      },
      "source": [
        "df = pd.read_csv('601_gru.csv', index_col=None, header=0)\n",
        "add_metrics(df, '601_gru')"
      ],
      "execution_count": 41,
      "outputs": [
        {
          "output_type": "stream",
          "text": [
            "Sharpe Ratio = 1.8013698808518208 \n",
            "\n",
            "MDD = 562.1063200210488 \n",
            "\n",
            "         Date       Price  Label  ... FinalCapital  ROR         DD\n",
            "0  2003-07-16  20004.6196      0  ...   10000000.0  0.0  527.78887\n",
            "1  2003-07-17  19131.2193      0  ...   10000000.0  0.0  527.78887\n",
            "2  2003-07-18  18548.9524      0  ...   10000000.0  0.0  527.78887\n",
            "3  2003-07-21  18476.1691      0  ...   10000000.0  0.0  527.78887\n",
            "4  2003-07-22  19301.0472      0  ...   10000000.0  0.0  527.78887\n",
            "\n",
            "[5 rows x 8 columns]\n"
          ],
          "name": "stdout"
        }
      ]
    },
    {
      "cell_type": "markdown",
      "metadata": {
        "id": "0ScydB8sOzB6"
      },
      "source": [
        "## GRU_beta"
      ]
    },
    {
      "cell_type": "code",
      "metadata": {
        "colab": {
          "base_uri": "https://localhost:8080/"
        },
        "id": "coKHYcyPtKt1",
        "outputId": "016a2e64-e432-4877-98ae-7abee8279477"
      },
      "source": [
        "df = pd.read_csv('601_gru_beta.csv', index_col=None, header=0)\n",
        "add_metrics(df, '601_gru_beta')"
      ],
      "execution_count": 42,
      "outputs": [
        {
          "output_type": "stream",
          "text": [
            "Sharpe Ratio = 0.6816036192446308 \n",
            "\n",
            "MDD = 446.72306988301926 \n",
            "\n",
            "         Date       Price  Label  ... FinalCapital  ROR          DD\n",
            "0  2003-09-01  17845.3800      0  ...   10000000.0  0.0  411.493651\n",
            "1  2003-09-02  17699.8132      0  ...   10000000.0  0.0  411.493651\n",
            "2  2003-09-03  17287.3742      0  ...   10000000.0  0.0  411.493651\n",
            "3  2003-09-04  17117.5464      0  ...   10000000.0  0.0  411.493651\n",
            "4  2003-09-05  16899.1963      0  ...   10000000.0  0.0  411.493651\n",
            "\n",
            "[5 rows x 8 columns]\n"
          ],
          "name": "stdout"
        }
      ]
    },
    {
      "cell_type": "markdown",
      "metadata": {
        "id": "ivXcwaDQOzB6"
      },
      "source": [
        "## SVM"
      ]
    },
    {
      "cell_type": "code",
      "metadata": {
        "colab": {
          "base_uri": "https://localhost:8080/"
        },
        "id": "ZcJgN0mqtPzG",
        "outputId": "ce3138b0-d54f-438e-e008-8c301c2400e3"
      },
      "source": [
        "df = pd.read_csv('601_svm.csv', index_col=None, header=0)\n",
        "add_metrics(df, '601_svm')"
      ],
      "execution_count": 43,
      "outputs": [
        {
          "output_type": "stream",
          "text": [
            "Sharpe Ratio = 1.7562587129247045 \n",
            "\n",
            "MDD = 548.0523296975447 \n",
            "\n",
            "         Date       Price  Label  ... FinalCapital  ROR          DD\n",
            "0  2003-07-16  20004.6196      0  ...   10000000.0  0.0  498.956533\n",
            "1  2003-07-17  19131.2193      0  ...   10000000.0  0.0  498.956533\n",
            "2  2003-07-18  18548.9524      0  ...   10000000.0  0.0  498.956533\n",
            "3  2003-07-21  18476.1691      0  ...   10000000.0  0.0  498.956533\n",
            "4  2003-07-22  19301.0472      0  ...   10000000.0  0.0  498.956533\n",
            "\n",
            "[5 rows x 8 columns]\n"
          ],
          "name": "stdout"
        }
      ]
    },
    {
      "cell_type": "markdown",
      "metadata": {
        "id": "7bKUg8x_OzB6"
      },
      "source": [
        "## SVM_beta\n"
      ]
    },
    {
      "cell_type": "code",
      "metadata": {
        "colab": {
          "base_uri": "https://localhost:8080/"
        },
        "id": "pLWaOJNmwaoD",
        "outputId": "81ad55be-a3a4-47bf-b9e9-6372e933f52c"
      },
      "source": [
        "df = pd.read_csv('601_svm_beta.csv', index_col=None, header=0)\n",
        "add_metrics(df, '601_svm_beta')"
      ],
      "execution_count": 44,
      "outputs": [
        {
          "output_type": "stream",
          "text": [
            "Sharpe Ratio = 2.5568715971025466 \n",
            "\n",
            "MDD = 1491.8948084979334 \n",
            "\n",
            "         Date       Price  Label  ... FinalCapital  ROR           DD\n",
            "0  2003-09-01  17845.3800      0  ...   10000000.0  0.0  1479.969609\n",
            "1  2003-09-02  17699.8132      0  ...   10000000.0  0.0  1479.969609\n",
            "2  2003-09-03  17287.3742      0  ...   10000000.0  0.0  1479.969609\n",
            "3  2003-09-04  17117.5464      0  ...   10000000.0  0.0  1479.969609\n",
            "4  2003-09-05  16899.1963      0  ...   10000000.0  0.0  1479.969609\n",
            "\n",
            "[5 rows x 8 columns]\n"
          ],
          "name": "stdout"
        }
      ]
    },
    {
      "cell_type": "markdown",
      "metadata": {
        "id": "dz5AsH1EOzB7"
      },
      "source": [
        "## XGBoost"
      ]
    },
    {
      "cell_type": "code",
      "metadata": {
        "colab": {
          "base_uri": "https://localhost:8080/"
        },
        "id": "FzK_3fjmwnOB",
        "outputId": "aa4e3014-436a-4e35-a74e-d30df1eb59f0"
      },
      "source": [
        "df = pd.read_csv('601_xgboost.csv', index_col=None, header=0)\n",
        "add_metrics(df, '601_xgboost')"
      ],
      "execution_count": 45,
      "outputs": [
        {
          "output_type": "stream",
          "text": [
            "Sharpe Ratio = 1.8823367908924016 \n",
            "\n",
            "MDD = 954.5447488767664 \n",
            "\n",
            "         Date       Price  Label  ... FinalCapital  ROR          DD\n",
            "0  2003-07-16  20004.6196      0  ...   10000000.0  0.0  924.190242\n",
            "1  2003-07-17  19131.2193      0  ...   10000000.0  0.0  924.190242\n",
            "2  2003-07-18  18548.9524      0  ...   10000000.0  0.0  924.190242\n",
            "3  2003-07-21  18476.1691      0  ...   10000000.0  0.0  924.190242\n",
            "4  2003-07-22  19301.0472      0  ...   10000000.0  0.0  924.190242\n",
            "\n",
            "[5 rows x 8 columns]\n"
          ],
          "name": "stdout"
        }
      ]
    },
    {
      "cell_type": "markdown",
      "metadata": {
        "id": "0uHj8UAEOzB7"
      },
      "source": [
        "## XGBoost_beta"
      ]
    },
    {
      "cell_type": "code",
      "metadata": {
        "colab": {
          "base_uri": "https://localhost:8080/"
        },
        "id": "lguVQFz2wuCd",
        "outputId": "6c01f1b1-d587-4e07-c1ad-92d7f2ccbdbe"
      },
      "source": [
        "df = pd.read_csv('601_xgboost_beta.csv', index_col=None, header=0)\n",
        "add_metrics(df, '601_xgboost_beta')"
      ],
      "execution_count": 46,
      "outputs": [
        {
          "output_type": "stream",
          "text": [
            "Sharpe Ratio = 1.5567870669760167 \n",
            "\n",
            "MDD = 695.2260923424001 \n",
            "\n",
            "         Date       Price  Label  ... FinalCapital  ROR          DD\n",
            "0  2003-09-01  17845.3800      0  ...   10000000.0  0.0  666.474812\n",
            "1  2003-09-02  17699.8132      0  ...   10000000.0  0.0  666.474812\n",
            "2  2003-09-03  17287.3742      0  ...   10000000.0  0.0  666.474812\n",
            "3  2003-09-04  17117.5464      0  ...   10000000.0  0.0  666.474812\n",
            "4  2003-09-05  16899.1963      0  ...   10000000.0  0.0  666.474812\n",
            "\n",
            "[5 rows x 8 columns]\n"
          ],
          "name": "stdout"
        }
      ]
    },
    {
      "cell_type": "markdown",
      "metadata": {
        "id": "AsTfFspIOzB7"
      },
      "source": [
        "## LR"
      ]
    },
    {
      "cell_type": "code",
      "metadata": {
        "colab": {
          "base_uri": "https://localhost:8080/"
        },
        "id": "CkyxjRKlwzJh",
        "outputId": "2fa0e093-8add-4cb4-e901-55abc0ec3d2a"
      },
      "source": [
        "df = pd.read_csv('601_lr.csv', index_col=None, header=0)\n",
        "add_metrics(df, 'lr_601')"
      ],
      "execution_count": 47,
      "outputs": [
        {
          "output_type": "stream",
          "text": [
            "Sharpe Ratio = 1.483156891764616 \n",
            "\n",
            "MDD = 508.29976298382746 \n",
            "\n",
            "         Date       Price  Label  ... FinalCapital  ROR          DD\n",
            "0  2003-07-16  20004.6196      0  ...   10000000.0  0.0  465.865932\n",
            "1  2003-07-17  19131.2193      0  ...   10000000.0  0.0  465.865932\n",
            "2  2003-07-18  18548.9524      0  ...   10000000.0  0.0  465.865932\n",
            "3  2003-07-21  18476.1691      0  ...   10000000.0  0.0  465.865932\n",
            "4  2003-07-22  19301.0472      0  ...   10000000.0  0.0  465.865932\n",
            "\n",
            "[5 rows x 8 columns]\n"
          ],
          "name": "stdout"
        }
      ]
    },
    {
      "cell_type": "markdown",
      "metadata": {
        "id": "1ixYj4C7OzB7"
      },
      "source": [
        "## LR_beta"
      ]
    },
    {
      "cell_type": "code",
      "metadata": {
        "colab": {
          "base_uri": "https://localhost:8080/"
        },
        "id": "CwJDAtnCw3cy",
        "outputId": "ca8ef34e-f130-458d-9a80-44ca95158d4c"
      },
      "source": [
        "df = pd.read_csv('601_lr_beta.csv', index_col=None, header=0)\n",
        "add_metrics(df, 'lr_601_beta')"
      ],
      "execution_count": 48,
      "outputs": [
        {
          "output_type": "stream",
          "text": [
            "Sharpe Ratio = 1.2713764362184303 \n",
            "\n",
            "MDD = 1311.4885018422613 \n",
            "\n",
            "         Date       Price  Label  ... FinalCapital  ROR           DD\n",
            "0  2003-09-01  17845.3800      0  ...   10000000.0  0.0  1301.007162\n",
            "1  2003-09-02  17699.8132      0  ...   10000000.0  0.0  1301.007162\n",
            "2  2003-09-03  17287.3742      0  ...   10000000.0  0.0  1301.007162\n",
            "3  2003-09-04  17117.5464      0  ...   10000000.0  0.0  1301.007162\n",
            "4  2003-09-05  16899.1963      0  ...   10000000.0  0.0  1301.007162\n",
            "\n",
            "[5 rows x 8 columns]\n"
          ],
          "name": "stdout"
        }
      ]
    },
    {
      "cell_type": "markdown",
      "metadata": {
        "id": "L9W7fj5zPu0q"
      },
      "source": [
        "# China_615"
      ]
    },
    {
      "cell_type": "markdown",
      "metadata": {
        "id": "VC7qoTK2Pu0x"
      },
      "source": [
        "## LSTM"
      ]
    },
    {
      "cell_type": "code",
      "metadata": {
        "colab": {
          "base_uri": "https://localhost:8080/"
        },
        "id": "EFCsCZiqw9i2",
        "outputId": "2ae6a4d6-1d18-4ca9-acd0-a3f2b54440f0"
      },
      "source": [
        "df = pd.read_csv('615_lstm.csv', index_col=None, header=0)\n",
        "add_metrics(df, '615_lstm')"
      ],
      "execution_count": 49,
      "outputs": [
        {
          "output_type": "stream",
          "text": [
            "Sharpe Ratio = 1.5830842802287217 \n",
            "\n",
            "MDD = 2205.1930625590016 \n",
            "\n",
            "         Date     Price  Label  ...  FinalCapital       ROR           DD\n",
            "0  2005-10-14  114.7250      0  ...  1.000000e+07  0.000000  2182.828255\n",
            "1  2005-10-17  123.0479      1  ...  1.000000e+07  0.000000  2182.828255\n",
            "2  2005-10-18  123.4860      1  ...  1.003560e+07  0.356040  2182.472214\n",
            "3  2005-10-19  119.5435      1  ...  9.715200e+06 -2.847997  2185.676251\n",
            "4  2005-10-20  112.5348      0  ...  9.145609e+06 -8.543909  2191.372163\n",
            "\n",
            "[5 rows x 8 columns]\n"
          ],
          "name": "stdout"
        }
      ]
    },
    {
      "cell_type": "markdown",
      "metadata": {
        "id": "doZXDkpSPu0y"
      },
      "source": [
        "## LSTM_beta"
      ]
    },
    {
      "cell_type": "code",
      "metadata": {
        "colab": {
          "base_uri": "https://localhost:8080/"
        },
        "id": "rAWcs33DFqv2",
        "outputId": "30c5d424-67fe-457a-c288-4da981a09eac"
      },
      "source": [
        "df = pd.read_csv('615_lstm_beta.csv', index_col=None, header=0)\n",
        "add_metrics(df, '615_lstm_beta')"
      ],
      "execution_count": 50,
      "outputs": [
        {
          "output_type": "stream",
          "text": [
            "Sharpe Ratio = 1.9740018952437803 \n",
            "\n",
            "MDD = 6224.457183685773 \n",
            "\n",
            "         Date     Price  Label  ...  FinalCapital        ROR           DD\n",
            "0  2005-11-30   99.8314      1  ...  1.000000e+07   0.000000  6208.660751\n",
            "1  2005-12-01  101.5836      1  ...  1.017552e+07   1.755159  6206.905592\n",
            "2  2005-12-02   91.5084      1  ...  9.166294e+06  -8.337056  6216.997807\n",
            "3  2005-12-05   84.0616      0  ...  8.420357e+06 -15.796433  6224.457184\n",
            "4  2005-12-06   84.9377      1  ...  8.420357e+06 -15.796433  6224.457184\n",
            "\n",
            "[5 rows x 8 columns]\n"
          ],
          "name": "stdout"
        }
      ]
    },
    {
      "cell_type": "markdown",
      "metadata": {
        "id": "CpE494O-Pu0y"
      },
      "source": [
        "## GRU"
      ]
    },
    {
      "cell_type": "code",
      "metadata": {
        "colab": {
          "base_uri": "https://localhost:8080/"
        },
        "id": "pv-ICDPQFwI0",
        "outputId": "5c33910e-69de-4fe7-e6c7-a156d73187cb"
      },
      "source": [
        "df = pd.read_csv('615_gru.csv', index_col=None, header=0)\n",
        "add_metrics(df, '615_gru')"
      ],
      "execution_count": 51,
      "outputs": [
        {
          "output_type": "stream",
          "text": [
            "Sharpe Ratio = 1.7629984077715668 \n",
            "\n",
            "MDD = 671.060424496522 \n",
            "\n",
            "         Date     Price  Label  ...  FinalCapital       ROR          DD\n",
            "0  2005-10-14  114.7250      0  ...  1.000000e+07  0.000000  635.183514\n",
            "1  2005-10-17  123.0479      1  ...  1.000000e+07  0.000000  635.183514\n",
            "2  2005-10-18  123.4860      1  ...  1.003560e+07  0.356040  634.827474\n",
            "3  2005-10-19  119.5435      1  ...  9.715200e+06 -2.847997  638.031511\n",
            "4  2005-10-20  112.5348      0  ...  9.145609e+06 -8.543909  643.727423\n",
            "\n",
            "[5 rows x 8 columns]\n"
          ],
          "name": "stdout"
        }
      ]
    },
    {
      "cell_type": "markdown",
      "metadata": {
        "id": "nxdXGjlqPu0z"
      },
      "source": [
        "## GRU_beta"
      ]
    },
    {
      "cell_type": "code",
      "metadata": {
        "colab": {
          "base_uri": "https://localhost:8080/"
        },
        "id": "r6OWfBZJF5hM",
        "outputId": "ca9a98f8-0d2b-49ab-88f3-c35f02722aac"
      },
      "source": [
        "df = pd.read_csv('615_gru_beta.csv', index_col=None, header=0)\n",
        "add_metrics(df, '615_gru_beta')"
      ],
      "execution_count": 52,
      "outputs": [
        {
          "output_type": "stream",
          "text": [
            "Sharpe Ratio = 2.006560372157004 \n",
            "\n",
            "MDD = 2359.3624357905164 \n",
            "\n",
            "         Date     Price  Label  ...  FinalCapital       ROR           DD\n",
            "0  2005-11-30   99.8314      1  ...  1.000000e+07  0.000000  2342.751187\n",
            "1  2005-12-01  101.5836      1  ...  1.017552e+07  1.755159  2340.996027\n",
            "2  2005-12-02   91.5084      0  ...  9.166294e+06 -8.337056  2351.088243\n",
            "3  2005-12-05   84.0616      0  ...  9.166294e+06 -8.337056  2351.088243\n",
            "4  2005-12-06   84.9377      0  ...  9.166294e+06 -8.337056  2351.088243\n",
            "\n",
            "[5 rows x 8 columns]\n"
          ],
          "name": "stdout"
        }
      ]
    },
    {
      "cell_type": "markdown",
      "metadata": {
        "id": "HnfP8JtDPu0z"
      },
      "source": [
        "## SVM"
      ]
    },
    {
      "cell_type": "code",
      "metadata": {
        "colab": {
          "base_uri": "https://localhost:8080/"
        },
        "id": "-Lw7e9XNF_ml",
        "outputId": "3fea6fda-f408-450a-df9b-0e5b38a7632e"
      },
      "source": [
        "df = pd.read_csv('615_svm.csv', index_col=None, header=0)\n",
        "add_metrics(df, '615_svm')"
      ],
      "execution_count": 53,
      "outputs": [
        {
          "output_type": "stream",
          "text": [
            "Sharpe Ratio = 1.4863038312721408 \n",
            "\n",
            "MDD = 3062.709266760024 \n",
            "\n",
            "         Date     Price  Label  ...  FinalCapital       ROR           DD\n",
            "0  2005-10-14  114.7250      0  ...  1.000000e+07  0.000000  3047.596179\n",
            "1  2005-10-17  123.0479      1  ...  1.000000e+07  0.000000  3047.596179\n",
            "2  2005-10-18  123.4860      1  ...  1.003560e+07  0.356040  3047.240139\n",
            "3  2005-10-19  119.5435      1  ...  9.715200e+06 -2.847997  3050.444176\n",
            "4  2005-10-20  112.5348      0  ...  9.145609e+06 -8.543909  3056.140087\n",
            "\n",
            "[5 rows x 8 columns]\n"
          ],
          "name": "stdout"
        }
      ]
    },
    {
      "cell_type": "markdown",
      "metadata": {
        "id": "Sqgx5PBGPu00"
      },
      "source": [
        "## SVM_beta\n"
      ]
    },
    {
      "cell_type": "code",
      "metadata": {
        "colab": {
          "base_uri": "https://localhost:8080/"
        },
        "id": "rg2Z-nRPGD7Q",
        "outputId": "943e2302-de19-42a2-f218-8820996efd78"
      },
      "source": [
        "df = pd.read_csv('615_svm_beta.csv', index_col=None, header=0)\n",
        "add_metrics(df, '615_svm_beta')"
      ],
      "execution_count": 54,
      "outputs": [
        {
          "output_type": "stream",
          "text": [
            "Sharpe Ratio = 1.4605186273873196 \n",
            "\n",
            "MDD = 2310.8477893728827 \n",
            "\n",
            "         Date     Price  Label  ...  FinalCapital        ROR           DD\n",
            "0  2005-11-30   99.8314      1  ...  1.000000e+07   0.000000  2271.795647\n",
            "1  2005-12-01  101.5836      1  ...  1.017552e+07   1.755159  2270.040488\n",
            "2  2005-12-02   91.5084      1  ...  9.166294e+06  -8.337056  2280.132704\n",
            "3  2005-12-05   84.0616      1  ...  8.420357e+06 -15.796433  2287.592080\n",
            "4  2005-12-06   84.9377      1  ...  8.508115e+06 -14.918853  2286.714501\n",
            "\n",
            "[5 rows x 8 columns]\n"
          ],
          "name": "stdout"
        }
      ]
    },
    {
      "cell_type": "markdown",
      "metadata": {
        "id": "FJzYmAIvPu01"
      },
      "source": [
        "## XGBoost"
      ]
    },
    {
      "cell_type": "code",
      "metadata": {
        "colab": {
          "base_uri": "https://localhost:8080/"
        },
        "id": "fMlyvFy2GIj8",
        "outputId": "ea4f6ba0-3d48-4364-ee64-61c3ee9aa314"
      },
      "source": [
        "df = pd.read_csv('615_xgboost.csv', index_col=None, header=0)\n",
        "add_metrics(df, '615_xgboost')"
      ],
      "execution_count": 55,
      "outputs": [
        {
          "output_type": "stream",
          "text": [
            "Sharpe Ratio = 1.560369595443859 \n",
            "\n",
            "MDD = 5460.749695363287 \n",
            "\n",
            "         Date     Price  Label  ...  FinalCapital       ROR           DD\n",
            "0  2005-10-14  114.7250      0  ...  1.000000e+07  0.000000  5436.709210\n",
            "1  2005-10-17  123.0479      1  ...  1.000000e+07  0.000000  5436.709210\n",
            "2  2005-10-18  123.4860      1  ...  1.003560e+07  0.356040  5436.353170\n",
            "3  2005-10-19  119.5435      1  ...  9.715200e+06 -2.847997  5439.557206\n",
            "4  2005-10-20  112.5348      0  ...  9.145609e+06 -8.543909  5445.253118\n",
            "\n",
            "[5 rows x 8 columns]\n"
          ],
          "name": "stdout"
        }
      ]
    },
    {
      "cell_type": "markdown",
      "metadata": {
        "id": "D8fZyGaLPu02"
      },
      "source": [
        "## XGBoost_beta"
      ]
    },
    {
      "cell_type": "code",
      "metadata": {
        "colab": {
          "base_uri": "https://localhost:8080/"
        },
        "id": "VcEBR-MjGUve",
        "outputId": "6b082d25-b1b7-4ddc-c0e3-81899d442064"
      },
      "source": [
        "df = pd.read_csv('615_xgboost_beta.csv', index_col=None, header=0)\n",
        "add_metrics(df, '615_xgboost_beta')"
      ],
      "execution_count": 56,
      "outputs": [
        {
          "output_type": "stream",
          "text": [
            "Sharpe Ratio = 2.115968709420169 \n",
            "\n",
            "MDD = 2552.8461830216384 \n",
            "\n",
            "         Date     Price  Label  ...  FinalCapital        ROR           DD\n",
            "0  2005-11-30   99.8314      1  ...  1.000000e+07   0.000000  2533.434303\n",
            "1  2005-12-01  101.5836      1  ...  1.017552e+07   1.755159  2531.679144\n",
            "2  2005-12-02   91.5084      1  ...  9.166294e+06  -8.337056  2541.771359\n",
            "3  2005-12-05   84.0616      0  ...  8.420357e+06 -15.796433  2549.230736\n",
            "4  2005-12-06   84.9377      0  ...  8.420357e+06 -15.796433  2549.230736\n",
            "\n",
            "[5 rows x 8 columns]\n"
          ],
          "name": "stdout"
        }
      ]
    },
    {
      "cell_type": "markdown",
      "metadata": {
        "id": "An-KUrPfPu02"
      },
      "source": [
        "## LR"
      ]
    },
    {
      "cell_type": "code",
      "metadata": {
        "colab": {
          "base_uri": "https://localhost:8080/"
        },
        "id": "QQjhjilMGa3k",
        "outputId": "3f307de7-147b-4297-80cc-e919a2f33544"
      },
      "source": [
        "df = pd.read_csv('615_lr.csv', index_col=None, header=0)\n",
        "add_metrics(df, 'lr_615')"
      ],
      "execution_count": 57,
      "outputs": [
        {
          "output_type": "stream",
          "text": [
            "Sharpe Ratio = 1.280479945280852 \n",
            "\n",
            "MDD = 20327.292501913344 \n",
            "\n",
            "         Date     Price  Label  ...  FinalCapital       ROR            DD\n",
            "0  2005-10-14  114.7250      0  ...  1.000000e+07  0.000000  20310.244054\n",
            "1  2005-10-17  123.0479      1  ...  1.000000e+07  0.000000  20310.244054\n",
            "2  2005-10-18  123.4860      1  ...  1.003560e+07  0.356040  20309.888014\n",
            "3  2005-10-19  119.5435      0  ...  9.715200e+06 -2.847997  20313.092051\n",
            "4  2005-10-20  112.5348      0  ...  9.715200e+06 -2.847997  20313.092051\n",
            "\n",
            "[5 rows x 8 columns]\n"
          ],
          "name": "stdout"
        }
      ]
    },
    {
      "cell_type": "markdown",
      "metadata": {
        "id": "AK_dylf-Pu02"
      },
      "source": [
        "## LR_beta"
      ]
    },
    {
      "cell_type": "code",
      "metadata": {
        "colab": {
          "base_uri": "https://localhost:8080/"
        },
        "id": "dPN2Q-GeGfGK",
        "outputId": "8e7562db-2fe2-453f-9871-76a7d31933a5"
      },
      "source": [
        "df = pd.read_csv('615_lr_beta.csv', index_col=None, header=0)\n",
        "add_metrics(df, 'lr_615_beta')"
      ],
      "execution_count": 58,
      "outputs": [
        {
          "output_type": "stream",
          "text": [
            "Sharpe Ratio = 1.5937815113353888 \n",
            "\n",
            "MDD = 2466.8016047012225 \n",
            "\n",
            "         Date     Price  Label  ...  FinalCapital        ROR           DD\n",
            "0  2005-11-30   99.8314      1  ...  1.000000e+07   0.000000  2428.485531\n",
            "1  2005-12-01  101.5836      1  ...  1.017552e+07   1.755159  2426.730372\n",
            "2  2005-12-02   91.5084      1  ...  9.166294e+06  -8.337056  2436.822588\n",
            "3  2005-12-05   84.0616      1  ...  8.420357e+06 -15.796433  2444.281964\n",
            "4  2005-12-06   84.9377      1  ...  8.508115e+06 -14.918853  2443.404385\n",
            "\n",
            "[5 rows x 8 columns]\n"
          ],
          "name": "stdout"
        }
      ]
    },
    {
      "cell_type": "markdown",
      "metadata": {
        "id": "gkVhThuqQyYF"
      },
      "source": [
        "# China_9001"
      ]
    },
    {
      "cell_type": "markdown",
      "metadata": {
        "id": "VwyJMui4QyYM"
      },
      "source": [
        "## LSTM"
      ]
    },
    {
      "cell_type": "code",
      "metadata": {
        "colab": {
          "base_uri": "https://localhost:8080/"
        },
        "id": "NIg34N5UcTSf",
        "outputId": "dbbdb0b5-5753-454c-9414-c1eaa622ca57"
      },
      "source": [
        "df = pd.read_csv('9001_lstm.csv', index_col=None, header=0)\n",
        "add_metrics(df, '9001_lstm')"
      ],
      "execution_count": 59,
      "outputs": [
        {
          "output_type": "stream",
          "text": [
            "Sharpe Ratio = 2.6238654958149947 \n",
            "\n",
            "MDD = 522.8807398997913 \n",
            "\n",
            "         Date    Price  Label  ... FinalCapital  ROR          DD\n",
            "0  2003-06-05  3433.27      0  ...   10000000.0  0.0  514.519797\n",
            "1  2003-06-06  3362.30      0  ...   10000000.0  0.0  514.519797\n",
            "2  2003-06-09  3327.97      0  ...   10000000.0  0.0  514.519797\n",
            "3  2003-06-10  3347.61      0  ...   10000000.0  0.0  514.519797\n",
            "4  2003-06-11  3411.09      0  ...   10000000.0  0.0  514.519797\n",
            "\n",
            "[5 rows x 8 columns]\n"
          ],
          "name": "stdout"
        }
      ]
    },
    {
      "cell_type": "markdown",
      "metadata": {
        "id": "5MgEom70QyYN"
      },
      "source": [
        "## LSTM_beta"
      ]
    },
    {
      "cell_type": "code",
      "metadata": {
        "colab": {
          "base_uri": "https://localhost:8080/"
        },
        "id": "935nbBuTcaYf",
        "outputId": "215b2eac-c7fe-418c-bd71-09348cbf2047"
      },
      "source": [
        "df = pd.read_csv('9001_lstm_beta.csv', index_col=None, header=0)\n",
        "add_metrics(df, '9001_lstm_beta')"
      ],
      "execution_count": 60,
      "outputs": [
        {
          "output_type": "stream",
          "text": [
            "Sharpe Ratio = 2.6350607163194977 \n",
            "\n",
            "MDD = 1694.6324413279672 \n",
            "\n",
            "         Date    Price  Label  ... FinalCapital  ROR           DD\n",
            "0  2003-07-22  3328.87      0  ...   10000000.0  0.0  1690.727355\n",
            "1  2003-07-23  3342.71      0  ...   10000000.0  0.0  1690.727355\n",
            "2  2003-07-24  3316.48      0  ...   10000000.0  0.0  1690.727355\n",
            "3  2003-07-25  3276.37      0  ...   10000000.0  0.0  1690.727355\n",
            "4  2003-07-28  3263.60      0  ...   10000000.0  0.0  1690.727355\n",
            "\n",
            "[5 rows x 8 columns]\n"
          ],
          "name": "stdout"
        }
      ]
    },
    {
      "cell_type": "markdown",
      "metadata": {
        "id": "weTtJ0oVQyYN"
      },
      "source": [
        "## GRU"
      ]
    },
    {
      "cell_type": "code",
      "metadata": {
        "colab": {
          "base_uri": "https://localhost:8080/"
        },
        "id": "FraFB29qcfIz",
        "outputId": "fab714fd-e693-4374-a026-dff5f7ff7ef0"
      },
      "source": [
        "df = pd.read_csv('9001_gru.csv', index_col=None, header=0)\n",
        "add_metrics(df, '9001_gru')"
      ],
      "execution_count": 61,
      "outputs": [
        {
          "output_type": "stream",
          "text": [
            "Sharpe Ratio = 2.3175397967525937 \n",
            "\n",
            "MDD = 536.998157506584 \n",
            "\n",
            "         Date    Price  Label  ... FinalCapital  ROR          DD\n",
            "0  2003-06-05  3433.27      0  ...   10000000.0  0.0  524.777513\n",
            "1  2003-06-06  3362.30      0  ...   10000000.0  0.0  524.777513\n",
            "2  2003-06-09  3327.97      0  ...   10000000.0  0.0  524.777513\n",
            "3  2003-06-10  3347.61      0  ...   10000000.0  0.0  524.777513\n",
            "4  2003-06-11  3411.09      0  ...   10000000.0  0.0  524.777513\n",
            "\n",
            "[5 rows x 8 columns]\n"
          ],
          "name": "stdout"
        }
      ]
    },
    {
      "cell_type": "markdown",
      "metadata": {
        "id": "yY1kvGkJQyYN"
      },
      "source": [
        "## GRU_beta"
      ]
    },
    {
      "cell_type": "code",
      "metadata": {
        "colab": {
          "base_uri": "https://localhost:8080/"
        },
        "id": "eMqGE4Xtcjpy",
        "outputId": "57c4c101-f9b7-4899-e5bd-fdfbce610cbc"
      },
      "source": [
        "df = pd.read_csv('9001_gru_beta.csv', index_col=None, header=0)\n",
        "add_metrics(df, '9001_gru_beta')"
      ],
      "execution_count": 62,
      "outputs": [
        {
          "output_type": "stream",
          "text": [
            "Sharpe Ratio = 2.723033250784252 \n",
            "\n",
            "MDD = 1305.4312901580488 \n",
            "\n",
            "         Date    Price  Label  ... FinalCapital  ROR           DD\n",
            "0  2003-07-22  3328.87      0  ...   10000000.0  0.0  1299.175843\n",
            "1  2003-07-23  3342.71      0  ...   10000000.0  0.0  1299.175843\n",
            "2  2003-07-24  3316.48      0  ...   10000000.0  0.0  1299.175843\n",
            "3  2003-07-25  3276.37      0  ...   10000000.0  0.0  1299.175843\n",
            "4  2003-07-28  3263.60      0  ...   10000000.0  0.0  1299.175843\n",
            "\n",
            "[5 rows x 8 columns]\n"
          ],
          "name": "stdout"
        }
      ]
    },
    {
      "cell_type": "markdown",
      "metadata": {
        "id": "36vVnVb7QyYN"
      },
      "source": [
        "## SVM"
      ]
    },
    {
      "cell_type": "code",
      "metadata": {
        "colab": {
          "base_uri": "https://localhost:8080/"
        },
        "id": "zJcgYSSfcodM",
        "outputId": "7103a370-844a-430e-98b4-c2d51a9f48c3"
      },
      "source": [
        "df = pd.read_csv('9001_svm.csv', index_col=None, header=0)\n",
        "add_metrics(df, '9001_svm')"
      ],
      "execution_count": 63,
      "outputs": [
        {
          "output_type": "stream",
          "text": [
            "Sharpe Ratio = 2.979938655250706 \n",
            "\n",
            "MDD = 901.537414129697 \n",
            "\n",
            "         Date    Price  Label  ... FinalCapital  ROR          DD\n",
            "0  2003-06-05  3433.27      0  ...   10000000.0  0.0  896.573172\n",
            "1  2003-06-06  3362.30      0  ...   10000000.0  0.0  896.573172\n",
            "2  2003-06-09  3327.97      0  ...   10000000.0  0.0  896.573172\n",
            "3  2003-06-10  3347.61      0  ...   10000000.0  0.0  896.573172\n",
            "4  2003-06-11  3411.09      0  ...   10000000.0  0.0  896.573172\n",
            "\n",
            "[5 rows x 8 columns]\n"
          ],
          "name": "stdout"
        }
      ]
    },
    {
      "cell_type": "markdown",
      "metadata": {
        "id": "koi-nqueQyYO"
      },
      "source": [
        "## SVM_beta\n"
      ]
    },
    {
      "cell_type": "code",
      "metadata": {
        "colab": {
          "base_uri": "https://localhost:8080/"
        },
        "id": "bQ7nyU2PctVh",
        "outputId": "e02f1b9c-b3d1-430a-9dcc-def3394bc472"
      },
      "source": [
        "df = pd.read_csv('9001_svm_beta.csv', index_col=None, header=0)\n",
        "add_metrics(df, '9001_svm_beta')"
      ],
      "execution_count": 64,
      "outputs": [
        {
          "output_type": "stream",
          "text": [
            "Sharpe Ratio = 2.7865536307649763 \n",
            "\n",
            "MDD = 1563.3415285946514 \n",
            "\n",
            "         Date    Price  Label  ... FinalCapital  ROR           DD\n",
            "0  2003-07-22  3328.87      0  ...   10000000.0  0.0  1558.145725\n",
            "1  2003-07-23  3342.71      0  ...   10000000.0  0.0  1558.145725\n",
            "2  2003-07-24  3316.48      0  ...   10000000.0  0.0  1558.145725\n",
            "3  2003-07-25  3276.37      0  ...   10000000.0  0.0  1558.145725\n",
            "4  2003-07-28  3263.60      0  ...   10000000.0  0.0  1558.145725\n",
            "\n",
            "[5 rows x 8 columns]\n"
          ],
          "name": "stdout"
        }
      ]
    },
    {
      "cell_type": "markdown",
      "metadata": {
        "id": "K8IOzXkOQyYO"
      },
      "source": [
        "## XGBoost"
      ]
    },
    {
      "cell_type": "code",
      "metadata": {
        "colab": {
          "base_uri": "https://localhost:8080/"
        },
        "id": "hK7Ep5vMcyYp",
        "outputId": "92c9b403-b08f-4803-8a68-8a422e62abbb"
      },
      "source": [
        "df = pd.read_csv('9001_xgboost.csv', index_col=None, header=0)\n",
        "add_metrics(df, '9001_xgboost')"
      ],
      "execution_count": 65,
      "outputs": [
        {
          "output_type": "stream",
          "text": [
            "Sharpe Ratio = 2.2341671028136276 \n",
            "\n",
            "MDD = 844.2673899932906 \n",
            "\n",
            "         Date    Price  Label  ... FinalCapital  ROR          DD\n",
            "0  2003-06-05  3433.27      0  ...   10000000.0  0.0  842.143601\n",
            "1  2003-06-06  3362.30      0  ...   10000000.0  0.0  842.143601\n",
            "2  2003-06-09  3327.97      0  ...   10000000.0  0.0  842.143601\n",
            "3  2003-06-10  3347.61      0  ...   10000000.0  0.0  842.143601\n",
            "4  2003-06-11  3411.09      0  ...   10000000.0  0.0  842.143601\n",
            "\n",
            "[5 rows x 8 columns]\n"
          ],
          "name": "stdout"
        }
      ]
    },
    {
      "cell_type": "markdown",
      "metadata": {
        "id": "JM3_Blj1QyYO"
      },
      "source": [
        "## XGBoost_beta"
      ]
    },
    {
      "cell_type": "code",
      "metadata": {
        "colab": {
          "base_uri": "https://localhost:8080/"
        },
        "id": "-zNarDFOc2tX",
        "outputId": "426bc14d-8da5-4d7c-cf89-885290d7cd88"
      },
      "source": [
        "df = pd.read_csv('9001_xgboost_beta.csv', index_col=None, header=0)\n",
        "add_metrics(df, '9001_xgboost_beta')"
      ],
      "execution_count": 66,
      "outputs": [
        {
          "output_type": "stream",
          "text": [
            "Sharpe Ratio = 2.6698690956781057 \n",
            "\n",
            "MDD = 1694.522293280293 \n",
            "\n",
            "         Date    Price  Label  ... FinalCapital  ROR           DD\n",
            "0  2003-07-22  3328.87      0  ...   10000000.0  0.0  1688.235383\n",
            "1  2003-07-23  3342.71      0  ...   10000000.0  0.0  1688.235383\n",
            "2  2003-07-24  3316.48      0  ...   10000000.0  0.0  1688.235383\n",
            "3  2003-07-25  3276.37      0  ...   10000000.0  0.0  1688.235383\n",
            "4  2003-07-28  3263.60      0  ...   10000000.0  0.0  1688.235383\n",
            "\n",
            "[5 rows x 8 columns]\n"
          ],
          "name": "stdout"
        }
      ]
    },
    {
      "cell_type": "markdown",
      "metadata": {
        "id": "k6Af_OiBQyYO"
      },
      "source": [
        "## LR"
      ]
    },
    {
      "cell_type": "code",
      "metadata": {
        "colab": {
          "base_uri": "https://localhost:8080/"
        },
        "id": "rBC214Owc7EL",
        "outputId": "8cda8e61-c3d4-40a7-f983-ea5fd8111cdf"
      },
      "source": [
        "df = pd.read_csv('9001_lr.csv', index_col=None, header=0)\n",
        "add_metrics(df, 'lr_9001')"
      ],
      "execution_count": 67,
      "outputs": [
        {
          "output_type": "stream",
          "text": [
            "Sharpe Ratio = 2.3220450366779555 \n",
            "\n",
            "MDD = 622.9594791420552 \n",
            "\n",
            "         Date    Price  Label  ... FinalCapital  ROR          DD\n",
            "0  2003-06-05  3433.27      0  ...   10000000.0  0.0  613.937934\n",
            "1  2003-06-06  3362.30      0  ...   10000000.0  0.0  613.937934\n",
            "2  2003-06-09  3327.97      0  ...   10000000.0  0.0  613.937934\n",
            "3  2003-06-10  3347.61      0  ...   10000000.0  0.0  613.937934\n",
            "4  2003-06-11  3411.09      0  ...   10000000.0  0.0  613.937934\n",
            "\n",
            "[5 rows x 8 columns]\n"
          ],
          "name": "stdout"
        }
      ]
    },
    {
      "cell_type": "markdown",
      "metadata": {
        "id": "j47b-DMpQyYO"
      },
      "source": [
        "## LR_beta"
      ]
    },
    {
      "cell_type": "code",
      "metadata": {
        "colab": {
          "base_uri": "https://localhost:8080/"
        },
        "id": "DJVVQRu-c_Tq",
        "outputId": "cfb23d96-fa2d-47bc-975f-6a09e30f956e"
      },
      "source": [
        "df = pd.read_csv('9001_lr_beta.csv', index_col=None, header=0)\n",
        "add_metrics(df, 'lr_9001_beta')"
      ],
      "execution_count": 68,
      "outputs": [
        {
          "output_type": "stream",
          "text": [
            "Sharpe Ratio = 2.4485874172721895 \n",
            "\n",
            "MDD = 1400.1185076153542 \n",
            "\n",
            "         Date    Price  Label  ... FinalCapital  ROR           DD\n",
            "0  2003-07-22  3328.87      0  ...   10000000.0  0.0  1392.200307\n",
            "1  2003-07-23  3342.71      0  ...   10000000.0  0.0  1392.200307\n",
            "2  2003-07-24  3316.48      0  ...   10000000.0  0.0  1392.200307\n",
            "3  2003-07-25  3276.37      0  ...   10000000.0  0.0  1392.200307\n",
            "4  2003-07-28  3263.60      0  ...   10000000.0  0.0  1392.200307\n",
            "\n",
            "[5 rows x 8 columns]\n"
          ],
          "name": "stdout"
        }
      ]
    },
    {
      "cell_type": "markdown",
      "metadata": {
        "id": "FP1b99WunZ7z"
      },
      "source": [
        "# ETH"
      ]
    },
    {
      "cell_type": "markdown",
      "metadata": {
        "id": "faHHL7TcncIb"
      },
      "source": [
        "## LSTM"
      ]
    },
    {
      "cell_type": "code",
      "metadata": {
        "colab": {
          "base_uri": "https://localhost:8080/"
        },
        "id": "gykVg-BLdE-N",
        "outputId": "16eb1100-55a2-4868-cc3d-b2c3e36a0dd3"
      },
      "source": [
        "df = pd.read_csv('lstm_eth.csv', index_col=None, header=0)\n",
        "add_metrics(df, 'lstm_eth', dataset_type='crypto')"
      ],
      "execution_count": 70,
      "outputs": [
        {
          "output_type": "stream",
          "text": [
            "Sharpe Ratio = 3.336297201024534 \n",
            "\n",
            "MDD = 298.43969689175935 \n",
            "\n",
            "           Date   Price  Label  ...  FinalCapital        ROR          DD\n",
            "0  Sep 23, 2019  201.18      1  ...  1.000000e+07   0.000000  270.670792\n",
            "1  Sep 24, 2019  166.29      0  ...  8.265732e+06 -17.342678  288.013470\n",
            "2  Sep 25, 2019  168.92      0  ...  8.265732e+06 -17.342678  288.013470\n",
            "3  Sep 26, 2019  164.56      0  ...  8.265732e+06 -17.342678  288.013470\n",
            "4  Sep 27, 2019  173.19      0  ...  8.265732e+06 -17.342678  288.013470\n",
            "\n",
            "[5 rows x 8 columns]\n"
          ],
          "name": "stdout"
        }
      ]
    },
    {
      "cell_type": "markdown",
      "metadata": {
        "id": "jU_kz1QAnuT5"
      },
      "source": [
        "## LSTM_beta"
      ]
    },
    {
      "cell_type": "code",
      "metadata": {
        "colab": {
          "base_uri": "https://localhost:8080/"
        },
        "id": "4SXwxtOYdR6W",
        "outputId": "f3b70463-eac5-4c2b-8da6-06fc8fad53b6"
      },
      "source": [
        "df = pd.read_csv('lstm_beta_eth.csv', index_col=None, header=0)\n",
        "add_metrics(df, 'lstm_beta_eth', dataset_type='crypto')"
      ],
      "execution_count": 71,
      "outputs": [
        {
          "output_type": "stream",
          "text": [
            "Sharpe Ratio = 2.650715971978199 \n",
            "\n",
            "MDD = 698.889067107091 \n",
            "\n",
            "           Date   Price  Label  ... FinalCapital  ROR          DD\n",
            "0  Oct 26, 2019  179.62      0  ...   10000000.0  0.0  691.047174\n",
            "1  Oct 27, 2019  184.05      0  ...   10000000.0  0.0  691.047174\n",
            "2  Oct 28, 2019  181.67      0  ...   10000000.0  0.0  691.047174\n",
            "3  Oct 29, 2019  190.45      0  ...   10000000.0  0.0  691.047174\n",
            "4  Oct 30, 2019  183.25      0  ...   10000000.0  0.0  691.047174\n",
            "\n",
            "[5 rows x 8 columns]\n"
          ],
          "name": "stdout"
        }
      ]
    },
    {
      "cell_type": "markdown",
      "metadata": {
        "id": "Jiz8dAzfSVq0"
      },
      "source": [
        "## GRU"
      ]
    },
    {
      "cell_type": "code",
      "metadata": {
        "colab": {
          "base_uri": "https://localhost:8080/"
        },
        "id": "T0AdOZ5kdWMk",
        "outputId": "510896e9-7b9a-46fe-888b-9067d2cfae4d"
      },
      "source": [
        "df = pd.read_csv('gru_eth.csv', index_col=None, header=0)\n",
        "add_metrics(df, 'gru_eth', dataset_type='crypto')"
      ],
      "execution_count": 72,
      "outputs": [
        {
          "output_type": "stream",
          "text": [
            "Sharpe Ratio = 3.839572910811598 \n",
            "\n",
            "MDD = 275.0166820432181 \n",
            "\n",
            "           Date   Price  Label  ...  FinalCapital        ROR          DD\n",
            "0  Sep 23, 2019  201.18      1  ...  1.000000e+07   0.000000  247.086867\n",
            "1  Sep 24, 2019  166.29      0  ...  8.265732e+06 -17.342678  264.429545\n",
            "2  Sep 25, 2019  168.92      0  ...  8.265732e+06 -17.342678  264.429545\n",
            "3  Sep 26, 2019  164.56      0  ...  8.265732e+06 -17.342678  264.429545\n",
            "4  Sep 27, 2019  173.19      0  ...  8.265732e+06 -17.342678  264.429545\n",
            "\n",
            "[5 rows x 8 columns]\n"
          ],
          "name": "stdout"
        }
      ]
    },
    {
      "cell_type": "markdown",
      "metadata": {
        "id": "G62T3VGcSZai"
      },
      "source": [
        "## GRU_beta"
      ]
    },
    {
      "cell_type": "code",
      "metadata": {
        "colab": {
          "base_uri": "https://localhost:8080/"
        },
        "id": "HDHiH5F4dadt",
        "outputId": "08314ca9-06c3-48d6-b3f8-140a6e308e40"
      },
      "source": [
        "df = pd.read_csv('gru_beta_eth.csv', index_col=None, header=0)\n",
        "add_metrics(df, 'gru_beta_eth', dataset_type='crypto')"
      ],
      "execution_count": 73,
      "outputs": [
        {
          "output_type": "stream",
          "text": [
            "Sharpe Ratio = 3.066609701304024 \n",
            "\n",
            "MDD = 942.0698532476636 \n",
            "\n",
            "           Date   Price  Label  ... FinalCapital  ROR          DD\n",
            "0  Oct 26, 2019  179.62      0  ...   10000000.0  0.0  940.004471\n",
            "1  Oct 27, 2019  184.05      0  ...   10000000.0  0.0  940.004471\n",
            "2  Oct 28, 2019  181.67      0  ...   10000000.0  0.0  940.004471\n",
            "3  Oct 29, 2019  190.45      0  ...   10000000.0  0.0  940.004471\n",
            "4  Oct 30, 2019  183.25      0  ...   10000000.0  0.0  940.004471\n",
            "\n",
            "[5 rows x 8 columns]\n"
          ],
          "name": "stdout"
        }
      ]
    },
    {
      "cell_type": "markdown",
      "metadata": {
        "id": "iv5p-LdsSdD9"
      },
      "source": [
        "## SVM"
      ]
    },
    {
      "cell_type": "code",
      "metadata": {
        "colab": {
          "base_uri": "https://localhost:8080/"
        },
        "id": "NAB485BwdfMV",
        "outputId": "5d3a56c8-90ec-4c5b-acc7-c5b0bd9b97f2"
      },
      "source": [
        "df = pd.read_csv('svm_eth.csv', index_col=None, header=0)\n",
        "add_metrics(df, 'svm_eth', dataset_type='crypto')"
      ],
      "execution_count": 74,
      "outputs": [
        {
          "output_type": "stream",
          "text": [
            "Sharpe Ratio = 3.934642473200021 \n",
            "\n",
            "MDD = 459.75646295442954 \n",
            "\n",
            "           Date   Price  Label  ... FinalCapital  ROR          DD\n",
            "0  Sep 23, 2019  201.18      0  ...   10000000.0  0.0  456.863802\n",
            "1  Sep 24, 2019  166.29      0  ...   10000000.0  0.0  456.863802\n",
            "2  Sep 25, 2019  168.92      0  ...   10000000.0  0.0  456.863802\n",
            "3  Sep 26, 2019  164.56      0  ...   10000000.0  0.0  456.863802\n",
            "4  Sep 27, 2019  173.19      0  ...   10000000.0  0.0  456.863802\n",
            "\n",
            "[5 rows x 8 columns]\n"
          ],
          "name": "stdout"
        }
      ]
    },
    {
      "cell_type": "markdown",
      "metadata": {
        "id": "qjcwapeRSfFG"
      },
      "source": [
        "## SVM_beta"
      ]
    },
    {
      "cell_type": "code",
      "metadata": {
        "colab": {
          "base_uri": "https://localhost:8080/"
        },
        "id": "yF9f_HkMdmLk",
        "outputId": "51b925be-6b7b-433f-b01b-b908108f223a"
      },
      "source": [
        "df = pd.read_csv('svm_beta_eth.csv', index_col=None, header=0)\n",
        "add_metrics(df, 'svm_beta_eth', dataset_type='crypto')"
      ],
      "execution_count": 75,
      "outputs": [
        {
          "output_type": "stream",
          "text": [
            "Sharpe Ratio = 2.9083062182322994 \n",
            "\n",
            "MDD = 569.8818803881029 \n",
            "\n",
            "           Date   Price  Label  ... FinalCapital  ROR          DD\n",
            "0  Oct 26, 2019  179.62      0  ...   10000000.0  0.0  568.379278\n",
            "1  Oct 27, 2019  184.05      0  ...   10000000.0  0.0  568.379278\n",
            "2  Oct 28, 2019  181.67      0  ...   10000000.0  0.0  568.379278\n",
            "3  Oct 29, 2019  190.45      0  ...   10000000.0  0.0  568.379278\n",
            "4  Oct 30, 2019  183.25      0  ...   10000000.0  0.0  568.379278\n",
            "\n",
            "[5 rows x 8 columns]\n"
          ],
          "name": "stdout"
        }
      ]
    },
    {
      "cell_type": "markdown",
      "metadata": {
        "id": "lQ0scawGSho6"
      },
      "source": [
        "## XGBoost"
      ]
    },
    {
      "cell_type": "code",
      "metadata": {
        "colab": {
          "base_uri": "https://localhost:8080/"
        },
        "id": "Mxm6ptVZdsup",
        "outputId": "e0a418ca-2add-41b8-bf29-ec7bc24f94bd"
      },
      "source": [
        "df = pd.read_csv('xgboost_eth.csv', index_col=None, header=0)\n",
        "add_metrics(df, 'xgboost_eth', dataset_type='crypto')"
      ],
      "execution_count": 76,
      "outputs": [
        {
          "output_type": "stream",
          "text": [
            "Sharpe Ratio = 3.263613001521197 \n",
            "\n",
            "MDD = 258.5707609711359 \n",
            "\n",
            "           Date   Price  Label  ... FinalCapital  ROR          DD\n",
            "0  Sep 23, 2019  201.18      0  ...   10000000.0  0.0  249.313912\n",
            "1  Sep 24, 2019  166.29      0  ...   10000000.0  0.0  249.313912\n",
            "2  Sep 25, 2019  168.92      0  ...   10000000.0  0.0  249.313912\n",
            "3  Sep 26, 2019  164.56      0  ...   10000000.0  0.0  249.313912\n",
            "4  Sep 27, 2019  173.19      0  ...   10000000.0  0.0  249.313912\n",
            "\n",
            "[5 rows x 8 columns]\n"
          ],
          "name": "stdout"
        }
      ]
    },
    {
      "cell_type": "markdown",
      "metadata": {
        "id": "2zwj2PuKSj5Q"
      },
      "source": [
        "## XGBoost_beta"
      ]
    },
    {
      "cell_type": "code",
      "metadata": {
        "colab": {
          "base_uri": "https://localhost:8080/"
        },
        "id": "ZLVmjLYfdzXC",
        "outputId": "10e00eb7-0e2b-4a80-912a-382c2de03b96"
      },
      "source": [
        "df = pd.read_csv('xgboost_beta_eth.csv', index_col=None, header=0)\n",
        "add_metrics(df, 'xgboost_beta_eth', dataset_type='crypto')"
      ],
      "execution_count": 77,
      "outputs": [
        {
          "output_type": "stream",
          "text": [
            "Sharpe Ratio = 3.404720308131209 \n",
            "\n",
            "MDD = 1191.8479488587466 \n",
            "\n",
            "           Date   Price  Label  ...  FinalCapital       ROR           DD\n",
            "0  Oct 26, 2019  179.62      0  ...  1.000000e+07  0.000000  1178.652085\n",
            "1  Oct 27, 2019  184.05      1  ...  1.000000e+07  0.000000  1178.652085\n",
            "2  Oct 28, 2019  181.67      0  ...  9.870687e+06 -1.293127  1179.945212\n",
            "3  Oct 29, 2019  190.45      1  ...  9.870687e+06 -1.293127  1179.945212\n",
            "4  Oct 30, 2019  183.25      1  ...  9.497524e+06 -5.024760  1183.676845\n",
            "\n",
            "[5 rows x 8 columns]\n"
          ],
          "name": "stdout"
        }
      ]
    },
    {
      "cell_type": "markdown",
      "metadata": {
        "id": "MxWzAQhNSnFq"
      },
      "source": [
        "## LR"
      ]
    },
    {
      "cell_type": "code",
      "metadata": {
        "colab": {
          "base_uri": "https://localhost:8080/"
        },
        "id": "tivrsf39d_sz",
        "outputId": "36173009-bac3-4d56-999a-c59eb7ae7909"
      },
      "source": [
        "df = pd.read_csv('eth_lr.csv', index_col=None, header=0)\n",
        "add_metrics(df, 'lr_eth', dataset_type='crypto')"
      ],
      "execution_count": 113,
      "outputs": [
        {
          "output_type": "stream",
          "text": [
            "Sharpe Ratio = 3.44735589798977 \n",
            "\n",
            "MDD = 274.30787753195256 \n",
            "\n",
            "           Date   Price  Label  ...  FinalCapital        ROR          DD\n",
            "0  Sep 23, 2019  201.18      1  ...  1.000000e+07   0.000000  248.326727\n",
            "1  Sep 24, 2019  166.29      0  ...  8.265732e+06 -17.342678  265.669405\n",
            "2  Sep 25, 2019  168.92      0  ...  8.265732e+06 -17.342678  265.669405\n",
            "3  Sep 26, 2019  164.56      0  ...  8.265732e+06 -17.342678  265.669405\n",
            "4  Sep 27, 2019  173.19      0  ...  8.265732e+06 -17.342678  265.669405\n",
            "\n",
            "[5 rows x 8 columns]\n"
          ],
          "name": "stdout"
        }
      ]
    },
    {
      "cell_type": "markdown",
      "metadata": {
        "id": "3VifWdQ-Soa7"
      },
      "source": [
        "## LR_beta"
      ]
    },
    {
      "cell_type": "code",
      "metadata": {
        "colab": {
          "base_uri": "https://localhost:8080/"
        },
        "id": "jCbbayzCeEId",
        "outputId": "9b7d41ca-c7da-4670-cd38-4678c6751b6b"
      },
      "source": [
        "df = pd.read_csv('eth_lr_beta.csv', index_col=None, header=0)\n",
        "add_metrics(df, 'lr_beta_eth', dataset_type='crypto')"
      ],
      "execution_count": 114,
      "outputs": [
        {
          "output_type": "stream",
          "text": [
            "Sharpe Ratio = 3.507922253225502 \n",
            "\n",
            "MDD = 480.50623204782 \n",
            "\n",
            "           Date   Price  Label  ...  FinalCapital       ROR          DD\n",
            "0  Oct 26, 2019  179.62      1  ...  1.000000e+07  0.000000  476.183678\n",
            "1  Oct 27, 2019  184.05      1  ...  1.024663e+07  2.466318  473.717360\n",
            "2  Oct 28, 2019  181.67      1  ...  1.011413e+07  1.141298  475.042380\n",
            "3  Oct 29, 2019  190.45      1  ...  1.060294e+07  6.029395  470.154283\n",
            "4  Oct 30, 2019  183.25      1  ...  1.020209e+07  2.020933  474.162745\n",
            "\n",
            "[5 rows x 8 columns]\n"
          ],
          "name": "stdout"
        }
      ]
    },
    {
      "cell_type": "markdown",
      "metadata": {
        "id": "MvkwSHgMTsX2"
      },
      "source": [
        "# BTC"
      ]
    },
    {
      "cell_type": "markdown",
      "metadata": {
        "id": "EVzQ4OtdTsX2"
      },
      "source": [
        "## LSTM"
      ]
    },
    {
      "cell_type": "code",
      "metadata": {
        "colab": {
          "base_uri": "https://localhost:8080/"
        },
        "id": "R1VV1EtueJbo",
        "outputId": "0c600a52-4612-4ec2-cad7-a4459edbc175"
      },
      "source": [
        "df = pd.read_csv('btc_lstm.csv', index_col=None, header=0)\n",
        "add_metrics(df, 'btc_lstm', dataset_type='crypto')"
      ],
      "execution_count": 80,
      "outputs": [
        {
          "output_type": "stream",
          "text": [
            "Sharpe Ratio = 3.809798735308035 \n",
            "\n",
            "MDD = 431.3285935178612 \n",
            "\n",
            "           Date   Price  Label  ... FinalCapital  ROR          DD\n",
            "0  Sep 23, 2019  9702.2      0  ...   10000000.0  0.0  407.518658\n",
            "1  Sep 24, 2019  8513.9      0  ...   10000000.0  0.0  407.518658\n",
            "2  Sep 25, 2019  8432.4      0  ...   10000000.0  0.0  407.518658\n",
            "3  Sep 26, 2019  8063.8      0  ...   10000000.0  0.0  407.518658\n",
            "4  Sep 27, 2019  8184.9      0  ...   10000000.0  0.0  407.518658\n",
            "\n",
            "[5 rows x 8 columns]\n"
          ],
          "name": "stdout"
        }
      ]
    },
    {
      "cell_type": "markdown",
      "metadata": {
        "id": "ZFjGV7aSTsX3"
      },
      "source": [
        "## LSTM_beta"
      ]
    },
    {
      "cell_type": "code",
      "metadata": {
        "colab": {
          "base_uri": "https://localhost:8080/"
        },
        "id": "QhjG54AxeNQ7",
        "outputId": "2225fbf1-0e99-429e-9048-a7cc9a1426ed"
      },
      "source": [
        "df = pd.read_csv('btc_lstm_beta.csv', index_col=None, header=0)\n",
        "add_metrics(df, 'btc_lstm_beta', dataset_type='crypto')"
      ],
      "execution_count": 81,
      "outputs": [
        {
          "output_type": "stream",
          "text": [
            "Sharpe Ratio = 3.376673354353754 \n",
            "\n",
            "MDD = 548.3083128759374 \n",
            "\n",
            "           Date   Price  Label  ...  FinalCapital       ROR          DD\n",
            "0  Oct 26, 2019  9230.6      1  ...  1.000000e+07  0.000000  526.273423\n",
            "1  Oct 27, 2019  9529.6      1  ...  1.032392e+07  3.239226  523.034197\n",
            "2  Oct 28, 2019  9207.2      1  ...  9.974650e+06 -0.253505  526.526928\n",
            "3  Oct 29, 2019  9411.3      1  ...  1.019576e+07  1.957619  524.315804\n",
            "4  Oct 30, 2019  9157.9      1  ...  9.921240e+06 -0.787598  527.061021\n",
            "\n",
            "[5 rows x 8 columns]\n"
          ],
          "name": "stdout"
        }
      ]
    },
    {
      "cell_type": "markdown",
      "metadata": {
        "id": "WCiHG3HyTsX3"
      },
      "source": [
        "## GRU"
      ]
    },
    {
      "cell_type": "code",
      "metadata": {
        "colab": {
          "base_uri": "https://localhost:8080/"
        },
        "id": "BUhqPVVQeQzO",
        "outputId": "db848e1c-97c7-4b85-94d3-248bf182aec0"
      },
      "source": [
        "df = pd.read_csv('btc_gru.csv', index_col=None, header=0)\n",
        "add_metrics(df, 'btc_gru', dataset_type='crypto')"
      ],
      "execution_count": 82,
      "outputs": [
        {
          "output_type": "stream",
          "text": [
            "Sharpe Ratio = 3.7482956517552646 \n",
            "\n",
            "MDD = 321.32557605512494 \n",
            "\n",
            "           Date   Price  Label  ... FinalCapital  ROR          DD\n",
            "0  Sep 23, 2019  9702.2      0  ...   10000000.0  0.0  299.266968\n",
            "1  Sep 24, 2019  8513.9      0  ...   10000000.0  0.0  299.266968\n",
            "2  Sep 25, 2019  8432.4      0  ...   10000000.0  0.0  299.266968\n",
            "3  Sep 26, 2019  8063.8      0  ...   10000000.0  0.0  299.266968\n",
            "4  Sep 27, 2019  8184.9      0  ...   10000000.0  0.0  299.266968\n",
            "\n",
            "[5 rows x 8 columns]\n"
          ],
          "name": "stdout"
        }
      ]
    },
    {
      "cell_type": "markdown",
      "metadata": {
        "id": "oUFLwJ4cTsX3"
      },
      "source": [
        "## GRU_beta"
      ]
    },
    {
      "cell_type": "code",
      "metadata": {
        "colab": {
          "base_uri": "https://localhost:8080/"
        },
        "id": "-JZ8N15meVCW",
        "outputId": "1a5e758a-8e5d-46e9-c808-59ffd690eef9"
      },
      "source": [
        "df = pd.read_csv('btc_gru_beta.csv', index_col=None, header=0)\n",
        "add_metrics(df, 'btc_gru_beta', dataset_type='crypto')"
      ],
      "execution_count": 83,
      "outputs": [
        {
          "output_type": "stream",
          "text": [
            "Sharpe Ratio = 3.632411060585891 \n",
            "\n",
            "MDD = 654.621810267529 \n",
            "\n",
            "           Date   Price  Label  ...  FinalCapital       ROR          DD\n",
            "0  Oct 26, 2019  9230.6      1  ...  1.000000e+07  0.000000  646.935358\n",
            "1  Oct 27, 2019  9529.6      1  ...  1.032392e+07  3.239226  643.696132\n",
            "2  Oct 28, 2019  9207.2      1  ...  9.974650e+06 -0.253505  647.188863\n",
            "3  Oct 29, 2019  9411.3      1  ...  1.019576e+07  1.957619  644.977739\n",
            "4  Oct 30, 2019  9157.9      1  ...  9.921240e+06 -0.787598  647.722956\n",
            "\n",
            "[5 rows x 8 columns]\n"
          ],
          "name": "stdout"
        }
      ]
    },
    {
      "cell_type": "markdown",
      "metadata": {
        "id": "3NczFcxpTsX3"
      },
      "source": [
        "## SVM"
      ]
    },
    {
      "cell_type": "code",
      "metadata": {
        "colab": {
          "base_uri": "https://localhost:8080/"
        },
        "id": "qGEPbuJzecUY",
        "outputId": "324d6c6f-2ada-4868-ee64-fe49196f90c7"
      },
      "source": [
        "df = pd.read_csv('btc_svm.csv', index_col=None, header=0)\n",
        "add_metrics(df, 'btc_svm', dataset_type='crypto')"
      ],
      "execution_count": 84,
      "outputs": [
        {
          "output_type": "stream",
          "text": [
            "Sharpe Ratio = 3.8237540656842155 \n",
            "\n",
            "MDD = 479.4620567597586 \n",
            "\n",
            "           Date   Price  Label  ... FinalCapital  ROR          DD\n",
            "0  Sep 23, 2019  9702.2      0  ...   10000000.0  0.0  449.552901\n",
            "1  Sep 24, 2019  8513.9      0  ...   10000000.0  0.0  449.552901\n",
            "2  Sep 25, 2019  8432.4      0  ...   10000000.0  0.0  449.552901\n",
            "3  Sep 26, 2019  8063.8      0  ...   10000000.0  0.0  449.552901\n",
            "4  Sep 27, 2019  8184.9      0  ...   10000000.0  0.0  449.552901\n",
            "\n",
            "[5 rows x 8 columns]\n"
          ],
          "name": "stdout"
        }
      ]
    },
    {
      "cell_type": "markdown",
      "metadata": {
        "id": "RtsbNLIiTsX4"
      },
      "source": [
        "## SVM_beta"
      ]
    },
    {
      "cell_type": "code",
      "metadata": {
        "colab": {
          "base_uri": "https://localhost:8080/"
        },
        "id": "RubcCRdTelTz",
        "outputId": "2d46c63e-efe0-49b1-dfc2-62177a81ed77"
      },
      "source": [
        "df = pd.read_csv('btc_svm_beta.csv', index_col=None, header=0)\n",
        "add_metrics(df, 'btc_svm_beta', dataset_type='crypto')"
      ],
      "execution_count": 85,
      "outputs": [
        {
          "output_type": "stream",
          "text": [
            "Sharpe Ratio = 3.7297932075479743 \n",
            "\n",
            "MDD = 795.4642192800382 \n",
            "\n",
            "           Date   Price  Label  ...  FinalCapital       ROR          DD\n",
            "0  Oct 26, 2019  9230.6      1  ...  1.000000e+07  0.000000  786.290886\n",
            "1  Oct 27, 2019  9529.6      1  ...  1.032392e+07  3.239226  783.051660\n",
            "2  Oct 28, 2019  9207.2      1  ...  9.974650e+06 -0.253505  786.544391\n",
            "3  Oct 29, 2019  9411.3      1  ...  1.019576e+07  1.957619  784.333267\n",
            "4  Oct 30, 2019  9157.9      1  ...  9.921240e+06 -0.787598  787.078484\n",
            "\n",
            "[5 rows x 8 columns]\n"
          ],
          "name": "stdout"
        }
      ]
    },
    {
      "cell_type": "markdown",
      "metadata": {
        "id": "yxYA3JDITsX5"
      },
      "source": [
        "## XGBoost"
      ]
    },
    {
      "cell_type": "code",
      "metadata": {
        "colab": {
          "base_uri": "https://localhost:8080/"
        },
        "id": "AlatoGTleqkY",
        "outputId": "78f9bc8f-36f2-4629-838c-5f32c3561728"
      },
      "source": [
        "df = pd.read_csv('btc_xgboost.csv', index_col=None, header=0)\n",
        "add_metrics(df, 'btc_xgboost', dataset_type='crypto')"
      ],
      "execution_count": 86,
      "outputs": [
        {
          "output_type": "stream",
          "text": [
            "Sharpe Ratio = 3.2580011261609307 \n",
            "\n",
            "MDD = 260.42304012103676 \n",
            "\n",
            "           Date   Price  Label  ...  FinalCapital        ROR          DD\n",
            "0  Sep 23, 2019  9702.2      1  ...  1.000000e+07   0.000000  230.120853\n",
            "1  Sep 24, 2019  8513.9      0  ...  8.775226e+06 -12.247738  242.368590\n",
            "2  Sep 25, 2019  8432.4      0  ...  8.775226e+06 -12.247738  242.368590\n",
            "3  Sep 26, 2019  8063.8      0  ...  8.775226e+06 -12.247738  242.368590\n",
            "4  Sep 27, 2019  8184.9      0  ...  8.775226e+06 -12.247738  242.368590\n",
            "\n",
            "[5 rows x 8 columns]\n"
          ],
          "name": "stdout"
        }
      ]
    },
    {
      "cell_type": "markdown",
      "metadata": {
        "id": "Eb2aaE4rTsX5"
      },
      "source": [
        "## XGBoost_beta"
      ]
    },
    {
      "cell_type": "code",
      "metadata": {
        "colab": {
          "base_uri": "https://localhost:8080/"
        },
        "id": "ZwbH23m9evGs",
        "outputId": "82d025f8-570a-4719-a720-afd6ccb3e09d"
      },
      "source": [
        "df = pd.read_csv('btc_xgboost_beta.csv', index_col=None, header=0)\n",
        "add_metrics(df, 'btc_xgboost_beta', dataset_type='crypto')"
      ],
      "execution_count": 87,
      "outputs": [
        {
          "output_type": "stream",
          "text": [
            "Sharpe Ratio = 3.8778674618549562 \n",
            "\n",
            "MDD = 630.2664386557992 \n",
            "\n",
            "           Date   Price  Label  ...  FinalCapital       ROR          DD\n",
            "0  Oct 26, 2019  9230.6      1  ...  1.000000e+07  0.000000  619.172122\n",
            "1  Oct 27, 2019  9529.6      1  ...  1.032392e+07  3.239226  615.932896\n",
            "2  Oct 28, 2019  9207.2      1  ...  9.974650e+06 -0.253505  619.425627\n",
            "3  Oct 29, 2019  9411.3      1  ...  1.019576e+07  1.957619  617.214503\n",
            "4  Oct 30, 2019  9157.9      1  ...  9.921240e+06 -0.787598  619.959720\n",
            "\n",
            "[5 rows x 8 columns]\n"
          ],
          "name": "stdout"
        }
      ]
    },
    {
      "cell_type": "markdown",
      "metadata": {
        "id": "sUNIAN74TsX5"
      },
      "source": [
        "## LR"
      ]
    },
    {
      "cell_type": "code",
      "metadata": {
        "colab": {
          "base_uri": "https://localhost:8080/"
        },
        "id": "Da-sIOx3eyjJ",
        "outputId": "406237b4-993a-4a13-e480-a1cb4257a2c2"
      },
      "source": [
        "df = pd.read_csv('btc_lr.csv', index_col=None, header=0)\n",
        "add_metrics(df, 'lr_btc', dataset_type='crypto')"
      ],
      "execution_count": 88,
      "outputs": [
        {
          "output_type": "stream",
          "text": [
            "Sharpe Ratio = 4.015205627780794 \n",
            "\n",
            "MDD = 518.5906464484673 \n",
            "\n",
            "           Date   Price  Label  ... FinalCapital  ROR          DD\n",
            "0  Sep 23, 2019  9702.2      0  ...   10000000.0  0.0  514.908891\n",
            "1  Sep 24, 2019  8513.9      0  ...   10000000.0  0.0  514.908891\n",
            "2  Sep 25, 2019  8432.4      0  ...   10000000.0  0.0  514.908891\n",
            "3  Sep 26, 2019  8063.8      0  ...   10000000.0  0.0  514.908891\n",
            "4  Sep 27, 2019  8184.9      0  ...   10000000.0  0.0  514.908891\n",
            "\n",
            "[5 rows x 8 columns]\n"
          ],
          "name": "stdout"
        }
      ]
    },
    {
      "cell_type": "markdown",
      "metadata": {
        "id": "McPXWCVtTsX5"
      },
      "source": [
        "## LR_beta"
      ]
    },
    {
      "cell_type": "code",
      "metadata": {
        "colab": {
          "base_uri": "https://localhost:8080/"
        },
        "id": "IWRmyvN3e_OX",
        "outputId": "cd3a8f5f-cd3b-4c19-ef31-84bf19f83a45"
      },
      "source": [
        "df = pd.read_csv('btc_lr_beta.csv', index_col=None, header=0)\n",
        "add_metrics(df, 'lr_beta_btc', dataset_type='crypto')"
      ],
      "execution_count": 89,
      "outputs": [
        {
          "output_type": "stream",
          "text": [
            "Sharpe Ratio = 3.429361795358306 \n",
            "\n",
            "MDD = 481.7064172882153 \n",
            "\n",
            "           Date   Price  Label  ...  FinalCapital       ROR          DD\n",
            "0  Oct 26, 2019  9230.6      1  ...  1.000000e+07  0.000000  473.910811\n",
            "1  Oct 27, 2019  9529.6      1  ...  1.032392e+07  3.239226  470.671585\n",
            "2  Oct 28, 2019  9207.2      1  ...  9.974650e+06 -0.253505  474.164316\n",
            "3  Oct 29, 2019  9411.3      1  ...  1.019576e+07  1.957619  471.953192\n",
            "4  Oct 30, 2019  9157.9      1  ...  9.921240e+06 -0.787598  474.698409\n",
            "\n",
            "[5 rows x 8 columns]\n"
          ],
          "name": "stdout"
        }
      ]
    },
    {
      "cell_type": "markdown",
      "metadata": {
        "id": "ju7vo1ABVa3D"
      },
      "source": [
        "# ADA"
      ]
    },
    {
      "cell_type": "markdown",
      "metadata": {
        "id": "J6ZqeAiSVa3L"
      },
      "source": [
        "## LSTM"
      ]
    },
    {
      "cell_type": "code",
      "metadata": {
        "colab": {
          "base_uri": "https://localhost:8080/"
        },
        "id": "WMy0jx2lfHX6",
        "outputId": "9fbe2227-a132-4578-a52a-f17e7b3aa6be"
      },
      "source": [
        "df = pd.read_csv('ada_lstm.csv', index_col=None, header=0)\n",
        "add_metrics(df, 'ada_lstm', dataset_type='crypto')"
      ],
      "execution_count": 90,
      "outputs": [
        {
          "output_type": "stream",
          "text": [
            "Sharpe Ratio = 2.307233080127314 \n",
            "\n",
            "MDD = 876.8196272214105 \n",
            "\n",
            "           Date     Price  Label  ...  FinalCapital        ROR          DD\n",
            "0  Mar 20, 2020  0.029467      0  ...  1.000000e+07   0.000000  876.819627\n",
            "1  Mar 21, 2020  0.029447      0  ...  1.000000e+07   0.000000  876.819627\n",
            "2  Mar 22, 2020  0.027042      1  ...  1.000000e+07   0.000000  876.819627\n",
            "3  Mar 23, 2020  0.029253      1  ...  1.081762e+07   8.176170  868.643457\n",
            "4  Mar 24, 2020  0.030229      1  ...  1.117854e+07  11.785371  865.034256\n",
            "\n",
            "[5 rows x 8 columns]\n"
          ],
          "name": "stdout"
        }
      ]
    },
    {
      "cell_type": "markdown",
      "metadata": {
        "id": "k6RFLTBEVa3L"
      },
      "source": [
        "## LSTM_beta"
      ]
    },
    {
      "cell_type": "code",
      "metadata": {
        "colab": {
          "base_uri": "https://localhost:8080/"
        },
        "id": "k5L4TlcffO9O",
        "outputId": "01bac28f-e1c0-44e1-b8fb-d98e4621e0cb"
      },
      "source": [
        "df = pd.read_csv('ada_lstm_beta.csv', index_col=None, header=0)\n",
        "add_metrics(df, 'ada_lstm_beta', dataset_type='crypto')"
      ],
      "execution_count": 91,
      "outputs": [
        {
          "output_type": "stream",
          "text": [
            "Sharpe Ratio = 2.033385305409672 \n",
            "\n",
            "MDD = 738.9708330141792 \n",
            "\n",
            "           Date     Price  Label  ...  FinalCapital        ROR          DD\n",
            "0  Apr 22, 2020  0.036625      1  ...  1.000000e+07   0.000000  738.970833\n",
            "1  Apr 23, 2020  0.040833      1  ...  1.114894e+07  11.489420  727.481413\n",
            "2  Apr 24, 2020  0.041655      1  ...  1.137338e+07  13.733788  725.237045\n",
            "3  Apr 25, 2020  0.042239      1  ...  1.153283e+07  15.328328  723.642505\n",
            "4  Apr 26, 2020  0.045936      1  ...  1.254225e+07  25.422526  713.548307\n",
            "\n",
            "[5 rows x 8 columns]\n"
          ],
          "name": "stdout"
        }
      ]
    },
    {
      "cell_type": "markdown",
      "metadata": {
        "id": "mkCUs0vIVa3M"
      },
      "source": [
        "## GRU"
      ]
    },
    {
      "cell_type": "code",
      "metadata": {
        "colab": {
          "base_uri": "https://localhost:8080/"
        },
        "id": "5pE4C4w2fWEX",
        "outputId": "cc4b74b1-48e1-4f9b-eaea-314e3a605fd3"
      },
      "source": [
        "df = pd.read_csv('ada_gru.csv', index_col=None, header=0)\n",
        "add_metrics(df, 'ada_gru', dataset_type='crypto')"
      ],
      "execution_count": 92,
      "outputs": [
        {
          "output_type": "stream",
          "text": [
            "Sharpe Ratio = 2.0623727417460964 \n",
            "\n",
            "MDD = 845.6585837142256 \n",
            "\n",
            "           Date     Price  Label  ...  FinalCapital       ROR          DD\n",
            "0  Mar 20, 2020  0.029467      0  ...  1.000000e+07  0.000000  837.491368\n",
            "1  Mar 21, 2020  0.029447      1  ...  1.000000e+07  0.000000  837.491368\n",
            "2  Mar 22, 2020  0.027042      1  ...  9.183278e+06 -8.167216  845.658584\n",
            "3  Mar 23, 2020  0.029253      1  ...  9.934119e+06 -0.658811  838.150179\n",
            "4  Mar 24, 2020  0.030229      1  ...  1.026556e+07  2.655619  834.835749\n",
            "\n",
            "[5 rows x 8 columns]\n"
          ],
          "name": "stdout"
        }
      ]
    },
    {
      "cell_type": "markdown",
      "metadata": {
        "id": "UeESzV7IVa3M"
      },
      "source": [
        "## GRU_beta"
      ]
    },
    {
      "cell_type": "code",
      "metadata": {
        "colab": {
          "base_uri": "https://localhost:8080/"
        },
        "id": "0JHvp6OsfdQR",
        "outputId": "cd06b54d-a8f8-4589-8d5a-3b1ee5bc8383"
      },
      "source": [
        "df = pd.read_csv('ada_gru_beta.csv', index_col=None, header=0)\n",
        "add_metrics(df, 'ada_gru_beta', dataset_type='crypto')"
      ],
      "execution_count": 93,
      "outputs": [
        {
          "output_type": "stream",
          "text": [
            "Sharpe Ratio = 1.6967423792975698 \n",
            "\n",
            "MDD = 632.825984902851 \n",
            "\n",
            "           Date     Price  Label  ...  FinalCapital        ROR          DD\n",
            "0  Apr 22, 2020  0.036625      0  ...  1.000000e+07   0.000000  632.825985\n",
            "1  Apr 23, 2020  0.040833      1  ...  1.000000e+07   0.000000  632.825985\n",
            "2  Apr 24, 2020  0.041655      1  ...  1.020131e+07   2.013078  630.812907\n",
            "3  Apr 25, 2020  0.042239      1  ...  1.034433e+07   3.443293  629.382691\n",
            "4  Apr 26, 2020  0.045936      1  ...  1.124972e+07  12.497245  620.328740\n",
            "\n",
            "[5 rows x 8 columns]\n"
          ],
          "name": "stdout"
        }
      ]
    },
    {
      "cell_type": "markdown",
      "metadata": {
        "id": "Now_qu3_Va3M"
      },
      "source": [
        "## SVM"
      ]
    },
    {
      "cell_type": "code",
      "metadata": {
        "colab": {
          "base_uri": "https://localhost:8080/"
        },
        "id": "jYmIy5NofjZX",
        "outputId": "7716f3d4-fd36-4261-eda0-5a64fb143bb1"
      },
      "source": [
        "df = pd.read_csv('ada_svm.csv', index_col=None, header=0)\n",
        "add_metrics(df, 'ada_svm', dataset_type='crypto')"
      ],
      "execution_count": 94,
      "outputs": [
        {
          "output_type": "stream",
          "text": [
            "Sharpe Ratio = 2.8302430653225743 \n",
            "\n",
            "MDD = 1244.180237445018 \n",
            "\n",
            "           Date     Price  Label  ...  FinalCapital        ROR           DD\n",
            "0  Mar 20, 2020  0.029467      0  ...  1.000000e+07   0.000000  1239.731656\n",
            "1  Mar 21, 2020  0.029447      0  ...  1.000000e+07   0.000000  1239.731656\n",
            "2  Mar 22, 2020  0.027042      1  ...  1.000000e+07   0.000000  1239.731656\n",
            "3  Mar 23, 2020  0.029253      1  ...  1.081762e+07   8.176170  1231.555486\n",
            "4  Mar 24, 2020  0.030229      1  ...  1.117854e+07  11.785371  1227.946285\n",
            "\n",
            "[5 rows x 8 columns]\n"
          ],
          "name": "stdout"
        }
      ]
    },
    {
      "cell_type": "markdown",
      "metadata": {
        "id": "g9I2MTkmVa3M"
      },
      "source": [
        "## SVM_beta"
      ]
    },
    {
      "cell_type": "code",
      "metadata": {
        "colab": {
          "base_uri": "https://localhost:8080/"
        },
        "id": "w-sURm0ifopg",
        "outputId": "dcc300b9-ca62-4f39-a8aa-20cecd723db1"
      },
      "source": [
        "df = pd.read_csv('ada_svm_beta.csv', index_col=None, header=0)\n",
        "add_metrics(df, 'ada_svm_beta', dataset_type='crypto')"
      ],
      "execution_count": 95,
      "outputs": [
        {
          "output_type": "stream",
          "text": [
            "Sharpe Ratio = 1.3538607742800548 \n",
            "\n",
            "MDD = 212.36128123253985 \n",
            "\n",
            "           Date     Price  Label  ...  FinalCapital        ROR          DD\n",
            "0  Apr 22, 2020  0.036625      1  ...  1.000000e+07   0.000000  212.361281\n",
            "1  Apr 23, 2020  0.040833      1  ...  1.114894e+07  11.489420  200.871861\n",
            "2  Apr 24, 2020  0.041655      1  ...  1.137338e+07  13.733788  198.627493\n",
            "3  Apr 25, 2020  0.042239      1  ...  1.153283e+07  15.328328  197.032954\n",
            "4  Apr 26, 2020  0.045936      1  ...  1.254225e+07  25.422526  186.938756\n",
            "\n",
            "[5 rows x 8 columns]\n"
          ],
          "name": "stdout"
        }
      ]
    },
    {
      "cell_type": "markdown",
      "metadata": {
        "id": "gZkFycJFVa3M"
      },
      "source": [
        "## XGBoost"
      ]
    },
    {
      "cell_type": "code",
      "metadata": {
        "colab": {
          "base_uri": "https://localhost:8080/"
        },
        "id": "fX3TkA_hfuo-",
        "outputId": "44a6dca9-84bc-4fe8-d7ea-81327c370c80"
      },
      "source": [
        "df = pd.read_csv('ada_xgboost.csv', index_col=None, header=0)\n",
        "add_metrics(df, 'ada_xgboost', dataset_type='crypto')"
      ],
      "execution_count": 96,
      "outputs": [
        {
          "output_type": "stream",
          "text": [
            "Sharpe Ratio = 2.3781045227652844 \n",
            "\n",
            "MDD = 939.5698823942264 \n",
            "\n",
            "           Date     Price  Label  ...  FinalCapital       ROR          DD\n",
            "0  Mar 20, 2020  0.029467      0  ...  1.000000e+07  0.000000  931.402667\n",
            "1  Mar 21, 2020  0.029447      1  ...  1.000000e+07  0.000000  931.402667\n",
            "2  Mar 22, 2020  0.027042      1  ...  9.183278e+06 -8.167216  939.569882\n",
            "3  Mar 23, 2020  0.029253      1  ...  9.934119e+06 -0.658811  932.061477\n",
            "4  Mar 24, 2020  0.030229      1  ...  1.026556e+07  2.655619  928.747048\n",
            "\n",
            "[5 rows x 8 columns]\n"
          ],
          "name": "stdout"
        }
      ]
    },
    {
      "cell_type": "markdown",
      "metadata": {
        "id": "JecBa4vUVa3N"
      },
      "source": [
        "## XGBoost_beta"
      ]
    },
    {
      "cell_type": "code",
      "metadata": {
        "colab": {
          "base_uri": "https://localhost:8080/"
        },
        "id": "RpBYWitbfzVa",
        "outputId": "7fe7721e-6939-4aa3-b8d6-8fcdab446f70"
      },
      "source": [
        "df = pd.read_csv('ada_xgboost_beta.csv', index_col=None, header=0)\n",
        "add_metrics(df, 'ada_xgboost_beta', dataset_type='crypto')"
      ],
      "execution_count": 97,
      "outputs": [
        {
          "output_type": "stream",
          "text": [
            "Sharpe Ratio = 1.9609119831855892 \n",
            "\n",
            "MDD = 875.3206063707729 \n",
            "\n",
            "           Date     Price  Label  ...  FinalCapital        ROR          DD\n",
            "0  Apr 22, 2020  0.036625      1  ...  1.000000e+07   0.000000  875.320606\n",
            "1  Apr 23, 2020  0.040833      1  ...  1.114894e+07  11.489420  863.831187\n",
            "2  Apr 24, 2020  0.041655      1  ...  1.137338e+07  13.733788  861.586818\n",
            "3  Apr 25, 2020  0.042239      1  ...  1.153283e+07  15.328328  859.992279\n",
            "4  Apr 26, 2020  0.045936      1  ...  1.254225e+07  25.422526  849.898081\n",
            "\n",
            "[5 rows x 8 columns]\n"
          ],
          "name": "stdout"
        }
      ]
    },
    {
      "cell_type": "markdown",
      "metadata": {
        "id": "yy0KeX5mVa3N"
      },
      "source": [
        "## LR"
      ]
    },
    {
      "cell_type": "code",
      "metadata": {
        "colab": {
          "base_uri": "https://localhost:8080/"
        },
        "id": "5ImMSEzOf9KM",
        "outputId": "f8f0eb3e-b09f-4bca-b111-ac74c08be001"
      },
      "source": [
        "df = pd.read_csv('ada_lr.csv', index_col=None, header=0)\n",
        "add_metrics(df, 'lr_ada', dataset_type='crypto')"
      ],
      "execution_count": 98,
      "outputs": [
        {
          "output_type": "stream",
          "text": [
            "Sharpe Ratio = 1.98248856998393 \n",
            "\n",
            "MDD = 717.1336818371972 \n",
            "\n",
            "           Date     Price  Label  ... FinalCapital  ROR          DD\n",
            "0  Mar 20, 2020  0.029467      0  ...   10000000.0  0.0  705.286399\n",
            "1  Mar 21, 2020  0.029447      0  ...   10000000.0  0.0  705.286399\n",
            "2  Mar 22, 2020  0.027042      0  ...   10000000.0  0.0  705.286399\n",
            "3  Mar 23, 2020  0.029253      0  ...   10000000.0  0.0  705.286399\n",
            "4  Mar 24, 2020  0.030229      1  ...   10000000.0  0.0  705.286399\n",
            "\n",
            "[5 rows x 8 columns]\n"
          ],
          "name": "stdout"
        }
      ]
    },
    {
      "cell_type": "markdown",
      "metadata": {
        "id": "-S9RZHo7Va3N"
      },
      "source": [
        "## LR_beta"
      ]
    },
    {
      "cell_type": "code",
      "metadata": {
        "colab": {
          "base_uri": "https://localhost:8080/"
        },
        "id": "9b3FOCe_gBDf",
        "outputId": "c1f7ba81-8f36-4635-d5b8-25dd377b3e25"
      },
      "source": [
        "df = pd.read_csv('ada_lr_beta.csv', index_col=None, header=0)\n",
        "add_metrics(df, 'lr_beta_ada', dataset_type='crypto')"
      ],
      "execution_count": 99,
      "outputs": [
        {
          "output_type": "stream",
          "text": [
            "Sharpe Ratio = 2.1237090873219127 \n",
            "\n",
            "MDD = 712.9448358420426 \n",
            "\n",
            "           Date     Price  Label  ...  FinalCapital        ROR          DD\n",
            "0  Apr 22, 2020  0.036625      0  ...  1.000000e+07   0.000000  712.944836\n",
            "1  Apr 23, 2020  0.040833      1  ...  1.000000e+07   0.000000  712.944836\n",
            "2  Apr 24, 2020  0.041655      1  ...  1.020131e+07   2.013078  710.931758\n",
            "3  Apr 25, 2020  0.042239      1  ...  1.034433e+07   3.443293  709.501542\n",
            "4  Apr 26, 2020  0.045936      1  ...  1.124972e+07  12.497245  700.447591\n",
            "\n",
            "[5 rows x 8 columns]\n"
          ],
          "name": "stdout"
        }
      ]
    },
    {
      "cell_type": "markdown",
      "metadata": {
        "id": "KyRBsM6ev6kM"
      },
      "source": [
        "# Visualization"
      ]
    },
    {
      "cell_type": "code",
      "metadata": {
        "id": "_nzcyAb7wgci"
      },
      "source": [
        "import matplotlib.pyplot as plt\n",
        "import numpy as np\n",
        "import pandas as pd"
      ],
      "execution_count": 100,
      "outputs": []
    },
    {
      "cell_type": "code",
      "metadata": {
        "id": "r9mEM_RnYnAN"
      },
      "source": [
        "import glob\n",
        "from dateutil import parser\n",
        "\n",
        "path = r'/content' \n",
        "all_files = glob.glob(path + \"/*.csv\")\n",
        "\n",
        "df_dict = {}\n",
        "\n",
        "for filename in all_files:\n",
        "    key = filename.split('/')[len(filename.split('/')) -1 ].split('.')[0]\n",
        "    df = pd.read_csv(filename, index_col=None, header=0)\n",
        "    df_dict[key] = df\n",
        "\n"
      ],
      "execution_count": 116,
      "outputs": []
    },
    {
      "cell_type": "code",
      "metadata": {
        "id": "kIDuHFwDY5Op"
      },
      "source": [
        "def visualize_ror(df_dict, dataset_name, is_beta=False):\n",
        "    date_list = []\n",
        "    methods = ['lstm', 'gru', 'svm', 'lr', 'xgboost']\n",
        "    date_key = 'lstm_' + dataset_name + '_metrics'\n",
        "    for date in df_dict[date_key].Date:\n",
        "        date_list.append(parser.parse(date))\n",
        "    plt.figure(figsize=(8, 6))\n",
        "    for method in methods:\n",
        "        key = method + '_' + dataset_name + '_metrics'\n",
        "        if is_beta:\n",
        "            method = method + ' beta'\n",
        "        plt.plot(date_list, df_dict[key].ROR, label = method.upper())\n",
        "    title = 'ROR on '+ dataset_name\n",
        "    plt.title(title)\n",
        "    plt.legend()\n",
        "    plt.show()"
      ],
      "execution_count": 150,
      "outputs": []
    },
    {
      "cell_type": "code",
      "metadata": {
        "id": "5e2LcPkij6G5"
      },
      "source": [
        "def visualize_dd(df_dict, dataset_name, is_beta=False):\n",
        "    date_list = []\n",
        "    methods = ['lstm', 'gru', 'svm', 'lr', 'xgboost']\n",
        "    date_key = 'lstm_' + dataset_name + '_metrics'\n",
        "    for date in df_dict[date_key].Date:\n",
        "        date_list.append(parser.parse(date))\n",
        "    plt.figure(figsize=(8, 6))\n",
        "    for method in methods:\n",
        "        key = method + '_' + dataset_name + '_metrics'\n",
        "        if is_beta:\n",
        "            method = method + ' beta'\n",
        "        plt.plot(date_list, df_dict[key].DD, label = method.upper())\n",
        "    title = 'DD on '+ dataset_name\n",
        "    plt.title(title)\n",
        "    plt.legend()\n",
        "    plt.show()"
      ],
      "execution_count": 151,
      "outputs": []
    },
    {
      "cell_type": "markdown",
      "metadata": {
        "id": "CmXoVJnRzcZm"
      },
      "source": [
        "## china_001"
      ]
    },
    {
      "cell_type": "code",
      "metadata": {
        "colab": {
          "base_uri": "https://localhost:8080/",
          "height": 390
        },
        "id": "zSduG416gIPv",
        "outputId": "af43ebef-1c0a-47de-8014-659a89b7ac8a"
      },
      "source": [
        "visualize_ror(df_dict, '001')"
      ],
      "execution_count": 139,
      "outputs": [
        {
          "output_type": "display_data",
          "data": {
            "image/png": "[encoded data removed]",
            "text/plain": [
              "<Figure size 576x432 with 1 Axes>"
            ]
          },
          "metadata": {
            "tags": [],
            "needs_background": "light"
          }
        }
      ]
    },
    {
      "cell_type": "code",
      "metadata": {
        "id": "MsR-piHb5e7b",
        "colab": {
          "base_uri": "https://localhost:8080/",
          "height": 390
        },
        "outputId": "1b735571-7bf6-4030-8320-cf6e55a6535c"
      },
      "source": [
        "visualize_dd(df_dict, '001')"
      ],
      "execution_count": 142,
      "outputs": [
        {
          "output_type": "display_data",
          "data": {
            "image/png": "[encoded data removed]",
            "text/plain": [
              "<Figure size 576x432 with 1 Axes>"
            ]
          },
          "metadata": {
            "tags": [],
            "needs_background": "light"
          }
        }
      ]
    },
    {
      "cell_type": "code",
      "metadata": {
        "colab": {
          "base_uri": "https://localhost:8080/",
          "height": 390
        },
        "id": "R-ghErEB89Dg",
        "outputId": "dc631162-41d4-494f-85b2-38dc4ca811e5"
      },
      "source": [
        "visualize_ror(df_dict, 'beta_001', True)"
      ],
      "execution_count": 143,
      "outputs": [
        {
          "output_type": "display_data",
          "data": {
            "image/png": "[encoded data removed]",
            "text/plain": [
              "<Figure size 576x432 with 1 Axes>"
            ]
          },
          "metadata": {
            "tags": [],
            "needs_background": "light"
          }
        }
      ]
    },
    {
      "cell_type": "code",
      "metadata": {
        "colab": {
          "base_uri": "https://localhost:8080/",
          "height": 390
        },
        "id": "gIJQpGu6cRrS",
        "outputId": "bba8566e-0786-4b25-8fe2-3a07efc1c004"
      },
      "source": [
        "visualize_dd(df_dict, 'beta_001', True)"
      ],
      "execution_count": 144,
      "outputs": [
        {
          "output_type": "display_data",
          "data": {
            "image/png": "[encoded data removed]",
            "text/plain": [
              "<Figure size 576x432 with 1 Axes>"
            ]
          },
          "metadata": {
            "tags": [],
            "needs_background": "light"
          }
        }
      ]
    },
    {
      "cell_type": "markdown",
      "metadata": {
        "id": "JAE25E3S1UmZ"
      },
      "source": [
        "## ETH"
      ]
    },
    {
      "cell_type": "code",
      "metadata": {
        "colab": {
          "base_uri": "https://localhost:8080/",
          "height": 390
        },
        "id": "AqIESHbpjcVK",
        "outputId": "7af8c651-c042-474a-f61d-22c9e959f76a"
      },
      "source": [
        "visualize_ror(df_dict, 'eth')"
      ],
      "execution_count": 126,
      "outputs": [
        {
          "output_type": "display_data",
          "data": {
            "image/png": "[encoded data removed]",
            "text/plain": [
              "<Figure size 576x432 with 1 Axes>"
            ]
          },
          "metadata": {
            "tags": [],
            "needs_background": "light"
          }
        }
      ]
    },
    {
      "cell_type": "code",
      "metadata": {
        "colab": {
          "base_uri": "https://localhost:8080/",
          "height": 390
        },
        "id": "_A6_eBDBkC-A",
        "outputId": "2231b0ad-89ad-4dee-f64d-03cbe34c932d"
      },
      "source": [
        "visualize_dd(df_dict, 'eth')"
      ],
      "execution_count": 127,
      "outputs": [
        {
          "output_type": "display_data",
          "data": {
            "image/png": "[encoded data removed]",
            "text/plain": [
              "<Figure size 576x432 with 1 Axes>"
            ]
          },
          "metadata": {
            "tags": [],
            "needs_background": "light"
          }
        }
      ]
    },
    {
      "cell_type": "code",
      "metadata": {
        "colab": {
          "base_uri": "https://localhost:8080/",
          "height": 390
        },
        "id": "mNKs4vNPkaDK",
        "outputId": "4520ce8b-1031-44cc-c21b-a9188549e3ec"
      },
      "source": [
        "visualize_ror(df_dict, 'beta_eth', True)"
      ],
      "execution_count": 129,
      "outputs": [
        {
          "output_type": "display_data",
          "data": {
            "image/png": "[encoded data removed]",
            "text/plain": [
              "<Figure size 576x432 with 1 Axes>"
            ]
          },
          "metadata": {
            "tags": [],
            "needs_background": "light"
          }
        }
      ]
    },
    {
      "cell_type": "code",
      "metadata": {
        "colab": {
          "base_uri": "https://localhost:8080/",
          "height": 390
        },
        "id": "wwZvq3k1mL3s",
        "outputId": "22157d88-220b-49f5-a26e-2dc942288dbb"
      },
      "source": [
        "visualize_dd(df_dict, 'beta_eth', True)"
      ],
      "execution_count": 133,
      "outputs": [
        {
          "output_type": "display_data",
          "data": {
            "image/png": "[encoded data removed]",
            "text/plain": [
              "<Figure size 576x432 with 1 Axes>"
            ]
          },
          "metadata": {
            "tags": [],
            "needs_background": "light"
          }
        }
      ]
    },
    {
      "cell_type": "code",
      "metadata": {
        "id": "fwcC-MY42Jpz"
      },
      "source": [
        ""
      ],
      "execution_count": null,
      "outputs": []
    }
  ]
}