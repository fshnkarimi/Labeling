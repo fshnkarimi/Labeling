{
  "nbformat": 4,
  "nbformat_minor": 0,
  "metadata": {
    "colab": {
      "name": "Buy&Hold.ipynb",
      "provenance": [],
      "collapsed_sections": [],
      "toc_visible": true,
      "include_colab_link": true
    },
    "kernelspec": {
      "display_name": "Python 3",
      "name": "python3"
    },
    "language_info": {
      "name": "python"
    }
  },
  "cells": [
    {
      "cell_type": "markdown",
      "metadata": {
        "id": "view-in-github",
        "colab_type": "text"
      },
      "source": [
        "<a href=\"https://colab.research.google.com/github/fshnkarimi/Labeling/blob/main/Buy%26Hold.ipynb\" target=\"_parent\"><img src=\"https://colab.research.google.com/assets/colab-badge.svg\" alt=\"Open In Colab\"/></a>"
      ]
    },
    {
      "cell_type": "code",
      "metadata": {
        "id": "2BvXSh-icaqm"
      },
      "source": [
        "import pandas as pd\n",
        "import numpy as np\n",
        "import matplotlib.pyplot as plt\n",
        "import seaborn as sns\n",
        "import warnings\n",
        "warnings.filterwarnings(\"ignore\")"
      ],
      "execution_count": null,
      "outputs": []
    },
    {
      "cell_type": "code",
      "metadata": {
        "id": "7avqG2EgIT1e"
      },
      "source": [
        "def buy_and_hold(df, InitialCapital):\n",
        "    \n",
        "    capital = InitialCapital\n",
        "    stock = 0\n",
        "    old_trend = new_trend = df.Label[0]\n",
        "    final_capitals = []\n",
        "\n",
        "    for i in range(df.Label.count()):\n",
        "        new_trend = df.Label[i]\n",
        "        \n",
        "        if new_trend == 1 and capital != 0:\n",
        "          # Buy\n",
        "          stock = capital / df.Price[i]\n",
        "          capital = 0\n",
        "          df['Trade Signal'][i] = 'Buy'\n",
        "          df['Number of Shares'][i] = \"{0:0.2f}\".format(stock)\n",
        "\n",
        "        elif new_trend != old_trend and new_trend == 0:\n",
        "            # sell\n",
        "            if stock != 0:\n",
        "                capital = stock * df.Price[i]\n",
        "                stock = 0\n",
        "                df['Trade Signal'][i] = 'Sell'\n",
        "                df['Number of Shares'][i] = '0'\n",
        "        else:\n",
        "            if i != 0:\n",
        "                df['Number of Shares'][i] = df['Number of Shares'][i-1] \n",
        "\n",
        "        if capital != 0:\n",
        "            final_capitals.append(capital)\n",
        "        else:\n",
        "            final_capitals.append(stock * df.Price[i])\n",
        "\n",
        "        old_trend = df.Label[i]\n",
        "    \n",
        "    df = df.assign(FinalCapital=pd.Series(final_capitals))\n",
        "    return df"
      ],
      "execution_count": null,
      "outputs": []
    },
    {
      "cell_type": "code",
      "metadata": {
        "id": "dbtbSIg1aAY0"
      },
      "source": [
        "def ROR(df, InitialCapital):\n",
        "    ROR_list = []\n",
        "    for capital in df.FinalCapital:\n",
        "        ror = (df.FinalCapital - InitialCapital)/ InitialCapital * 100\n",
        "        ROR_list.append(ror)\n",
        "    df = df.assign(ROR=pd.Series(df.FinalCapital - InitialCapital)/ InitialCapital * 100)\n",
        "    return df"
      ],
      "execution_count": null,
      "outputs": []
    },
    {
      "cell_type": "code",
      "metadata": {
        "id": "0VZ2WZLNn-hY"
      },
      "source": [
        "def DD(df):\n",
        "    max_ror = max(df.ROR)\n",
        "    DD_list = []\n",
        "    for ror in df.ROR:\n",
        "      DD_list.append(max_ror - ror)\n",
        "    df = df.assign(DD=pd.Series(DD_list))\n",
        "    return df"
      ],
      "execution_count": null,
      "outputs": []
    },
    {
      "cell_type": "code",
      "metadata": {
        "id": "fj0QNC_-v7m0"
      },
      "source": [
        "# Sharpe Ratio\n",
        "def sharpe_ratio(df):\n",
        "    R = df.ROR[-1:].values[0]\n",
        "    sr = R / df.ROR.std()\n",
        "    return sr"
      ],
      "execution_count": null,
      "outputs": []
    },
    {
      "cell_type": "code",
      "metadata": {
        "id": "cl7fAhOPbw3m"
      },
      "source": [
        "def metrics(df, InitialCapital):\n",
        "    df = buy_and_hold(df_new, InitialCapital)\n",
        "    df = ROR(df, InitialCapital)\n",
        "    df = DD(df)\n",
        "    MDD = max(df.DD)\n",
        "    sr = sharpe_ratio(df)\n",
        "    print(f\"Sharpe Ratio = {sr} \\n\")\n",
        "    print(f\"MDD = {MDD} \\n\")\n",
        "    return df"
      ],
      "execution_count": null,
      "outputs": []
    },
    {
      "cell_type": "code",
      "metadata": {
        "colab": {
          "base_uri": "https://localhost:8080/"
        },
        "id": "WjmSWxAM6wvg",
        "outputId": "b65f86c2-90e6-4eeb-cad3-6808d22005d7"
      },
      "source": [
        "InitialCapital = 10e6\n",
        "InitialCapital"
      ],
      "execution_count": null,
      "outputs": [
        {
          "output_type": "execute_result",
          "data": {
            "text/plain": [
              "10000000.0"
            ]
          },
          "metadata": {
            "tags": []
          },
          "execution_count": 7
        }
      ]
    },
    {
      "cell_type": "markdown",
      "metadata": {
        "id": "b4asi7HVd6yD"
      },
      "source": [
        "# Tesla"
      ]
    },
    {
      "cell_type": "markdown",
      "metadata": {
        "id": "xC4kqqSUJcXc"
      },
      "source": [
        "## LSTM"
      ]
    },
    {
      "cell_type": "code",
      "metadata": {
        "colab": {
          "base_uri": "https://localhost:8080/",
          "height": 487
        },
        "id": "SKxE738zcIyB",
        "outputId": "8ffe2a07-d408-4604-9ee1-4826807b46c2"
      },
      "source": [
        "df = pd.read_csv('Tesla_lstm.csv')\n",
        "\n",
        "data = {'Date': df['Date'], 'Price': df['Close/Last'],\n",
        "        'Label': df['labels'], 'Trade Signal': '', 'Number of Shares': '0'}\n",
        "df_new = pd.DataFrame(data)\n",
        "\n",
        "tesla_lstm_metrics = metrics(df_new, InitialCapital)\n",
        "tesla_lstm_metrics.to_csv('Tesla_lstm_metrics.csv')\n",
        "tesla_lstm_metrics"
      ],
      "execution_count": null,
      "outputs": [
        {
          "output_type": "stream",
          "text": [
            "Sharpe Ratio = -0.34001063747069965 \n",
            "\n",
            "MDD = 67.29102965570883 \n",
            "\n"
          ],
          "name": "stdout"
        },
        {
          "output_type": "execute_result",
          "data": {
            "text/html": [
              "<div>\n",
              "<style scoped>\n",
              "    .dataframe tbody tr th:only-of-type {\n",
              "        vertical-align: middle;\n",
              "    }\n",
              "\n",
              "    .dataframe tbody tr th {\n",
              "        vertical-align: top;\n",
              "    }\n",
              "\n",
              "    .dataframe thead th {\n",
              "        text-align: right;\n",
              "    }\n",
              "</style>\n",
              "<table border=\"1\" class=\"dataframe\">\n",
              "  <thead>\n",
              "    <tr style=\"text-align: right;\">\n",
              "      <th></th>\n",
              "      <th>Date</th>\n",
              "      <th>Price</th>\n",
              "      <th>Label</th>\n",
              "      <th>Trade Signal</th>\n",
              "      <th>Number of Shares</th>\n",
              "      <th>FinalCapital</th>\n",
              "      <th>ROR</th>\n",
              "      <th>DD</th>\n",
              "    </tr>\n",
              "  </thead>\n",
              "  <tbody>\n",
              "    <tr>\n",
              "      <th>0</th>\n",
              "      <td>05/26/2016</td>\n",
              "      <td>45.024</td>\n",
              "      <td>1</td>\n",
              "      <td>Buy</td>\n",
              "      <td>222103.77</td>\n",
              "      <td>1.000000e+07</td>\n",
              "      <td>0.000000</td>\n",
              "      <td>42.295151</td>\n",
              "    </tr>\n",
              "    <tr>\n",
              "      <th>1</th>\n",
              "      <td>05/27/2016</td>\n",
              "      <td>44.608</td>\n",
              "      <td>1</td>\n",
              "      <td></td>\n",
              "      <td>222103.77</td>\n",
              "      <td>9.907605e+06</td>\n",
              "      <td>-0.923952</td>\n",
              "      <td>43.219103</td>\n",
              "    </tr>\n",
              "    <tr>\n",
              "      <th>2</th>\n",
              "      <td>05/31/2016</td>\n",
              "      <td>44.646</td>\n",
              "      <td>1</td>\n",
              "      <td></td>\n",
              "      <td>222103.77</td>\n",
              "      <td>9.916045e+06</td>\n",
              "      <td>-0.839552</td>\n",
              "      <td>43.134703</td>\n",
              "    </tr>\n",
              "    <tr>\n",
              "      <th>3</th>\n",
              "      <td>06/01/2016</td>\n",
              "      <td>43.912</td>\n",
              "      <td>1</td>\n",
              "      <td></td>\n",
              "      <td>222103.77</td>\n",
              "      <td>9.753021e+06</td>\n",
              "      <td>-2.469794</td>\n",
              "      <td>44.764945</td>\n",
              "    </tr>\n",
              "    <tr>\n",
              "      <th>4</th>\n",
              "      <td>06/02/2016</td>\n",
              "      <td>43.792</td>\n",
              "      <td>1</td>\n",
              "      <td></td>\n",
              "      <td>222103.77</td>\n",
              "      <td>9.726368e+06</td>\n",
              "      <td>-2.736318</td>\n",
              "      <td>45.031470</td>\n",
              "    </tr>\n",
              "    <tr>\n",
              "      <th>...</th>\n",
              "      <td>...</td>\n",
              "      <td>...</td>\n",
              "      <td>...</td>\n",
              "      <td>...</td>\n",
              "      <td>...</td>\n",
              "      <td>...</td>\n",
              "      <td>...</td>\n",
              "      <td>...</td>\n",
              "    </tr>\n",
              "    <tr>\n",
              "      <th>785</th>\n",
              "      <td>07/11/2019</td>\n",
              "      <td>47.720</td>\n",
              "      <td>1</td>\n",
              "      <td></td>\n",
              "      <td>185523.85</td>\n",
              "      <td>8.853198e+06</td>\n",
              "      <td>-11.468021</td>\n",
              "      <td>53.763172</td>\n",
              "    </tr>\n",
              "    <tr>\n",
              "      <th>786</th>\n",
              "      <td>07/12/2019</td>\n",
              "      <td>49.016</td>\n",
              "      <td>1</td>\n",
              "      <td></td>\n",
              "      <td>185523.85</td>\n",
              "      <td>9.093637e+06</td>\n",
              "      <td>-9.063632</td>\n",
              "      <td>51.358783</td>\n",
              "    </tr>\n",
              "    <tr>\n",
              "      <th>787</th>\n",
              "      <td>07/15/2019</td>\n",
              "      <td>50.700</td>\n",
              "      <td>1</td>\n",
              "      <td></td>\n",
              "      <td>185523.85</td>\n",
              "      <td>9.406059e+06</td>\n",
              "      <td>-5.939410</td>\n",
              "      <td>48.234561</td>\n",
              "    </tr>\n",
              "    <tr>\n",
              "      <th>788</th>\n",
              "      <td>07/16/2019</td>\n",
              "      <td>50.476</td>\n",
              "      <td>1</td>\n",
              "      <td></td>\n",
              "      <td>185523.85</td>\n",
              "      <td>9.364502e+06</td>\n",
              "      <td>-6.354983</td>\n",
              "      <td>48.650135</td>\n",
              "    </tr>\n",
              "    <tr>\n",
              "      <th>789</th>\n",
              "      <td>07/17/2019</td>\n",
              "      <td>50.972</td>\n",
              "      <td>1</td>\n",
              "      <td></td>\n",
              "      <td>185523.85</td>\n",
              "      <td>9.456521e+06</td>\n",
              "      <td>-5.434785</td>\n",
              "      <td>47.729936</td>\n",
              "    </tr>\n",
              "  </tbody>\n",
              "</table>\n",
              "<p>790 rows × 8 columns</p>\n",
              "</div>"
            ],
            "text/plain": [
              "           Date   Price  Label  ...  FinalCapital        ROR         DD\n",
              "0    05/26/2016  45.024      1  ...  1.000000e+07   0.000000  42.295151\n",
              "1    05/27/2016  44.608      1  ...  9.907605e+06  -0.923952  43.219103\n",
              "2    05/31/2016  44.646      1  ...  9.916045e+06  -0.839552  43.134703\n",
              "3    06/01/2016  43.912      1  ...  9.753021e+06  -2.469794  44.764945\n",
              "4    06/02/2016  43.792      1  ...  9.726368e+06  -2.736318  45.031470\n",
              "..          ...     ...    ...  ...           ...        ...        ...\n",
              "785  07/11/2019  47.720      1  ...  8.853198e+06 -11.468021  53.763172\n",
              "786  07/12/2019  49.016      1  ...  9.093637e+06  -9.063632  51.358783\n",
              "787  07/15/2019  50.700      1  ...  9.406059e+06  -5.939410  48.234561\n",
              "788  07/16/2019  50.476      1  ...  9.364502e+06  -6.354983  48.650135\n",
              "789  07/17/2019  50.972      1  ...  9.456521e+06  -5.434785  47.729936\n",
              "\n",
              "[790 rows x 8 columns]"
            ]
          },
          "metadata": {
            "tags": []
          },
          "execution_count": 29
        }
      ]
    },
    {
      "cell_type": "markdown",
      "metadata": {
        "id": "6h5kkrLyJNl4"
      },
      "source": [
        "## LSTM_beta"
      ]
    },
    {
      "cell_type": "code",
      "metadata": {
        "colab": {
          "base_uri": "https://localhost:8080/",
          "height": 487
        },
        "id": "ARxfF8NLNZtY",
        "outputId": "5783bc52-61ab-4c69-ad08-4d1f34a207e8"
      },
      "source": [
        "df = pd.read_csv('Tesla_lstm_beta.csv')\n",
        "\n",
        "data = {'Date': df['Date'], 'Price': df['Close/Last'],\n",
        "        'Label': df['labels'], 'Trade Signal': '', 'Number of Shares': '0'}\n",
        "df_new = pd.DataFrame(data)\n",
        "\n",
        "Tesla_lstm_beta_metrics = metrics(df_new, InitialCapital)\n",
        "Tesla_lstm_beta_metrics.to_csv('Tesla_lstm_beta_metrics.csv')\n",
        "Tesla_lstm_beta_metrics"
      ],
      "execution_count": null,
      "outputs": [
        {
          "output_type": "stream",
          "text": [
            "Sharpe Ratio = -1.305332521559509 \n",
            "\n",
            "MDD = 109.32821004202657 \n",
            "\n"
          ],
          "name": "stdout"
        },
        {
          "output_type": "execute_result",
          "data": {
            "text/html": [
              "<div>\n",
              "<style scoped>\n",
              "    .dataframe tbody tr th:only-of-type {\n",
              "        vertical-align: middle;\n",
              "    }\n",
              "\n",
              "    .dataframe tbody tr th {\n",
              "        vertical-align: top;\n",
              "    }\n",
              "\n",
              "    .dataframe thead th {\n",
              "        text-align: right;\n",
              "    }\n",
              "</style>\n",
              "<table border=\"1\" class=\"dataframe\">\n",
              "  <thead>\n",
              "    <tr style=\"text-align: right;\">\n",
              "      <th></th>\n",
              "      <th>Date</th>\n",
              "      <th>Price</th>\n",
              "      <th>Label</th>\n",
              "      <th>Trade Signal</th>\n",
              "      <th>Number of Shares</th>\n",
              "      <th>FinalCapital</th>\n",
              "      <th>ROR</th>\n",
              "      <th>DD</th>\n",
              "    </tr>\n",
              "  </thead>\n",
              "  <tbody>\n",
              "    <tr>\n",
              "      <th>0</th>\n",
              "      <td>07/14/2016</td>\n",
              "      <td>44.306</td>\n",
              "      <td>1</td>\n",
              "      <td>Buy</td>\n",
              "      <td>225703.07</td>\n",
              "      <td>1.000000e+07</td>\n",
              "      <td>0.000000</td>\n",
              "      <td>56.920981</td>\n",
              "    </tr>\n",
              "    <tr>\n",
              "      <th>1</th>\n",
              "      <td>07/15/2016</td>\n",
              "      <td>44.080</td>\n",
              "      <td>1</td>\n",
              "      <td></td>\n",
              "      <td>225703.07</td>\n",
              "      <td>9.948991e+06</td>\n",
              "      <td>-0.510089</td>\n",
              "      <td>57.431070</td>\n",
              "    </tr>\n",
              "    <tr>\n",
              "      <th>2</th>\n",
              "      <td>07/18/2016</td>\n",
              "      <td>45.250</td>\n",
              "      <td>1</td>\n",
              "      <td></td>\n",
              "      <td>225703.07</td>\n",
              "      <td>1.021306e+07</td>\n",
              "      <td>2.130637</td>\n",
              "      <td>54.790344</td>\n",
              "    </tr>\n",
              "    <tr>\n",
              "      <th>3</th>\n",
              "      <td>07/19/2016</td>\n",
              "      <td>45.052</td>\n",
              "      <td>1</td>\n",
              "      <td></td>\n",
              "      <td>225703.07</td>\n",
              "      <td>1.016837e+07</td>\n",
              "      <td>1.683745</td>\n",
              "      <td>55.237236</td>\n",
              "    </tr>\n",
              "    <tr>\n",
              "      <th>4</th>\n",
              "      <td>07/20/2016</td>\n",
              "      <td>45.672</td>\n",
              "      <td>1</td>\n",
              "      <td></td>\n",
              "      <td>225703.07</td>\n",
              "      <td>1.030831e+07</td>\n",
              "      <td>3.083104</td>\n",
              "      <td>53.837877</td>\n",
              "    </tr>\n",
              "    <tr>\n",
              "      <th>...</th>\n",
              "      <td>...</td>\n",
              "      <td>...</td>\n",
              "      <td>...</td>\n",
              "      <td>...</td>\n",
              "      <td>...</td>\n",
              "      <td>...</td>\n",
              "      <td>...</td>\n",
              "      <td>...</td>\n",
              "    </tr>\n",
              "    <tr>\n",
              "      <th>752</th>\n",
              "      <td>07/11/2019</td>\n",
              "      <td>47.720</td>\n",
              "      <td>1</td>\n",
              "      <td></td>\n",
              "      <td>121045.76</td>\n",
              "      <td>5.776304e+06</td>\n",
              "      <td>-42.236965</td>\n",
              "      <td>99.157945</td>\n",
              "    </tr>\n",
              "    <tr>\n",
              "      <th>753</th>\n",
              "      <td>07/12/2019</td>\n",
              "      <td>49.016</td>\n",
              "      <td>1</td>\n",
              "      <td></td>\n",
              "      <td>121045.76</td>\n",
              "      <td>5.933179e+06</td>\n",
              "      <td>-40.668211</td>\n",
              "      <td>97.589192</td>\n",
              "    </tr>\n",
              "    <tr>\n",
              "      <th>754</th>\n",
              "      <td>07/15/2019</td>\n",
              "      <td>50.700</td>\n",
              "      <td>1</td>\n",
              "      <td></td>\n",
              "      <td>121045.76</td>\n",
              "      <td>6.137020e+06</td>\n",
              "      <td>-38.629801</td>\n",
              "      <td>95.550782</td>\n",
              "    </tr>\n",
              "    <tr>\n",
              "      <th>755</th>\n",
              "      <td>07/16/2019</td>\n",
              "      <td>50.476</td>\n",
              "      <td>1</td>\n",
              "      <td></td>\n",
              "      <td>121045.76</td>\n",
              "      <td>6.109906e+06</td>\n",
              "      <td>-38.900943</td>\n",
              "      <td>95.821924</td>\n",
              "    </tr>\n",
              "    <tr>\n",
              "      <th>756</th>\n",
              "      <td>07/17/2019</td>\n",
              "      <td>50.972</td>\n",
              "      <td>1</td>\n",
              "      <td></td>\n",
              "      <td>121045.76</td>\n",
              "      <td>6.169944e+06</td>\n",
              "      <td>-38.300556</td>\n",
              "      <td>95.221537</td>\n",
              "    </tr>\n",
              "  </tbody>\n",
              "</table>\n",
              "<p>757 rows × 8 columns</p>\n",
              "</div>"
            ],
            "text/plain": [
              "           Date   Price  Label  ...  FinalCapital        ROR         DD\n",
              "0    07/14/2016  44.306      1  ...  1.000000e+07   0.000000  56.920981\n",
              "1    07/15/2016  44.080      1  ...  9.948991e+06  -0.510089  57.431070\n",
              "2    07/18/2016  45.250      1  ...  1.021306e+07   2.130637  54.790344\n",
              "3    07/19/2016  45.052      1  ...  1.016837e+07   1.683745  55.237236\n",
              "4    07/20/2016  45.672      1  ...  1.030831e+07   3.083104  53.837877\n",
              "..          ...     ...    ...  ...           ...        ...        ...\n",
              "752  07/11/2019  47.720      1  ...  5.776304e+06 -42.236965  99.157945\n",
              "753  07/12/2019  49.016      1  ...  5.933179e+06 -40.668211  97.589192\n",
              "754  07/15/2019  50.700      1  ...  6.137020e+06 -38.629801  95.550782\n",
              "755  07/16/2019  50.476      1  ...  6.109906e+06 -38.900943  95.821924\n",
              "756  07/17/2019  50.972      1  ...  6.169944e+06 -38.300556  95.221537\n",
              "\n",
              "[757 rows x 8 columns]"
            ]
          },
          "metadata": {
            "tags": []
          },
          "execution_count": 32
        }
      ]
    },
    {
      "cell_type": "markdown",
      "metadata": {
        "id": "j_H74tQ7NKEk"
      },
      "source": [
        "## GRU"
      ]
    },
    {
      "cell_type": "code",
      "metadata": {
        "colab": {
          "base_uri": "https://localhost:8080/",
          "height": 487
        },
        "id": "PcZpuLZ9NMBr",
        "outputId": "d29b9f1c-5174-4f40-ed4f-003470d5edf0"
      },
      "source": [
        "df = pd.read_csv('Tesla_gru.csv')\n",
        "\n",
        "data = {'Date': df['Date'], 'Price': df['Close/Last'],\n",
        "        'Label': df['labels'], 'Trade Signal': '', 'Number of Shares': '0'}\n",
        "df_new = pd.DataFrame(data)\n",
        "\n",
        "Tesla_gru_metrics = metrics(df_new, InitialCapital)\n",
        "Tesla_gru_metrics.to_csv('Tesla_gru_metrics.csv')\n",
        "Tesla_gru_metrics"
      ],
      "execution_count": null,
      "outputs": [
        {
          "output_type": "stream",
          "text": [
            "Sharpe Ratio = -0.18828047111628085 \n",
            "\n",
            "MDD = 84.31202015453272 \n",
            "\n"
          ],
          "name": "stdout"
        },
        {
          "output_type": "execute_result",
          "data": {
            "text/html": [
              "<div>\n",
              "<style scoped>\n",
              "    .dataframe tbody tr th:only-of-type {\n",
              "        vertical-align: middle;\n",
              "    }\n",
              "\n",
              "    .dataframe tbody tr th {\n",
              "        vertical-align: top;\n",
              "    }\n",
              "\n",
              "    .dataframe thead th {\n",
              "        text-align: right;\n",
              "    }\n",
              "</style>\n",
              "<table border=\"1\" class=\"dataframe\">\n",
              "  <thead>\n",
              "    <tr style=\"text-align: right;\">\n",
              "      <th></th>\n",
              "      <th>Date</th>\n",
              "      <th>Price</th>\n",
              "      <th>Label</th>\n",
              "      <th>Trade Signal</th>\n",
              "      <th>Number of Shares</th>\n",
              "      <th>FinalCapital</th>\n",
              "      <th>ROR</th>\n",
              "      <th>DD</th>\n",
              "    </tr>\n",
              "  </thead>\n",
              "  <tbody>\n",
              "    <tr>\n",
              "      <th>0</th>\n",
              "      <td>05/26/2016</td>\n",
              "      <td>45.024</td>\n",
              "      <td>1</td>\n",
              "      <td>Buy</td>\n",
              "      <td>222103.77</td>\n",
              "      <td>1.000000e+07</td>\n",
              "      <td>0.000000</td>\n",
              "      <td>58.332104</td>\n",
              "    </tr>\n",
              "    <tr>\n",
              "      <th>1</th>\n",
              "      <td>05/27/2016</td>\n",
              "      <td>44.608</td>\n",
              "      <td>1</td>\n",
              "      <td></td>\n",
              "      <td>222103.77</td>\n",
              "      <td>9.907605e+06</td>\n",
              "      <td>-0.923952</td>\n",
              "      <td>59.256056</td>\n",
              "    </tr>\n",
              "    <tr>\n",
              "      <th>2</th>\n",
              "      <td>05/31/2016</td>\n",
              "      <td>44.646</td>\n",
              "      <td>1</td>\n",
              "      <td></td>\n",
              "      <td>222103.77</td>\n",
              "      <td>9.916045e+06</td>\n",
              "      <td>-0.839552</td>\n",
              "      <td>59.171657</td>\n",
              "    </tr>\n",
              "    <tr>\n",
              "      <th>3</th>\n",
              "      <td>06/01/2016</td>\n",
              "      <td>43.912</td>\n",
              "      <td>1</td>\n",
              "      <td></td>\n",
              "      <td>222103.77</td>\n",
              "      <td>9.753021e+06</td>\n",
              "      <td>-2.469794</td>\n",
              "      <td>60.801898</td>\n",
              "    </tr>\n",
              "    <tr>\n",
              "      <th>4</th>\n",
              "      <td>06/02/2016</td>\n",
              "      <td>43.792</td>\n",
              "      <td>1</td>\n",
              "      <td></td>\n",
              "      <td>222103.77</td>\n",
              "      <td>9.726368e+06</td>\n",
              "      <td>-2.736318</td>\n",
              "      <td>61.068423</td>\n",
              "    </tr>\n",
              "    <tr>\n",
              "      <th>...</th>\n",
              "      <td>...</td>\n",
              "      <td>...</td>\n",
              "      <td>...</td>\n",
              "      <td>...</td>\n",
              "      <td>...</td>\n",
              "      <td>...</td>\n",
              "      <td>...</td>\n",
              "      <td>...</td>\n",
              "    </tr>\n",
              "    <tr>\n",
              "      <th>785</th>\n",
              "      <td>07/11/2019</td>\n",
              "      <td>47.720</td>\n",
              "      <td>1</td>\n",
              "      <td></td>\n",
              "      <td>188260.04</td>\n",
              "      <td>8.983769e+06</td>\n",
              "      <td>-10.162307</td>\n",
              "      <td>68.494411</td>\n",
              "    </tr>\n",
              "    <tr>\n",
              "      <th>786</th>\n",
              "      <td>07/12/2019</td>\n",
              "      <td>49.016</td>\n",
              "      <td>1</td>\n",
              "      <td></td>\n",
              "      <td>188260.04</td>\n",
              "      <td>9.227754e+06</td>\n",
              "      <td>-7.722457</td>\n",
              "      <td>66.054561</td>\n",
              "    </tr>\n",
              "    <tr>\n",
              "      <th>787</th>\n",
              "      <td>07/15/2019</td>\n",
              "      <td>50.700</td>\n",
              "      <td>1</td>\n",
              "      <td></td>\n",
              "      <td>188260.04</td>\n",
              "      <td>9.544784e+06</td>\n",
              "      <td>-4.552157</td>\n",
              "      <td>62.884262</td>\n",
              "    </tr>\n",
              "    <tr>\n",
              "      <th>788</th>\n",
              "      <td>07/16/2019</td>\n",
              "      <td>50.476</td>\n",
              "      <td>1</td>\n",
              "      <td></td>\n",
              "      <td>188260.04</td>\n",
              "      <td>9.502614e+06</td>\n",
              "      <td>-4.973860</td>\n",
              "      <td>63.305964</td>\n",
              "    </tr>\n",
              "    <tr>\n",
              "      <th>789</th>\n",
              "      <td>07/17/2019</td>\n",
              "      <td>50.972</td>\n",
              "      <td>1</td>\n",
              "      <td></td>\n",
              "      <td>188260.04</td>\n",
              "      <td>9.595991e+06</td>\n",
              "      <td>-4.040090</td>\n",
              "      <td>62.372195</td>\n",
              "    </tr>\n",
              "  </tbody>\n",
              "</table>\n",
              "<p>790 rows × 8 columns</p>\n",
              "</div>"
            ],
            "text/plain": [
              "           Date   Price  Label  ...  FinalCapital        ROR         DD\n",
              "0    05/26/2016  45.024      1  ...  1.000000e+07   0.000000  58.332104\n",
              "1    05/27/2016  44.608      1  ...  9.907605e+06  -0.923952  59.256056\n",
              "2    05/31/2016  44.646      1  ...  9.916045e+06  -0.839552  59.171657\n",
              "3    06/01/2016  43.912      1  ...  9.753021e+06  -2.469794  60.801898\n",
              "4    06/02/2016  43.792      1  ...  9.726368e+06  -2.736318  61.068423\n",
              "..          ...     ...    ...  ...           ...        ...        ...\n",
              "785  07/11/2019  47.720      1  ...  8.983769e+06 -10.162307  68.494411\n",
              "786  07/12/2019  49.016      1  ...  9.227754e+06  -7.722457  66.054561\n",
              "787  07/15/2019  50.700      1  ...  9.544784e+06  -4.552157  62.884262\n",
              "788  07/16/2019  50.476      1  ...  9.502614e+06  -4.973860  63.305964\n",
              "789  07/17/2019  50.972      1  ...  9.595991e+06  -4.040090  62.372195\n",
              "\n",
              "[790 rows x 8 columns]"
            ]
          },
          "metadata": {
            "tags": []
          },
          "execution_count": 35
        }
      ]
    },
    {
      "cell_type": "markdown",
      "metadata": {
        "id": "zdg53EXxPOKS"
      },
      "source": [
        "## GRU_beta\n"
      ]
    },
    {
      "cell_type": "code",
      "metadata": {
        "colab": {
          "base_uri": "https://localhost:8080/",
          "height": 487
        },
        "id": "B3mQjv5EPRZT",
        "outputId": "56fd241c-1816-43af-dcb1-95e16c890d9c"
      },
      "source": [
        "df = pd.read_csv('Tesla_gru_beta.csv')\n",
        "\n",
        "data = {'Date': df['Date'], 'Price': df['Close/Last'],\n",
        "        'Label': df['labels'], 'Trade Signal': '', 'Number of Shares': '0'}\n",
        "df_new = pd.DataFrame(data)\n",
        "\n",
        "Tesla_gru_beta_metrics = metrics(df_new, InitialCapital)\n",
        "Tesla_gru_beta_metrics.to_csv('Tesla_gru_beta_metrics.csv')\n",
        "Tesla_gru_beta_metrics"
      ],
      "execution_count": null,
      "outputs": [
        {
          "output_type": "stream",
          "text": [
            "Sharpe Ratio = -1.290578842346147 \n",
            "\n",
            "MDD = 114.87319406649497 \n",
            "\n"
          ],
          "name": "stdout"
        },
        {
          "output_type": "execute_result",
          "data": {
            "text/html": [
              "<div>\n",
              "<style scoped>\n",
              "    .dataframe tbody tr th:only-of-type {\n",
              "        vertical-align: middle;\n",
              "    }\n",
              "\n",
              "    .dataframe tbody tr th {\n",
              "        vertical-align: top;\n",
              "    }\n",
              "\n",
              "    .dataframe thead th {\n",
              "        text-align: right;\n",
              "    }\n",
              "</style>\n",
              "<table border=\"1\" class=\"dataframe\">\n",
              "  <thead>\n",
              "    <tr style=\"text-align: right;\">\n",
              "      <th></th>\n",
              "      <th>Date</th>\n",
              "      <th>Price</th>\n",
              "      <th>Label</th>\n",
              "      <th>Trade Signal</th>\n",
              "      <th>Number of Shares</th>\n",
              "      <th>FinalCapital</th>\n",
              "      <th>ROR</th>\n",
              "      <th>DD</th>\n",
              "    </tr>\n",
              "  </thead>\n",
              "  <tbody>\n",
              "    <tr>\n",
              "      <th>0</th>\n",
              "      <td>07/14/2016</td>\n",
              "      <td>44.306</td>\n",
              "      <td>1</td>\n",
              "      <td>Buy</td>\n",
              "      <td>225703.07</td>\n",
              "      <td>1.000000e+07</td>\n",
              "      <td>0.000000</td>\n",
              "      <td>66.440555</td>\n",
              "    </tr>\n",
              "    <tr>\n",
              "      <th>1</th>\n",
              "      <td>07/15/2016</td>\n",
              "      <td>44.080</td>\n",
              "      <td>1</td>\n",
              "      <td></td>\n",
              "      <td>225703.07</td>\n",
              "      <td>9.948991e+06</td>\n",
              "      <td>-0.510089</td>\n",
              "      <td>66.950644</td>\n",
              "    </tr>\n",
              "    <tr>\n",
              "      <th>2</th>\n",
              "      <td>07/18/2016</td>\n",
              "      <td>45.250</td>\n",
              "      <td>1</td>\n",
              "      <td></td>\n",
              "      <td>225703.07</td>\n",
              "      <td>1.021306e+07</td>\n",
              "      <td>2.130637</td>\n",
              "      <td>64.309918</td>\n",
              "    </tr>\n",
              "    <tr>\n",
              "      <th>3</th>\n",
              "      <td>07/19/2016</td>\n",
              "      <td>45.052</td>\n",
              "      <td>1</td>\n",
              "      <td></td>\n",
              "      <td>225703.07</td>\n",
              "      <td>1.016837e+07</td>\n",
              "      <td>1.683745</td>\n",
              "      <td>64.756811</td>\n",
              "    </tr>\n",
              "    <tr>\n",
              "      <th>4</th>\n",
              "      <td>07/20/2016</td>\n",
              "      <td>45.672</td>\n",
              "      <td>1</td>\n",
              "      <td></td>\n",
              "      <td>225703.07</td>\n",
              "      <td>1.030831e+07</td>\n",
              "      <td>3.083104</td>\n",
              "      <td>63.357452</td>\n",
              "    </tr>\n",
              "    <tr>\n",
              "      <th>...</th>\n",
              "      <td>...</td>\n",
              "      <td>...</td>\n",
              "      <td>...</td>\n",
              "      <td>...</td>\n",
              "      <td>...</td>\n",
              "      <td>...</td>\n",
              "      <td>...</td>\n",
              "      <td>...</td>\n",
              "    </tr>\n",
              "    <tr>\n",
              "      <th>752</th>\n",
              "      <td>07/11/2019</td>\n",
              "      <td>47.720</td>\n",
              "      <td>1</td>\n",
              "      <td></td>\n",
              "      <td>123213.61</td>\n",
              "      <td>5.879754e+06</td>\n",
              "      <td>-41.202464</td>\n",
              "      <td>107.643019</td>\n",
              "    </tr>\n",
              "    <tr>\n",
              "      <th>753</th>\n",
              "      <td>07/12/2019</td>\n",
              "      <td>49.016</td>\n",
              "      <td>1</td>\n",
              "      <td></td>\n",
              "      <td>123213.61</td>\n",
              "      <td>6.039438e+06</td>\n",
              "      <td>-39.605615</td>\n",
              "      <td>106.046171</td>\n",
              "    </tr>\n",
              "    <tr>\n",
              "      <th>754</th>\n",
              "      <td>07/15/2019</td>\n",
              "      <td>50.700</td>\n",
              "      <td>1</td>\n",
              "      <td></td>\n",
              "      <td>123213.61</td>\n",
              "      <td>6.246930e+06</td>\n",
              "      <td>-37.530698</td>\n",
              "      <td>103.971254</td>\n",
              "    </tr>\n",
              "    <tr>\n",
              "      <th>755</th>\n",
              "      <td>07/16/2019</td>\n",
              "      <td>50.476</td>\n",
              "      <td>1</td>\n",
              "      <td></td>\n",
              "      <td>123213.61</td>\n",
              "      <td>6.219330e+06</td>\n",
              "      <td>-37.806697</td>\n",
              "      <td>104.247252</td>\n",
              "    </tr>\n",
              "    <tr>\n",
              "      <th>756</th>\n",
              "      <td>07/17/2019</td>\n",
              "      <td>50.972</td>\n",
              "      <td>1</td>\n",
              "      <td></td>\n",
              "      <td>123213.61</td>\n",
              "      <td>6.280444e+06</td>\n",
              "      <td>-37.195557</td>\n",
              "      <td>103.636113</td>\n",
              "    </tr>\n",
              "  </tbody>\n",
              "</table>\n",
              "<p>757 rows × 8 columns</p>\n",
              "</div>"
            ],
            "text/plain": [
              "           Date   Price  Label  ...  FinalCapital        ROR          DD\n",
              "0    07/14/2016  44.306      1  ...  1.000000e+07   0.000000   66.440555\n",
              "1    07/15/2016  44.080      1  ...  9.948991e+06  -0.510089   66.950644\n",
              "2    07/18/2016  45.250      1  ...  1.021306e+07   2.130637   64.309918\n",
              "3    07/19/2016  45.052      1  ...  1.016837e+07   1.683745   64.756811\n",
              "4    07/20/2016  45.672      1  ...  1.030831e+07   3.083104   63.357452\n",
              "..          ...     ...    ...  ...           ...        ...         ...\n",
              "752  07/11/2019  47.720      1  ...  5.879754e+06 -41.202464  107.643019\n",
              "753  07/12/2019  49.016      1  ...  6.039438e+06 -39.605615  106.046171\n",
              "754  07/15/2019  50.700      1  ...  6.246930e+06 -37.530698  103.971254\n",
              "755  07/16/2019  50.476      1  ...  6.219330e+06 -37.806697  104.247252\n",
              "756  07/17/2019  50.972      1  ...  6.280444e+06 -37.195557  103.636113\n",
              "\n",
              "[757 rows x 8 columns]"
            ]
          },
          "metadata": {
            "tags": []
          },
          "execution_count": 37
        }
      ]
    },
    {
      "cell_type": "markdown",
      "metadata": {
        "id": "lxf3ZRB-QLd5"
      },
      "source": [
        "# China_001"
      ]
    },
    {
      "cell_type": "markdown",
      "metadata": {
        "id": "YEdAsdBHU3Nz"
      },
      "source": [
        "## LSTM"
      ]
    },
    {
      "cell_type": "code",
      "metadata": {
        "colab": {
          "base_uri": "https://localhost:8080/",
          "height": 487
        },
        "id": "E8aaayhjQVP2",
        "outputId": "03e0f0f0-06bf-4985-8757-3b5f9ab55f2a"
      },
      "source": [
        "df = pd.read_csv('lstm_001.csv')\n",
        "\n",
        "data = {'Date': df['DATE'], 'Price': df['closingprice'],\n",
        "        'Label': df['labels'], 'Trade Signal': '', 'Number of Shares': '0'}\n",
        "df_new = pd.DataFrame(data)\n",
        "\n",
        "metrics_ = metrics(df_new, InitialCapital)\n",
        "metrics_.to_csv('001_lstm_metrics.csv')\n",
        "metrics_"
      ],
      "execution_count": null,
      "outputs": [
        {
          "output_type": "stream",
          "text": [
            "Sharpe Ratio = 1.8237765427702168 \n",
            "\n",
            "MDD = 116.35316328217817 \n",
            "\n"
          ],
          "name": "stdout"
        },
        {
          "output_type": "execute_result",
          "data": {
            "text/html": [
              "<div>\n",
              "<style scoped>\n",
              "    .dataframe tbody tr th:only-of-type {\n",
              "        vertical-align: middle;\n",
              "    }\n",
              "\n",
              "    .dataframe tbody tr th {\n",
              "        vertical-align: top;\n",
              "    }\n",
              "\n",
              "    .dataframe thead th {\n",
              "        text-align: right;\n",
              "    }\n",
              "</style>\n",
              "<table border=\"1\" class=\"dataframe\">\n",
              "  <thead>\n",
              "    <tr style=\"text-align: right;\">\n",
              "      <th></th>\n",
              "      <th>Date</th>\n",
              "      <th>Price</th>\n",
              "      <th>Label</th>\n",
              "      <th>Trade Signal</th>\n",
              "      <th>Number of Shares</th>\n",
              "      <th>FinalCapital</th>\n",
              "      <th>ROR</th>\n",
              "      <th>DD</th>\n",
              "    </tr>\n",
              "  </thead>\n",
              "  <tbody>\n",
              "    <tr>\n",
              "      <th>0</th>\n",
              "      <td>2011-10-31</td>\n",
              "      <td>2468.25</td>\n",
              "      <td>1</td>\n",
              "      <td>Buy</td>\n",
              "      <td>4051.45</td>\n",
              "      <td>1.000000e+07</td>\n",
              "      <td>0.000000</td>\n",
              "      <td>110.488438</td>\n",
              "    </tr>\n",
              "    <tr>\n",
              "      <th>1</th>\n",
              "      <td>2011-11-01</td>\n",
              "      <td>2470.02</td>\n",
              "      <td>1</td>\n",
              "      <td></td>\n",
              "      <td>4051.45</td>\n",
              "      <td>1.000717e+07</td>\n",
              "      <td>0.071711</td>\n",
              "      <td>110.416727</td>\n",
              "    </tr>\n",
              "    <tr>\n",
              "      <th>2</th>\n",
              "      <td>2011-11-02</td>\n",
              "      <td>2504.11</td>\n",
              "      <td>1</td>\n",
              "      <td></td>\n",
              "      <td>4051.45</td>\n",
              "      <td>1.014529e+07</td>\n",
              "      <td>1.452851</td>\n",
              "      <td>109.035586</td>\n",
              "    </tr>\n",
              "    <tr>\n",
              "      <th>3</th>\n",
              "      <td>2011-11-03</td>\n",
              "      <td>2508.09</td>\n",
              "      <td>1</td>\n",
              "      <td></td>\n",
              "      <td>4051.45</td>\n",
              "      <td>1.016141e+07</td>\n",
              "      <td>1.614099</td>\n",
              "      <td>108.874339</td>\n",
              "    </tr>\n",
              "    <tr>\n",
              "      <th>4</th>\n",
              "      <td>2011-11-04</td>\n",
              "      <td>2528.29</td>\n",
              "      <td>1</td>\n",
              "      <td></td>\n",
              "      <td>4051.45</td>\n",
              "      <td>1.024325e+07</td>\n",
              "      <td>2.432493</td>\n",
              "      <td>108.055945</td>\n",
              "    </tr>\n",
              "    <tr>\n",
              "      <th>...</th>\n",
              "      <td>...</td>\n",
              "      <td>...</td>\n",
              "      <td>...</td>\n",
              "      <td>...</td>\n",
              "      <td>...</td>\n",
              "      <td>...</td>\n",
              "      <td>...</td>\n",
              "      <td>...</td>\n",
              "    </tr>\n",
              "    <tr>\n",
              "      <th>1685</th>\n",
              "      <td>2018-09-28</td>\n",
              "      <td>2821.35</td>\n",
              "      <td>1</td>\n",
              "      <td></td>\n",
              "      <td>5701.72</td>\n",
              "      <td>1.608656e+07</td>\n",
              "      <td>60.865596</td>\n",
              "      <td>49.622842</td>\n",
              "    </tr>\n",
              "    <tr>\n",
              "      <th>1686</th>\n",
              "      <td>2018-10-08</td>\n",
              "      <td>2716.51</td>\n",
              "      <td>1</td>\n",
              "      <td></td>\n",
              "      <td>5701.72</td>\n",
              "      <td>1.548879e+07</td>\n",
              "      <td>54.887908</td>\n",
              "      <td>55.600530</td>\n",
              "    </tr>\n",
              "    <tr>\n",
              "      <th>1687</th>\n",
              "      <td>2018-10-09</td>\n",
              "      <td>2721.01</td>\n",
              "      <td>0</td>\n",
              "      <td>Sell</td>\n",
              "      <td>0</td>\n",
              "      <td>1.551445e+07</td>\n",
              "      <td>55.144485</td>\n",
              "      <td>55.343952</td>\n",
              "    </tr>\n",
              "    <tr>\n",
              "      <th>1688</th>\n",
              "      <td>2018-10-10</td>\n",
              "      <td>2725.84</td>\n",
              "      <td>0</td>\n",
              "      <td></td>\n",
              "      <td>0</td>\n",
              "      <td>1.551445e+07</td>\n",
              "      <td>55.144485</td>\n",
              "      <td>55.343952</td>\n",
              "    </tr>\n",
              "    <tr>\n",
              "      <th>1689</th>\n",
              "      <td>2018-10-11</td>\n",
              "      <td>2583.46</td>\n",
              "      <td>0</td>\n",
              "      <td></td>\n",
              "      <td>0</td>\n",
              "      <td>1.551445e+07</td>\n",
              "      <td>55.144485</td>\n",
              "      <td>55.343952</td>\n",
              "    </tr>\n",
              "  </tbody>\n",
              "</table>\n",
              "<p>1690 rows × 8 columns</p>\n",
              "</div>"
            ],
            "text/plain": [
              "            Date    Price  Label  ...  FinalCapital        ROR          DD\n",
              "0     2011-10-31  2468.25      1  ...  1.000000e+07   0.000000  110.488438\n",
              "1     2011-11-01  2470.02      1  ...  1.000717e+07   0.071711  110.416727\n",
              "2     2011-11-02  2504.11      1  ...  1.014529e+07   1.452851  109.035586\n",
              "3     2011-11-03  2508.09      1  ...  1.016141e+07   1.614099  108.874339\n",
              "4     2011-11-04  2528.29      1  ...  1.024325e+07   2.432493  108.055945\n",
              "...          ...      ...    ...  ...           ...        ...         ...\n",
              "1685  2018-09-28  2821.35      1  ...  1.608656e+07  60.865596   49.622842\n",
              "1686  2018-10-08  2716.51      1  ...  1.548879e+07  54.887908   55.600530\n",
              "1687  2018-10-09  2721.01      0  ...  1.551445e+07  55.144485   55.343952\n",
              "1688  2018-10-10  2725.84      0  ...  1.551445e+07  55.144485   55.343952\n",
              "1689  2018-10-11  2583.46      0  ...  1.551445e+07  55.144485   55.343952\n",
              "\n",
              "[1690 rows x 8 columns]"
            ]
          },
          "metadata": {
            "tags": []
          },
          "execution_count": 62
        }
      ]
    },
    {
      "cell_type": "markdown",
      "metadata": {
        "id": "DD_U7gSchdMj"
      },
      "source": [
        "## LSTM_beta"
      ]
    },
    {
      "cell_type": "code",
      "metadata": {
        "colab": {
          "base_uri": "https://localhost:8080/",
          "height": 487
        },
        "id": "rYGnXIwbTUtp",
        "outputId": "a9a6af83-2943-4f62-93ae-ad5f6d763147"
      },
      "source": [
        "df = pd.read_csv('lstm_beta_001.csv')\n",
        "\n",
        "data = {'Date': df['DATE'], 'Price': df['closingprice'],\n",
        "        'Label': df['labels'], 'Trade Signal': '', 'Number of Shares': '0'}\n",
        "df_new = pd.DataFrame(data)\n",
        "\n",
        "metrics_ = metrics(df_new, InitialCapital)\n",
        "metrics_.to_csv('001_lstm_beta_metrics.csv')\n",
        "metrics_"
      ],
      "execution_count": null,
      "outputs": [
        {
          "output_type": "stream",
          "text": [
            "Sharpe Ratio = 1.2205923167710364 \n",
            "\n",
            "MDD = 111.2642665877932 \n",
            "\n"
          ],
          "name": "stdout"
        },
        {
          "output_type": "execute_result",
          "data": {
            "text/html": [
              "<div>\n",
              "<style scoped>\n",
              "    .dataframe tbody tr th:only-of-type {\n",
              "        vertical-align: middle;\n",
              "    }\n",
              "\n",
              "    .dataframe tbody tr th {\n",
              "        vertical-align: top;\n",
              "    }\n",
              "\n",
              "    .dataframe thead th {\n",
              "        text-align: right;\n",
              "    }\n",
              "</style>\n",
              "<table border=\"1\" class=\"dataframe\">\n",
              "  <thead>\n",
              "    <tr style=\"text-align: right;\">\n",
              "      <th></th>\n",
              "      <th>Date</th>\n",
              "      <th>Price</th>\n",
              "      <th>Label</th>\n",
              "      <th>Trade Signal</th>\n",
              "      <th>Number of Shares</th>\n",
              "      <th>FinalCapital</th>\n",
              "      <th>ROR</th>\n",
              "      <th>DD</th>\n",
              "    </tr>\n",
              "  </thead>\n",
              "  <tbody>\n",
              "    <tr>\n",
              "      <th>0</th>\n",
              "      <td>2011-12-15</td>\n",
              "      <td>2180.89</td>\n",
              "      <td>0</td>\n",
              "      <td></td>\n",
              "      <td>0</td>\n",
              "      <td>1.000000e+07</td>\n",
              "      <td>0.000000</td>\n",
              "      <td>83.757860</td>\n",
              "    </tr>\n",
              "    <tr>\n",
              "      <th>1</th>\n",
              "      <td>2011-12-16</td>\n",
              "      <td>2224.84</td>\n",
              "      <td>0</td>\n",
              "      <td></td>\n",
              "      <td>0</td>\n",
              "      <td>1.000000e+07</td>\n",
              "      <td>0.000000</td>\n",
              "      <td>83.757860</td>\n",
              "    </tr>\n",
              "    <tr>\n",
              "      <th>2</th>\n",
              "      <td>2011-12-19</td>\n",
              "      <td>2218.24</td>\n",
              "      <td>0</td>\n",
              "      <td></td>\n",
              "      <td>0</td>\n",
              "      <td>1.000000e+07</td>\n",
              "      <td>0.000000</td>\n",
              "      <td>83.757860</td>\n",
              "    </tr>\n",
              "    <tr>\n",
              "      <th>3</th>\n",
              "      <td>2011-12-20</td>\n",
              "      <td>2215.92</td>\n",
              "      <td>0</td>\n",
              "      <td></td>\n",
              "      <td>0</td>\n",
              "      <td>1.000000e+07</td>\n",
              "      <td>0.000000</td>\n",
              "      <td>83.757860</td>\n",
              "    </tr>\n",
              "    <tr>\n",
              "      <th>4</th>\n",
              "      <td>2011-12-21</td>\n",
              "      <td>2191.14</td>\n",
              "      <td>0</td>\n",
              "      <td></td>\n",
              "      <td>0</td>\n",
              "      <td>1.000000e+07</td>\n",
              "      <td>0.000000</td>\n",
              "      <td>83.757860</td>\n",
              "    </tr>\n",
              "    <tr>\n",
              "      <th>...</th>\n",
              "      <td>...</td>\n",
              "      <td>...</td>\n",
              "      <td>...</td>\n",
              "      <td>...</td>\n",
              "      <td>...</td>\n",
              "      <td>...</td>\n",
              "      <td>...</td>\n",
              "      <td>...</td>\n",
              "    </tr>\n",
              "    <tr>\n",
              "      <th>1652</th>\n",
              "      <td>2018-09-28</td>\n",
              "      <td>2821.35</td>\n",
              "      <td>1</td>\n",
              "      <td></td>\n",
              "      <td>4893.68</td>\n",
              "      <td>1.380678e+07</td>\n",
              "      <td>38.067819</td>\n",
              "      <td>45.690041</td>\n",
              "    </tr>\n",
              "    <tr>\n",
              "      <th>1653</th>\n",
              "      <td>2018-10-08</td>\n",
              "      <td>2716.51</td>\n",
              "      <td>0</td>\n",
              "      <td>Sell</td>\n",
              "      <td>0</td>\n",
              "      <td>1.329373e+07</td>\n",
              "      <td>32.937286</td>\n",
              "      <td>50.820574</td>\n",
              "    </tr>\n",
              "    <tr>\n",
              "      <th>1654</th>\n",
              "      <td>2018-10-09</td>\n",
              "      <td>2721.01</td>\n",
              "      <td>0</td>\n",
              "      <td></td>\n",
              "      <td>0</td>\n",
              "      <td>1.329373e+07</td>\n",
              "      <td>32.937286</td>\n",
              "      <td>50.820574</td>\n",
              "    </tr>\n",
              "    <tr>\n",
              "      <th>1655</th>\n",
              "      <td>2018-10-10</td>\n",
              "      <td>2725.84</td>\n",
              "      <td>0</td>\n",
              "      <td></td>\n",
              "      <td>0</td>\n",
              "      <td>1.329373e+07</td>\n",
              "      <td>32.937286</td>\n",
              "      <td>50.820574</td>\n",
              "    </tr>\n",
              "    <tr>\n",
              "      <th>1656</th>\n",
              "      <td>2018-10-11</td>\n",
              "      <td>2583.46</td>\n",
              "      <td>0</td>\n",
              "      <td></td>\n",
              "      <td>0</td>\n",
              "      <td>1.329373e+07</td>\n",
              "      <td>32.937286</td>\n",
              "      <td>50.820574</td>\n",
              "    </tr>\n",
              "  </tbody>\n",
              "</table>\n",
              "<p>1657 rows × 8 columns</p>\n",
              "</div>"
            ],
            "text/plain": [
              "            Date    Price  Label  ...  FinalCapital        ROR         DD\n",
              "0     2011-12-15  2180.89      0  ...  1.000000e+07   0.000000  83.757860\n",
              "1     2011-12-16  2224.84      0  ...  1.000000e+07   0.000000  83.757860\n",
              "2     2011-12-19  2218.24      0  ...  1.000000e+07   0.000000  83.757860\n",
              "3     2011-12-20  2215.92      0  ...  1.000000e+07   0.000000  83.757860\n",
              "4     2011-12-21  2191.14      0  ...  1.000000e+07   0.000000  83.757860\n",
              "...          ...      ...    ...  ...           ...        ...        ...\n",
              "1652  2018-09-28  2821.35      1  ...  1.380678e+07  38.067819  45.690041\n",
              "1653  2018-10-08  2716.51      0  ...  1.329373e+07  32.937286  50.820574\n",
              "1654  2018-10-09  2721.01      0  ...  1.329373e+07  32.937286  50.820574\n",
              "1655  2018-10-10  2725.84      0  ...  1.329373e+07  32.937286  50.820574\n",
              "1656  2018-10-11  2583.46      0  ...  1.329373e+07  32.937286  50.820574\n",
              "\n",
              "[1657 rows x 8 columns]"
            ]
          },
          "metadata": {
            "tags": []
          },
          "execution_count": 63
        }
      ]
    },
    {
      "cell_type": "markdown",
      "metadata": {
        "id": "-0Hu4sKFjJB0"
      },
      "source": [
        "## GRU"
      ]
    },
    {
      "cell_type": "code",
      "metadata": {
        "colab": {
          "base_uri": "https://localhost:8080/",
          "height": 487
        },
        "id": "Vt__FINljPIi",
        "outputId": "718e3f1a-2d68-4d18-84f3-ce5613eaeb99"
      },
      "source": [
        "df = pd.read_csv('gru_001.csv')\n",
        "\n",
        "data = {'Date': df['DATE'], 'Price': df['closingprice'],\n",
        "        'Label': df['labels'], 'Trade Signal': '', 'Number of Shares': '0'}\n",
        "df_new = pd.DataFrame(data)\n",
        "\n",
        "metrics_ = metrics(df_new, InitialCapital)\n",
        "metrics_.to_csv('001_gru_metrics.csv')\n",
        "metrics_"
      ],
      "execution_count": null,
      "outputs": [
        {
          "output_type": "stream",
          "text": [
            "Sharpe Ratio = 1.5513745946646078 \n",
            "\n",
            "MDD = 136.35792748780406 \n",
            "\n"
          ],
          "name": "stdout"
        },
        {
          "output_type": "execute_result",
          "data": {
            "text/html": [
              "<div>\n",
              "<style scoped>\n",
              "    .dataframe tbody tr th:only-of-type {\n",
              "        vertical-align: middle;\n",
              "    }\n",
              "\n",
              "    .dataframe tbody tr th {\n",
              "        vertical-align: top;\n",
              "    }\n",
              "\n",
              "    .dataframe thead th {\n",
              "        text-align: right;\n",
              "    }\n",
              "</style>\n",
              "<table border=\"1\" class=\"dataframe\">\n",
              "  <thead>\n",
              "    <tr style=\"text-align: right;\">\n",
              "      <th></th>\n",
              "      <th>Date</th>\n",
              "      <th>Price</th>\n",
              "      <th>Label</th>\n",
              "      <th>Trade Signal</th>\n",
              "      <th>Number of Shares</th>\n",
              "      <th>FinalCapital</th>\n",
              "      <th>ROR</th>\n",
              "      <th>DD</th>\n",
              "    </tr>\n",
              "  </thead>\n",
              "  <tbody>\n",
              "    <tr>\n",
              "      <th>0</th>\n",
              "      <td>2011-10-31</td>\n",
              "      <td>2468.25</td>\n",
              "      <td>1</td>\n",
              "      <td>Buy</td>\n",
              "      <td>4051.45</td>\n",
              "      <td>1.000000e+07</td>\n",
              "      <td>0.000000</td>\n",
              "      <td>129.598515</td>\n",
              "    </tr>\n",
              "    <tr>\n",
              "      <th>1</th>\n",
              "      <td>2011-11-01</td>\n",
              "      <td>2470.02</td>\n",
              "      <td>1</td>\n",
              "      <td></td>\n",
              "      <td>4051.45</td>\n",
              "      <td>1.000717e+07</td>\n",
              "      <td>0.071711</td>\n",
              "      <td>129.526804</td>\n",
              "    </tr>\n",
              "    <tr>\n",
              "      <th>2</th>\n",
              "      <td>2011-11-02</td>\n",
              "      <td>2504.11</td>\n",
              "      <td>1</td>\n",
              "      <td></td>\n",
              "      <td>4051.45</td>\n",
              "      <td>1.014529e+07</td>\n",
              "      <td>1.452851</td>\n",
              "      <td>128.145663</td>\n",
              "    </tr>\n",
              "    <tr>\n",
              "      <th>3</th>\n",
              "      <td>2011-11-03</td>\n",
              "      <td>2508.09</td>\n",
              "      <td>1</td>\n",
              "      <td></td>\n",
              "      <td>4051.45</td>\n",
              "      <td>1.016141e+07</td>\n",
              "      <td>1.614099</td>\n",
              "      <td>127.984416</td>\n",
              "    </tr>\n",
              "    <tr>\n",
              "      <th>4</th>\n",
              "      <td>2011-11-04</td>\n",
              "      <td>2528.29</td>\n",
              "      <td>1</td>\n",
              "      <td></td>\n",
              "      <td>4051.45</td>\n",
              "      <td>1.024325e+07</td>\n",
              "      <td>2.432493</td>\n",
              "      <td>127.166022</td>\n",
              "    </tr>\n",
              "    <tr>\n",
              "      <th>...</th>\n",
              "      <td>...</td>\n",
              "      <td>...</td>\n",
              "      <td>...</td>\n",
              "      <td>...</td>\n",
              "      <td>...</td>\n",
              "      <td>...</td>\n",
              "      <td>...</td>\n",
              "      <td>...</td>\n",
              "    </tr>\n",
              "    <tr>\n",
              "      <th>1685</th>\n",
              "      <td>2018-09-28</td>\n",
              "      <td>2821.35</td>\n",
              "      <td>1</td>\n",
              "      <td></td>\n",
              "      <td>6123.10</td>\n",
              "      <td>1.727542e+07</td>\n",
              "      <td>72.754211</td>\n",
              "      <td>56.844304</td>\n",
              "    </tr>\n",
              "    <tr>\n",
              "      <th>1686</th>\n",
              "      <td>2018-10-08</td>\n",
              "      <td>2716.51</td>\n",
              "      <td>1</td>\n",
              "      <td></td>\n",
              "      <td>6123.10</td>\n",
              "      <td>1.663347e+07</td>\n",
              "      <td>66.334748</td>\n",
              "      <td>63.263766</td>\n",
              "    </tr>\n",
              "    <tr>\n",
              "      <th>1687</th>\n",
              "      <td>2018-10-09</td>\n",
              "      <td>2721.01</td>\n",
              "      <td>1</td>\n",
              "      <td></td>\n",
              "      <td>6123.10</td>\n",
              "      <td>1.666103e+07</td>\n",
              "      <td>66.610288</td>\n",
              "      <td>62.988227</td>\n",
              "    </tr>\n",
              "    <tr>\n",
              "      <th>1688</th>\n",
              "      <td>2018-10-10</td>\n",
              "      <td>2725.84</td>\n",
              "      <td>1</td>\n",
              "      <td></td>\n",
              "      <td>6123.10</td>\n",
              "      <td>1.669060e+07</td>\n",
              "      <td>66.906034</td>\n",
              "      <td>62.692481</td>\n",
              "    </tr>\n",
              "    <tr>\n",
              "      <th>1689</th>\n",
              "      <td>2018-10-11</td>\n",
              "      <td>2583.46</td>\n",
              "      <td>0</td>\n",
              "      <td>Sell</td>\n",
              "      <td>0</td>\n",
              "      <td>1.581880e+07</td>\n",
              "      <td>58.187958</td>\n",
              "      <td>71.410557</td>\n",
              "    </tr>\n",
              "  </tbody>\n",
              "</table>\n",
              "<p>1690 rows × 8 columns</p>\n",
              "</div>"
            ],
            "text/plain": [
              "            Date    Price  Label  ...  FinalCapital        ROR          DD\n",
              "0     2011-10-31  2468.25      1  ...  1.000000e+07   0.000000  129.598515\n",
              "1     2011-11-01  2470.02      1  ...  1.000717e+07   0.071711  129.526804\n",
              "2     2011-11-02  2504.11      1  ...  1.014529e+07   1.452851  128.145663\n",
              "3     2011-11-03  2508.09      1  ...  1.016141e+07   1.614099  127.984416\n",
              "4     2011-11-04  2528.29      1  ...  1.024325e+07   2.432493  127.166022\n",
              "...          ...      ...    ...  ...           ...        ...         ...\n",
              "1685  2018-09-28  2821.35      1  ...  1.727542e+07  72.754211   56.844304\n",
              "1686  2018-10-08  2716.51      1  ...  1.663347e+07  66.334748   63.263766\n",
              "1687  2018-10-09  2721.01      1  ...  1.666103e+07  66.610288   62.988227\n",
              "1688  2018-10-10  2725.84      1  ...  1.669060e+07  66.906034   62.692481\n",
              "1689  2018-10-11  2583.46      0  ...  1.581880e+07  58.187958   71.410557\n",
              "\n",
              "[1690 rows x 8 columns]"
            ]
          },
          "metadata": {
            "tags": []
          },
          "execution_count": 64
        }
      ]
    },
    {
      "cell_type": "markdown",
      "metadata": {
        "id": "_705rV33kp9a"
      },
      "source": [
        "## GRU_beta"
      ]
    },
    {
      "cell_type": "code",
      "metadata": {
        "colab": {
          "base_uri": "https://localhost:8080/",
          "height": 487
        },
        "id": "jFD7Q6xXkOCP",
        "outputId": "652b2a15-2177-44bf-fcf1-71bea0b2cfd1"
      },
      "source": [
        "df = pd.read_csv('gru_beta_001.csv')\n",
        "\n",
        "data = {'Date': df['DATE'], 'Price': df['closingprice'],\n",
        "        'Label': df['labels'], 'Trade Signal': '', 'Number of Shares': '0'}\n",
        "df_new = pd.DataFrame(data)\n",
        "\n",
        "metrics_ = metrics(df_new, InitialCapital)\n",
        "metrics_.to_csv('001_gru_beta_metrics.csv')\n",
        "metrics_"
      ],
      "execution_count": null,
      "outputs": [
        {
          "output_type": "stream",
          "text": [
            "Sharpe Ratio = 1.6037816358601409 \n",
            "\n",
            "MDD = 112.9492806817018 \n",
            "\n"
          ],
          "name": "stdout"
        },
        {
          "output_type": "execute_result",
          "data": {
            "text/html": [
              "<div>\n",
              "<style scoped>\n",
              "    .dataframe tbody tr th:only-of-type {\n",
              "        vertical-align: middle;\n",
              "    }\n",
              "\n",
              "    .dataframe tbody tr th {\n",
              "        vertical-align: top;\n",
              "    }\n",
              "\n",
              "    .dataframe thead th {\n",
              "        text-align: right;\n",
              "    }\n",
              "</style>\n",
              "<table border=\"1\" class=\"dataframe\">\n",
              "  <thead>\n",
              "    <tr style=\"text-align: right;\">\n",
              "      <th></th>\n",
              "      <th>Date</th>\n",
              "      <th>Price</th>\n",
              "      <th>Label</th>\n",
              "      <th>Trade Signal</th>\n",
              "      <th>Number of Shares</th>\n",
              "      <th>FinalCapital</th>\n",
              "      <th>ROR</th>\n",
              "      <th>DD</th>\n",
              "    </tr>\n",
              "  </thead>\n",
              "  <tbody>\n",
              "    <tr>\n",
              "      <th>0</th>\n",
              "      <td>2011-12-15</td>\n",
              "      <td>2180.89</td>\n",
              "      <td>0</td>\n",
              "      <td></td>\n",
              "      <td>0</td>\n",
              "      <td>1.000000e+07</td>\n",
              "      <td>0.000000</td>\n",
              "      <td>103.732527</td>\n",
              "    </tr>\n",
              "    <tr>\n",
              "      <th>1</th>\n",
              "      <td>2011-12-16</td>\n",
              "      <td>2224.84</td>\n",
              "      <td>0</td>\n",
              "      <td></td>\n",
              "      <td>0</td>\n",
              "      <td>1.000000e+07</td>\n",
              "      <td>0.000000</td>\n",
              "      <td>103.732527</td>\n",
              "    </tr>\n",
              "    <tr>\n",
              "      <th>2</th>\n",
              "      <td>2011-12-19</td>\n",
              "      <td>2218.24</td>\n",
              "      <td>0</td>\n",
              "      <td></td>\n",
              "      <td>0</td>\n",
              "      <td>1.000000e+07</td>\n",
              "      <td>0.000000</td>\n",
              "      <td>103.732527</td>\n",
              "    </tr>\n",
              "    <tr>\n",
              "      <th>3</th>\n",
              "      <td>2011-12-20</td>\n",
              "      <td>2215.92</td>\n",
              "      <td>0</td>\n",
              "      <td></td>\n",
              "      <td>0</td>\n",
              "      <td>1.000000e+07</td>\n",
              "      <td>0.000000</td>\n",
              "      <td>103.732527</td>\n",
              "    </tr>\n",
              "    <tr>\n",
              "      <th>4</th>\n",
              "      <td>2011-12-21</td>\n",
              "      <td>2191.14</td>\n",
              "      <td>0</td>\n",
              "      <td></td>\n",
              "      <td>0</td>\n",
              "      <td>1.000000e+07</td>\n",
              "      <td>0.000000</td>\n",
              "      <td>103.732527</td>\n",
              "    </tr>\n",
              "    <tr>\n",
              "      <th>...</th>\n",
              "      <td>...</td>\n",
              "      <td>...</td>\n",
              "      <td>...</td>\n",
              "      <td>...</td>\n",
              "      <td>...</td>\n",
              "      <td>...</td>\n",
              "      <td>...</td>\n",
              "      <td>...</td>\n",
              "    </tr>\n",
              "    <tr>\n",
              "      <th>1652</th>\n",
              "      <td>2018-09-28</td>\n",
              "      <td>2821.35</td>\n",
              "      <td>1</td>\n",
              "      <td></td>\n",
              "      <td>5904.10</td>\n",
              "      <td>1.665755e+07</td>\n",
              "      <td>66.575456</td>\n",
              "      <td>37.157071</td>\n",
              "    </tr>\n",
              "    <tr>\n",
              "      <th>1653</th>\n",
              "      <td>2018-10-08</td>\n",
              "      <td>2716.51</td>\n",
              "      <td>0</td>\n",
              "      <td>Sell</td>\n",
              "      <td>0</td>\n",
              "      <td>1.603856e+07</td>\n",
              "      <td>60.385592</td>\n",
              "      <td>43.346935</td>\n",
              "    </tr>\n",
              "    <tr>\n",
              "      <th>1654</th>\n",
              "      <td>2018-10-09</td>\n",
              "      <td>2721.01</td>\n",
              "      <td>0</td>\n",
              "      <td></td>\n",
              "      <td>0</td>\n",
              "      <td>1.603856e+07</td>\n",
              "      <td>60.385592</td>\n",
              "      <td>43.346935</td>\n",
              "    </tr>\n",
              "    <tr>\n",
              "      <th>1655</th>\n",
              "      <td>2018-10-10</td>\n",
              "      <td>2725.84</td>\n",
              "      <td>0</td>\n",
              "      <td></td>\n",
              "      <td>0</td>\n",
              "      <td>1.603856e+07</td>\n",
              "      <td>60.385592</td>\n",
              "      <td>43.346935</td>\n",
              "    </tr>\n",
              "    <tr>\n",
              "      <th>1656</th>\n",
              "      <td>2018-10-11</td>\n",
              "      <td>2583.46</td>\n",
              "      <td>0</td>\n",
              "      <td></td>\n",
              "      <td>0</td>\n",
              "      <td>1.603856e+07</td>\n",
              "      <td>60.385592</td>\n",
              "      <td>43.346935</td>\n",
              "    </tr>\n",
              "  </tbody>\n",
              "</table>\n",
              "<p>1657 rows × 8 columns</p>\n",
              "</div>"
            ],
            "text/plain": [
              "            Date    Price  Label  ...  FinalCapital        ROR          DD\n",
              "0     2011-12-15  2180.89      0  ...  1.000000e+07   0.000000  103.732527\n",
              "1     2011-12-16  2224.84      0  ...  1.000000e+07   0.000000  103.732527\n",
              "2     2011-12-19  2218.24      0  ...  1.000000e+07   0.000000  103.732527\n",
              "3     2011-12-20  2215.92      0  ...  1.000000e+07   0.000000  103.732527\n",
              "4     2011-12-21  2191.14      0  ...  1.000000e+07   0.000000  103.732527\n",
              "...          ...      ...    ...  ...           ...        ...         ...\n",
              "1652  2018-09-28  2821.35      1  ...  1.665755e+07  66.575456   37.157071\n",
              "1653  2018-10-08  2716.51      0  ...  1.603856e+07  60.385592   43.346935\n",
              "1654  2018-10-09  2721.01      0  ...  1.603856e+07  60.385592   43.346935\n",
              "1655  2018-10-10  2725.84      0  ...  1.603856e+07  60.385592   43.346935\n",
              "1656  2018-10-11  2583.46      0  ...  1.603856e+07  60.385592   43.346935\n",
              "\n",
              "[1657 rows x 8 columns]"
            ]
          },
          "metadata": {
            "tags": []
          },
          "execution_count": 65
        }
      ]
    },
    {
      "cell_type": "markdown",
      "metadata": {
        "id": "JNtcgJiRk-wT"
      },
      "source": [
        "## SVM"
      ]
    },
    {
      "cell_type": "code",
      "metadata": {
        "colab": {
          "base_uri": "https://localhost:8080/",
          "height": 487
        },
        "id": "-DVwRsYckoJH",
        "outputId": "b19a2d58-599b-4697-a8dd-7536455fff59"
      },
      "source": [
        "df = pd.read_csv('svm_001.csv')\n",
        "\n",
        "data = {'Date': df['DATE'], 'Price': df['closingprice'],\n",
        "        'Label': df['labels'], 'Trade Signal': '', 'Number of Shares': '0'}\n",
        "df_new = pd.DataFrame(data)\n",
        "\n",
        "metrics_ = metrics(df_new, InitialCapital)\n",
        "metrics_.to_csv('001_svm_metrics.csv')\n",
        "metrics_"
      ],
      "execution_count": null,
      "outputs": [
        {
          "output_type": "stream",
          "text": [
            "Sharpe Ratio = 2.008094490741153 \n",
            "\n",
            "MDD = 137.8203941588056 \n",
            "\n"
          ],
          "name": "stdout"
        },
        {
          "output_type": "execute_result",
          "data": {
            "text/html": [
              "<div>\n",
              "<style scoped>\n",
              "    .dataframe tbody tr th:only-of-type {\n",
              "        vertical-align: middle;\n",
              "    }\n",
              "\n",
              "    .dataframe tbody tr th {\n",
              "        vertical-align: top;\n",
              "    }\n",
              "\n",
              "    .dataframe thead th {\n",
              "        text-align: right;\n",
              "    }\n",
              "</style>\n",
              "<table border=\"1\" class=\"dataframe\">\n",
              "  <thead>\n",
              "    <tr style=\"text-align: right;\">\n",
              "      <th></th>\n",
              "      <th>Date</th>\n",
              "      <th>Price</th>\n",
              "      <th>Label</th>\n",
              "      <th>Trade Signal</th>\n",
              "      <th>Number of Shares</th>\n",
              "      <th>FinalCapital</th>\n",
              "      <th>ROR</th>\n",
              "      <th>DD</th>\n",
              "    </tr>\n",
              "  </thead>\n",
              "  <tbody>\n",
              "    <tr>\n",
              "      <th>0</th>\n",
              "      <td>2011-10-31</td>\n",
              "      <td>2468.25</td>\n",
              "      <td>1</td>\n",
              "      <td>Buy</td>\n",
              "      <td>4051.45</td>\n",
              "      <td>1.000000e+07</td>\n",
              "      <td>0.000000</td>\n",
              "      <td>129.844448</td>\n",
              "    </tr>\n",
              "    <tr>\n",
              "      <th>1</th>\n",
              "      <td>2011-11-01</td>\n",
              "      <td>2470.02</td>\n",
              "      <td>1</td>\n",
              "      <td></td>\n",
              "      <td>4051.45</td>\n",
              "      <td>1.000717e+07</td>\n",
              "      <td>0.071711</td>\n",
              "      <td>129.772737</td>\n",
              "    </tr>\n",
              "    <tr>\n",
              "      <th>2</th>\n",
              "      <td>2011-11-02</td>\n",
              "      <td>2504.11</td>\n",
              "      <td>1</td>\n",
              "      <td></td>\n",
              "      <td>4051.45</td>\n",
              "      <td>1.014529e+07</td>\n",
              "      <td>1.452851</td>\n",
              "      <td>128.391597</td>\n",
              "    </tr>\n",
              "    <tr>\n",
              "      <th>3</th>\n",
              "      <td>2011-11-03</td>\n",
              "      <td>2508.09</td>\n",
              "      <td>1</td>\n",
              "      <td></td>\n",
              "      <td>4051.45</td>\n",
              "      <td>1.016141e+07</td>\n",
              "      <td>1.614099</td>\n",
              "      <td>128.230349</td>\n",
              "    </tr>\n",
              "    <tr>\n",
              "      <th>4</th>\n",
              "      <td>2011-11-04</td>\n",
              "      <td>2528.29</td>\n",
              "      <td>1</td>\n",
              "      <td></td>\n",
              "      <td>4051.45</td>\n",
              "      <td>1.024325e+07</td>\n",
              "      <td>2.432493</td>\n",
              "      <td>127.411955</td>\n",
              "    </tr>\n",
              "    <tr>\n",
              "      <th>...</th>\n",
              "      <td>...</td>\n",
              "      <td>...</td>\n",
              "      <td>...</td>\n",
              "      <td>...</td>\n",
              "      <td>...</td>\n",
              "      <td>...</td>\n",
              "      <td>...</td>\n",
              "      <td>...</td>\n",
              "    </tr>\n",
              "    <tr>\n",
              "      <th>1685</th>\n",
              "      <td>2018-09-28</td>\n",
              "      <td>2821.35</td>\n",
              "      <td>1</td>\n",
              "      <td></td>\n",
              "      <td>7134.02</td>\n",
              "      <td>2.012756e+07</td>\n",
              "      <td>101.275562</td>\n",
              "      <td>28.568886</td>\n",
              "    </tr>\n",
              "    <tr>\n",
              "      <th>1686</th>\n",
              "      <td>2018-10-08</td>\n",
              "      <td>2716.51</td>\n",
              "      <td>1</td>\n",
              "      <td></td>\n",
              "      <td>7134.02</td>\n",
              "      <td>1.937963e+07</td>\n",
              "      <td>93.796259</td>\n",
              "      <td>36.048189</td>\n",
              "    </tr>\n",
              "    <tr>\n",
              "      <th>1687</th>\n",
              "      <td>2018-10-09</td>\n",
              "      <td>2721.01</td>\n",
              "      <td>1</td>\n",
              "      <td></td>\n",
              "      <td>7134.02</td>\n",
              "      <td>1.941173e+07</td>\n",
              "      <td>94.117290</td>\n",
              "      <td>35.727158</td>\n",
              "    </tr>\n",
              "    <tr>\n",
              "      <th>1688</th>\n",
              "      <td>2018-10-10</td>\n",
              "      <td>2725.84</td>\n",
              "      <td>0</td>\n",
              "      <td>Sell</td>\n",
              "      <td>0</td>\n",
              "      <td>1.944619e+07</td>\n",
              "      <td>94.461863</td>\n",
              "      <td>35.382585</td>\n",
              "    </tr>\n",
              "    <tr>\n",
              "      <th>1689</th>\n",
              "      <td>2018-10-11</td>\n",
              "      <td>2583.46</td>\n",
              "      <td>0</td>\n",
              "      <td></td>\n",
              "      <td>0</td>\n",
              "      <td>1.944619e+07</td>\n",
              "      <td>94.461863</td>\n",
              "      <td>35.382585</td>\n",
              "    </tr>\n",
              "  </tbody>\n",
              "</table>\n",
              "<p>1690 rows × 8 columns</p>\n",
              "</div>"
            ],
            "text/plain": [
              "            Date    Price  Label  ...  FinalCapital         ROR          DD\n",
              "0     2011-10-31  2468.25      1  ...  1.000000e+07    0.000000  129.844448\n",
              "1     2011-11-01  2470.02      1  ...  1.000717e+07    0.071711  129.772737\n",
              "2     2011-11-02  2504.11      1  ...  1.014529e+07    1.452851  128.391597\n",
              "3     2011-11-03  2508.09      1  ...  1.016141e+07    1.614099  128.230349\n",
              "4     2011-11-04  2528.29      1  ...  1.024325e+07    2.432493  127.411955\n",
              "...          ...      ...    ...  ...           ...         ...         ...\n",
              "1685  2018-09-28  2821.35      1  ...  2.012756e+07  101.275562   28.568886\n",
              "1686  2018-10-08  2716.51      1  ...  1.937963e+07   93.796259   36.048189\n",
              "1687  2018-10-09  2721.01      1  ...  1.941173e+07   94.117290   35.727158\n",
              "1688  2018-10-10  2725.84      0  ...  1.944619e+07   94.461863   35.382585\n",
              "1689  2018-10-11  2583.46      0  ...  1.944619e+07   94.461863   35.382585\n",
              "\n",
              "[1690 rows x 8 columns]"
            ]
          },
          "metadata": {
            "tags": []
          },
          "execution_count": 66
        }
      ]
    },
    {
      "cell_type": "markdown",
      "metadata": {
        "id": "6uYExpiKmbz_"
      },
      "source": [
        "## SVM_beta\n"
      ]
    },
    {
      "cell_type": "code",
      "metadata": {
        "colab": {
          "base_uri": "https://localhost:8080/",
          "height": 487
        },
        "id": "Q4TdMfeClMsu",
        "outputId": "249ee1cf-3e62-4f17-9bcf-5b63a348b514"
      },
      "source": [
        "df = pd.read_csv('svm_beta_001.csv')\n",
        "\n",
        "data = {'Date': df['DATE'], 'Price': df['closingprice'],\n",
        "        'Label': df['labels'], 'Trade Signal': '', 'Number of Shares': '0'}\n",
        "df_new = pd.DataFrame(data)\n",
        "\n",
        "metrics_ = metrics(df_new, InitialCapital)\n",
        "metrics_.to_csv('001_svm_beta_metrics.csv')\n",
        "metrics_"
      ],
      "execution_count": null,
      "outputs": [
        {
          "output_type": "stream",
          "text": [
            "Sharpe Ratio = 1.5766596078058162 \n",
            "\n",
            "MDD = 100.8300252248614 \n",
            "\n"
          ],
          "name": "stdout"
        },
        {
          "output_type": "execute_result",
          "data": {
            "text/html": [
              "<div>\n",
              "<style scoped>\n",
              "    .dataframe tbody tr th:only-of-type {\n",
              "        vertical-align: middle;\n",
              "    }\n",
              "\n",
              "    .dataframe tbody tr th {\n",
              "        vertical-align: top;\n",
              "    }\n",
              "\n",
              "    .dataframe thead th {\n",
              "        text-align: right;\n",
              "    }\n",
              "</style>\n",
              "<table border=\"1\" class=\"dataframe\">\n",
              "  <thead>\n",
              "    <tr style=\"text-align: right;\">\n",
              "      <th></th>\n",
              "      <th>Date</th>\n",
              "      <th>Price</th>\n",
              "      <th>Label</th>\n",
              "      <th>Trade Signal</th>\n",
              "      <th>Number of Shares</th>\n",
              "      <th>FinalCapital</th>\n",
              "      <th>ROR</th>\n",
              "      <th>DD</th>\n",
              "    </tr>\n",
              "  </thead>\n",
              "  <tbody>\n",
              "    <tr>\n",
              "      <th>0</th>\n",
              "      <td>2011-12-15</td>\n",
              "      <td>2180.89</td>\n",
              "      <td>0</td>\n",
              "      <td></td>\n",
              "      <td>0</td>\n",
              "      <td>1.000000e+07</td>\n",
              "      <td>0.000000</td>\n",
              "      <td>83.334653</td>\n",
              "    </tr>\n",
              "    <tr>\n",
              "      <th>1</th>\n",
              "      <td>2011-12-16</td>\n",
              "      <td>2224.84</td>\n",
              "      <td>0</td>\n",
              "      <td></td>\n",
              "      <td>0</td>\n",
              "      <td>1.000000e+07</td>\n",
              "      <td>0.000000</td>\n",
              "      <td>83.334653</td>\n",
              "    </tr>\n",
              "    <tr>\n",
              "      <th>2</th>\n",
              "      <td>2011-12-19</td>\n",
              "      <td>2218.24</td>\n",
              "      <td>0</td>\n",
              "      <td></td>\n",
              "      <td>0</td>\n",
              "      <td>1.000000e+07</td>\n",
              "      <td>0.000000</td>\n",
              "      <td>83.334653</td>\n",
              "    </tr>\n",
              "    <tr>\n",
              "      <th>3</th>\n",
              "      <td>2011-12-20</td>\n",
              "      <td>2215.92</td>\n",
              "      <td>0</td>\n",
              "      <td></td>\n",
              "      <td>0</td>\n",
              "      <td>1.000000e+07</td>\n",
              "      <td>0.000000</td>\n",
              "      <td>83.334653</td>\n",
              "    </tr>\n",
              "    <tr>\n",
              "      <th>4</th>\n",
              "      <td>2011-12-21</td>\n",
              "      <td>2191.14</td>\n",
              "      <td>0</td>\n",
              "      <td></td>\n",
              "      <td>0</td>\n",
              "      <td>1.000000e+07</td>\n",
              "      <td>0.000000</td>\n",
              "      <td>83.334653</td>\n",
              "    </tr>\n",
              "    <tr>\n",
              "      <th>...</th>\n",
              "      <td>...</td>\n",
              "      <td>...</td>\n",
              "      <td>...</td>\n",
              "      <td>...</td>\n",
              "      <td>...</td>\n",
              "      <td>...</td>\n",
              "      <td>...</td>\n",
              "      <td>...</td>\n",
              "    </tr>\n",
              "    <tr>\n",
              "      <th>1652</th>\n",
              "      <td>2018-09-28</td>\n",
              "      <td>2821.35</td>\n",
              "      <td>1</td>\n",
              "      <td></td>\n",
              "      <td>5743.37</td>\n",
              "      <td>1.620406e+07</td>\n",
              "      <td>62.040623</td>\n",
              "      <td>21.294030</td>\n",
              "    </tr>\n",
              "    <tr>\n",
              "      <th>1653</th>\n",
              "      <td>2018-10-08</td>\n",
              "      <td>2716.51</td>\n",
              "      <td>0</td>\n",
              "      <td>Sell</td>\n",
              "      <td>0</td>\n",
              "      <td>1.560193e+07</td>\n",
              "      <td>56.019272</td>\n",
              "      <td>27.315381</td>\n",
              "    </tr>\n",
              "    <tr>\n",
              "      <th>1654</th>\n",
              "      <td>2018-10-09</td>\n",
              "      <td>2721.01</td>\n",
              "      <td>0</td>\n",
              "      <td></td>\n",
              "      <td>0</td>\n",
              "      <td>1.560193e+07</td>\n",
              "      <td>56.019272</td>\n",
              "      <td>27.315381</td>\n",
              "    </tr>\n",
              "    <tr>\n",
              "      <th>1655</th>\n",
              "      <td>2018-10-10</td>\n",
              "      <td>2725.84</td>\n",
              "      <td>0</td>\n",
              "      <td></td>\n",
              "      <td>0</td>\n",
              "      <td>1.560193e+07</td>\n",
              "      <td>56.019272</td>\n",
              "      <td>27.315381</td>\n",
              "    </tr>\n",
              "    <tr>\n",
              "      <th>1656</th>\n",
              "      <td>2018-10-11</td>\n",
              "      <td>2583.46</td>\n",
              "      <td>0</td>\n",
              "      <td></td>\n",
              "      <td>0</td>\n",
              "      <td>1.560193e+07</td>\n",
              "      <td>56.019272</td>\n",
              "      <td>27.315381</td>\n",
              "    </tr>\n",
              "  </tbody>\n",
              "</table>\n",
              "<p>1657 rows × 8 columns</p>\n",
              "</div>"
            ],
            "text/plain": [
              "            Date    Price  Label  ...  FinalCapital        ROR         DD\n",
              "0     2011-12-15  2180.89      0  ...  1.000000e+07   0.000000  83.334653\n",
              "1     2011-12-16  2224.84      0  ...  1.000000e+07   0.000000  83.334653\n",
              "2     2011-12-19  2218.24      0  ...  1.000000e+07   0.000000  83.334653\n",
              "3     2011-12-20  2215.92      0  ...  1.000000e+07   0.000000  83.334653\n",
              "4     2011-12-21  2191.14      0  ...  1.000000e+07   0.000000  83.334653\n",
              "...          ...      ...    ...  ...           ...        ...        ...\n",
              "1652  2018-09-28  2821.35      1  ...  1.620406e+07  62.040623  21.294030\n",
              "1653  2018-10-08  2716.51      0  ...  1.560193e+07  56.019272  27.315381\n",
              "1654  2018-10-09  2721.01      0  ...  1.560193e+07  56.019272  27.315381\n",
              "1655  2018-10-10  2725.84      0  ...  1.560193e+07  56.019272  27.315381\n",
              "1656  2018-10-11  2583.46      0  ...  1.560193e+07  56.019272  27.315381\n",
              "\n",
              "[1657 rows x 8 columns]"
            ]
          },
          "metadata": {
            "tags": []
          },
          "execution_count": 67
        }
      ]
    },
    {
      "cell_type": "markdown",
      "metadata": {
        "id": "uvwBV2aum0ae"
      },
      "source": [
        "## XGBoost"
      ]
    },
    {
      "cell_type": "code",
      "metadata": {
        "colab": {
          "base_uri": "https://localhost:8080/",
          "height": 487
        },
        "id": "_yHb61wumpXS",
        "outputId": "cf6e4374-dd82-45a8-c712-0a407fcae601"
      },
      "source": [
        "df = pd.read_csv('xgboost_001.csv')\n",
        "\n",
        "data = {'Date': df['DATE'], 'Price': df['closingprice'],\n",
        "        'Label': df['labels'], 'Trade Signal': '', 'Number of Shares': '0'}\n",
        "df_new = pd.DataFrame(data)\n",
        "\n",
        "metrics_ = metrics(df_new, InitialCapital)\n",
        "metrics_.to_csv('001_xgboost_metrics.csv')\n",
        "metrics_"
      ],
      "execution_count": null,
      "outputs": [
        {
          "output_type": "stream",
          "text": [
            "Sharpe Ratio = 1.669834474858571 \n",
            "\n",
            "MDD = 84.75963455486735 \n",
            "\n"
          ],
          "name": "stdout"
        },
        {
          "output_type": "execute_result",
          "data": {
            "text/html": [
              "<div>\n",
              "<style scoped>\n",
              "    .dataframe tbody tr th:only-of-type {\n",
              "        vertical-align: middle;\n",
              "    }\n",
              "\n",
              "    .dataframe tbody tr th {\n",
              "        vertical-align: top;\n",
              "    }\n",
              "\n",
              "    .dataframe thead th {\n",
              "        text-align: right;\n",
              "    }\n",
              "</style>\n",
              "<table border=\"1\" class=\"dataframe\">\n",
              "  <thead>\n",
              "    <tr style=\"text-align: right;\">\n",
              "      <th></th>\n",
              "      <th>Date</th>\n",
              "      <th>Price</th>\n",
              "      <th>Label</th>\n",
              "      <th>Trade Signal</th>\n",
              "      <th>Number of Shares</th>\n",
              "      <th>FinalCapital</th>\n",
              "      <th>ROR</th>\n",
              "      <th>DD</th>\n",
              "    </tr>\n",
              "  </thead>\n",
              "  <tbody>\n",
              "    <tr>\n",
              "      <th>0</th>\n",
              "      <td>2011-10-31</td>\n",
              "      <td>2468.25</td>\n",
              "      <td>1</td>\n",
              "      <td>Buy</td>\n",
              "      <td>4051.45</td>\n",
              "      <td>1.000000e+07</td>\n",
              "      <td>0.000000</td>\n",
              "      <td>73.015204</td>\n",
              "    </tr>\n",
              "    <tr>\n",
              "      <th>1</th>\n",
              "      <td>2011-11-01</td>\n",
              "      <td>2470.02</td>\n",
              "      <td>1</td>\n",
              "      <td></td>\n",
              "      <td>4051.45</td>\n",
              "      <td>1.000717e+07</td>\n",
              "      <td>0.071711</td>\n",
              "      <td>72.943493</td>\n",
              "    </tr>\n",
              "    <tr>\n",
              "      <th>2</th>\n",
              "      <td>2011-11-02</td>\n",
              "      <td>2504.11</td>\n",
              "      <td>1</td>\n",
              "      <td></td>\n",
              "      <td>4051.45</td>\n",
              "      <td>1.014529e+07</td>\n",
              "      <td>1.452851</td>\n",
              "      <td>71.562353</td>\n",
              "    </tr>\n",
              "    <tr>\n",
              "      <th>3</th>\n",
              "      <td>2011-11-03</td>\n",
              "      <td>2508.09</td>\n",
              "      <td>1</td>\n",
              "      <td></td>\n",
              "      <td>4051.45</td>\n",
              "      <td>1.016141e+07</td>\n",
              "      <td>1.614099</td>\n",
              "      <td>71.401105</td>\n",
              "    </tr>\n",
              "    <tr>\n",
              "      <th>4</th>\n",
              "      <td>2011-11-04</td>\n",
              "      <td>2528.29</td>\n",
              "      <td>1</td>\n",
              "      <td></td>\n",
              "      <td>4051.45</td>\n",
              "      <td>1.024325e+07</td>\n",
              "      <td>2.432493</td>\n",
              "      <td>70.582711</td>\n",
              "    </tr>\n",
              "    <tr>\n",
              "      <th>...</th>\n",
              "      <td>...</td>\n",
              "      <td>...</td>\n",
              "      <td>...</td>\n",
              "      <td>...</td>\n",
              "      <td>...</td>\n",
              "      <td>...</td>\n",
              "      <td>...</td>\n",
              "      <td>...</td>\n",
              "    </tr>\n",
              "    <tr>\n",
              "      <th>1685</th>\n",
              "      <td>2018-09-28</td>\n",
              "      <td>2821.35</td>\n",
              "      <td>1</td>\n",
              "      <td></td>\n",
              "      <td>5504.42</td>\n",
              "      <td>1.552989e+07</td>\n",
              "      <td>55.298851</td>\n",
              "      <td>17.716353</td>\n",
              "    </tr>\n",
              "    <tr>\n",
              "      <th>1686</th>\n",
              "      <td>2018-10-08</td>\n",
              "      <td>2716.51</td>\n",
              "      <td>0</td>\n",
              "      <td>Sell</td>\n",
              "      <td>0</td>\n",
              "      <td>1.495280e+07</td>\n",
              "      <td>49.528021</td>\n",
              "      <td>23.487183</td>\n",
              "    </tr>\n",
              "    <tr>\n",
              "      <th>1687</th>\n",
              "      <td>2018-10-09</td>\n",
              "      <td>2721.01</td>\n",
              "      <td>0</td>\n",
              "      <td></td>\n",
              "      <td>0</td>\n",
              "      <td>1.495280e+07</td>\n",
              "      <td>49.528021</td>\n",
              "      <td>23.487183</td>\n",
              "    </tr>\n",
              "    <tr>\n",
              "      <th>1688</th>\n",
              "      <td>2018-10-10</td>\n",
              "      <td>2725.84</td>\n",
              "      <td>0</td>\n",
              "      <td></td>\n",
              "      <td>0</td>\n",
              "      <td>1.495280e+07</td>\n",
              "      <td>49.528021</td>\n",
              "      <td>23.487183</td>\n",
              "    </tr>\n",
              "    <tr>\n",
              "      <th>1689</th>\n",
              "      <td>2018-10-11</td>\n",
              "      <td>2583.46</td>\n",
              "      <td>0</td>\n",
              "      <td></td>\n",
              "      <td>0</td>\n",
              "      <td>1.495280e+07</td>\n",
              "      <td>49.528021</td>\n",
              "      <td>23.487183</td>\n",
              "    </tr>\n",
              "  </tbody>\n",
              "</table>\n",
              "<p>1690 rows × 8 columns</p>\n",
              "</div>"
            ],
            "text/plain": [
              "            Date    Price  Label  ...  FinalCapital        ROR         DD\n",
              "0     2011-10-31  2468.25      1  ...  1.000000e+07   0.000000  73.015204\n",
              "1     2011-11-01  2470.02      1  ...  1.000717e+07   0.071711  72.943493\n",
              "2     2011-11-02  2504.11      1  ...  1.014529e+07   1.452851  71.562353\n",
              "3     2011-11-03  2508.09      1  ...  1.016141e+07   1.614099  71.401105\n",
              "4     2011-11-04  2528.29      1  ...  1.024325e+07   2.432493  70.582711\n",
              "...          ...      ...    ...  ...           ...        ...        ...\n",
              "1685  2018-09-28  2821.35      1  ...  1.552989e+07  55.298851  17.716353\n",
              "1686  2018-10-08  2716.51      0  ...  1.495280e+07  49.528021  23.487183\n",
              "1687  2018-10-09  2721.01      0  ...  1.495280e+07  49.528021  23.487183\n",
              "1688  2018-10-10  2725.84      0  ...  1.495280e+07  49.528021  23.487183\n",
              "1689  2018-10-11  2583.46      0  ...  1.495280e+07  49.528021  23.487183\n",
              "\n",
              "[1690 rows x 8 columns]"
            ]
          },
          "metadata": {
            "tags": []
          },
          "execution_count": 68
        }
      ]
    },
    {
      "cell_type": "markdown",
      "metadata": {
        "id": "77iYuNNbm88E"
      },
      "source": [
        "## XGBoost_beta"
      ]
    },
    {
      "cell_type": "code",
      "metadata": {
        "colab": {
          "base_uri": "https://localhost:8080/",
          "height": 487
        },
        "id": "BkzUqprKm67l",
        "outputId": "fc2241c7-1396-4469-9b1c-78fe13621468"
      },
      "source": [
        "df = pd.read_csv('xgboost_beta_001.csv')\n",
        "\n",
        "data = {'Date': df['DATE'], 'Price': df['closingprice'],\n",
        "        'Label': df['labels'], 'Trade Signal': '', 'Number of Shares': '0'}\n",
        "df_new = pd.DataFrame(data)\n",
        "\n",
        "metrics_ = metrics(df_new, InitialCapital)\n",
        "metrics_.to_csv('001_xgboost_beta_metrics.csv')\n",
        "metrics_"
      ],
      "execution_count": null,
      "outputs": [
        {
          "output_type": "stream",
          "text": [
            "Sharpe Ratio = 1.43190441113367 \n",
            "\n",
            "MDD = 105.79210039407826 \n",
            "\n"
          ],
          "name": "stdout"
        },
        {
          "output_type": "execute_result",
          "data": {
            "text/html": [
              "<div>\n",
              "<style scoped>\n",
              "    .dataframe tbody tr th:only-of-type {\n",
              "        vertical-align: middle;\n",
              "    }\n",
              "\n",
              "    .dataframe tbody tr th {\n",
              "        vertical-align: top;\n",
              "    }\n",
              "\n",
              "    .dataframe thead th {\n",
              "        text-align: right;\n",
              "    }\n",
              "</style>\n",
              "<table border=\"1\" class=\"dataframe\">\n",
              "  <thead>\n",
              "    <tr style=\"text-align: right;\">\n",
              "      <th></th>\n",
              "      <th>Date</th>\n",
              "      <th>Price</th>\n",
              "      <th>Label</th>\n",
              "      <th>Trade Signal</th>\n",
              "      <th>Number of Shares</th>\n",
              "      <th>FinalCapital</th>\n",
              "      <th>ROR</th>\n",
              "      <th>DD</th>\n",
              "    </tr>\n",
              "  </thead>\n",
              "  <tbody>\n",
              "    <tr>\n",
              "      <th>0</th>\n",
              "      <td>2011-12-15</td>\n",
              "      <td>2180.89</td>\n",
              "      <td>0</td>\n",
              "      <td></td>\n",
              "      <td>0</td>\n",
              "      <td>1.000000e+07</td>\n",
              "      <td>0.000000</td>\n",
              "      <td>88.225437</td>\n",
              "    </tr>\n",
              "    <tr>\n",
              "      <th>1</th>\n",
              "      <td>2011-12-16</td>\n",
              "      <td>2224.84</td>\n",
              "      <td>0</td>\n",
              "      <td></td>\n",
              "      <td>0</td>\n",
              "      <td>1.000000e+07</td>\n",
              "      <td>0.000000</td>\n",
              "      <td>88.225437</td>\n",
              "    </tr>\n",
              "    <tr>\n",
              "      <th>2</th>\n",
              "      <td>2011-12-19</td>\n",
              "      <td>2218.24</td>\n",
              "      <td>0</td>\n",
              "      <td></td>\n",
              "      <td>0</td>\n",
              "      <td>1.000000e+07</td>\n",
              "      <td>0.000000</td>\n",
              "      <td>88.225437</td>\n",
              "    </tr>\n",
              "    <tr>\n",
              "      <th>3</th>\n",
              "      <td>2011-12-20</td>\n",
              "      <td>2215.92</td>\n",
              "      <td>0</td>\n",
              "      <td></td>\n",
              "      <td>0</td>\n",
              "      <td>1.000000e+07</td>\n",
              "      <td>0.000000</td>\n",
              "      <td>88.225437</td>\n",
              "    </tr>\n",
              "    <tr>\n",
              "      <th>4</th>\n",
              "      <td>2011-12-21</td>\n",
              "      <td>2191.14</td>\n",
              "      <td>0</td>\n",
              "      <td></td>\n",
              "      <td>0</td>\n",
              "      <td>1.000000e+07</td>\n",
              "      <td>0.000000</td>\n",
              "      <td>88.225437</td>\n",
              "    </tr>\n",
              "    <tr>\n",
              "      <th>...</th>\n",
              "      <td>...</td>\n",
              "      <td>...</td>\n",
              "      <td>...</td>\n",
              "      <td>...</td>\n",
              "      <td>...</td>\n",
              "      <td>...</td>\n",
              "      <td>...</td>\n",
              "      <td>...</td>\n",
              "    </tr>\n",
              "    <tr>\n",
              "      <th>1652</th>\n",
              "      <td>2018-09-28</td>\n",
              "      <td>2821.35</td>\n",
              "      <td>1</td>\n",
              "      <td></td>\n",
              "      <td>5517.58</td>\n",
              "      <td>1.556702e+07</td>\n",
              "      <td>55.670157</td>\n",
              "      <td>32.555280</td>\n",
              "    </tr>\n",
              "    <tr>\n",
              "      <th>1653</th>\n",
              "      <td>2018-10-08</td>\n",
              "      <td>2716.51</td>\n",
              "      <td>0</td>\n",
              "      <td>Sell</td>\n",
              "      <td>0</td>\n",
              "      <td>1.498855e+07</td>\n",
              "      <td>49.885529</td>\n",
              "      <td>38.339907</td>\n",
              "    </tr>\n",
              "    <tr>\n",
              "      <th>1654</th>\n",
              "      <td>2018-10-09</td>\n",
              "      <td>2721.01</td>\n",
              "      <td>0</td>\n",
              "      <td></td>\n",
              "      <td>0</td>\n",
              "      <td>1.498855e+07</td>\n",
              "      <td>49.885529</td>\n",
              "      <td>38.339907</td>\n",
              "    </tr>\n",
              "    <tr>\n",
              "      <th>1655</th>\n",
              "      <td>2018-10-10</td>\n",
              "      <td>2725.84</td>\n",
              "      <td>0</td>\n",
              "      <td></td>\n",
              "      <td>0</td>\n",
              "      <td>1.498855e+07</td>\n",
              "      <td>49.885529</td>\n",
              "      <td>38.339907</td>\n",
              "    </tr>\n",
              "    <tr>\n",
              "      <th>1656</th>\n",
              "      <td>2018-10-11</td>\n",
              "      <td>2583.46</td>\n",
              "      <td>0</td>\n",
              "      <td></td>\n",
              "      <td>0</td>\n",
              "      <td>1.498855e+07</td>\n",
              "      <td>49.885529</td>\n",
              "      <td>38.339907</td>\n",
              "    </tr>\n",
              "  </tbody>\n",
              "</table>\n",
              "<p>1657 rows × 8 columns</p>\n",
              "</div>"
            ],
            "text/plain": [
              "            Date    Price  Label  ...  FinalCapital        ROR         DD\n",
              "0     2011-12-15  2180.89      0  ...  1.000000e+07   0.000000  88.225437\n",
              "1     2011-12-16  2224.84      0  ...  1.000000e+07   0.000000  88.225437\n",
              "2     2011-12-19  2218.24      0  ...  1.000000e+07   0.000000  88.225437\n",
              "3     2011-12-20  2215.92      0  ...  1.000000e+07   0.000000  88.225437\n",
              "4     2011-12-21  2191.14      0  ...  1.000000e+07   0.000000  88.225437\n",
              "...          ...      ...    ...  ...           ...        ...        ...\n",
              "1652  2018-09-28  2821.35      1  ...  1.556702e+07  55.670157  32.555280\n",
              "1653  2018-10-08  2716.51      0  ...  1.498855e+07  49.885529  38.339907\n",
              "1654  2018-10-09  2721.01      0  ...  1.498855e+07  49.885529  38.339907\n",
              "1655  2018-10-10  2725.84      0  ...  1.498855e+07  49.885529  38.339907\n",
              "1656  2018-10-11  2583.46      0  ...  1.498855e+07  49.885529  38.339907\n",
              "\n",
              "[1657 rows x 8 columns]"
            ]
          },
          "metadata": {
            "tags": []
          },
          "execution_count": 69
        }
      ]
    },
    {
      "cell_type": "code",
      "metadata": {
        "id": "A2yKN0URnFLL"
      },
      "source": [
        ""
      ],
      "execution_count": null,
      "outputs": []
    },
    {
      "cell_type": "markdown",
      "metadata": {
        "id": "FP1b99WunZ7z"
      },
      "source": [
        "# ETH"
      ]
    },
    {
      "cell_type": "markdown",
      "metadata": {
        "id": "faHHL7TcncIb"
      },
      "source": [
        "## LSTM"
      ]
    },
    {
      "cell_type": "code",
      "metadata": {
        "colab": {
          "base_uri": "https://localhost:8080/",
          "height": 204
        },
        "id": "stv3iunvoIKM",
        "outputId": "04b4f65f-935b-4de3-cb69-654c9e9397d7"
      },
      "source": [
        "df.head()"
      ],
      "execution_count": null,
      "outputs": [
        {
          "output_type": "execute_result",
          "data": {
            "text/html": [
              "<div>\n",
              "<style scoped>\n",
              "    .dataframe tbody tr th:only-of-type {\n",
              "        vertical-align: middle;\n",
              "    }\n",
              "\n",
              "    .dataframe tbody tr th {\n",
              "        vertical-align: top;\n",
              "    }\n",
              "\n",
              "    .dataframe thead th {\n",
              "        text-align: right;\n",
              "    }\n",
              "</style>\n",
              "<table border=\"1\" class=\"dataframe\">\n",
              "  <thead>\n",
              "    <tr style=\"text-align: right;\">\n",
              "      <th></th>\n",
              "      <th>Unnamed: 0</th>\n",
              "      <th>index</th>\n",
              "      <th>Date</th>\n",
              "      <th>Price</th>\n",
              "      <th>Open</th>\n",
              "      <th>High</th>\n",
              "      <th>Low</th>\n",
              "      <th>Vol.</th>\n",
              "      <th>Change %</th>\n",
              "      <th>labels</th>\n",
              "    </tr>\n",
              "  </thead>\n",
              "  <tbody>\n",
              "    <tr>\n",
              "      <th>0</th>\n",
              "      <td>810</td>\n",
              "      <td>682</td>\n",
              "      <td>Sep 23, 2019</td>\n",
              "      <td>201.18</td>\n",
              "      <td>211.16</td>\n",
              "      <td>211.76</td>\n",
              "      <td>199.82</td>\n",
              "      <td>9.65M</td>\n",
              "      <td>-4.71%</td>\n",
              "      <td>1</td>\n",
              "    </tr>\n",
              "    <tr>\n",
              "      <th>1</th>\n",
              "      <td>811</td>\n",
              "      <td>681</td>\n",
              "      <td>Sep 24, 2019</td>\n",
              "      <td>166.29</td>\n",
              "      <td>201.22</td>\n",
              "      <td>202.97</td>\n",
              "      <td>164.78</td>\n",
              "      <td>19.02M</td>\n",
              "      <td>-17.34%</td>\n",
              "      <td>0</td>\n",
              "    </tr>\n",
              "    <tr>\n",
              "      <th>2</th>\n",
              "      <td>812</td>\n",
              "      <td>680</td>\n",
              "      <td>Sep 25, 2019</td>\n",
              "      <td>168.92</td>\n",
              "      <td>166.29</td>\n",
              "      <td>174.26</td>\n",
              "      <td>162.12</td>\n",
              "      <td>13.88M</td>\n",
              "      <td>1.58%</td>\n",
              "      <td>0</td>\n",
              "    </tr>\n",
              "    <tr>\n",
              "      <th>3</th>\n",
              "      <td>813</td>\n",
              "      <td>679</td>\n",
              "      <td>Sep 26, 2019</td>\n",
              "      <td>164.56</td>\n",
              "      <td>168.93</td>\n",
              "      <td>169.81</td>\n",
              "      <td>153.17</td>\n",
              "      <td>11.97M</td>\n",
              "      <td>-2.58%</td>\n",
              "      <td>0</td>\n",
              "    </tr>\n",
              "    <tr>\n",
              "      <th>4</th>\n",
              "      <td>814</td>\n",
              "      <td>678</td>\n",
              "      <td>Sep 27, 2019</td>\n",
              "      <td>173.19</td>\n",
              "      <td>164.58</td>\n",
              "      <td>175.65</td>\n",
              "      <td>161.32</td>\n",
              "      <td>10.94M</td>\n",
              "      <td>5.24%</td>\n",
              "      <td>0</td>\n",
              "    </tr>\n",
              "  </tbody>\n",
              "</table>\n",
              "</div>"
            ],
            "text/plain": [
              "   Unnamed: 0  index          Date   Price  ...     Low    Vol. Change % labels\n",
              "0         810    682  Sep 23, 2019  201.18  ...  199.82   9.65M   -4.71%      1\n",
              "1         811    681  Sep 24, 2019  166.29  ...  164.78  19.02M  -17.34%      0\n",
              "2         812    680  Sep 25, 2019  168.92  ...  162.12  13.88M    1.58%      0\n",
              "3         813    679  Sep 26, 2019  164.56  ...  153.17  11.97M   -2.58%      0\n",
              "4         814    678  Sep 27, 2019  173.19  ...  161.32  10.94M    5.24%      0\n",
              "\n",
              "[5 rows x 10 columns]"
            ]
          },
          "metadata": {
            "tags": []
          },
          "execution_count": 75
        }
      ]
    },
    {
      "cell_type": "code",
      "metadata": {
        "colab": {
          "background_save": true,
          "base_uri": "https://localhost:8080/",
          "height": 561
        },
        "id": "0vunvPUYnbKz",
        "outputId": "3cdd1489-da6b-44dd-a5b7-695a25ac319f"
      },
      "source": [
        "df = pd.read_csv('lstm_eth.csv')\n",
        "\n",
        "data = {'Date': df['Date'], 'Price': df['close/price'],\n",
        "        'Label': df['labels'], 'Trade Signal': '', 'Number of Shares': '0'}\n",
        "df_new = pd.DataFrame(data)\n",
        "\n",
        "metrics_ = metrics(df_new, InitialCapital)\n",
        "metrics_.to_csv('eth_lstm_metrics.csv')\n",
        "metrics_"
      ],
      "execution_count": null,
      "outputs": [
        {
          "output_type": "stream",
          "text": [
            "Sharpe Ratio = 3.336297201024534 \n",
            "\n",
            "MDD = 298.43969689175935 \n",
            "\n"
          ],
          "name": "stdout"
        },
        {
          "output_type": "execute_result",
          "data": {
            "text/html": [
              "<div>\n",
              "<style scoped>\n",
              "    .dataframe tbody tr th:only-of-type {\n",
              "        vertical-align: middle;\n",
              "    }\n",
              "\n",
              "    .dataframe tbody tr th {\n",
              "        vertical-align: top;\n",
              "    }\n",
              "\n",
              "    .dataframe thead th {\n",
              "        text-align: right;\n",
              "    }\n",
              "</style>\n",
              "<table border=\"1\" class=\"dataframe\">\n",
              "  <thead>\n",
              "    <tr style=\"text-align: right;\">\n",
              "      <th></th>\n",
              "      <th>Date</th>\n",
              "      <th>Price</th>\n",
              "      <th>Label</th>\n",
              "      <th>Trade Signal</th>\n",
              "      <th>Number of Shares</th>\n",
              "      <th>FinalCapital</th>\n",
              "      <th>ROR</th>\n",
              "      <th>DD</th>\n",
              "    </tr>\n",
              "  </thead>\n",
              "  <tbody>\n",
              "    <tr>\n",
              "      <th>0</th>\n",
              "      <td>Sep 23, 2019</td>\n",
              "      <td>201.18</td>\n",
              "      <td>1</td>\n",
              "      <td>Buy</td>\n",
              "      <td>49706.73</td>\n",
              "      <td>1.000000e+07</td>\n",
              "      <td>0.000000</td>\n",
              "      <td>270.670792</td>\n",
              "    </tr>\n",
              "    <tr>\n",
              "      <th>1</th>\n",
              "      <td>Sep 24, 2019</td>\n",
              "      <td>166.29</td>\n",
              "      <td>0</td>\n",
              "      <td>Sell</td>\n",
              "      <td>0</td>\n",
              "      <td>8.265732e+06</td>\n",
              "      <td>-17.342678</td>\n",
              "      <td>288.013470</td>\n",
              "    </tr>\n",
              "    <tr>\n",
              "      <th>2</th>\n",
              "      <td>Sep 25, 2019</td>\n",
              "      <td>168.92</td>\n",
              "      <td>0</td>\n",
              "      <td></td>\n",
              "      <td>0</td>\n",
              "      <td>8.265732e+06</td>\n",
              "      <td>-17.342678</td>\n",
              "      <td>288.013470</td>\n",
              "    </tr>\n",
              "    <tr>\n",
              "      <th>3</th>\n",
              "      <td>Sep 26, 2019</td>\n",
              "      <td>164.56</td>\n",
              "      <td>0</td>\n",
              "      <td></td>\n",
              "      <td>0</td>\n",
              "      <td>8.265732e+06</td>\n",
              "      <td>-17.342678</td>\n",
              "      <td>288.013470</td>\n",
              "    </tr>\n",
              "    <tr>\n",
              "      <th>4</th>\n",
              "      <td>Sep 27, 2019</td>\n",
              "      <td>173.19</td>\n",
              "      <td>0</td>\n",
              "      <td></td>\n",
              "      <td>0</td>\n",
              "      <td>8.265732e+06</td>\n",
              "      <td>-17.342678</td>\n",
              "      <td>288.013470</td>\n",
              "    </tr>\n",
              "    <tr>\n",
              "      <th>...</th>\n",
              "      <td>...</td>\n",
              "      <td>...</td>\n",
              "      <td>...</td>\n",
              "      <td>...</td>\n",
              "      <td>...</td>\n",
              "      <td>...</td>\n",
              "      <td>...</td>\n",
              "      <td>...</td>\n",
              "    </tr>\n",
              "    <tr>\n",
              "      <th>535</th>\n",
              "      <td>Mar 11, 2021</td>\n",
              "      <td>1825.79</td>\n",
              "      <td>1</td>\n",
              "      <td></td>\n",
              "      <td>18137.49</td>\n",
              "      <td>3.311524e+07</td>\n",
              "      <td>231.152441</td>\n",
              "      <td>39.518350</td>\n",
              "    </tr>\n",
              "    <tr>\n",
              "      <th>536</th>\n",
              "      <td>Mar 12, 2021</td>\n",
              "      <td>1766.90</td>\n",
              "      <td>1</td>\n",
              "      <td></td>\n",
              "      <td>18137.49</td>\n",
              "      <td>3.204713e+07</td>\n",
              "      <td>220.471274</td>\n",
              "      <td>50.199517</td>\n",
              "    </tr>\n",
              "    <tr>\n",
              "      <th>537</th>\n",
              "      <td>Mar 13, 2021</td>\n",
              "      <td>1921.13</td>\n",
              "      <td>1</td>\n",
              "      <td></td>\n",
              "      <td>18137.49</td>\n",
              "      <td>3.484447e+07</td>\n",
              "      <td>248.444722</td>\n",
              "      <td>22.226069</td>\n",
              "    </tr>\n",
              "    <tr>\n",
              "      <th>538</th>\n",
              "      <td>Mar 14, 2021</td>\n",
              "      <td>1849.06</td>\n",
              "      <td>1</td>\n",
              "      <td></td>\n",
              "      <td>18137.49</td>\n",
              "      <td>3.353730e+07</td>\n",
              "      <td>235.373035</td>\n",
              "      <td>35.297757</td>\n",
              "    </tr>\n",
              "    <tr>\n",
              "      <th>539</th>\n",
              "      <td>Mar 15, 2021</td>\n",
              "      <td>1792.38</td>\n",
              "      <td>1</td>\n",
              "      <td></td>\n",
              "      <td>18137.49</td>\n",
              "      <td>3.250927e+07</td>\n",
              "      <td>225.092706</td>\n",
              "      <td>45.578085</td>\n",
              "    </tr>\n",
              "  </tbody>\n",
              "</table>\n",
              "<p>540 rows × 8 columns</p>\n",
              "</div>"
            ],
            "text/plain": [
              "             Date    Price  Label  ...  FinalCapital         ROR          DD\n",
              "0    Sep 23, 2019   201.18      1  ...  1.000000e+07    0.000000  270.670792\n",
              "1    Sep 24, 2019   166.29      0  ...  8.265732e+06  -17.342678  288.013470\n",
              "2    Sep 25, 2019   168.92      0  ...  8.265732e+06  -17.342678  288.013470\n",
              "3    Sep 26, 2019   164.56      0  ...  8.265732e+06  -17.342678  288.013470\n",
              "4    Sep 27, 2019   173.19      0  ...  8.265732e+06  -17.342678  288.013470\n",
              "..            ...      ...    ...  ...           ...         ...         ...\n",
              "535  Mar 11, 2021  1825.79      1  ...  3.311524e+07  231.152441   39.518350\n",
              "536  Mar 12, 2021  1766.90      1  ...  3.204713e+07  220.471274   50.199517\n",
              "537  Mar 13, 2021  1921.13      1  ...  3.484447e+07  248.444722   22.226069\n",
              "538  Mar 14, 2021  1849.06      1  ...  3.353730e+07  235.373035   35.297757\n",
              "539  Mar 15, 2021  1792.38      1  ...  3.250927e+07  225.092706   45.578085\n",
              "\n",
              "[540 rows x 8 columns]"
            ]
          },
          "metadata": {
            "tags": []
          },
          "execution_count": 0
        }
      ]
    },
    {
      "cell_type": "markdown",
      "metadata": {
        "id": "jU_kz1QAnuT5"
      },
      "source": [
        "## LSTM_beta"
      ]
    },
    {
      "cell_type": "code",
      "metadata": {
        "id": "zZ_mnduLnmJz"
      },
      "source": [
        "df = pd.read_csv('lstm_beta_eth.csv')\n",
        "\n",
        "data = {'Date': df['DATE'], 'Price': df['closingprice'],\n",
        "        'Label': df['labels'], 'Trade Signal': '', 'Number of Shares': '0'}\n",
        "df_new = pd.DataFrame(data)\n",
        "\n",
        "metrics_ = metrics(df_new, InitialCapital)\n",
        "metrics_.to_csv('eth_lstm_beta_metrics.csv')\n",
        "metrics_"
      ],
      "execution_count": null,
      "outputs": []
    },
    {
      "cell_type": "markdown",
      "metadata": {
        "id": "KyRBsM6ev6kM"
      },
      "source": [
        "# Visualization"
      ]
    },
    {
      "cell_type": "code",
      "metadata": {
        "id": "_nzcyAb7wgci"
      },
      "source": [
        "import matplotlib.pyplot as plt\n",
        "import numpy as np\n",
        "import pandas as pd"
      ],
      "execution_count": 10,
      "outputs": []
    },
    {
      "cell_type": "markdown",
      "metadata": {
        "id": "CmXoVJnRzcZm"
      },
      "source": [
        "## china_001"
      ]
    },
    {
      "cell_type": "code",
      "metadata": {
        "colab": {
          "base_uri": "https://localhost:8080/",
          "height": 390
        },
        "id": "DIqN2UmWzk41",
        "outputId": "92f6933b-406b-43e2-fc64-72eff401c85e"
      },
      "source": [
        "# lstm\n",
        "df = pd.read_csv(\"001_lstm_metrics.csv\")\n",
        "plt.figure(figsize=(8, 6))\n",
        "plt.plot(df.Date, df.ROR, label = \"ROR\")\n",
        "plt.plot(df.Date, df.DD, label = \"DD\")\n",
        "plt.title('Lstm on China_001')\n",
        "plt.legend()\n",
        "plt.show()"
      ],
      "execution_count": 17,
      "outputs": [
        {
          "output_type": "display_data",
          "data": {
            "image/png": "[encoded data removed]",
            "text/plain": [
              "<Figure size 576x432 with 1 Axes>"
            ]
          },
          "metadata": {
            "tags": [],
            "needs_background": "light"
          }
        }
      ]
    },
    {
      "cell_type": "code",
      "metadata": {
        "colab": {
          "base_uri": "https://localhost:8080/",
          "height": 390
        },
        "id": "ZG24pXEIz6TN",
        "outputId": "f1324b04-d06d-4b8e-aca4-2995fdfe4f34"
      },
      "source": [
        "# gru\n",
        "df = pd.read_csv(\"001_gru_metrics.csv\")\n",
        "plt.figure(figsize=(8, 6))\n",
        "plt.plot(df.Date, df.ROR, label = \"ROR\")\n",
        "plt.plot(df.Date, df.DD, label = \"DD\")\n",
        "plt.title('GRU on China_001')\n",
        "plt.legend()\n",
        "plt.show()"
      ],
      "execution_count": 18,
      "outputs": [
        {
          "output_type": "display_data",
          "data": {
            "image/png": "[encoded data removed]",
            "text/plain": [
              "<Figure size 576x432 with 1 Axes>"
            ]
          },
          "metadata": {
            "tags": [],
            "needs_background": "light"
          }
        }
      ]
    },
    {
      "cell_type": "code",
      "metadata": {
        "colab": {
          "base_uri": "https://localhost:8080/",
          "height": 390
        },
        "id": "pGJZXK6d0B6u",
        "outputId": "2f4ea82c-277b-4bf5-a194-91ea1473d52e"
      },
      "source": [
        "# xgboost\n",
        "df = pd.read_csv(\"001_xgboost_metrics.csv\")\n",
        "plt.figure(figsize=(8, 6))\n",
        "plt.plot(df.Date, df.ROR, label = \"ROR\")\n",
        "plt.plot(df.Date, df.DD, label = \"DD\")\n",
        "plt.title('xgboost on China_001')\n",
        "plt.legend()\n",
        "plt.show()"
      ],
      "execution_count": 19,
      "outputs": [
        {
          "output_type": "display_data",
          "data": {
            "image/png": "[encoded data removed]",
            "text/plain": [
              "<Figure size 576x432 with 1 Axes>"
            ]
          },
          "metadata": {
            "tags": [],
            "needs_background": "light"
          }
        }
      ]
    },
    {
      "cell_type": "code",
      "metadata": {
        "colab": {
          "base_uri": "https://localhost:8080/",
          "height": 390
        },
        "id": "iu9trhcE0YLi",
        "outputId": "1c6fc664-999e-4dab-c9d2-68914d3450ea"
      },
      "source": [
        "# lstm beta\n",
        "df = pd.read_csv(\"001_lstm_beta_metrics.csv\")\n",
        "plt.figure(figsize=(8, 6))\n",
        "plt.plot(df.Date, df.ROR, label = \"ROR\")\n",
        "plt.plot(df.Date, df.DD, label = \"DD\")\n",
        "plt.title('Lstm beta on China_001')\n",
        "plt.legend()\n",
        "plt.show()"
      ],
      "execution_count": 20,
      "outputs": [
        {
          "output_type": "display_data",
          "data": {
            "image/png": "[encoded data removed]",
            "text/plain": [
              "<Figure size 576x432 with 1 Axes>"
            ]
          },
          "metadata": {
            "tags": [],
            "needs_background": "light"
          }
        }
      ]
    },
    {
      "cell_type": "code",
      "metadata": {
        "colab": {
          "base_uri": "https://localhost:8080/",
          "height": 390
        },
        "id": "bmkPsAUpv5zl",
        "outputId": "1e7ad0cf-9aa7-4988-8e2b-a5f0de4a585a"
      },
      "source": [
        "# gru beta\n",
        "df = pd.read_csv(\"001_gru_beta_metrics.csv\")\n",
        "plt.figure(figsize=(8, 6))\n",
        "plt.plot(df.Date, df.ROR, label = \"ROR\")\n",
        "plt.plot(df.Date, df.DD, label = \"DD\")\n",
        "plt.title('GRU Beta on China_001')\n",
        "plt.legend()\n",
        "plt.show()"
      ],
      "execution_count": 15,
      "outputs": [
        {
          "output_type": "display_data",
          "data": {
            "image/png": "[encoded data removed]",
            "text/plain": [
              "<Figure size 576x432 with 1 Axes>"
            ]
          },
          "metadata": {
            "tags": [],
            "needs_background": "light"
          }
        }
      ]
    },
    {
      "cell_type": "code",
      "metadata": {
        "colab": {
          "base_uri": "https://localhost:8080/",
          "height": 390
        },
        "id": "ZZqFDtwrwi2q",
        "outputId": "74d1e020-1679-4afb-af8b-0960e5835445"
      },
      "source": [
        "# xgboost beta\n",
        "df = pd.read_csv(\"001_xgboost_beta_metrics.csv\")\n",
        "plt.figure(figsize=(8, 6))\n",
        "plt.plot(df.Date, df.ROR, label = \"ROR\")\n",
        "plt.plot(df.Date, df.DD, label = \"DD\")\n",
        "plt.title('xgboost beta on China_001')\n",
        "plt.legend()\n",
        "plt.show()"
      ],
      "execution_count": 21,
      "outputs": [
        {
          "output_type": "display_data",
          "data": {
            "image/png": "[encoded data removed]",
            "text/plain": [
              "<Figure size 576x432 with 1 Axes>"
            ]
          },
          "metadata": {
            "tags": [],
            "needs_background": "light"
          }
        }
      ]
    },
    {
      "cell_type": "code",
      "metadata": {
        "colab": {
          "base_uri": "https://localhost:8080/",
          "height": 390
        },
        "id": "sgW6JypNxLdr",
        "outputId": "e6c74a79-c3be-42b9-b2d2-0c6520b18331"
      },
      "source": [
        "# svm\n",
        "df = pd.read_csv(\"001_svm_metrics.csv\")\n",
        "plt.figure(figsize=(8, 6))\n",
        "plt.plot(df.Date, df.ROR, label = \"ROR\")\n",
        "plt.plot(df.Date, df.DD, label = \"DD\")\n",
        "plt.title('SVM on China_001')\n",
        "plt.legend()\n",
        "plt.show()"
      ],
      "execution_count": 22,
      "outputs": [
        {
          "output_type": "display_data",
          "data": {
            "image/png": "[encoded data removed]",
            "text/plain": [
              "<Figure size 576x432 with 1 Axes>"
            ]
          },
          "metadata": {
            "tags": [],
            "needs_background": "light"
          }
        }
      ]
    },
    {
      "cell_type": "code",
      "metadata": {
        "colab": {
          "base_uri": "https://localhost:8080/",
          "height": 390
        },
        "id": "E-Q6Nn260w4p",
        "outputId": "48812a1e-0974-48eb-e7db-a5fd1e211d0c"
      },
      "source": [
        "# svm beta\n",
        "df = pd.read_csv(\"001_svm_beta_metrics.csv\")\n",
        "plt.figure(figsize=(8, 6))\n",
        "plt.plot(df.Date, df.ROR, label = \"ROR\")\n",
        "plt.plot(df.Date, df.DD, label = \"DD\")\n",
        "plt.title('svm beta on China_001')\n",
        "plt.legend()\n",
        "plt.show()"
      ],
      "execution_count": 23,
      "outputs": [
        {
          "output_type": "display_data",
          "data": {
            "image/png": "[encoded data removed]",
            "text/plain": [
              "<Figure size 576x432 with 1 Axes>"
            ]
          },
          "metadata": {
            "tags": [],
            "needs_background": "light"
          }
        }
      ]
    },
    {
      "cell_type": "markdown",
      "metadata": {
        "id": "JAE25E3S1UmZ"
      },
      "source": [
        "## ETH"
      ]
    },
    {
      "cell_type": "code",
      "metadata": {
        "colab": {
          "base_uri": "https://localhost:8080/",
          "height": 390
        },
        "id": "C3w2yn491IiC",
        "outputId": "6a7eccee-b3c0-4744-f501-c8729b2adc5d"
      },
      "source": [
        "# lstm\n",
        "df = pd.read_csv(\"eth_lstm_metrics.csv\")\n",
        "plt.figure(figsize=(8, 6))\n",
        "plt.plot(df.Date, df.ROR, label = \"ROR\")\n",
        "plt.plot(df.Date, df.DD, label = \"DD\")\n",
        "plt.title('Lstm on ETH')\n",
        "plt.legend()\n",
        "plt.show()"
      ],
      "execution_count": 24,
      "outputs": [
        {
          "output_type": "display_data",
          "data": {
            "image/png": "[encoded data removed]",
            "text/plain": [
              "<Figure size 576x432 with 1 Axes>"
            ]
          },
          "metadata": {
            "tags": [],
            "needs_background": "light"
          }
        }
      ]
    },
    {
      "cell_type": "code",
      "metadata": {
        "colab": {
          "base_uri": "https://localhost:8080/",
          "height": 390
        },
        "id": "7SvXkwZA1hXs",
        "outputId": "234a8537-e293-446d-e0a4-1507dd3421d2"
      },
      "source": [
        "# gru\n",
        "df = pd.read_csv(\"eth_gru_metrics.csv\")\n",
        "plt.figure(figsize=(8, 6))\n",
        "plt.plot(df.Date, df.ROR, label = \"ROR\")\n",
        "plt.plot(df.Date, df.DD, label = \"DD\")\n",
        "plt.title('GRU on ETH')\n",
        "plt.legend()\n",
        "plt.show()"
      ],
      "execution_count": 25,
      "outputs": [
        {
          "output_type": "display_data",
          "data": {
            "image/png": "[encoded data removed]",
            "text/plain": [
              "<Figure size 576x432 with 1 Axes>"
            ]
          },
          "metadata": {
            "tags": [],
            "needs_background": "light"
          }
        }
      ]
    },
    {
      "cell_type": "code",
      "metadata": {
        "colab": {
          "base_uri": "https://localhost:8080/",
          "height": 390
        },
        "id": "6pvHYxXx1qA5",
        "outputId": "0ec88a3b-0ba1-4fba-dfeb-cb1954b56762"
      },
      "source": [
        "# xgboost\n",
        "df = pd.read_csv(\"eth_xgboost_metrics.csv\")\n",
        "plt.figure(figsize=(8, 6))\n",
        "plt.plot(df.Date, df.ROR, label = \"ROR\")\n",
        "plt.plot(df.Date, df.DD, label = \"DD\")\n",
        "plt.title('xgboost on ETH')\n",
        "plt.legend()\n",
        "plt.show()"
      ],
      "execution_count": 26,
      "outputs": [
        {
          "output_type": "display_data",
          "data": {
            "image/png": "[encoded data removed]",
            "text/plain": [
              "<Figure size 576x432 with 1 Axes>"
            ]
          },
          "metadata": {
            "tags": [],
            "needs_background": "light"
          }
        }
      ]
    },
    {
      "cell_type": "code",
      "metadata": {
        "colab": {
          "base_uri": "https://localhost:8080/",
          "height": 390
        },
        "id": "vTQZ4oBf1vwZ",
        "outputId": "04b67dec-3794-47fc-99f7-a1574fb872c7"
      },
      "source": [
        "# lstm beta\n",
        "df = pd.read_csv(\"eth_lstm_beta_metrics.csv\")\n",
        "plt.figure(figsize=(8, 6))\n",
        "plt.plot(df.Date, df.ROR, label = \"ROR\")\n",
        "plt.plot(df.Date, df.DD, label = \"DD\")\n",
        "plt.title('lstm beta on ETH')\n",
        "plt.legend()\n",
        "plt.show()"
      ],
      "execution_count": 27,
      "outputs": [
        {
          "output_type": "display_data",
          "data": {
            "image/png": "[encoded data removed]",
            "text/plain": [
              "<Figure size 576x432 with 1 Axes>"
            ]
          },
          "metadata": {
            "tags": [],
            "needs_background": "light"
          }
        }
      ]
    },
    {
      "cell_type": "code",
      "metadata": {
        "colab": {
          "base_uri": "https://localhost:8080/",
          "height": 390
        },
        "id": "QSewFpwD137V",
        "outputId": "2a5d41ff-0767-415c-d7f0-2d90810787ee"
      },
      "source": [
        "# gru beta\n",
        "df = pd.read_csv(\"eth_gru_beta_metrics.csv\")\n",
        "plt.figure(figsize=(8, 6))\n",
        "plt.plot(df.Date, df.ROR, label = \"ROR\")\n",
        "plt.plot(df.Date, df.DD, label = \"DD\")\n",
        "plt.title('gru beta on ETH')\n",
        "plt.legend()\n",
        "plt.show()"
      ],
      "execution_count": 28,
      "outputs": [
        {
          "output_type": "display_data",
          "data": {
            "image/png": "[encoded data removed]",
            "text/plain": [
              "<Figure size 576x432 with 1 Axes>"
            ]
          },
          "metadata": {
            "tags": [],
            "needs_background": "light"
          }
        }
      ]
    },
    {
      "cell_type": "code",
      "metadata": {
        "colab": {
          "base_uri": "https://localhost:8080/",
          "height": 390
        },
        "id": "664EMe9P17vs",
        "outputId": "870af6a9-48bc-4a7e-c994-a6807d935552"
      },
      "source": [
        "# xgboost beta\n",
        "df = pd.read_csv(\"eth_xgboost_beta_metrics.csv\")\n",
        "plt.figure(figsize=(8, 6))\n",
        "plt.plot(df.Date, df.ROR, label = \"ROR\")\n",
        "plt.plot(df.Date, df.DD, label = \"DD\")\n",
        "plt.title('xgboost beta on ETH')\n",
        "plt.legend()\n",
        "plt.show()"
      ],
      "execution_count": 29,
      "outputs": [
        {
          "output_type": "display_data",
          "data": {
            "image/png": "[encoded data removed]",
            "text/plain": [
              "<Figure size 576x432 with 1 Axes>"
            ]
          },
          "metadata": {
            "tags": [],
            "needs_background": "light"
          }
        }
      ]
    },
    {
      "cell_type": "code",
      "metadata": {
        "colab": {
          "base_uri": "https://localhost:8080/",
          "height": 390
        },
        "id": "l7cAce4j2BPu",
        "outputId": "6b139508-6f3e-4ff3-8208-800704cdf69c"
      },
      "source": [
        "# svm\n",
        "df = pd.read_csv(\"eth_svm_metrics.csv\")\n",
        "plt.figure(figsize=(8, 6))\n",
        "plt.plot(df.Date, df.ROR, label = \"ROR\")\n",
        "plt.plot(df.Date, df.DD, label = \"DD\")\n",
        "plt.title('svm on ETH')\n",
        "plt.legend()\n",
        "plt.show()"
      ],
      "execution_count": 30,
      "outputs": [
        {
          "output_type": "display_data",
          "data": {
            "image/png": "[encoded data removed]",
            "text/plain": [
              "<Figure size 576x432 with 1 Axes>"
            ]
          },
          "metadata": {
            "tags": [],
            "needs_background": "light"
          }
        }
      ]
    },
    {
      "cell_type": "code",
      "metadata": {
        "colab": {
          "base_uri": "https://localhost:8080/",
          "height": 390
        },
        "id": "j1eOqVoc2F92",
        "outputId": "8c1d9266-9ab4-4cc9-98c1-f8f848b67609"
      },
      "source": [
        "# svm beta\n",
        "df = pd.read_csv(\"eth_svm_beta_metrics.csv\")\n",
        "plt.figure(figsize=(8, 6))\n",
        "plt.plot(df.Date, df.ROR, label = \"ROR\")\n",
        "plt.plot(df.Date, df.DD, label = \"DD\")\n",
        "plt.title('svm beta on ETH')\n",
        "plt.legend()\n",
        "plt.show()"
      ],
      "execution_count": 31,
      "outputs": [
        {
          "output_type": "display_data",
          "data": {
            "image/png": "[encoded data removed]",
            "text/plain": [
              "<Figure size 576x432 with 1 Axes>"
            ]
          },
          "metadata": {
            "tags": [],
            "needs_background": "light"
          }
        }
      ]
    },
    {
      "cell_type": "code",
      "metadata": {
        "id": "fwcC-MY42Jpz"
      },
      "source": [
        ""
      ],
      "execution_count": null,
      "outputs": []
    }
  ]
}