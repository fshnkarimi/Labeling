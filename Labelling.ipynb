{
  "nbformat": 4,
  "nbformat_minor": 0,
  "metadata": {
    "colab": {
      "name": "Labelling.ipynb",
      "provenance": [],
      "collapsed_sections": []
    },
    "kernelspec": {
      "name": "python3",
      "display_name": "Python 3"
    },
    "language_info": {
      "name": "python"
    },
    "accelerator": "GPU"
  },
  "cells": [
    {
      "cell_type": "code",
      "metadata": {
        "colab": {
          "base_uri": "https://localhost:8080/"
        },
        "id": "aMURxUHNk5sf",
        "outputId": "bea90201-d3f7-4f59-f085-1ea03d53bd87"
      },
      "source": [
        "%tensorflow_version 2.x\n",
        "import tensorflow as tf\n",
        "device_name = tf.test.gpu_device_name()\n",
        "if device_name != '/device:GPU:0':\n",
        "  raise SystemError('GPU device not found')\n",
        "print('Found GPU at: {}'.format(device_name))"
      ],
      "execution_count": null,
      "outputs": [
        {
          "output_type": "stream",
          "text": [
            "Found GPU at: /device:GPU:0\n"
          ],
          "name": "stdout"
        }
      ]
    },
    {
      "cell_type": "markdown",
      "metadata": {
        "id": "-lrRB1spRjj2"
      },
      "source": [
        "Reading Data"
      ]
    },
    {
      "cell_type": "code",
      "metadata": {
        "id": "HXSg_jfxlaWw"
      },
      "source": [
        "import pandas as pd\n",
        "import numpy as np\n",
        "from sklearn.linear_model import LinearRegression\n",
        "dfs = pd.read_excel(\"000001data.xlsx\")"
      ],
      "execution_count": null,
      "outputs": []
    },
    {
      "cell_type": "markdown",
      "metadata": {
        "id": "_a-OsIVVR1pz"
      },
      "source": [
        "Implementing Labelling algorithm "
      ]
    },
    {
      "cell_type": "code",
      "metadata": {
        "id": "tqwGOVvDRqvH"
      },
      "source": [
        "#labelling algorithm X is price and w is our threshould\n",
        "def labeling(X,w):\n",
        "    n = len(X)\n",
        "    y = np.array([0 for i in range(n)])\n",
        "    FP=X[0]\n",
        "    xh = X[0]\n",
        "    xl = X[0]\n",
        "    HT = 0\n",
        "    LT = 0\n",
        "    cid = 0\n",
        "    FP_N = 0\n",
        "    for i in range(n):\n",
        "        if(X[i] > FP + X[0]*w):\n",
        "            xh,HT,FP_N,cid  = X[i],i,i,1\n",
        "            break\n",
        "        if(X[i] < FP - X[0]*w):\n",
        "            xh,HT,FP_N,cid  = X[i],i,i,-1\n",
        "            break\n",
        "    for i in range(FP_N+1,n):\n",
        "        if(cid > 0):\n",
        "            if(X[i]>xh):\n",
        "                xh,HT = X[i],i\n",
        "            if(X[i] < xh - xh*w and LT<= HT ):\n",
        "                for j in range(n):\n",
        "                    if(j>LT and j<=HT):\n",
        "                        y[j] = 1\n",
        "                xl,LT,cid = X[i],i,-1\n",
        "        if(cid < 0):\n",
        "            if(X[i]<xl):\n",
        "                xl,LT = X[i],i\n",
        "            if(X[i] > xl + xl*w and HT<= LT ):\n",
        "                for j in range(n):\n",
        "                    if(j>HT and j<=LT):\n",
        "                        y[j] = -1\n",
        "                xh,HT,cid = X[i],i,1\n",
        "    return y"
      ],
      "execution_count": null,
      "outputs": []
    },
    {
      "cell_type": "markdown",
      "metadata": {
        "id": "MfIUNs4ER-ww"
      },
      "source": [
        "labelling data"
      ]
    },
    {
      "cell_type": "code",
      "metadata": {
        "id": "5zUQ57f_RrB1"
      },
      "source": [
        "label=labeling(dfs[\"closingprice\"],0.15)    "
      ],
      "execution_count": null,
      "outputs": []
    },
    {
      "cell_type": "markdown",
      "metadata": {
        "id": "2raClgQCSNeh"
      },
      "source": [
        "Creat windows with size 11 "
      ]
    },
    {
      "cell_type": "code",
      "metadata": {
        "id": "trtJyd9FSh5X"
      },
      "source": [
        "closing_price= dfs['closingprice']\n",
        "\n",
        "#windows size is 11\n",
        "expand_data = np.array([closing_price[i:i+11] for i in range(len(closing_price) - 10) ])"
      ],
      "execution_count": null,
      "outputs": []
    },
    {
      "cell_type": "markdown",
      "metadata": {
        "id": "yWXlg2f2So4Q"
      },
      "source": [
        "normalize Data \n",
        "\\begin{align*}\n",
        "        f_{ij} & = \\frac{x_{ij} - M^{\\lambda}_{i}}{M^{\\lambda}_{i}} ,x_{ij} \\in X\\\\\n",
        "        M^{\\lambda}_{s}& = \\frac{\\sum_{i=s}^{s+ \\lambda -1} x_i}{\\lambda} , x_i \\in x\n",
        "    \\end{align*}"
      ]
    },
    {
      "cell_type": "code",
      "metadata": {
        "id": "DPiKNgIulg_Q"
      },
      "source": [
        "\n",
        "#normalizatin\n",
        "final_data_x = expand_data / np.mean(expand_data,axis = 1).reshape((len(expand_data) , 1))\n",
        "final_data_x = final_data_x - np.ones((len(final_data_x) ,1))"
      ],
      "execution_count": null,
      "outputs": []
    },
    {
      "cell_type": "code",
      "metadata": {
        "id": "9SZSPp6FTGA0"
      },
      "source": [
        "#finalizing data\n",
        "final_data_y = label[10:]\n",
        "#split data to test and train\n",
        "x_train = final_data_x[0:3011]\n",
        "y_train = final_data_y[0:3011]\n",
        "x_test= final_data_x[3011:]\n",
        "y_test = final_data_y[3011:]\n",
        "\n",
        "#(-1,1) --> (0,1)\n",
        "y_train = (y_train + 1)//2\n",
        "y_test = (y_test + 1)//2\n",
        "\n",
        "x_train =x_train.reshape(x_train.shape[0],x_train.shape[1] , 1)\n",
        "x_test = x_test.reshape(x_test.shape[0],x_test.shape[1] , 1)"
      ],
      "execution_count": null,
      "outputs": []
    },
    {
      "cell_type": "markdown",
      "metadata": {
        "id": "yfIBpl9YUTH2"
      },
      "source": [
        "Training data with 2 layer LSTM with hidden size 50 "
      ]
    },
    {
      "cell_type": "code",
      "metadata": {
        "colab": {
          "base_uri": "https://localhost:8080/"
        },
        "id": "a8cNforDl1S5",
        "outputId": "f0650111-ea70-47b0-f32a-8b73b32fcf53"
      },
      "source": [
        "import tensorflow as tf\n",
        "from tensorflow.keras.models import Sequential\n",
        "from tensorflow.keras.layers import Dense\n",
        "from tensorflow.keras.layers import LSTM\n",
        "from tensorflow.keras.layers import Dropout\n",
        "with tf.device('/device:GPU:0'):\n",
        "  model=Sequential()\n",
        "  model.add(tf.compat.v1.keras.layers.CuDNNLSTM(50,return_sequences=True,input_shape=(11,1)))\n",
        "  model.add(Dropout(0.1))\n",
        "  model.add(tf.compat.v1.keras.layers.CuDNNLSTM(50))\n",
        "  model.add(Dropout(0.1))\n",
        "  model.add(Dense(1, activation='sigmoid'))\n",
        "  opt = tf.keras.optimizers.Adam(beta_1=0.9,beta_2=0.999,learning_rate=0.02)\n",
        "  model.compile(loss='binary_crossentropy', optimizer=opt, metrics=['accuracy'])\n",
        "  model.fit(x_train,y_train,validation_data=(x_test,y_test),epochs=20,batch_size=64,verbose=2)"
      ],
      "execution_count": null,
      "outputs": [
        {
          "output_type": "stream",
          "text": [
            "Epoch 1/20\n",
            "48/48 - 8s - loss: 0.6791 - accuracy: 0.5809 - val_loss: 0.7154 - val_accuracy: 0.4949\n",
            "Epoch 2/20\n",
            "48/48 - 0s - loss: 0.6097 - accuracy: 0.6702 - val_loss: 0.6090 - val_accuracy: 0.6782\n",
            "Epoch 3/20\n",
            "48/48 - 0s - loss: 0.5749 - accuracy: 0.7131 - val_loss: 0.6012 - val_accuracy: 0.6816\n",
            "Epoch 4/20\n",
            "48/48 - 0s - loss: 0.5626 - accuracy: 0.7187 - val_loss: 0.5984 - val_accuracy: 0.6701\n",
            "Epoch 5/20\n",
            "48/48 - 0s - loss: 0.5583 - accuracy: 0.7164 - val_loss: 0.6011 - val_accuracy: 0.6654\n",
            "Epoch 6/20\n",
            "48/48 - 0s - loss: 0.5420 - accuracy: 0.7250 - val_loss: 0.5932 - val_accuracy: 0.6868\n",
            "Epoch 7/20\n",
            "48/48 - 0s - loss: 0.5353 - accuracy: 0.7376 - val_loss: 0.6291 - val_accuracy: 0.6759\n",
            "Epoch 8/20\n",
            "48/48 - 0s - loss: 0.5412 - accuracy: 0.7313 - val_loss: 0.5889 - val_accuracy: 0.6879\n",
            "Epoch 9/20\n",
            "48/48 - 0s - loss: 0.5349 - accuracy: 0.7293 - val_loss: 0.5869 - val_accuracy: 0.6910\n",
            "Epoch 10/20\n",
            "48/48 - 0s - loss: 0.5317 - accuracy: 0.7227 - val_loss: 0.6148 - val_accuracy: 0.6686\n",
            "Epoch 11/20\n",
            "48/48 - 0s - loss: 0.5280 - accuracy: 0.7323 - val_loss: 0.5963 - val_accuracy: 0.6866\n",
            "Epoch 12/20\n",
            "48/48 - 0s - loss: 0.5159 - accuracy: 0.7390 - val_loss: 0.5937 - val_accuracy: 0.6845\n",
            "Epoch 13/20\n",
            "48/48 - 0s - loss: 0.5198 - accuracy: 0.7436 - val_loss: 0.5821 - val_accuracy: 0.6944\n",
            "Epoch 14/20\n",
            "48/48 - 0s - loss: 0.5106 - accuracy: 0.7400 - val_loss: 0.5942 - val_accuracy: 0.6900\n",
            "Epoch 15/20\n",
            "48/48 - 0s - loss: 0.5163 - accuracy: 0.7463 - val_loss: 0.5945 - val_accuracy: 0.6884\n",
            "Epoch 16/20\n",
            "48/48 - 0s - loss: 0.5118 - accuracy: 0.7476 - val_loss: 0.5844 - val_accuracy: 0.6910\n",
            "Epoch 17/20\n",
            "48/48 - 0s - loss: 0.5369 - accuracy: 0.7307 - val_loss: 0.5935 - val_accuracy: 0.6874\n",
            "Epoch 18/20\n",
            "48/48 - 0s - loss: 0.5145 - accuracy: 0.7366 - val_loss: 0.5864 - val_accuracy: 0.6887\n",
            "Epoch 19/20\n",
            "48/48 - 0s - loss: 0.5225 - accuracy: 0.7360 - val_loss: 0.5889 - val_accuracy: 0.6858\n",
            "Epoch 20/20\n",
            "48/48 - 0s - loss: 0.5127 - accuracy: 0.7429 - val_loss: 0.5923 - val_accuracy: 0.6897\n"
          ],
          "name": "stdout"
        }
      ]
    },
    {
      "cell_type": "markdown",
      "metadata": {
        "id": "JgcBhB_7UccF"
      },
      "source": [
        "Training data with 2 layer GRU with hidden size 50 "
      ]
    },
    {
      "cell_type": "code",
      "metadata": {
        "colab": {
          "base_uri": "https://localhost:8080/"
        },
        "id": "xAaqteGXRZ9i",
        "outputId": "7b6f885c-d97d-4396-a7e3-0a51aa0de413"
      },
      "source": [
        "with tf.device('/device:GPU:0'):\n",
        "  model=Sequential()\n",
        "  model.add(tf.compat.v1.keras.layers.CuDNNGRU(50,return_sequences=True,input_shape=(11,1)))\n",
        "  model.add(Dropout(0.1))\n",
        "  model.add(tf.compat.v1.keras.layers.CuDNNGRU(50))\n",
        "  model.add(Dropout(0.1))\n",
        "  model.add(Dense(1, activation='sigmoid'))\n",
        "  opt = tf.keras.optimizers.Adam(beta_1=0.9,beta_2=0.999,learning_rate=0.02)\n",
        "  model.compile(loss='binary_crossentropy', optimizer=opt, metrics=['accuracy'])\n",
        "  model.fit(x_train,y_train,validation_data=(x_test,y_test),epochs=20,batch_size=64,verbose=2)"
      ],
      "execution_count": null,
      "outputs": [
        {
          "output_type": "stream",
          "text": [
            "Epoch 1/20\n",
            "48/48 - 2s - loss: 0.6589 - accuracy: 0.5991 - val_loss: 0.5970 - val_accuracy: 0.6863\n",
            "Epoch 2/20\n",
            "48/48 - 0s - loss: 0.5548 - accuracy: 0.7240 - val_loss: 0.5979 - val_accuracy: 0.6803\n",
            "Epoch 3/20\n",
            "48/48 - 0s - loss: 0.5448 - accuracy: 0.7343 - val_loss: 0.6019 - val_accuracy: 0.6725\n",
            "Epoch 4/20\n",
            "48/48 - 0s - loss: 0.5354 - accuracy: 0.7317 - val_loss: 0.6019 - val_accuracy: 0.6834\n",
            "Epoch 5/20\n",
            "48/48 - 0s - loss: 0.5297 - accuracy: 0.7370 - val_loss: 0.5852 - val_accuracy: 0.6947\n",
            "Epoch 6/20\n",
            "48/48 - 0s - loss: 0.5269 - accuracy: 0.7336 - val_loss: 0.5958 - val_accuracy: 0.6868\n",
            "Epoch 7/20\n",
            "48/48 - 0s - loss: 0.5153 - accuracy: 0.7473 - val_loss: 0.5936 - val_accuracy: 0.6876\n",
            "Epoch 8/20\n",
            "48/48 - 0s - loss: 0.5259 - accuracy: 0.7346 - val_loss: 0.5940 - val_accuracy: 0.6957\n",
            "Epoch 9/20\n",
            "48/48 - 0s - loss: 0.5063 - accuracy: 0.7512 - val_loss: 0.5889 - val_accuracy: 0.6840\n",
            "Epoch 10/20\n",
            "48/48 - 0s - loss: 0.5129 - accuracy: 0.7499 - val_loss: 0.6013 - val_accuracy: 0.6790\n",
            "Epoch 11/20\n",
            "48/48 - 0s - loss: 0.5082 - accuracy: 0.7542 - val_loss: 0.5808 - val_accuracy: 0.7040\n",
            "Epoch 12/20\n",
            "48/48 - 0s - loss: 0.5276 - accuracy: 0.7406 - val_loss: 0.5916 - val_accuracy: 0.6902\n",
            "Epoch 13/20\n",
            "48/48 - 0s - loss: 0.5212 - accuracy: 0.7396 - val_loss: 0.6002 - val_accuracy: 0.6824\n",
            "Epoch 14/20\n",
            "48/48 - 0s - loss: 0.5137 - accuracy: 0.7512 - val_loss: 0.5977 - val_accuracy: 0.6772\n",
            "Epoch 15/20\n",
            "48/48 - 0s - loss: 0.5220 - accuracy: 0.7409 - val_loss: 0.5942 - val_accuracy: 0.6751\n",
            "Epoch 16/20\n",
            "48/48 - 0s - loss: 0.5181 - accuracy: 0.7419 - val_loss: 0.5847 - val_accuracy: 0.6920\n",
            "Epoch 17/20\n",
            "48/48 - 0s - loss: 0.5173 - accuracy: 0.7343 - val_loss: 0.5862 - val_accuracy: 0.6944\n",
            "Epoch 18/20\n",
            "48/48 - 0s - loss: 0.5154 - accuracy: 0.7406 - val_loss: 0.6458 - val_accuracy: 0.6344\n",
            "Epoch 19/20\n",
            "48/48 - 0s - loss: 0.5433 - accuracy: 0.7253 - val_loss: 0.5977 - val_accuracy: 0.6905\n",
            "Epoch 20/20\n",
            "48/48 - 0s - loss: 0.5091 - accuracy: 0.7516 - val_loss: 0.5992 - val_accuracy: 0.6860\n"
          ],
          "name": "stdout"
        }
      ]
    },
    {
      "cell_type": "markdown",
      "metadata": {
        "id": "Fh43s6vGUkDF"
      },
      "source": [
        "#My approach"
      ]
    },
    {
      "cell_type": "markdown",
      "metadata": {
        "id": "QW4qElevUx-J"
      },
      "source": [
        "sampling form 44 previous data with sample size 11 and equal distance between samples"
      ]
    },
    {
      "cell_type": "code",
      "metadata": {
        "id": "YBFM2y1Q3eDr"
      },
      "source": [
        "expand_data = np.array([closing_price[i:i+44] for i in range(len(closing_price) - 43) ])\n",
        "\n",
        "\n",
        "#x_df = np.array([np.convolve(x,np.ones(4)/4,mode='valid') for x in x_df])\n",
        "final_data_x = np.array([np.array([x[i] for i in range(3,44,4)]) for x in expand_data])\n",
        "final_data_x = final_data_x / np.mean(final_data_x,axis = 1).reshape((len(final_data_x) , 1))\n",
        "final_data_x = final_data_x - np.ones((len(final_data_x) ,1))\n",
        "\n",
        "final_data_y = label[43:]\n",
        "\n",
        "\n",
        "x_train = final_data_x[0:3011]\n",
        "y_train = final_data_y[0:3011]\n",
        "x_test= final_data_x[3011:]\n",
        "y_test = final_data_y[3011:]\n",
        "\n",
        "\n",
        "y_train = (y_train + 1)//2\n",
        "y_test = (y_test + 1)//2\n",
        "\n",
        "\n",
        "x_train =x_train.reshape(x_train.shape[0],x_train.shape[1] , 1)\n",
        "x_test = x_test.reshape(x_test.shape[0],x_test.shape[1] , 1)\n"
      ],
      "execution_count": null,
      "outputs": []
    },
    {
      "cell_type": "code",
      "metadata": {
        "colab": {
          "base_uri": "https://localhost:8080/"
        },
        "id": "G49PiUxncGeZ",
        "outputId": "5d04b06b-ab7a-41f9-d944-46dd1cefc526"
      },
      "source": [
        "with tf.device('/device:GPU:0'):\n",
        "  model=Sequential()\n",
        "  model.add(tf.compat.v1.keras.layers.CuDNNGRU(50,return_sequences=True,input_shape=(11,1)))\n",
        "  model.add(Dropout(0.1))\n",
        "  model.add(tf.compat.v1.keras.layers.CuDNNGRU(50))\n",
        "  model.add(Dropout(0.1))\n",
        "  model.add(Dense(1, activation='sigmoid'))\n",
        "  opt = tf.keras.optimizers.Adam(beta_1=0.9,beta_2=0.999,learning_rate=0.02)\n",
        "  model.compile(loss='binary_crossentropy', optimizer=opt, metrics=['accuracy'])\n",
        "  model.fit(x_train,y_train,validation_data=(x_test,y_test),epochs=20,batch_size=64,verbose=2)"
      ],
      "execution_count": null,
      "outputs": [
        {
          "output_type": "stream",
          "text": [
            "Epoch 1/20\n",
            "48/48 - 2s - loss: 0.6129 - accuracy: 0.6533 - val_loss: 0.5397 - val_accuracy: 0.7354\n",
            "Epoch 2/20\n",
            "48/48 - 0s - loss: 0.5206 - accuracy: 0.7386 - val_loss: 0.5497 - val_accuracy: 0.7038\n",
            "Epoch 3/20\n",
            "48/48 - 0s - loss: 0.4904 - accuracy: 0.7669 - val_loss: 0.5291 - val_accuracy: 0.7275\n",
            "Epoch 4/20\n",
            "48/48 - 0s - loss: 0.4736 - accuracy: 0.7795 - val_loss: 0.5497 - val_accuracy: 0.7007\n",
            "Epoch 5/20\n",
            "48/48 - 0s - loss: 0.4541 - accuracy: 0.7924 - val_loss: 0.5881 - val_accuracy: 0.6781\n",
            "Epoch 6/20\n",
            "48/48 - 0s - loss: 0.4669 - accuracy: 0.7778 - val_loss: 0.5355 - val_accuracy: 0.7275\n",
            "Epoch 7/20\n",
            "48/48 - 0s - loss: 0.4432 - accuracy: 0.8067 - val_loss: 0.5858 - val_accuracy: 0.6996\n",
            "Epoch 8/20\n",
            "48/48 - 0s - loss: 0.4420 - accuracy: 0.7921 - val_loss: 0.5690 - val_accuracy: 0.7151\n",
            "Epoch 9/20\n",
            "48/48 - 0s - loss: 0.4252 - accuracy: 0.8084 - val_loss: 0.5494 - val_accuracy: 0.7207\n",
            "Epoch 10/20\n",
            "48/48 - 0s - loss: 0.4279 - accuracy: 0.8044 - val_loss: 0.5702 - val_accuracy: 0.6912\n",
            "Epoch 11/20\n",
            "48/48 - 0s - loss: 0.4031 - accuracy: 0.8134 - val_loss: 0.6114 - val_accuracy: 0.6931\n",
            "Epoch 12/20\n",
            "48/48 - 0s - loss: 0.4159 - accuracy: 0.8074 - val_loss: 0.5737 - val_accuracy: 0.6938\n",
            "Epoch 13/20\n",
            "48/48 - 0s - loss: 0.4522 - accuracy: 0.7881 - val_loss: 0.5973 - val_accuracy: 0.6886\n",
            "Epoch 14/20\n",
            "48/48 - 0s - loss: 0.4310 - accuracy: 0.7961 - val_loss: 0.6076 - val_accuracy: 0.6975\n",
            "Epoch 15/20\n",
            "48/48 - 0s - loss: 0.4541 - accuracy: 0.7851 - val_loss: 0.6051 - val_accuracy: 0.6920\n",
            "Epoch 16/20\n",
            "48/48 - 0s - loss: 0.4386 - accuracy: 0.7934 - val_loss: 0.5723 - val_accuracy: 0.6902\n",
            "Epoch 17/20\n",
            "48/48 - 0s - loss: 0.4652 - accuracy: 0.7841 - val_loss: 0.5464 - val_accuracy: 0.7186\n",
            "Epoch 18/20\n",
            "48/48 - 0s - loss: 0.4182 - accuracy: 0.8153 - val_loss: 0.5654 - val_accuracy: 0.7241\n",
            "Epoch 19/20\n",
            "48/48 - 0s - loss: 0.4438 - accuracy: 0.7928 - val_loss: 0.5718 - val_accuracy: 0.6923\n",
            "Epoch 20/20\n",
            "48/48 - 0s - loss: 0.4636 - accuracy: 0.7781 - val_loss: 0.5375 - val_accuracy: 0.7307\n"
          ],
          "name": "stdout"
        }
      ]
    },
    {
      "cell_type": "code",
      "metadata": {
        "id": "tfp915AjGUmh"
      },
      "source": [
        "x_train = final_data_x[0:3011]\n",
        "y_train = final_data_y[0:3011]\n",
        "x_test= final_data_x[3011:]\n",
        "y_test = final_data_y[3011:]\n",
        "\n",
        "fea = x_train.shape[1]\n",
        "rn = np.random.rand(fea,50)\n",
        "x_train = np.dot(x_train,rn)\n",
        "x_test = np.dot(x_test,rn)\n",
        "\n",
        "\n",
        "\n"
      ],
      "execution_count": null,
      "outputs": []
    },
    {
      "cell_type": "code",
      "metadata": {
        "colab": {
          "base_uri": "https://localhost:8080/"
        },
        "id": "GrOxi8gXHdLI",
        "outputId": "e5041b73-8d9b-431b-9979-5c741b812a3b"
      },
      "source": [
        "x_train.shape"
      ],
      "execution_count": null,
      "outputs": [
        {
          "output_type": "execute_result",
          "data": {
            "text/plain": [
              "(3011, 100)"
            ]
          },
          "metadata": {
            "tags": []
          },
          "execution_count": 21
        }
      ]
    },
    {
      "cell_type": "code",
      "metadata": {
        "id": "7n4vuSf8Hbk_"
      },
      "source": [
        "y_train = (y_train + 1)//2\n",
        "y_test = (y_test + 1)//2\n",
        "\n",
        "\n",
        "x_train =x_train.reshape(x_train.shape[0],x_train.shape[1] , 1)\n",
        "x_test = x_test.reshape(x_test.shape[0],x_test.shape[1] , 1)\n"
      ],
      "execution_count": null,
      "outputs": []
    },
    {
      "cell_type": "code",
      "metadata": {
        "colab": {
          "base_uri": "https://localhost:8080/"
        },
        "id": "ekxvhC_IGprq",
        "outputId": "2ac6b980-e6fb-4519-827d-9bc7a0a20fc1"
      },
      "source": [
        "with tf.device('/device:GPU:0'):\n",
        "  model=Sequential()\n",
        "  model.add(tf.compat.v1.keras.layers.CuDNNGRU(50,return_sequences=True,input_shape=(11,1)))\n",
        "  model.add(Dropout(0.1))\n",
        "  model.add(tf.compat.v1.keras.layers.CuDNNGRU(50))\n",
        "  model.add(Dropout(0.1))\n",
        "  model.add(Dense(1, activation='sigmoid'))\n",
        "  opt = tf.keras.optimizers.Adam(beta_1=0.9,beta_2=0.999,learning_rate=0.02)\n",
        "  model.compile(loss='binary_crossentropy', optimizer=opt, metrics=['accuracy'])\n",
        "  model.fit(x_train,y_train,validation_data=(x_test,y_test),epochs=20,batch_size=64,verbose=2)"
      ],
      "execution_count": null,
      "outputs": [
        {
          "output_type": "stream",
          "text": [
            "Epoch 1/20\n",
            "WARNING:tensorflow:Model was constructed with shape (None, 11, 1) for input KerasTensor(type_spec=TensorSpec(shape=(None, 11, 1), dtype=tf.float32, name='cu_dnngru_8_input'), name='cu_dnngru_8_input', description=\"created by layer 'cu_dnngru_8_input'\"), but it was called on an input with incompatible shape (None, 50, 1).\n",
            "WARNING:tensorflow:Model was constructed with shape (None, 11, 1) for input KerasTensor(type_spec=TensorSpec(shape=(None, 11, 1), dtype=tf.float32, name='cu_dnngru_8_input'), name='cu_dnngru_8_input', description=\"created by layer 'cu_dnngru_8_input'\"), but it was called on an input with incompatible shape (None, 50, 1).\n",
            "WARNING:tensorflow:Model was constructed with shape (None, 11, 1) for input KerasTensor(type_spec=TensorSpec(shape=(None, 11, 1), dtype=tf.float32, name='cu_dnngru_8_input'), name='cu_dnngru_8_input', description=\"created by layer 'cu_dnngru_8_input'\"), but it was called on an input with incompatible shape (None, 50, 1).\n",
            "48/48 - 2s - loss: 0.6680 - accuracy: 0.5991 - val_loss: 0.6534 - val_accuracy: 0.6273\n",
            "Epoch 2/20\n",
            "48/48 - 0s - loss: 0.5865 - accuracy: 0.7001 - val_loss: 0.5865 - val_accuracy: 0.6986\n",
            "Epoch 3/20\n",
            "48/48 - 0s - loss: 0.5490 - accuracy: 0.7240 - val_loss: 0.5739 - val_accuracy: 0.6928\n",
            "Epoch 4/20\n",
            "48/48 - 0s - loss: 0.5238 - accuracy: 0.7476 - val_loss: 0.5567 - val_accuracy: 0.7154\n",
            "Epoch 5/20\n",
            "48/48 - 0s - loss: 0.5287 - accuracy: 0.7522 - val_loss: 0.5540 - val_accuracy: 0.7307\n",
            "Epoch 6/20\n",
            "48/48 - 0s - loss: 0.5235 - accuracy: 0.7400 - val_loss: 0.6425 - val_accuracy: 0.7186\n",
            "Epoch 7/20\n",
            "48/48 - 0s - loss: 0.5110 - accuracy: 0.7559 - val_loss: 0.5431 - val_accuracy: 0.7299\n",
            "Epoch 8/20\n",
            "48/48 - 0s - loss: 0.4976 - accuracy: 0.7635 - val_loss: 0.5598 - val_accuracy: 0.7059\n",
            "Epoch 9/20\n",
            "48/48 - 0s - loss: 0.5048 - accuracy: 0.7599 - val_loss: 0.5390 - val_accuracy: 0.7249\n",
            "Epoch 10/20\n",
            "48/48 - 0s - loss: 0.5036 - accuracy: 0.7635 - val_loss: 0.5947 - val_accuracy: 0.6733\n",
            "Epoch 11/20\n",
            "48/48 - 0s - loss: 0.4841 - accuracy: 0.7742 - val_loss: 0.5541 - val_accuracy: 0.7233\n",
            "Epoch 12/20\n",
            "48/48 - 0s - loss: 0.5065 - accuracy: 0.7562 - val_loss: 0.5631 - val_accuracy: 0.7012\n",
            "Epoch 13/20\n",
            "48/48 - 0s - loss: 0.4994 - accuracy: 0.7652 - val_loss: 0.5394 - val_accuracy: 0.7370\n",
            "Epoch 14/20\n",
            "48/48 - 0s - loss: 0.4905 - accuracy: 0.7688 - val_loss: 0.5577 - val_accuracy: 0.7238\n",
            "Epoch 15/20\n",
            "48/48 - 0s - loss: 0.6571 - accuracy: 0.6244 - val_loss: 0.6350 - val_accuracy: 0.5957\n",
            "Epoch 16/20\n",
            "48/48 - 0s - loss: 0.6500 - accuracy: 0.6270 - val_loss: 0.6571 - val_accuracy: 0.6186\n",
            "Epoch 17/20\n",
            "48/48 - 0s - loss: 0.6795 - accuracy: 0.5945 - val_loss: 0.6900 - val_accuracy: 0.5839\n",
            "Epoch 18/20\n",
            "48/48 - 0s - loss: 0.6841 - accuracy: 0.5942 - val_loss: 0.5994 - val_accuracy: 0.6923\n",
            "Epoch 19/20\n",
            "48/48 - 0s - loss: 0.6341 - accuracy: 0.6486 - val_loss: 0.6250 - val_accuracy: 0.6552\n",
            "Epoch 20/20\n",
            "48/48 - 0s - loss: 0.6385 - accuracy: 0.6496 - val_loss: 0.5905 - val_accuracy: 0.7123\n"
          ],
          "name": "stdout"
        }
      ]
    },
    {
      "cell_type": "code",
      "metadata": {
        "colab": {
          "base_uri": "https://localhost:8080/",
          "height": 333
        },
        "id": "h-dHU1M3KI-s",
        "outputId": "2aa15372-ff1f-48d9-dc48-0121b1db54dd"
      },
      "source": [
        "from sklearn import metrics\n",
        "import seaborn as sns\n",
        "y_pred = model.predict(x_test)\n",
        "y_pred = np.array([1 if y >=0.5 else 0 for y in y_pred])\n",
        "print(\"Accuracy:{:.6f}\".format(metrics.accuracy_score(y_test, y_pred)))\n",
        "print(\"Precision:{:.6f}\".format(metrics.precision_score(y_test, y_pred)))\n",
        "print(\"Recall:{:.6f}\".format(metrics.recall_score(y_test, y_pred)))\n",
        "print(\"F1 score:{:.6f}\".format(metrics.f1_score(y_test, y_pred)))\n",
        "    \n",
        "# Print Confusion Matrix\n",
        "confusion_matrix = pd.DataFrame(metrics.confusion_matrix(y_test, y_pred)) \n",
        "sns.heatmap(confusion_matrix, annot=True, cmap=\"Blues\");"
      ],
      "execution_count": null,
      "outputs": [
        {
          "output_type": "stream",
          "text": [
            "Accuracy:0.712257\n",
            "Precision:0.752739\n",
            "Recall:0.699467\n",
            "F1 score:0.725126\n"
          ],
          "name": "stdout"
        },
        {
          "output_type": "display_data",
          "data": {
            "image/png": "[encoded data removed]",
            "text/plain": [
              "<Figure size 432x288 with 2 Axes>"
            ]
          },
          "metadata": {
            "tags": [],
            "needs_background": "light"
          }
        }
      ]
    },
    {
      "cell_type": "code",
      "metadata": {
        "colab": {
          "base_uri": "https://localhost:8080/"
        },
        "id": "kJDMe69vKZyg",
        "outputId": "738f99c6-885f-40c2-9b97-991c0af41f3c"
      },
      "source": [
        "y_pred"
      ],
      "execution_count": null,
      "outputs": [
        {
          "output_type": "execute_result",
          "data": {
            "text/plain": [
              "array([[0.67370343],\n",
              "       [0.6712601 ],\n",
              "       [0.6663634 ],\n",
              "       ...,\n",
              "       [0.43360442],\n",
              "       [0.4261445 ],\n",
              "       [0.41190097]], dtype=float32)"
            ]
          },
          "metadata": {
            "tags": []
          },
          "execution_count": 31
        }
      ]
    }
  ]
}