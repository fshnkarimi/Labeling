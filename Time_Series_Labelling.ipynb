{
  "nbformat": 4,
  "nbformat_minor": 0,
  "metadata": {
    "colab": {
      "name": "Time_Series_Labelling.ipynb",
      "provenance": [],
      "collapsed_sections": [],
      "include_colab_link": true
    },
    "kernelspec": {
      "name": "python3",
      "display_name": "Python 3"
    },
    "language_info": {
      "name": "python"
    },
    "accelerator": "GPU"
  },
  "cells": [
    {
      "cell_type": "markdown",
      "metadata": {
        "id": "view-in-github",
        "colab_type": "text"
      },
      "source": [
        "<a href=\"https://colab.research.google.com/github/fshnkarimi/Labeling/blob/Ali/Time_Series_Labelling.ipynb\" target=\"_parent\"><img src=\"https://colab.research.google.com/assets/colab-badge.svg\" alt=\"Open In Colab\"/></a>"
      ]
    },
    {
      "cell_type": "code",
      "metadata": {
        "colab": {
          "base_uri": "https://localhost:8080/"
        },
        "id": "aMURxUHNk5sf",
        "outputId": "13bd20dc-9fdb-416d-db5f-bd3dc06312ac"
      },
      "source": [
        "%tensorflow_version 2.x\n",
        "import tensorflow as tf\n",
        "device_name = tf.test.gpu_device_name()\n",
        "if device_name != '/device:GPU:0':\n",
        "  raise SystemError('GPU device not found')\n",
        "print('Found GPU at: {}'.format(device_name))"
      ],
      "execution_count": 1,
      "outputs": [
        {
          "output_type": "stream",
          "text": [
            "Found GPU at: /device:GPU:0\n"
          ],
          "name": "stdout"
        }
      ]
    },
    {
      "cell_type": "markdown",
      "metadata": {
        "id": "-lrRB1spRjj2"
      },
      "source": [
        "Reading Data"
      ]
    },
    {
      "cell_type": "code",
      "metadata": {
        "id": "HXSg_jfxlaWw"
      },
      "source": [
        "import pandas as pd\n",
        "import numpy as np\n",
        "from sklearn.linear_model import LinearRegression\n",
        "dfs = pd.read_excel(\"000001data.xlsx\")"
      ],
      "execution_count": 25,
      "outputs": []
    },
    {
      "cell_type": "markdown",
      "metadata": {
        "id": "_a-OsIVVR1pz"
      },
      "source": [
        "Implementing Labelling algorithm "
      ]
    },
    {
      "cell_type": "code",
      "metadata": {
        "id": "tqwGOVvDRqvH"
      },
      "source": [
        "#labelling algorithm X is price and w is our threshould\n",
        "def labeling(X,w):\n",
        "    n = len(X)\n",
        "    y = np.array([0 for i in range(n)])\n",
        "    FP=X[0]\n",
        "    xh = X[0]\n",
        "    xl = X[0]\n",
        "    HT = 0\n",
        "    LT = 0\n",
        "    cid = 0\n",
        "    FP_N = 0\n",
        "    for i in range(n):\n",
        "        if(X[i] > FP + X[0]*w):\n",
        "            xh,HT,FP_N,cid  = X[i],i,i,1\n",
        "            break\n",
        "        if(X[i] < FP - X[0]*w):\n",
        "            xh,HT,FP_N,cid  = X[i],i,i,-1\n",
        "            break\n",
        "    for i in range(FP_N+1,n):\n",
        "        if(cid > 0):\n",
        "            if(X[i]>xh):\n",
        "                xh,HT = X[i],i\n",
        "            if(X[i] < xh - xh*w and LT<= HT ):\n",
        "                for j in range(n):\n",
        "                    if(j>LT and j<=HT):\n",
        "                        y[j] = 1\n",
        "                xl,LT,cid = X[i],i,-1\n",
        "        if(cid < 0):\n",
        "            if(X[i]<xl):\n",
        "                xl,LT = X[i],i\n",
        "            if(X[i] > xl + xl*w and HT<= LT ):\n",
        "                for j in range(n):\n",
        "                    if(j>HT and j<=LT):\n",
        "                        y[j] = -1\n",
        "                xh,HT,cid = X[i],i,1\n",
        "    return y"
      ],
      "execution_count": 26,
      "outputs": []
    },
    {
      "cell_type": "markdown",
      "metadata": {
        "id": "MfIUNs4ER-ww"
      },
      "source": [
        "labelling data"
      ]
    },
    {
      "cell_type": "code",
      "metadata": {
        "id": "5zUQ57f_RrB1"
      },
      "source": [
        "label=labeling(dfs[\"closingprice\"],0.15)    "
      ],
      "execution_count": 4,
      "outputs": []
    },
    {
      "cell_type": "markdown",
      "metadata": {
        "id": "2raClgQCSNeh"
      },
      "source": [
        "Creat windows with size 11 "
      ]
    },
    {
      "cell_type": "code",
      "metadata": {
        "id": "trtJyd9FSh5X"
      },
      "source": [
        "closing_price= dfs['closingprice']\n",
        "\n",
        "#windows size is 11\n",
        "expand_data = np.array([closing_price[i:i+11] for i in range(len(closing_price) - 10) ])"
      ],
      "execution_count": 28,
      "outputs": []
    },
    {
      "cell_type": "markdown",
      "metadata": {
        "id": "yWXlg2f2So4Q"
      },
      "source": [
        "normalize Data \n",
        "\\begin{align*}\n",
        "        f_{ij} & = \\frac{x_{ij} - M^{\\lambda}_{i}}{M^{\\lambda}_{i}} ,x_{ij} \\in X\\\\\n",
        "        M^{\\lambda}_{s}& = \\frac{\\sum_{i=s}^{s+ \\lambda -1} x_i}{\\lambda} , x_i \\in x\n",
        "    \\end{align*}"
      ]
    },
    {
      "cell_type": "code",
      "metadata": {
        "id": "DPiKNgIulg_Q"
      },
      "source": [
        "#normalizatin\n",
        "final_data_x = expand_data / np.mean(expand_data,axis = 1).reshape((len(expand_data) , 1))\n",
        "final_data_x = final_data_x - np.ones((len(final_data_x) ,1))"
      ],
      "execution_count": 29,
      "outputs": []
    },
    {
      "cell_type": "code",
      "metadata": {
        "id": "9SZSPp6FTGA0"
      },
      "source": [
        "#finalizing data\n",
        "final_data_y = label[10:]\n",
        "#split data to test and train\n",
        "x_train = final_data_x[0:3011]\n",
        "y_train = final_data_y[0:3011]\n",
        "x_test= final_data_x[3011:]\n",
        "y_test = final_data_y[3011:]\n",
        "\n",
        "#(-1,1) --> (0,1)\n",
        "y_train = (y_train + 1)//2\n",
        "y_test = (y_test + 1)//2\n",
        "\n",
        "x_train =x_train.reshape(x_train.shape[0],x_train.shape[1], 1)\n",
        "x_test = x_test.reshape(x_test.shape[0],x_test.shape[1], 1)\n",
        "\n"
      ],
      "execution_count": 30,
      "outputs": []
    },
    {
      "cell_type": "code",
      "metadata": {
        "id": "rjVx32AQjJkw"
      },
      "source": [
        "# Define a def for scores\n",
        "\n",
        "from sklearn import metrics\n",
        "import seaborn as sns\n",
        "\n",
        "def scores(y_pred, label):\n",
        "    print(\"Accuracy:{:.6f}\".format(metrics.accuracy_score(label, y_pred)))\n",
        "    print(\"Precision:{:.6f}\".format(metrics.precision_score(label, y_pred)))\n",
        "    print(\"Recall:{:.6f}\".format(metrics.recall_score(label, y_pred)))\n",
        "    print(\"F1 score:{:.6f}\".format(metrics.f1_score(label, y_pred)))\n",
        "    # Print Confusion Matrix\n",
        "    confusion_matrix = pd.DataFrame(metrics.confusion_matrix(label, y_pred)) \n",
        "    sns.heatmap(confusion_matrix, annot=True, cmap=\"Blues\");"
      ],
      "execution_count": 31,
      "outputs": []
    },
    {
      "cell_type": "markdown",
      "metadata": {
        "id": "yfIBpl9YUTH2"
      },
      "source": [
        "Training data with 2 layer LSTM with hidden size 50 "
      ]
    },
    {
      "cell_type": "code",
      "metadata": {
        "colab": {
          "base_uri": "https://localhost:8080/",
          "height": 1000
        },
        "id": "a8cNforDl1S5",
        "outputId": "77eac7a4-c7ef-4b51-8521-093fa29e8b8f"
      },
      "source": [
        "import tensorflow as tf\n",
        "from tensorflow.keras.models import Sequential\n",
        "from tensorflow.keras.layers import Dense\n",
        "from tensorflow.keras.layers import LSTM\n",
        "from tensorflow.keras.layers import Dropout\n",
        "with tf.device('/device:GPU:0'):\n",
        "  model=Sequential()\n",
        "  model.add(tf.compat.v1.keras.layers.CuDNNLSTM(50,return_sequences=True,input_shape=(11,1)))\n",
        "  model.add(Dropout(0.1))\n",
        "  model.add(tf.compat.v1.keras.layers.CuDNNLSTM(50))\n",
        "  model.add(Dropout(0.1))\n",
        "  model.add(Dense(1, activation='sigmoid'))\n",
        "  opt = tf.keras.optimizers.Adam(beta_1=0.9,beta_2=0.999,learning_rate=0.02)\n",
        "  model.compile(loss='binary_crossentropy', optimizer=opt, metrics=['accuracy'])\n",
        "  model.fit(x_train,y_train,validation_data=(x_test,y_test),epochs=20,batch_size=64,verbose=2)\n",
        "  \n",
        "  # Predictions on test data\n",
        "  preds = model.predict(x_test)\n",
        "  preds = np.array([1 if y >= 0.5 else 0 for y in preds])\n",
        "  scores(preds, y_test)"
      ],
      "execution_count": 33,
      "outputs": [
        {
          "output_type": "stream",
          "text": [
            "Epoch 1/20\n",
            "48/48 - 2s - loss: 0.6839 - accuracy: 0.5526 - val_loss: 0.7120 - val_accuracy: 0.5502\n",
            "Epoch 2/20\n",
            "48/48 - 0s - loss: 0.6314 - accuracy: 0.6712 - val_loss: 0.6684 - val_accuracy: 0.6193\n",
            "Epoch 3/20\n",
            "48/48 - 0s - loss: 0.5998 - accuracy: 0.6865 - val_loss: 0.6069 - val_accuracy: 0.6641\n",
            "Epoch 4/20\n",
            "48/48 - 0s - loss: 0.5584 - accuracy: 0.7174 - val_loss: 0.5998 - val_accuracy: 0.6855\n",
            "Epoch 5/20\n",
            "48/48 - 0s - loss: 0.5446 - accuracy: 0.7330 - val_loss: 0.6554 - val_accuracy: 0.6608\n",
            "Epoch 6/20\n",
            "48/48 - 0s - loss: 0.5435 - accuracy: 0.7283 - val_loss: 0.6093 - val_accuracy: 0.6892\n",
            "Epoch 7/20\n",
            "48/48 - 0s - loss: 0.5508 - accuracy: 0.7204 - val_loss: 0.5910 - val_accuracy: 0.6795\n",
            "Epoch 8/20\n",
            "48/48 - 0s - loss: 0.5394 - accuracy: 0.7283 - val_loss: 0.6092 - val_accuracy: 0.6657\n",
            "Epoch 9/20\n",
            "48/48 - 0s - loss: 0.5274 - accuracy: 0.7343 - val_loss: 0.6004 - val_accuracy: 0.6670\n",
            "Epoch 10/20\n",
            "48/48 - 0s - loss: 0.5326 - accuracy: 0.7280 - val_loss: 0.6036 - val_accuracy: 0.6855\n",
            "Epoch 11/20\n",
            "48/48 - 0s - loss: 0.5244 - accuracy: 0.7333 - val_loss: 0.5872 - val_accuracy: 0.6832\n",
            "Epoch 12/20\n",
            "48/48 - 0s - loss: 0.5153 - accuracy: 0.7469 - val_loss: 0.5995 - val_accuracy: 0.6876\n",
            "Epoch 13/20\n",
            "48/48 - 0s - loss: 0.5334 - accuracy: 0.7350 - val_loss: 0.6063 - val_accuracy: 0.6894\n",
            "Epoch 14/20\n",
            "48/48 - 0s - loss: 0.5151 - accuracy: 0.7456 - val_loss: 0.5898 - val_accuracy: 0.6905\n",
            "Epoch 15/20\n",
            "48/48 - 0s - loss: 0.5069 - accuracy: 0.7539 - val_loss: 0.5854 - val_accuracy: 0.6926\n",
            "Epoch 16/20\n",
            "48/48 - 0s - loss: 0.5100 - accuracy: 0.7489 - val_loss: 0.5943 - val_accuracy: 0.6936\n",
            "Epoch 17/20\n",
            "48/48 - 0s - loss: 0.4971 - accuracy: 0.7569 - val_loss: 0.5863 - val_accuracy: 0.7061\n",
            "Epoch 18/20\n",
            "48/48 - 0s - loss: 0.4907 - accuracy: 0.7695 - val_loss: 0.5855 - val_accuracy: 0.6967\n",
            "Epoch 19/20\n",
            "48/48 - 0s - loss: 0.4766 - accuracy: 0.7742 - val_loss: 0.6016 - val_accuracy: 0.6863\n",
            "Epoch 20/20\n",
            "48/48 - 0s - loss: 0.5039 - accuracy: 0.7549 - val_loss: 0.5930 - val_accuracy: 0.6866\n",
            "Accuracy:0.686571\n",
            "Precision:0.695672\n",
            "Recall:0.749880\n",
            "F1 score:0.721759\n"
          ],
          "name": "stdout"
        },
        {
          "output_type": "display_data",
          "data": {
            "image/png": "[encoded data removed]",
            "text/plain": [
              "<Figure size 432x288 with 2 Axes>"
            ]
          },
          "metadata": {
            "tags": [],
            "needs_background": "light"
          }
        }
      ]
    },
    {
      "cell_type": "markdown",
      "metadata": {
        "id": "JgcBhB_7UccF"
      },
      "source": [
        "Training data with 2 layer GRU with hidden size 50 "
      ]
    },
    {
      "cell_type": "code",
      "metadata": {
        "colab": {
          "base_uri": "https://localhost:8080/",
          "height": 1000
        },
        "id": "xAaqteGXRZ9i",
        "outputId": "5befcaa6-7d99-4e8a-d6b1-8c40acbb771f"
      },
      "source": [
        "with tf.device('/device:GPU:0'):\n",
        "  model=Sequential()\n",
        "  model.add(tf.compat.v1.keras.layers.CuDNNGRU(50,return_sequences=True,input_shape=(11,1)))\n",
        "  model.add(Dropout(0.1))\n",
        "  model.add(tf.compat.v1.keras.layers.CuDNNGRU(50))\n",
        "  model.add(Dropout(0.1))\n",
        "  model.add(Dense(1, activation='sigmoid'))\n",
        "  opt = tf.keras.optimizers.Adam(beta_1=0.9,beta_2=0.999,learning_rate=0.02)\n",
        "  model.compile(loss='binary_crossentropy', optimizer=opt, metrics=['accuracy'])\n",
        "  model.fit(x_train,y_train,validation_data=(x_test,y_test),epochs=20,batch_size=64,verbose=2)\n",
        "\n",
        "  # Predictions on test data\n",
        "  preds = model.predict(x_test)\n",
        "  preds = np.array([1 if y >= 0.5 else 0 for y in preds])\n",
        "  scores(preds, y_test)"
      ],
      "execution_count": 34,
      "outputs": [
        {
          "output_type": "stream",
          "text": [
            "Epoch 1/20\n",
            "48/48 - 2s - loss: 0.6324 - accuracy: 0.6363 - val_loss: 0.7247 - val_accuracy: 0.5742\n",
            "Epoch 2/20\n",
            "48/48 - 0s - loss: 0.5690 - accuracy: 0.7081 - val_loss: 0.5995 - val_accuracy: 0.6793\n",
            "Epoch 3/20\n",
            "48/48 - 0s - loss: 0.5295 - accuracy: 0.7346 - val_loss: 0.6176 - val_accuracy: 0.6652\n",
            "Epoch 4/20\n",
            "48/48 - 0s - loss: 0.5514 - accuracy: 0.7224 - val_loss: 0.6070 - val_accuracy: 0.6793\n",
            "Epoch 5/20\n",
            "48/48 - 0s - loss: 0.5251 - accuracy: 0.7373 - val_loss: 0.6559 - val_accuracy: 0.6808\n",
            "Epoch 6/20\n",
            "48/48 - 0s - loss: 0.5206 - accuracy: 0.7429 - val_loss: 0.5959 - val_accuracy: 0.6780\n",
            "Epoch 7/20\n",
            "48/48 - 0s - loss: 0.5171 - accuracy: 0.7469 - val_loss: 0.5952 - val_accuracy: 0.6829\n",
            "Epoch 8/20\n",
            "48/48 - 0s - loss: 0.5067 - accuracy: 0.7502 - val_loss: 0.5911 - val_accuracy: 0.6858\n",
            "Epoch 9/20\n",
            "48/48 - 0s - loss: 0.5210 - accuracy: 0.7436 - val_loss: 0.5866 - val_accuracy: 0.6874\n",
            "Epoch 10/20\n",
            "48/48 - 0s - loss: 0.5084 - accuracy: 0.7519 - val_loss: 0.5965 - val_accuracy: 0.6936\n",
            "Epoch 11/20\n",
            "48/48 - 0s - loss: 0.5102 - accuracy: 0.7529 - val_loss: 0.5912 - val_accuracy: 0.6928\n",
            "Epoch 12/20\n",
            "48/48 - 0s - loss: 0.5006 - accuracy: 0.7566 - val_loss: 0.6057 - val_accuracy: 0.6746\n",
            "Epoch 13/20\n",
            "48/48 - 0s - loss: 0.4992 - accuracy: 0.7615 - val_loss: 0.6159 - val_accuracy: 0.6801\n",
            "Epoch 14/20\n",
            "48/48 - 0s - loss: 0.5131 - accuracy: 0.7446 - val_loss: 0.6013 - val_accuracy: 0.6801\n",
            "Epoch 15/20\n",
            "48/48 - 0s - loss: 0.5009 - accuracy: 0.7509 - val_loss: 0.5781 - val_accuracy: 0.6973\n",
            "Epoch 16/20\n",
            "48/48 - 0s - loss: 0.4978 - accuracy: 0.7586 - val_loss: 0.6100 - val_accuracy: 0.6801\n",
            "Epoch 17/20\n",
            "48/48 - 0s - loss: 0.5204 - accuracy: 0.7383 - val_loss: 0.6243 - val_accuracy: 0.6511\n",
            "Epoch 18/20\n",
            "48/48 - 0s - loss: 0.5260 - accuracy: 0.7383 - val_loss: 0.5839 - val_accuracy: 0.6957\n",
            "Epoch 19/20\n",
            "48/48 - 0s - loss: 0.5038 - accuracy: 0.7536 - val_loss: 0.5986 - val_accuracy: 0.6874\n",
            "Epoch 20/20\n",
            "48/48 - 0s - loss: 0.4952 - accuracy: 0.7605 - val_loss: 0.5829 - val_accuracy: 0.7001\n",
            "Accuracy:0.700130\n",
            "Precision:0.699957\n",
            "Recall:0.782107\n",
            "F1 score:0.738755\n"
          ],
          "name": "stdout"
        },
        {
          "output_type": "display_data",
          "data": {
            "image/png": "[encoded data removed]",
            "text/plain": [
              "<Figure size 432x288 with 2 Axes>"
            ]
          },
          "metadata": {
            "tags": [],
            "needs_background": "light"
          }
        }
      ]
    },
    {
      "cell_type": "markdown",
      "metadata": {
        "id": "EzhhC-0EaGN6"
      },
      "source": [
        "Training data with XGBoost"
      ]
    },
    {
      "cell_type": "code",
      "metadata": {
        "colab": {
          "base_uri": "https://localhost:8080/",
          "height": 1000
        },
        "id": "knFB8EKWaF_z",
        "outputId": "b7b15ef5-0998-4d77-ae55-6ee8a15ef95a"
      },
      "source": [
        "import xgboost as xgb\n",
        "import numpy as np\n",
        "\n",
        "X_train = x_train.reshape(x_train.shape[0],x_train.shape[1])\n",
        "X_test = x_test.reshape(x_test.shape[0],x_test.shape[1])\n",
        "\n",
        "# XGBoost classifier with Early-stopping\n",
        "clf = xgb.XGBClassifier(n_jobs=1)\n",
        "clf.fit(X_train, y_train, early_stopping_rounds=50, eval_metric=\"auc\",\n",
        "        eval_set=[(X_test, y_test)])\n",
        "\n",
        "preds = clf.predict(X_test)\n",
        "scores(y_test, preds)\n"
      ],
      "execution_count": 35,
      "outputs": [
        {
          "output_type": "stream",
          "text": [
            "[0]\tvalidation_0-auc:0.731009\n",
            "Will train until validation_0-auc hasn't improved in 50 rounds.\n",
            "[1]\tvalidation_0-auc:0.731291\n",
            "[2]\tvalidation_0-auc:0.731218\n",
            "[3]\tvalidation_0-auc:0.731854\n",
            "[4]\tvalidation_0-auc:0.732589\n",
            "[5]\tvalidation_0-auc:0.732487\n",
            "[6]\tvalidation_0-auc:0.740994\n",
            "[7]\tvalidation_0-auc:0.743101\n",
            "[8]\tvalidation_0-auc:0.743565\n",
            "[9]\tvalidation_0-auc:0.742532\n",
            "[10]\tvalidation_0-auc:0.742988\n",
            "[11]\tvalidation_0-auc:0.742518\n",
            "[12]\tvalidation_0-auc:0.743228\n",
            "[13]\tvalidation_0-auc:0.74337\n",
            "[14]\tvalidation_0-auc:0.743477\n",
            "[15]\tvalidation_0-auc:0.743484\n",
            "[16]\tvalidation_0-auc:0.743919\n",
            "[17]\tvalidation_0-auc:0.74442\n",
            "[18]\tvalidation_0-auc:0.744942\n",
            "[19]\tvalidation_0-auc:0.74594\n",
            "[20]\tvalidation_0-auc:0.745706\n",
            "[21]\tvalidation_0-auc:0.746255\n",
            "[22]\tvalidation_0-auc:0.746086\n",
            "[23]\tvalidation_0-auc:0.746581\n",
            "[24]\tvalidation_0-auc:0.746946\n",
            "[25]\tvalidation_0-auc:0.746795\n",
            "[26]\tvalidation_0-auc:0.747\n",
            "[27]\tvalidation_0-auc:0.747143\n",
            "[28]\tvalidation_0-auc:0.74756\n",
            "[29]\tvalidation_0-auc:0.747364\n",
            "[30]\tvalidation_0-auc:0.747528\n",
            "[31]\tvalidation_0-auc:0.747747\n",
            "[32]\tvalidation_0-auc:0.747874\n",
            "[33]\tvalidation_0-auc:0.747918\n",
            "[34]\tvalidation_0-auc:0.747722\n",
            "[35]\tvalidation_0-auc:0.74789\n",
            "[36]\tvalidation_0-auc:0.747826\n",
            "[37]\tvalidation_0-auc:0.747603\n",
            "[38]\tvalidation_0-auc:0.747715\n",
            "[39]\tvalidation_0-auc:0.747733\n",
            "[40]\tvalidation_0-auc:0.74775\n",
            "[41]\tvalidation_0-auc:0.747763\n",
            "[42]\tvalidation_0-auc:0.747697\n",
            "[43]\tvalidation_0-auc:0.747635\n",
            "[44]\tvalidation_0-auc:0.747605\n",
            "[45]\tvalidation_0-auc:0.747499\n",
            "[46]\tvalidation_0-auc:0.747698\n",
            "[47]\tvalidation_0-auc:0.74763\n",
            "[48]\tvalidation_0-auc:0.74766\n",
            "[49]\tvalidation_0-auc:0.747705\n",
            "[50]\tvalidation_0-auc:0.747571\n",
            "[51]\tvalidation_0-auc:0.747646\n",
            "[52]\tvalidation_0-auc:0.747724\n",
            "[53]\tvalidation_0-auc:0.747636\n",
            "[54]\tvalidation_0-auc:0.7475\n",
            "[55]\tvalidation_0-auc:0.747419\n",
            "[56]\tvalidation_0-auc:0.747462\n",
            "[57]\tvalidation_0-auc:0.747477\n",
            "[58]\tvalidation_0-auc:0.747505\n",
            "[59]\tvalidation_0-auc:0.747475\n",
            "[60]\tvalidation_0-auc:0.747516\n",
            "[61]\tvalidation_0-auc:0.747434\n",
            "[62]\tvalidation_0-auc:0.747361\n",
            "[63]\tvalidation_0-auc:0.747543\n",
            "[64]\tvalidation_0-auc:0.747385\n",
            "[65]\tvalidation_0-auc:0.747884\n",
            "[66]\tvalidation_0-auc:0.748003\n",
            "[67]\tvalidation_0-auc:0.747903\n",
            "[68]\tvalidation_0-auc:0.747743\n",
            "[69]\tvalidation_0-auc:0.747736\n",
            "[70]\tvalidation_0-auc:0.747738\n",
            "[71]\tvalidation_0-auc:0.747774\n",
            "[72]\tvalidation_0-auc:0.74779\n",
            "[73]\tvalidation_0-auc:0.747776\n",
            "[74]\tvalidation_0-auc:0.747856\n",
            "[75]\tvalidation_0-auc:0.747753\n",
            "[76]\tvalidation_0-auc:0.747787\n",
            "[77]\tvalidation_0-auc:0.747778\n",
            "[78]\tvalidation_0-auc:0.747696\n",
            "[79]\tvalidation_0-auc:0.747792\n",
            "[80]\tvalidation_0-auc:0.747831\n",
            "[81]\tvalidation_0-auc:0.747795\n",
            "[82]\tvalidation_0-auc:0.747892\n",
            "[83]\tvalidation_0-auc:0.747894\n",
            "[84]\tvalidation_0-auc:0.747922\n",
            "[85]\tvalidation_0-auc:0.747967\n",
            "[86]\tvalidation_0-auc:0.747912\n",
            "[87]\tvalidation_0-auc:0.748132\n",
            "[88]\tvalidation_0-auc:0.748033\n",
            "[89]\tvalidation_0-auc:0.748263\n",
            "[90]\tvalidation_0-auc:0.748224\n",
            "[91]\tvalidation_0-auc:0.748294\n",
            "[92]\tvalidation_0-auc:0.748225\n",
            "[93]\tvalidation_0-auc:0.748379\n",
            "[94]\tvalidation_0-auc:0.748393\n",
            "[95]\tvalidation_0-auc:0.748426\n",
            "[96]\tvalidation_0-auc:0.748426\n",
            "[97]\tvalidation_0-auc:0.748494\n",
            "[98]\tvalidation_0-auc:0.748287\n",
            "[99]\tvalidation_0-auc:0.748287\n",
            "Accuracy:0.689961\n",
            "Precision:0.752285\n",
            "Recall:0.698838\n",
            "F1 score:0.724577\n"
          ],
          "name": "stdout"
        },
        {
          "output_type": "display_data",
          "data": {
            "image/png": "[encoded data removed]",
            "text/plain": [
              "<Figure size 432x288 with 2 Axes>"
            ]
          },
          "metadata": {
            "tags": [],
            "needs_background": "light"
          }
        }
      ]
    },
    {
      "cell_type": "markdown",
      "metadata": {
        "id": "Fh43s6vGUkDF"
      },
      "source": [
        "#My approach"
      ]
    },
    {
      "cell_type": "markdown",
      "metadata": {
        "id": "QW4qElevUx-J"
      },
      "source": [
        "sampling form 44 previous data with sample size 11 and equal distance between samples"
      ]
    },
    {
      "cell_type": "code",
      "metadata": {
        "id": "YBFM2y1Q3eDr"
      },
      "source": [
        "expand_data = np.array([closing_price[i:i+44] for i in range(len(closing_price) - 43) ])\n",
        "\n",
        "\n",
        "#x_df = np.array([np.convolve(x,np.ones(4)/4,mode='valid') for x in x_df])\n",
        "final_data_x = np.array([np.array([x[i] for i in range(3,44,4)]) for x in expand_data])\n",
        "final_data_x = final_data_x / np.mean(final_data_x,axis = 1).reshape((len(final_data_x) , 1))\n",
        "final_data_x = final_data_x - np.ones((len(final_data_x) ,1))\n",
        "\n",
        "final_data_y = label[43:]\n",
        "\n",
        "\n",
        "x_train = final_data_x[0:3011]\n",
        "y_train = final_data_y[0:3011]\n",
        "x_test= final_data_x[3011:]\n",
        "y_test = final_data_y[3011:]\n",
        "\n",
        "\n",
        "y_train = (y_train + 1)//2\n",
        "y_test = (y_test + 1)//2\n",
        "\n",
        "\n",
        "x_train =x_train.reshape(x_train.shape[0],x_train.shape[1] , 1)\n",
        "x_test = x_test.reshape(x_test.shape[0],x_test.shape[1] , 1)\n"
      ],
      "execution_count": 36,
      "outputs": []
    },
    {
      "cell_type": "code",
      "metadata": {
        "colab": {
          "base_uri": "https://localhost:8080/",
          "height": 1000
        },
        "id": "G49PiUxncGeZ",
        "outputId": "ee0c4e01-1af2-4232-d341-e5bb3bf02e00"
      },
      "source": [
        "with tf.device('/device:GPU:0'):\n",
        "  model=Sequential()\n",
        "  model.add(tf.compat.v1.keras.layers.CuDNNGRU(50,return_sequences=True,input_shape=(11,1)))\n",
        "  model.add(Dropout(0.1))\n",
        "  model.add(tf.compat.v1.keras.layers.CuDNNGRU(50))\n",
        "  model.add(Dropout(0.1))\n",
        "  model.add(Dense(1, activation='sigmoid'))\n",
        "  opt = tf.keras.optimizers.Adam(beta_1=0.9,beta_2=0.999,learning_rate=0.02)\n",
        "  model.compile(loss='binary_crossentropy', optimizer=opt, metrics=['accuracy'])\n",
        "  model.fit(x_train,y_train,validation_data=(x_test,y_test),epochs=20,batch_size=64,verbose=2)\n",
        "\n",
        "  # Predictions on test data\n",
        "  preds = model.predict(x_test)\n",
        "  preds = np.array([1 if y >= 0.5 else 0 for y in preds])\n",
        "  scores(preds, y_test)"
      ],
      "execution_count": 37,
      "outputs": [
        {
          "output_type": "stream",
          "text": [
            "Epoch 1/20\n",
            "48/48 - 2s - loss: 0.6192 - accuracy: 0.6503 - val_loss: 0.6105 - val_accuracy: 0.6833\n",
            "Epoch 2/20\n",
            "48/48 - 0s - loss: 0.5252 - accuracy: 0.7416 - val_loss: 0.5356 - val_accuracy: 0.7154\n",
            "Epoch 3/20\n",
            "48/48 - 0s - loss: 0.4915 - accuracy: 0.7639 - val_loss: 0.5365 - val_accuracy: 0.7207\n",
            "Epoch 4/20\n",
            "48/48 - 0s - loss: 0.4699 - accuracy: 0.7755 - val_loss: 0.5374 - val_accuracy: 0.7228\n",
            "Epoch 5/20\n",
            "48/48 - 0s - loss: 0.4620 - accuracy: 0.7825 - val_loss: 0.6452 - val_accuracy: 0.6418\n",
            "Epoch 6/20\n",
            "48/48 - 0s - loss: 0.4622 - accuracy: 0.7838 - val_loss: 0.5683 - val_accuracy: 0.6710\n",
            "Epoch 7/20\n",
            "48/48 - 0s - loss: 0.4539 - accuracy: 0.7888 - val_loss: 0.5458 - val_accuracy: 0.7186\n",
            "Epoch 8/20\n",
            "48/48 - 0s - loss: 0.4154 - accuracy: 0.8080 - val_loss: 0.5499 - val_accuracy: 0.7199\n",
            "Epoch 9/20\n",
            "48/48 - 0s - loss: 0.4215 - accuracy: 0.8080 - val_loss: 0.6282 - val_accuracy: 0.6702\n",
            "Epoch 10/20\n",
            "48/48 - 0s - loss: 0.4020 - accuracy: 0.8117 - val_loss: 0.5677 - val_accuracy: 0.7070\n",
            "Epoch 11/20\n",
            "48/48 - 0s - loss: 0.4268 - accuracy: 0.8044 - val_loss: 0.5822 - val_accuracy: 0.6888\n",
            "Epoch 12/20\n",
            "48/48 - 0s - loss: 0.4163 - accuracy: 0.8060 - val_loss: 0.5741 - val_accuracy: 0.7057\n",
            "Epoch 13/20\n",
            "48/48 - 0s - loss: 0.4132 - accuracy: 0.8057 - val_loss: 0.5717 - val_accuracy: 0.7194\n",
            "Epoch 14/20\n",
            "48/48 - 0s - loss: 0.3964 - accuracy: 0.8170 - val_loss: 0.5419 - val_accuracy: 0.7280\n",
            "Epoch 15/20\n",
            "48/48 - 0s - loss: 0.4175 - accuracy: 0.8047 - val_loss: 0.5590 - val_accuracy: 0.7180\n",
            "Epoch 16/20\n",
            "48/48 - 0s - loss: 0.4298 - accuracy: 0.7938 - val_loss: 0.5776 - val_accuracy: 0.6975\n",
            "Epoch 17/20\n",
            "48/48 - 0s - loss: 0.4068 - accuracy: 0.8134 - val_loss: 0.5678 - val_accuracy: 0.7346\n",
            "Epoch 18/20\n",
            "48/48 - 0s - loss: 0.4553 - accuracy: 0.7987 - val_loss: 0.5910 - val_accuracy: 0.7102\n",
            "Epoch 19/20\n",
            "48/48 - 0s - loss: 0.4719 - accuracy: 0.7808 - val_loss: 0.6082 - val_accuracy: 0.6773\n",
            "Epoch 20/20\n",
            "48/48 - 0s - loss: 0.4862 - accuracy: 0.7665 - val_loss: 0.5415 - val_accuracy: 0.7262\n",
            "Accuracy:0.726197\n",
            "Precision:0.719125\n",
            "Recall:0.812894\n",
            "F1 score:0.763140\n"
          ],
          "name": "stdout"
        },
        {
          "output_type": "display_data",
          "data": {
            "image/png": "[encoded data removed]",
            "text/plain": [
              "<Figure size 432x288 with 2 Axes>"
            ]
          },
          "metadata": {
            "tags": [],
            "needs_background": "light"
          }
        }
      ]
    },
    {
      "cell_type": "code",
      "metadata": {
        "colab": {
          "base_uri": "https://localhost:8080/",
          "height": 1000
        },
        "id": "ekxvhC_IGprq",
        "outputId": "53c08956-6be2-4d27-d3d1-4469265eef9d"
      },
      "source": [
        "with tf.device('/device:GPU:0'):\n",
        "  model=Sequential()\n",
        "  model.add(tf.compat.v1.keras.layers.CuDNNGRU(50,return_sequences=True,input_shape=(11,1)))\n",
        "  model.add(Dropout(0.1))\n",
        "  model.add(tf.compat.v1.keras.layers.CuDNNGRU(50))\n",
        "  model.add(Dropout(0.1))\n",
        "  model.add(Dense(1, activation='sigmoid'))\n",
        "  opt = tf.keras.optimizers.Adam(beta_1=0.9,beta_2=0.999,learning_rate=0.02)\n",
        "  model.compile(loss='binary_crossentropy', optimizer=opt, metrics=['accuracy'])\n",
        "  model.fit(x_train,y_train,validation_data=(x_test,y_test),epochs=20,batch_size=64,verbose=2)\n",
        "\n",
        "  # Predictions on test data\n",
        "  preds = model.predict(x_test)\n",
        "  preds = np.array([1 if y >= 0.5 else 0 for y in preds])\n",
        "  scores(preds, y_test)"
      ],
      "execution_count": 39,
      "outputs": [
        {
          "output_type": "stream",
          "text": [
            "Epoch 1/20\n",
            "48/48 - 2s - loss: 0.6088 - accuracy: 0.6745 - val_loss: 0.5834 - val_accuracy: 0.6502\n",
            "Epoch 2/20\n",
            "48/48 - 0s - loss: 0.5226 - accuracy: 0.7469 - val_loss: 0.5335 - val_accuracy: 0.7291\n",
            "Epoch 3/20\n",
            "48/48 - 0s - loss: 0.4920 - accuracy: 0.7629 - val_loss: 0.5357 - val_accuracy: 0.7133\n",
            "Epoch 4/20\n",
            "48/48 - 0s - loss: 0.5271 - accuracy: 0.7479 - val_loss: 0.5398 - val_accuracy: 0.7320\n",
            "Epoch 5/20\n",
            "48/48 - 0s - loss: 0.4923 - accuracy: 0.7679 - val_loss: 0.5166 - val_accuracy: 0.7454\n",
            "Epoch 6/20\n",
            "48/48 - 0s - loss: 0.4777 - accuracy: 0.7728 - val_loss: 0.5288 - val_accuracy: 0.7265\n",
            "Epoch 7/20\n",
            "48/48 - 0s - loss: 0.4723 - accuracy: 0.7808 - val_loss: 0.5418 - val_accuracy: 0.7128\n",
            "Epoch 8/20\n",
            "48/48 - 0s - loss: 0.4644 - accuracy: 0.7825 - val_loss: 0.5271 - val_accuracy: 0.7317\n",
            "Epoch 9/20\n",
            "48/48 - 0s - loss: 0.4471 - accuracy: 0.7944 - val_loss: 0.5609 - val_accuracy: 0.7057\n",
            "Epoch 10/20\n",
            "48/48 - 0s - loss: 0.4946 - accuracy: 0.7639 - val_loss: 0.5302 - val_accuracy: 0.7341\n",
            "Epoch 11/20\n",
            "48/48 - 0s - loss: 0.4526 - accuracy: 0.7828 - val_loss: 0.5900 - val_accuracy: 0.7020\n",
            "Epoch 12/20\n",
            "48/48 - 0s - loss: 0.4521 - accuracy: 0.7888 - val_loss: 0.5550 - val_accuracy: 0.7091\n",
            "Epoch 13/20\n",
            "48/48 - 0s - loss: 0.4341 - accuracy: 0.8024 - val_loss: 0.5405 - val_accuracy: 0.7188\n",
            "Epoch 14/20\n",
            "48/48 - 0s - loss: 0.4230 - accuracy: 0.8090 - val_loss: 0.6262 - val_accuracy: 0.6786\n",
            "Epoch 15/20\n",
            "48/48 - 0s - loss: 0.4594 - accuracy: 0.7818 - val_loss: 0.6131 - val_accuracy: 0.6557\n",
            "Epoch 16/20\n",
            "48/48 - 0s - loss: 0.4412 - accuracy: 0.7941 - val_loss: 0.5610 - val_accuracy: 0.6959\n",
            "Epoch 17/20\n",
            "48/48 - 0s - loss: 0.4365 - accuracy: 0.8017 - val_loss: 0.5640 - val_accuracy: 0.7125\n",
            "Epoch 18/20\n",
            "48/48 - 0s - loss: 0.4188 - accuracy: 0.8077 - val_loss: 0.5666 - val_accuracy: 0.7217\n",
            "Epoch 19/20\n",
            "48/48 - 0s - loss: 0.4301 - accuracy: 0.7934 - val_loss: 0.5473 - val_accuracy: 0.7280\n",
            "Epoch 20/20\n",
            "48/48 - 0s - loss: 0.4302 - accuracy: 0.7967 - val_loss: 0.5501 - val_accuracy: 0.7309\n",
            "Accuracy:0.730931\n",
            "Precision:0.749281\n",
            "Recall:0.757635\n",
            "F1 score:0.753435\n"
          ],
          "name": "stdout"
        },
        {
          "output_type": "display_data",
          "data": {
            "image/png": "[encoded data removed]",
            "text/plain": [
              "<Figure size 432x288 with 2 Axes>"
            ]
          },
          "metadata": {
            "tags": [],
            "needs_background": "light"
          }
        }
      ]
    },
    {
      "cell_type": "markdown",
      "metadata": {
        "id": "wgWe8O8SkB-N"
      },
      "source": [
        "XGBoost on new approach"
      ]
    },
    {
      "cell_type": "code",
      "metadata": {
        "colab": {
          "base_uri": "https://localhost:8080/",
          "height": 1000
        },
        "id": "gJm_mceJkBlg",
        "outputId": "4fd8be35-2abe-496a-ab29-0bc5e5327482"
      },
      "source": [
        "import xgboost as xgb\n",
        "import numpy as np\n",
        "\n",
        "X_train = x_train.reshape(x_train.shape[0],x_train.shape[1])\n",
        "X_test = x_test.reshape(x_test.shape[0],x_test.shape[1])\n",
        "\n",
        "# XGBoost classifier with Early-stopping\n",
        "clf = xgb.XGBClassifier(n_jobs=1)\n",
        "clf.fit(X_train, y_train, early_stopping_rounds=50, eval_metric=\"auc\",\n",
        "        eval_set=[(X_test, y_test)])\n",
        "\n",
        "preds = clf.predict(X_test)\n",
        "scores(y_test, preds)"
      ],
      "execution_count": 40,
      "outputs": [
        {
          "output_type": "stream",
          "text": [
            "[0]\tvalidation_0-auc:0.784383\n",
            "Will train until validation_0-auc hasn't improved in 50 rounds.\n",
            "[1]\tvalidation_0-auc:0.78591\n",
            "[2]\tvalidation_0-auc:0.794936\n",
            "[3]\tvalidation_0-auc:0.798763\n",
            "[4]\tvalidation_0-auc:0.800806\n",
            "[5]\tvalidation_0-auc:0.801058\n",
            "[6]\tvalidation_0-auc:0.801886\n",
            "[7]\tvalidation_0-auc:0.801478\n",
            "[8]\tvalidation_0-auc:0.80242\n",
            "[9]\tvalidation_0-auc:0.804822\n",
            "[10]\tvalidation_0-auc:0.804515\n",
            "[11]\tvalidation_0-auc:0.803101\n",
            "[12]\tvalidation_0-auc:0.803229\n",
            "[13]\tvalidation_0-auc:0.801766\n",
            "[14]\tvalidation_0-auc:0.802255\n",
            "[15]\tvalidation_0-auc:0.802485\n",
            "[16]\tvalidation_0-auc:0.803993\n",
            "[17]\tvalidation_0-auc:0.804558\n",
            "[18]\tvalidation_0-auc:0.804713\n",
            "[19]\tvalidation_0-auc:0.804486\n",
            "[20]\tvalidation_0-auc:0.805602\n",
            "[21]\tvalidation_0-auc:0.804159\n",
            "[22]\tvalidation_0-auc:0.804091\n",
            "[23]\tvalidation_0-auc:0.806169\n",
            "[24]\tvalidation_0-auc:0.806494\n",
            "[25]\tvalidation_0-auc:0.80419\n",
            "[26]\tvalidation_0-auc:0.804639\n",
            "[27]\tvalidation_0-auc:0.805265\n",
            "[28]\tvalidation_0-auc:0.804684\n",
            "[29]\tvalidation_0-auc:0.804643\n",
            "[30]\tvalidation_0-auc:0.804954\n",
            "[31]\tvalidation_0-auc:0.805208\n",
            "[32]\tvalidation_0-auc:0.805418\n",
            "[33]\tvalidation_0-auc:0.805463\n",
            "[34]\tvalidation_0-auc:0.805807\n",
            "[35]\tvalidation_0-auc:0.805719\n",
            "[36]\tvalidation_0-auc:0.805311\n",
            "[37]\tvalidation_0-auc:0.805091\n",
            "[38]\tvalidation_0-auc:0.805197\n",
            "[39]\tvalidation_0-auc:0.80499\n",
            "[40]\tvalidation_0-auc:0.804689\n",
            "[41]\tvalidation_0-auc:0.804533\n",
            "[42]\tvalidation_0-auc:0.804543\n",
            "[43]\tvalidation_0-auc:0.804879\n",
            "[44]\tvalidation_0-auc:0.804275\n",
            "[45]\tvalidation_0-auc:0.802497\n",
            "[46]\tvalidation_0-auc:0.80217\n",
            "[47]\tvalidation_0-auc:0.801986\n",
            "[48]\tvalidation_0-auc:0.801999\n",
            "[49]\tvalidation_0-auc:0.800172\n",
            "[50]\tvalidation_0-auc:0.800209\n",
            "[51]\tvalidation_0-auc:0.79999\n",
            "[52]\tvalidation_0-auc:0.800073\n",
            "[53]\tvalidation_0-auc:0.799879\n",
            "[54]\tvalidation_0-auc:0.79988\n",
            "[55]\tvalidation_0-auc:0.799994\n",
            "[56]\tvalidation_0-auc:0.800001\n",
            "[57]\tvalidation_0-auc:0.799946\n",
            "[58]\tvalidation_0-auc:0.799673\n",
            "[59]\tvalidation_0-auc:0.799432\n",
            "[60]\tvalidation_0-auc:0.799391\n",
            "[61]\tvalidation_0-auc:0.79906\n",
            "[62]\tvalidation_0-auc:0.799181\n",
            "[63]\tvalidation_0-auc:0.799229\n",
            "[64]\tvalidation_0-auc:0.799076\n",
            "[65]\tvalidation_0-auc:0.798962\n",
            "[66]\tvalidation_0-auc:0.798884\n",
            "[67]\tvalidation_0-auc:0.798848\n",
            "[68]\tvalidation_0-auc:0.798404\n",
            "[69]\tvalidation_0-auc:0.798362\n",
            "[70]\tvalidation_0-auc:0.798216\n",
            "[71]\tvalidation_0-auc:0.79819\n",
            "[72]\tvalidation_0-auc:0.798104\n",
            "[73]\tvalidation_0-auc:0.79735\n",
            "[74]\tvalidation_0-auc:0.796865\n",
            "Stopping. Best iteration:\n",
            "[24]\tvalidation_0-auc:0.806494\n",
            "\n",
            "Accuracy:0.739611\n",
            "Precision:0.734367\n",
            "Recall:0.774144\n",
            "F1 score:0.753731\n"
          ],
          "name": "stdout"
        },
        {
          "output_type": "display_data",
          "data": {
            "image/png": "[encoded data removed]",
            "text/plain": [
              "<Figure size 432x288 with 2 Axes>"
            ]
          },
          "metadata": {
            "tags": [],
            "needs_background": "light"
          }
        }
      ]
    },
    {
      "cell_type": "code",
      "metadata": {
        "id": "MUP3BIMRpnOF"
      },
      "source": [
        ""
      ],
      "execution_count": null,
      "outputs": []
    }
  ]
}