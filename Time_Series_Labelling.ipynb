{
  "nbformat": 4,
  "nbformat_minor": 0,
  "metadata": {
    "colab": {
      "name": "Time_Series_Labelling.ipynb",
      "provenance": [],
      "collapsed_sections": []
    },
    "kernelspec": {
      "name": "python3",
      "display_name": "Python 3"
    },
    "language_info": {
      "name": "python"
    },
    "accelerator": "GPU"
  },
  "cells": [
    {
      "cell_type": "code",
      "metadata": {
        "colab": {
          "base_uri": "https://localhost:8080/"
        },
        "id": "aMURxUHNk5sf",
        "outputId": "861d32dd-0d36-41dd-e60c-76726d300285"
      },
      "source": [
        "%tensorflow_version 2.x\n",
        "import tensorflow as tf\n",
        "device_name = tf.test.gpu_device_name()\n",
        "if device_name != '/device:GPU:0':\n",
        "  raise SystemError('GPU device not found')\n",
        "print('Found GPU at: {}'.format(device_name))"
      ],
      "execution_count": 2,
      "outputs": [
        {
          "output_type": "stream",
          "text": [
            "Found GPU at: /device:GPU:0\n"
          ],
          "name": "stdout"
        }
      ]
    },
    {
      "cell_type": "markdown",
      "metadata": {
        "id": "-lrRB1spRjj2"
      },
      "source": [
        "Reading Data"
      ]
    },
    {
      "cell_type": "code",
      "metadata": {
        "id": "HXSg_jfxlaWw"
      },
      "source": [
        "import pandas as pd\n",
        "import numpy as np\n",
        "from sklearn.linear_model import LinearRegression\n",
        "dfs = pd.read_excel(\"000001data.xlsx\")"
      ],
      "execution_count": 3,
      "outputs": []
    },
    {
      "cell_type": "markdown",
      "metadata": {
        "id": "_a-OsIVVR1pz"
      },
      "source": [
        "Implementing Labelling algorithm "
      ]
    },
    {
      "cell_type": "code",
      "metadata": {
        "id": "tqwGOVvDRqvH"
      },
      "source": [
        "#labelling algorithm X is price and w is our threshould\n",
        "def labeling(X,w):\n",
        "    n = len(X)\n",
        "    y = np.array([0 for i in range(n)])\n",
        "    FP=X[0]\n",
        "    xh = X[0]\n",
        "    xl = X[0]\n",
        "    HT = 0\n",
        "    LT = 0\n",
        "    cid = 0\n",
        "    FP_N = 0\n",
        "    for i in range(n):\n",
        "        if(X[i] > FP + X[0]*w):\n",
        "            xh,HT,FP_N,cid  = X[i],i,i,1\n",
        "            break\n",
        "        if(X[i] < FP - X[0]*w):\n",
        "            xh,HT,FP_N,cid  = X[i],i,i,-1\n",
        "            break\n",
        "    for i in range(FP_N+1,n):\n",
        "        if(cid > 0):\n",
        "            if(X[i]>xh):\n",
        "                xh,HT = X[i],i\n",
        "            if(X[i] < xh - xh*w and LT<= HT ):\n",
        "                for j in range(n):\n",
        "                    if(j>LT and j<=HT):\n",
        "                        y[j] = 1\n",
        "                xl,LT,cid = X[i],i,-1\n",
        "        if(cid < 0):\n",
        "            if(X[i]<xl):\n",
        "                xl,LT = X[i],i\n",
        "            if(X[i] > xl + xl*w and HT<= LT ):\n",
        "                for j in range(n):\n",
        "                    if(j>HT and j<=LT):\n",
        "                        y[j] = -1\n",
        "                xh,HT,cid = X[i],i,1\n",
        "    return y"
      ],
      "execution_count": 4,
      "outputs": []
    },
    {
      "cell_type": "markdown",
      "metadata": {
        "id": "MfIUNs4ER-ww"
      },
      "source": [
        "labelling data"
      ]
    },
    {
      "cell_type": "code",
      "metadata": {
        "id": "5zUQ57f_RrB1"
      },
      "source": [
        "label=labeling(dfs[\"closingprice\"],0.15)    "
      ],
      "execution_count": 5,
      "outputs": []
    },
    {
      "cell_type": "markdown",
      "metadata": {
        "id": "2raClgQCSNeh"
      },
      "source": [
        "Creat windows with size 11 "
      ]
    },
    {
      "cell_type": "code",
      "metadata": {
        "id": "trtJyd9FSh5X"
      },
      "source": [
        "closing_price= dfs['closingprice']\n",
        "\n",
        "#windows size is 11\n",
        "expand_data = np.array([closing_price[i:i+11] for i in range(len(closing_price) - 10) ])"
      ],
      "execution_count": 6,
      "outputs": []
    },
    {
      "cell_type": "markdown",
      "metadata": {
        "id": "yWXlg2f2So4Q"
      },
      "source": [
        "normalize Data \n",
        "\\begin{align*}\n",
        "        f_{ij} & = \\frac{x_{ij} - M^{\\lambda}_{i}}{M^{\\lambda}_{i}} ,x_{ij} \\in X\\\\\n",
        "        M^{\\lambda}_{s}& = \\frac{\\sum_{i=s}^{s+ \\lambda -1} x_i}{\\lambda} , x_i \\in x\n",
        "    \\end{align*}"
      ]
    },
    {
      "cell_type": "code",
      "metadata": {
        "id": "DPiKNgIulg_Q"
      },
      "source": [
        "\n",
        "#normalizatin\n",
        "final_data_x = expand_data / np.mean(expand_data,axis = 1).reshape((len(expand_data) , 1))\n",
        "final_data_x = final_data_x - np.ones((len(final_data_x) ,1))"
      ],
      "execution_count": 7,
      "outputs": []
    },
    {
      "cell_type": "code",
      "metadata": {
        "id": "9SZSPp6FTGA0"
      },
      "source": [
        "#finalizing data\n",
        "final_data_y = label[10:]\n",
        "#split data to test and train\n",
        "x_train_full = final_data_x[0:3011]\n",
        "y_train_full = final_data_y[0:3011]\n",
        "x_test= final_data_x[3011:]\n",
        "y_test = final_data_y[3011:]\n",
        "\n",
        "#(-1,1) --> (0,1)\n",
        "y_train_full = (y_train_full + 1)//2\n",
        "y_test = (y_test + 1)//2\n",
        "\n",
        "x_train_full =x_train_full.reshape(x_train_full.shape[0],x_train.shape[1] , 1)\n",
        "x_test = x_test.reshape(x_test.shape[0],x_test.shape[1] , 1)"
      ],
      "execution_count": 8,
      "outputs": []
    },
    {
      "cell_type": "code",
      "metadata": {
        "colab": {
          "base_uri": "https://localhost:8080/"
        },
        "id": "QT56qQryqZYx",
        "outputId": "76d6f564-2a4c-438e-9077-679fdd08bd54"
      },
      "source": [
        "closing_price"
      ],
      "execution_count": 40,
      "outputs": [
        {
          "output_type": "execute_result",
          "data": {
            "text/plain": [
              "array([1, 1, 1, ..., 0, 0, 0])"
            ]
          },
          "metadata": {
            "tags": []
          },
          "execution_count": 40
        }
      ]
    },
    {
      "cell_type": "code",
      "metadata": {
        "id": "yDOBqAAqdWXr"
      },
      "source": [
        "import itertools as itt\n",
        "import numbers\n",
        "import numpy as np\n",
        "import pandas as pd\n",
        "\n",
        "from abc import abstractmethod\n",
        "from typing import Iterable, Tuple, List\n",
        "\n",
        "\n",
        "class BaseTimeSeriesCrossValidator:\n",
        "    \"\"\"\n",
        "    Abstract class for time series cross-validation.\n",
        "    Time series cross-validation requires each sample has a prediction time pred_time, at which the features are used to\n",
        "    predict the response, and an evaluation time eval_time, at which the response is known and the error can be\n",
        "    computed. Importantly, it means that unlike in standard sklearn cross-validation, the samples X, response y,\n",
        "    pred_times and eval_times must all be pandas dataframe/series having the same index. It is also assumed that the\n",
        "    samples are time-ordered with respect to the prediction time (i.e. pred_times is non-decreasing).\n",
        "    Parameters\n",
        "    ----------\n",
        "    n_splits : int, default=10\n",
        "        Number of folds. Must be at least 2.\n",
        "    \"\"\"\n",
        "    def __init__(self, n_splits=10):\n",
        "        if not isinstance(n_splits, numbers.Integral):\n",
        "            raise ValueError(f\"The number of folds must be of Integral type. {n_splits} of type {type(n_splits)}\"\n",
        "                             f\" was passed.\")\n",
        "        n_splits = int(n_splits)\n",
        "        if n_splits <= 1:\n",
        "            raise ValueError(f\"K-fold cross-validation requires at least one train/test split by setting n_splits = 2 \"\n",
        "                             f\"or more, got n_splits = {n_splits}.\")\n",
        "        self.n_splits = n_splits\n",
        "        self.pred_times = None\n",
        "        self.eval_times = None\n",
        "        self.indices = None\n",
        "\n",
        "    @abstractmethod\n",
        "    def split(self, X: pd.DataFrame, y: pd.Series = None,\n",
        "              pred_times: pd.Series = None, eval_times: pd.Series = None):\n",
        "        if not isinstance(X, pd.DataFrame) and not isinstance(X, pd.Series):\n",
        "            raise ValueError('X should be a pandas DataFrame/Series.')\n",
        "        if not isinstance(y, pd.Series) and y is not None:\n",
        "            raise ValueError('y should be a pandas Series.')\n",
        "        if not isinstance(pred_times, pd.Series):\n",
        "            raise ValueError('pred_times should be a pandas Series.')\n",
        "        if not isinstance(eval_times, pd.Series):\n",
        "            raise ValueError('eval_times should be a pandas Series.')\n",
        "        if y is not None and (X.index == y.index).sum() != len(y):\n",
        "            raise ValueError('X and y must have the same index')\n",
        "        if (X.index == pred_times.index).sum() != len(pred_times):\n",
        "            raise ValueError('X and pred_times must have the same index')\n",
        "        if (X.index == eval_times.index).sum() != len(eval_times):\n",
        "            raise ValueError('X and eval_times must have the same index')\n",
        "\n",
        "        self.pred_times = pred_times\n",
        "        self.eval_times = eval_times\n",
        "        self.indices = np.arange(X.shape[0])\n",
        "\n",
        "\n",
        "class PurgedWalkForwardCV(BaseTimeSeriesCrossValidator):\n",
        "  \"\"\"\n",
        "  Purged walk-forward cross-validation\n",
        "  As described in Advances in financial machine learning, Marcos Lopez de Prado, 2018.\n",
        "  The samples are decomposed into n_splits folds containing equal numbers of samples, without shuffling. In each cross\n",
        "  validation round, n_test_splits contiguous folds are used as the test set, while the train set consists in between\n",
        "  min_train_splits and max_train_splits immediately preceding folds.\n",
        "  Each sample should be tagged with a prediction time pred_time and an evaluation time eval_time. The split is such\n",
        "  that the intervals [pred_times, eval_times] associated to samples in the train and test set do not overlap. (The\n",
        "  overlapping samples are dropped.)\n",
        "  With split_by_times = True in the split method, it is also possible to split the samples in folds spanning equal\n",
        "  time intervals (using the prediction time as a time tag), instead of folds containing equal numbers of samples.\n",
        "  Parameters\n",
        "  ----------\n",
        "  n_splits : int, default=10\n",
        "      Number of folds. Must be at least 2.\n",
        "  n_test_splits : int, default = 1\n",
        "      Number of folds used in the test set. Must be at least 1.\n",
        "  min_train_splits: int, default = 2\n",
        "      Minimal number of folds to be used in the train set.\n",
        "  max_train_splits: int, default = None\n",
        "      Maximal number of folds to be used in the train set. If None, there is no upper limit.\n",
        "  \"\"\"\n",
        "  def __init__(self, n_splits=10, n_test_splits=1, min_train_splits=2, max_train_splits=None):\n",
        "      super().__init__(n_splits)\n",
        "      if not isinstance(n_test_splits, numbers.Integral):\n",
        "          raise ValueError(f\"The number of test folds must be of Integral type. {n_test_splits} of type \"\n",
        "                            f\"{type(n_test_splits)} was passed.\")\n",
        "      n_test_splits = int(n_test_splits)\n",
        "      if n_test_splits <= 0 or n_test_splits >= self.n_splits - 1:\n",
        "          raise ValueError(f\"K-fold cross-validation requires at least one train/test split by setting \"\n",
        "                            f\"n_test_splits between 1 and n_splits - 1, got n_test_splits = {n_test_splits}.\")\n",
        "      self.n_test_splits = n_test_splits\n",
        "\n",
        "      if not isinstance(min_train_splits, numbers.Integral):\n",
        "          raise ValueError(f\"The minimal number of train folds must be of Integral type. {min_train_splits} of type \"\n",
        "                            f\"{type(min_train_splits)} was passed.\")\n",
        "      min_train_splits = int(min_train_splits)\n",
        "      if min_train_splits <= 0 or min_train_splits >= self.n_splits - self.n_test_splits:\n",
        "          raise ValueError(f\"K-fold cross-validation requires at least one train/test split by setting \"\n",
        "                            f\"min_train_splits between 1 and n_splits - n_test_splits, got min_train_splits = \"\n",
        "                            f\"{min_train_splits}.\")\n",
        "      self.min_train_splits = min_train_splits\n",
        "\n",
        "      if max_train_splits is None:\n",
        "          max_train_splits = self.n_splits - self.n_test_splits\n",
        "      if not isinstance(max_train_splits, numbers.Integral):\n",
        "          raise ValueError(f\"The maximal number of train folds must be of Integral type. {max_train_splits} of type \"\n",
        "                            f\"{type(max_train_splits)} was passed.\")\n",
        "      max_train_splits = int(max_train_splits)\n",
        "      if max_train_splits <= 0 or max_train_splits > self.n_splits - self.n_test_splits:\n",
        "          raise ValueError(f\"K-fold cross-validation requires at least one train/test split by setting \"\n",
        "                            f\"max_train_split between 1 and n_splits - n_test_splits, got max_train_split = \"\n",
        "                            f\"{max_train_splits}.\")\n",
        "      self.max_train_splits = max_train_splits\n",
        "      self.fold_bounds = []\n",
        "\n",
        "  def split(self, X: pd.DataFrame, y: pd.Series = None, pred_times: pd.Series = None, eval_times: pd.Series = None,\n",
        "            split_by_time: bool = False) -> Iterable[Tuple[np.ndarray, np.ndarray]]:\n",
        "      \"\"\"\n",
        "      Yield the indices of the train and test sets.\n",
        "      Although the samples are passed in the form of a pandas dataframe, the indices returned are position indices,\n",
        "      not labels.\n",
        "      Parameters\n",
        "      ----------\n",
        "      X : pd.DataFrame, shape (n_samples, n_features), required\n",
        "          Samples. Only used to extract n_samples.\n",
        "      y : pd.Series, not used, inherited from _BaseKFold\n",
        "      pred_times : pd.Series, shape (n_samples,), required\n",
        "          Times at which predictions are made. pred_times.index has to coincide with X.index.\n",
        "      eval_times : pd.Series, shape (n_samples,), required\n",
        "          Times at which the response becomes available and the error can be computed. eval_times.index has to\n",
        "          coincide with X.index.\n",
        "      split_by_time: bool\n",
        "          If False, the folds contain an (approximately) equal number of samples. If True, the folds span identical\n",
        "          time intervals.\n",
        "      Returns\n",
        "      -------\n",
        "      train_indices: np.ndarray\n",
        "          A numpy array containing all the indices in the train set.\n",
        "      test_indices : np.ndarray\n",
        "          A numpy array containing all the indices in the test set.\n",
        "      \"\"\"\n",
        "    \n",
        "      super().split(X, y, pred_times, eval_times)\n",
        "\n",
        "      # Fold boundaries\n",
        "      self.fold_bounds = compute_fold_bounds(self, split_by_time)\n",
        "      \n",
        "      count_folds = 0\n",
        "      for fold_bound in self.fold_bounds:\n",
        "      \n",
        "        if count_folds < self.min_train_splits:\n",
        "            count_folds = count_folds + 1\n",
        "            continue\n",
        "        if self.n_splits - count_folds < self.n_test_splits:\n",
        "            break\n",
        "        # Computes the bounds of the test set, and the corresponding indices\n",
        "        test_indices = self.compute_test_set(fold_bound, count_folds)\n",
        "        # Computes the train set indices\n",
        "        train_indices = self.compute_train_set(fold_bound, count_folds)\n",
        "        \n",
        "        count_folds = count_folds + 1\n",
        "        yield train_indices, test_indices\n",
        "\n",
        "  def compute_train_set(self, fold_bound: int, count_folds: int) -> np.ndarray:\n",
        "      \"\"\"\n",
        "      Compute the position indices of samples in the train set.\n",
        "      Parameters\n",
        "      ----------\n",
        "      fold_bound : int\n",
        "          Bound between the train set and the test set.\n",
        "      count_folds : int\n",
        "          The number (starting at 0) of the first fold in the test set.\n",
        "      Returns\n",
        "      -------\n",
        "      train_indices: np.ndarray\n",
        "          A numpy array containing all the indices in the train set.\n",
        "      \"\"\"\n",
        "      if count_folds > self.max_train_splits:\n",
        "          start_train = self.fold_bounds[count_folds - self.max_train_splits]\n",
        "      else:\n",
        "          start_train = 0\n",
        "      train_indices = np.arange(start_train, fold_bound)\n",
        "      # Purge\n",
        "      train_indices = purge(self, train_indices, fold_bound, self.indices[-1])\n",
        "      return train_indices\n",
        "\n",
        "  def compute_test_set(self, fold_bound: int, count_folds: int) -> np.ndarray:\n",
        "      \"\"\"\n",
        "      Compute the indices of the samples in the test set.\n",
        "      Parameters\n",
        "      ----------\n",
        "      fold_bound : int\n",
        "          Bound between the train set and the test set.\n",
        "      count_folds : int\n",
        "          The number (starting at 0) of the first fold in the test set.\n",
        "      Returns\n",
        "      -------\n",
        "      test_indices: np.ndarray\n",
        "          A numpy array containing the test indices.\n",
        "      \"\"\"\n",
        "      if self.n_splits - count_folds > self.n_test_splits:\n",
        "          end_test = self.fold_bounds[count_folds + self.n_test_splits]\n",
        "      else:\n",
        "          end_test = self.indices[-1] + 1\n",
        "      return np.arange(fold_bound, end_test)\n",
        "\n",
        "\n",
        "class CombPurgedKFoldCV(BaseTimeSeriesCrossValidator):\n",
        "    \"\"\"\n",
        "    Purged and embargoed combinatorial cross-validation\n",
        "    As described in Advances in financial machine learning, Marcos Lopez de Prado, 2018.\n",
        "    The samples are decomposed into n_splits folds containing equal numbers of samples, without shuffling. In each cross\n",
        "    validation round, n_test_splits folds are used as the test set, while the other folds are used as the train set.\n",
        "    There are as many rounds as n_test_splits folds among the n_splits folds.\n",
        "    Each sample should be tagged with a prediction time pred_time and an evaluation time eval_time. The split is such\n",
        "    that the intervals [pred_times, eval_times] associated to samples in the train and test set do not overlap. (The\n",
        "    overlapping samples are dropped.) In addition, an \"embargo\" period is defined, giving the minimal time between an\n",
        "    evaluation time in the test set and a prediction time in the training set. This is to avoid, in the presence of\n",
        "    temporal correlation, a contamination of the test set by the train set.\n",
        "    Parameters\n",
        "    ----------\n",
        "    n_splits : int, default=10\n",
        "        Number of folds. Must be at least 2.\n",
        "    n_test_splits : int, default=2\n",
        "        Number of folds used in the test set. Must be at least 1.\n",
        "    embargo_td : pd.Timedelta, default=0\n",
        "        Embargo period (see explanations above).\n",
        "    \"\"\"\n",
        "    def __init__(self, n_splits=10, n_test_splits=2, embargo_td=0):\n",
        "        super().__init__(n_splits)\n",
        "        if not isinstance(n_test_splits, numbers.Integral):\n",
        "            raise ValueError(f\"The number of test folds must be of Integral type. {n_test_splits} of type \"\n",
        "                             f\"{type(n_test_splits)} was passed.\")\n",
        "        n_test_splits = int(n_test_splits)\n",
        "        if n_test_splits <= 0 or n_test_splits > self.n_splits - 1:\n",
        "            raise ValueError(f\"K-fold cross-validation requires at least one train/test split by setting \"\n",
        "                             f\"n_test_splits between 1 and n_splits - 1, got n_test_splits = {n_test_splits}.\")\n",
        "        self.n_test_splits = n_test_splits\n",
        "\n",
        "        if embargo_td < 0:\n",
        "            raise ValueError(f\"The embargo time should be positive, got embargo = {embargo_td}.\")\n",
        "        self.embargo_td = embargo_td\n",
        "\n",
        "    def split(self, X: pd.DataFrame, y: pd.Series = None,\n",
        "              pred_times: pd.Series = None, eval_times: pd.Series = None) -> Iterable[Tuple[np.ndarray, np.ndarray]]:\n",
        "        \"\"\"\n",
        "        Yield the indices of the train and test sets.\n",
        "        Although the samples are passed in the form of a pandas dataframe, the indices returned are position indices,\n",
        "        not labels.\n",
        "        Parameters\n",
        "        ----------\n",
        "        X : pd.DataFrame, shape (n_samples, n_features), required\n",
        "            Samples. Only used to extract n_samples.\n",
        "        y : pd.Series, not used, inherited from _BaseKFold\n",
        "        pred_times : pd.Series, shape (n_samples,), required\n",
        "            Times at which predictions are made. pred_times.index has to coincide with X.index.\n",
        "        eval_times : pd.Series, shape (n_samples,), required\n",
        "            Times at which the response becomes available and the error can be computed. eval_times.index has to\n",
        "            coincide with X.index.\n",
        "        Returns\n",
        "        -------\n",
        "        train_indices: np.ndarray\n",
        "            A numpy array containing all the indices in the train set.\n",
        "        test_indices : np.ndarray\n",
        "            A numpy array containing all the indices in the test set.\n",
        "        \"\"\"\n",
        "        super().split(X, y, pred_times, eval_times)\n",
        "\n",
        "        # Fold boundaries\n",
        "        fold_bounds = [(fold[0], fold[-1] + 1) for fold in np.array_split(self.indices, self.n_splits)]\n",
        "        # List of all combinations of n_test_splits folds selected to become test sets\n",
        "        selected_fold_bounds = list(itt.combinations(fold_bounds, self.n_test_splits))\n",
        "        \n",
        "        # In order for the first round to have its whole test set at the end of the dataset\n",
        "        selected_fold_bounds.reverse()\n",
        "\n",
        "        for fold_bound_list in selected_fold_bounds:\n",
        "            # Computes the bounds of the test set, and the corresponding indices\n",
        "            test_fold_bounds, test_indices = self.compute_test_set(fold_bound_list)\n",
        "            # Computes the train set indices\n",
        "            train_indices = self.compute_train_set(test_fold_bounds, test_indices)\n",
        "\n",
        "            yield train_indices, test_indices\n",
        "\n",
        "    def compute_train_set(self, test_fold_bounds: List[Tuple[int, int]], test_indices: np.ndarray) -> np.ndarray:\n",
        "        \"\"\"\n",
        "        Compute the position indices of samples in the train set.\n",
        "        Parameters\n",
        "        ----------\n",
        "        test_fold_bounds : List of tuples of position indices\n",
        "            Each tuple records the bounds of a block of indices in the test set.\n",
        "        test_indices : np.ndarray\n",
        "            A numpy array containing all the indices in the test set.\n",
        "        Returns\n",
        "        -------\n",
        "        train_indices: np.ndarray\n",
        "            A numpy array containing all the indices in the train set.\n",
        "        \"\"\"\n",
        "        # As a first approximation, the train set is the complement of the test set\n",
        "        train_indices = np.setdiff1d(self.indices, test_indices)\n",
        "        # But we now have to purge and embargo\n",
        "        for test_fold_start, test_fold_end in test_fold_bounds:\n",
        "            # Purge\n",
        "            train_indices = purge(self, train_indices, test_fold_start, test_fold_end)\n",
        "            # Embargo\n",
        "            train_indices = embargo(self, train_indices, test_indices, test_fold_end)\n",
        "        return train_indices\n",
        "\n",
        "    def compute_test_set(self, fold_bound_list: List[Tuple[int, int]]) -> Tuple[List[Tuple[int, int]], np.ndarray]:\n",
        "        \"\"\"\n",
        "        Compute the indices of the samples in the test set.\n",
        "        Parameters\n",
        "        ----------\n",
        "        fold_bound_list: List of tuples of position indices\n",
        "            Each tuple records the bounds of the folds belonging to the test set.\n",
        "        Returns\n",
        "        -------\n",
        "        test_fold_bounds: List of tuples of position indices\n",
        "            Like fold_bound_list, but with the neighboring folds in the test set merged.\n",
        "        test_indices: np.ndarray\n",
        "            A numpy array containing the test indices.\n",
        "        \"\"\"\n",
        "        test_indices = np.empty(0)\n",
        "        test_fold_bounds = []\n",
        "        for fold_start, fold_end in fold_bound_list:\n",
        "            # Records the boundaries of the current test split\n",
        "            if not test_fold_bounds or fold_start != test_fold_bounds[-1][-1]:\n",
        "                test_fold_bounds.append((fold_start, fold_end))\n",
        "            # If the current test split is contiguous to the previous one, simply updates the endpoint\n",
        "            elif fold_start == test_fold_bounds[-1][-1]:\n",
        "                test_fold_bounds[-1] = (test_fold_bounds[-1][0], fold_end)\n",
        "            test_indices = np.union1d(test_indices, self.indices[fold_start:fold_end]).astype(int)\n",
        "        return test_fold_bounds, test_indices\n",
        "\n",
        "\n",
        "def compute_fold_bounds(cv: BaseTimeSeriesCrossValidator, split_by_time: bool) -> List[int]:\n",
        "    \"\"\"\n",
        "    Compute a list containing the fold (left) boundaries.\n",
        "    Parameters\n",
        "    ----------\n",
        "    cv: BaseTimeSeriesCrossValidator\n",
        "        Cross-validation object for which the bounds need to be computed.\n",
        "    split_by_time: bool\n",
        "        If False, the folds contain an (approximately) equal number of samples. If True, the folds span identical\n",
        "        time intervals.\n",
        "    \"\"\"\n",
        "    if split_by_time:\n",
        "        full_time_span = cv.pred_times.max() - cv.pred_times.min()\n",
        "        fold_time_span = full_time_span / cv.n_splits\n",
        "        fold_bounds_times = [cv.pred_times.iloc[0] + fold_time_span * n for n in range(cv.n_splits)]\n",
        "        return cv.pred_times.searchsorted(fold_bounds_times)\n",
        "    else:\n",
        "        return [fold[0] for fold in np.array_split(cv.indices, cv.n_splits)]\n",
        "\n",
        "\n",
        "def embargo(cv: BaseTimeSeriesCrossValidator, train_indices: np.ndarray,\n",
        "            test_indices: np.ndarray, test_fold_end: int) -> np.ndarray:\n",
        "    \"\"\"\n",
        "    Apply the embargo procedure to part of the train set.\n",
        "    This amounts to dropping the train set samples whose prediction time occurs within self.embargo_dt of the test\n",
        "    set sample evaluation times. This method applies the embargo only to the part of the training set immediately\n",
        "    following the end of the test set determined by test_fold_end.\n",
        "    Parameters\n",
        "    ----------\n",
        "    cv: Cross-validation class\n",
        "        Needs to have the attributes cv.pred_times, cv.eval_times, cv.embargo_dt and cv.indices.\n",
        "    train_indices: np.ndarray\n",
        "        A numpy array containing all the indices of the samples currently included in the train set.\n",
        "    test_indices : np.ndarray\n",
        "        A numpy array containing all the indices of the samples in the test set.\n",
        "    test_fold_end : int\n",
        "        Index corresponding to the end of a test set block.\n",
        "    Returns\n",
        "    -------\n",
        "    train_indices: np.ndarray\n",
        "        The same array, with the indices subject to embargo removed.\n",
        "    \"\"\"\n",
        "    if not hasattr(cv, 'embargo_td'):\n",
        "        raise ValueError(\"The passed cross-validation object should have a member cv.embargo_td defining the embargo\"\n",
        "                         \"time.\")\n",
        "    last_test_eval_time = cv.eval_times.iloc[cv.indices[:test_fold_end]].max()\n",
        "    min_train_index = len(cv.pred_times[cv.pred_times <= last_test_eval_time + cv.embargo_td])\n",
        "    if min_train_index < cv.indices.shape[0]:\n",
        "        allowed_indices = np.concatenate((cv.indices[:test_fold_end], cv.indices[min_train_index:]))\n",
        "        train_indices = np.intersect1d(train_indices, allowed_indices)\n",
        "    return train_indices\n",
        "\n",
        "\n",
        "def purge(cv: BaseTimeSeriesCrossValidator, train_indices: np.ndarray,\n",
        "          test_fold_start: int, test_fold_end: int) -> np.ndarray:\n",
        "    \"\"\"\n",
        "    Purge part of the train set.\n",
        "    Given a left boundary index test_fold_start of the test set, this method removes from the train set all the\n",
        "    samples whose evaluation time is posterior to the prediction time of the first test sample after the boundary.\n",
        "    Parameters\n",
        "    ----------\n",
        "    cv: Cross-validation class\n",
        "        Needs to have the attributes cv.pred_times, cv.eval_times and cv.indices.\n",
        "    train_indices: np.ndarray\n",
        "        A numpy array containing all the indices of the samples currently included in the train set.\n",
        "    test_fold_start : int\n",
        "        Index corresponding to the start of a test set block.\n",
        "    test_fold_end : int\n",
        "        Index corresponding to the end of the same test set block.\n",
        "    Returns\n",
        "    -------\n",
        "    train_indices: np.ndarray\n",
        "        A numpy array containing the train indices purged at test_fold_start.\n",
        "    \"\"\"\n",
        "    time_test_fold_start = cv.pred_times.iloc[test_fold_start]\n",
        "    # The train indices before the start of the test fold, purged.\n",
        "    train_indices_1 = np.intersect1d(train_indices, cv.indices[cv.eval_times < time_test_fold_start])\n",
        "    # The train indices after the end of the test fold.\n",
        "    train_indices_2 = np.intersect1d(train_indices, cv.indices[test_fold_end:])\n",
        "    \n",
        "\n",
        "    return np.concatenate((train_indices_1, train_indices_2))"
      ],
      "execution_count": 9,
      "outputs": []
    },
    {
      "cell_type": "code",
      "metadata": {
        "id": "pr-SM9jf18St"
      },
      "source": [
        "n_splits=6\n",
        "n_test_splits=1\n",
        "time_gap = 50\n",
        "embargo_td = 0\n",
        "\n",
        "#input_size = len(diff_added_features)\n",
        "\n",
        "cpkf = PurgedWalkForwardCV(n_splits=n_splits, n_test_splits=n_test_splits)\n",
        "\n",
        "t1_ = closing_price.iloc[:3000].index\n",
        "t1 = pd.Series(t1_).shift(time_gap).fillna(0).astype(int)\n",
        "t2 = pd.Series(t1_).shift(-time_gap).fillna(1e12).astype(int)\n",
        "\n",
        "walk_forward_splits = list(cpkf.split(closing_price.iloc[:3000], pred_times=t1, eval_times=t2))"
      ],
      "execution_count": 16,
      "outputs": []
    },
    {
      "cell_type": "code",
      "metadata": {
        "id": "00bB72m3BjAq"
      },
      "source": [
        "n_splits=6\n",
        "n_test_splits=1\n",
        "time_gap = 50\n",
        "embargo_td = 0\n",
        "\n",
        "#input_size = len(diff_added_features)\n",
        "\n",
        "cpkf = CombPurgedKFoldCV(n_splits=n_splits, n_test_splits=n_test_splits, embargo_td=embargo_td)\n",
        "\n",
        "t1_ = closing_price.iloc[:3000].index\n",
        "t1 = pd.Series(t1_).shift(time_gap).fillna(0).astype(int)\n",
        "t2 = pd.Series(t1_).shift(-time_gap).fillna(1e12).astype(int)\n",
        "\n",
        "comb_purged_splits = list(cpkf.split(closing_price.iloc[:3000], pred_times=t1, eval_times=t2))"
      ],
      "execution_count": 17,
      "outputs": []
    },
    {
      "cell_type": "code",
      "metadata": {
        "colab": {
          "base_uri": "https://localhost:8080/",
          "height": 466
        },
        "id": "zn7o7hdsKEsm",
        "outputId": "5d131857-1fe0-49cf-effe-64f37b68d151"
      },
      "source": [
        "import matplotlib.pyplot as plt\n",
        "from matplotlib.patches import Patch\n",
        "cmap_data = plt.cm.Paired\n",
        "cmap_cv = plt.cm.coolwarm\n",
        "\n",
        "fig = plt.figure(figsize=(30,15))\n",
        "ax = fig.add_subplot(111)\n",
        "\n",
        "for ii, split in enumerate(comb_purged_splits):  \n",
        "    indices = np.array([np.nan] * len(closing_price.iloc[:10000]))\n",
        "    indices[split[0]] = 1\n",
        "    indices[split[1]] = 0\n",
        "\n",
        "    ax.scatter(range(len(indices)), [ii + .5] * len(indices),\n",
        "                       c=indices, marker='_', lw=10, cmap=cmap_cv,\n",
        "                       vmin=-.2, vmax=1.2)\n",
        "\n",
        "yticklabels = list(range(len(comb_purged_splits)))\n",
        "\n",
        "ax.set(yticks=np.arange(len(comb_purged_splits)) + .5, yticklabels=yticklabels, xlabel='Sample index', ylabel=\"CV iteration\")\n",
        "ax.set_title('CombPurgedKFoldCV', fontsize=15)\n",
        "\n",
        "ax.legend([Patch(color=cmap_cv(.8)), Patch(color=cmap_cv(.02))], ['Training set', 'Testing set'], loc=(1.02, .8))\n",
        "\n",
        "fig.show()"
      ],
      "execution_count": 18,
      "outputs": [
        {
          "output_type": "display_data",
          "data": {
            "image/png": "[encoded data removed]",
            "text/plain": [
              "<Figure size 2160x1080 with 1 Axes>"
            ]
          },
          "metadata": {
            "tags": [],
            "needs_background": "light"
          }
        }
      ]
    },
    {
      "cell_type": "code",
      "metadata": {
        "id": "PvDJ7NsucjYu"
      },
      "source": [
        "def window(df,index,label,step_size):\n",
        "  xtrain = np.array([df[i + step_size - 1:i+step_size*11:step_size] for i in index if (i-1 + 11*step_size) in index])\n",
        "  ytrain = np.array([label[i-1 + 11*step_size] for i in index if (i-1 + 11*step_size) in index])\n",
        "  return xtrain , ytrain"
      ],
      "execution_count": 19,
      "outputs": []
    },
    {
      "cell_type": "code",
      "metadata": {
        "id": "WZgt3ifW-nxj"
      },
      "source": [
        "data = closing_price[:3000]\n",
        "y_t = label[:3000]\n",
        "def prepare_data(data,y_t,splits,step_size):\n",
        "  x_train = []\n",
        "  y_train = []\n",
        "  x_val = []\n",
        "  y_val = []\n",
        "  for i,split in enumerate(splits):\n",
        "    x,y = window(data,split[0],label,step_size)\n",
        "    x = x / np.mean(x,axis = 1).reshape((len(x) , 1))\n",
        "    x = x - np.ones((len(x) ,1))\n",
        "    x =x.reshape(x.shape[0],x.shape[1] , 1)\n",
        "    x_train.append(x)\n",
        "    y = (y + 1)//2\n",
        "    y_train.append(y)\n",
        "    x,y = window(data,split[1],label,step_size)\n",
        "    x = x / np.mean(x,axis = 1).reshape((len(x) , 1))\n",
        "    x = x - np.ones((len(x) ,1))\n",
        "    x =x.reshape(x.shape[0],x.shape[1] , 1)\n",
        "    x_val.append(x)\n",
        "    y = (y + 1)//2\n",
        "    y_val.append(y)\n",
        "  return x_train,y_train,x_val,y_val"
      ],
      "execution_count": 20,
      "outputs": []
    },
    {
      "cell_type": "markdown",
      "metadata": {
        "id": "yfIBpl9YUTH2"
      },
      "source": [
        "Training data with 2 layer LSTM with hidden size 50 "
      ]
    },
    {
      "cell_type": "code",
      "metadata": {
        "id": "a8cNforDl1S5"
      },
      "source": [
        "import tensorflow as tf\n",
        "from tensorflow.keras.models import Sequential\n",
        "from tensorflow.keras.layers import Dense\n",
        "from tensorflow.keras.layers import LSTM\n",
        "from tensorflow.keras.layers import Dropout\n",
        "def train_data(x_train,y_train,x_val ,y_val,flag,lr,layer_size, epoch):\n",
        "  with tf.device('/device:GPU:0'):\n",
        "    model=Sequential()\n",
        "    model.add(tf.compat.v1.keras.layers.CuDNNLSTM(layer_size,return_sequences=True,input_shape=(11,1)))\n",
        "    model.add(Dropout(0.1))\n",
        "    model.add(tf.compat.v1.keras.layers.CuDNNLSTM(layer_size))\n",
        "    model.add(Dropout(0.1))\n",
        "    model.add(Dense(1, activation='sigmoid'))\n",
        "    opt = tf.keras.optimizers.Adam(beta_1=0.9,beta_2=0.999,learning_rate=lr)\n",
        "    model.compile(loss='binary_crossentropy', optimizer=opt, metrics=['accuracy'])\n",
        "    model.save_weights('model.h5')\n",
        "    acc = []\n",
        "    for i,x in enumerate(x_train):\n",
        "      if (flag and i== len(x_train) - 1):\n",
        "        break\n",
        "      model.load_weights('model.h5')\n",
        "      hist = model.fit(x,y_train[i],validation_data=(x_val[i],y_val[i]),epochs=epoch,batch_size=64,verbose=1)\n",
        "      print(hist.history['val_accuracy'][9])\n",
        "      acc.append(hist.history['val_accuracy'][9])\n",
        "    return acc    "
      ],
      "execution_count": 33,
      "outputs": []
    },
    {
      "cell_type": "code",
      "metadata": {
        "id": "SlZ-2scoyWT0"
      },
      "source": [
        "x_train , y_train , x_val ,y_val = prepare_data(data, y_t,comb_purged_splits,1)"
      ],
      "execution_count": 22,
      "outputs": []
    },
    {
      "cell_type": "code",
      "metadata": {
        "colab": {
          "base_uri": "https://localhost:8080/"
        },
        "id": "zjeew-HiytAE",
        "outputId": "92789a47-6306-4906-dd9a-899a87ebf59a"
      },
      "source": [
        "acc = train_data(x_train , y_train , x_val ,y_val,True,0.02,50,30)"
      ],
      "execution_count": 34,
      "outputs": [
        {
          "output_type": "stream",
          "text": [
            "Epoch 1/30\n",
            "38/38 [==============================] - 2s 13ms/step - loss: 0.6672 - accuracy: 0.6013 - val_loss: 0.6739 - val_accuracy: 0.5306\n",
            "Epoch 2/30\n",
            "38/38 [==============================] - 0s 5ms/step - loss: 0.5884 - accuracy: 0.7029 - val_loss: 0.6367 - val_accuracy: 0.6531\n",
            "Epoch 3/30\n",
            "38/38 [==============================] - 0s 6ms/step - loss: 0.5689 - accuracy: 0.7155 - val_loss: 0.5922 - val_accuracy: 0.6980\n",
            "Epoch 4/30\n",
            "38/38 [==============================] - 0s 5ms/step - loss: 0.5519 - accuracy: 0.7318 - val_loss: 0.5741 - val_accuracy: 0.6816\n",
            "Epoch 5/30\n",
            "38/38 [==============================] - 0s 6ms/step - loss: 0.5294 - accuracy: 0.7423 - val_loss: 0.5648 - val_accuracy: 0.7224\n",
            "Epoch 6/30\n",
            "38/38 [==============================] - 0s 6ms/step - loss: 0.5268 - accuracy: 0.7402 - val_loss: 0.5711 - val_accuracy: 0.7163\n",
            "Epoch 7/30\n",
            "38/38 [==============================] - 0s 5ms/step - loss: 0.5246 - accuracy: 0.7397 - val_loss: 0.5847 - val_accuracy: 0.7143\n",
            "Epoch 8/30\n",
            "38/38 [==============================] - 0s 6ms/step - loss: 0.5165 - accuracy: 0.7364 - val_loss: 0.5606 - val_accuracy: 0.7143\n",
            "Epoch 9/30\n",
            "38/38 [==============================] - 0s 6ms/step - loss: 0.5151 - accuracy: 0.7423 - val_loss: 0.6066 - val_accuracy: 0.6449\n",
            "Epoch 10/30\n",
            "38/38 [==============================] - 0s 5ms/step - loss: 0.5171 - accuracy: 0.7418 - val_loss: 0.5677 - val_accuracy: 0.7306\n",
            "Epoch 11/30\n",
            "38/38 [==============================] - 0s 6ms/step - loss: 0.5022 - accuracy: 0.7510 - val_loss: 0.5767 - val_accuracy: 0.7102\n",
            "Epoch 12/30\n",
            "38/38 [==============================] - 0s 6ms/step - loss: 0.4894 - accuracy: 0.7536 - val_loss: 0.5926 - val_accuracy: 0.6939\n",
            "Epoch 13/30\n",
            "38/38 [==============================] - 0s 6ms/step - loss: 0.4917 - accuracy: 0.7544 - val_loss: 0.5798 - val_accuracy: 0.7143\n",
            "Epoch 14/30\n",
            "38/38 [==============================] - 0s 5ms/step - loss: 0.4789 - accuracy: 0.7674 - val_loss: 0.5986 - val_accuracy: 0.6878\n",
            "Epoch 15/30\n",
            "38/38 [==============================] - 0s 5ms/step - loss: 0.4811 - accuracy: 0.7636 - val_loss: 0.5876 - val_accuracy: 0.6857\n",
            "Epoch 16/30\n",
            "38/38 [==============================] - 0s 6ms/step - loss: 0.4964 - accuracy: 0.7611 - val_loss: 0.6139 - val_accuracy: 0.6857\n",
            "Epoch 17/30\n",
            "38/38 [==============================] - 0s 6ms/step - loss: 0.4960 - accuracy: 0.7569 - val_loss: 0.5555 - val_accuracy: 0.7163\n",
            "Epoch 18/30\n",
            "38/38 [==============================] - 0s 6ms/step - loss: 0.4853 - accuracy: 0.7644 - val_loss: 0.6045 - val_accuracy: 0.6673\n",
            "Epoch 19/30\n",
            "38/38 [==============================] - 0s 5ms/step - loss: 0.4647 - accuracy: 0.7745 - val_loss: 0.5707 - val_accuracy: 0.7224\n",
            "Epoch 20/30\n",
            "38/38 [==============================] - 0s 5ms/step - loss: 0.4693 - accuracy: 0.7774 - val_loss: 0.6075 - val_accuracy: 0.6714\n",
            "Epoch 21/30\n",
            "38/38 [==============================] - 0s 5ms/step - loss: 0.4635 - accuracy: 0.7762 - val_loss: 0.5846 - val_accuracy: 0.6918\n",
            "Epoch 22/30\n",
            "38/38 [==============================] - 0s 5ms/step - loss: 0.4504 - accuracy: 0.7862 - val_loss: 0.5981 - val_accuracy: 0.7184\n",
            "Epoch 23/30\n",
            "38/38 [==============================] - 0s 6ms/step - loss: 0.4485 - accuracy: 0.7849 - val_loss: 0.6168 - val_accuracy: 0.6592\n",
            "Epoch 24/30\n",
            "38/38 [==============================] - 0s 6ms/step - loss: 0.4345 - accuracy: 0.7962 - val_loss: 0.6678 - val_accuracy: 0.6612\n",
            "Epoch 25/30\n",
            "38/38 [==============================] - 0s 5ms/step - loss: 0.4403 - accuracy: 0.7954 - val_loss: 0.6620 - val_accuracy: 0.6796\n",
            "Epoch 26/30\n",
            "38/38 [==============================] - 0s 6ms/step - loss: 0.4155 - accuracy: 0.8075 - val_loss: 0.6034 - val_accuracy: 0.6898\n",
            "Epoch 27/30\n",
            "38/38 [==============================] - 0s 6ms/step - loss: 0.4244 - accuracy: 0.8067 - val_loss: 0.6612 - val_accuracy: 0.6776\n",
            "Epoch 28/30\n",
            "38/38 [==============================] - 0s 6ms/step - loss: 0.4702 - accuracy: 0.7808 - val_loss: 0.6595 - val_accuracy: 0.6673\n",
            "Epoch 29/30\n",
            "38/38 [==============================] - 0s 5ms/step - loss: 0.4138 - accuracy: 0.8059 - val_loss: 0.6429 - val_accuracy: 0.6714\n",
            "Epoch 30/30\n",
            "38/38 [==============================] - 0s 6ms/step - loss: 0.4083 - accuracy: 0.8126 - val_loss: 0.6318 - val_accuracy: 0.6776\n",
            "0.7306122183799744\n",
            "Epoch 1/30\n",
            "36/36 [==============================] - 0s 6ms/step - loss: 0.6947 - accuracy: 0.5048 - val_loss: 0.6939 - val_accuracy: 0.4735\n",
            "Epoch 2/30\n",
            "36/36 [==============================] - 0s 6ms/step - loss: 0.6258 - accuracy: 0.6662 - val_loss: 0.6419 - val_accuracy: 0.6735\n",
            "Epoch 3/30\n",
            "36/36 [==============================] - 0s 6ms/step - loss: 0.5554 - accuracy: 0.7289 - val_loss: 0.6166 - val_accuracy: 0.6837\n",
            "Epoch 4/30\n",
            "36/36 [==============================] - 0s 6ms/step - loss: 0.5349 - accuracy: 0.7320 - val_loss: 0.6149 - val_accuracy: 0.6878\n",
            "Epoch 5/30\n",
            "36/36 [==============================] - 0s 5ms/step - loss: 0.5187 - accuracy: 0.7504 - val_loss: 0.6451 - val_accuracy: 0.5510\n",
            "Epoch 6/30\n",
            "36/36 [==============================] - 0s 5ms/step - loss: 0.5181 - accuracy: 0.7487 - val_loss: 0.6031 - val_accuracy: 0.6776\n",
            "Epoch 7/30\n",
            "36/36 [==============================] - 0s 6ms/step - loss: 0.5040 - accuracy: 0.7456 - val_loss: 0.6095 - val_accuracy: 0.6878\n",
            "Epoch 8/30\n",
            "36/36 [==============================] - 0s 6ms/step - loss: 0.4939 - accuracy: 0.7561 - val_loss: 0.6072 - val_accuracy: 0.6735\n",
            "Epoch 9/30\n",
            "36/36 [==============================] - 0s 6ms/step - loss: 0.5000 - accuracy: 0.7579 - val_loss: 0.6472 - val_accuracy: 0.6327\n",
            "Epoch 10/30\n",
            "36/36 [==============================] - 0s 6ms/step - loss: 0.4933 - accuracy: 0.7583 - val_loss: 0.6021 - val_accuracy: 0.6857\n",
            "Epoch 11/30\n",
            "36/36 [==============================] - 0s 6ms/step - loss: 0.4936 - accuracy: 0.7610 - val_loss: 0.6228 - val_accuracy: 0.6735\n",
            "Epoch 12/30\n",
            "36/36 [==============================] - 0s 5ms/step - loss: 0.4917 - accuracy: 0.7658 - val_loss: 0.6029 - val_accuracy: 0.6959\n",
            "Epoch 13/30\n",
            "36/36 [==============================] - 0s 5ms/step - loss: 0.4802 - accuracy: 0.7697 - val_loss: 0.6058 - val_accuracy: 0.6837\n",
            "Epoch 14/30\n",
            "36/36 [==============================] - 0s 6ms/step - loss: 0.4730 - accuracy: 0.7658 - val_loss: 0.5979 - val_accuracy: 0.7102\n",
            "Epoch 15/30\n",
            "36/36 [==============================] - 0s 6ms/step - loss: 0.4611 - accuracy: 0.7794 - val_loss: 0.6228 - val_accuracy: 0.6878\n",
            "Epoch 16/30\n",
            "36/36 [==============================] - 0s 6ms/step - loss: 0.4742 - accuracy: 0.7737 - val_loss: 0.6519 - val_accuracy: 0.6714\n",
            "Epoch 17/30\n",
            "36/36 [==============================] - 0s 6ms/step - loss: 0.4765 - accuracy: 0.7654 - val_loss: 0.6180 - val_accuracy: 0.6776\n",
            "Epoch 18/30\n",
            "36/36 [==============================] - 0s 5ms/step - loss: 0.4667 - accuracy: 0.7754 - val_loss: 0.6258 - val_accuracy: 0.6755\n",
            "Epoch 19/30\n",
            "36/36 [==============================] - 0s 6ms/step - loss: 0.4647 - accuracy: 0.7803 - val_loss: 0.6212 - val_accuracy: 0.6776\n",
            "Epoch 20/30\n",
            "36/36 [==============================] - 0s 6ms/step - loss: 0.4530 - accuracy: 0.7820 - val_loss: 0.6143 - val_accuracy: 0.6714\n",
            "Epoch 21/30\n",
            "36/36 [==============================] - 0s 6ms/step - loss: 0.4563 - accuracy: 0.7820 - val_loss: 0.6202 - val_accuracy: 0.6776\n",
            "Epoch 22/30\n",
            "36/36 [==============================] - 0s 6ms/step - loss: 0.4365 - accuracy: 0.7956 - val_loss: 0.6074 - val_accuracy: 0.6918\n",
            "Epoch 23/30\n",
            "36/36 [==============================] - 0s 6ms/step - loss: 0.4426 - accuracy: 0.7939 - val_loss: 0.6380 - val_accuracy: 0.6673\n",
            "Epoch 24/30\n",
            "36/36 [==============================] - 0s 6ms/step - loss: 0.4369 - accuracy: 0.7904 - val_loss: 0.6191 - val_accuracy: 0.6837\n",
            "Epoch 25/30\n",
            "36/36 [==============================] - 0s 6ms/step - loss: 0.4130 - accuracy: 0.8044 - val_loss: 0.6480 - val_accuracy: 0.6633\n",
            "Epoch 26/30\n",
            "36/36 [==============================] - 0s 6ms/step - loss: 0.4148 - accuracy: 0.8075 - val_loss: 0.6768 - val_accuracy: 0.6429\n",
            "Epoch 27/30\n",
            "36/36 [==============================] - 0s 6ms/step - loss: 0.4269 - accuracy: 0.7947 - val_loss: 0.6341 - val_accuracy: 0.6816\n",
            "Epoch 28/30\n",
            "36/36 [==============================] - 0s 6ms/step - loss: 0.4206 - accuracy: 0.8000 - val_loss: 0.6442 - val_accuracy: 0.6714\n",
            "Epoch 29/30\n",
            "36/36 [==============================] - 0s 5ms/step - loss: 0.3890 - accuracy: 0.8202 - val_loss: 0.6662 - val_accuracy: 0.6449\n",
            "Epoch 30/30\n",
            "36/36 [==============================] - 0s 6ms/step - loss: 0.3776 - accuracy: 0.8259 - val_loss: 0.6339 - val_accuracy: 0.6796\n",
            "0.6857143044471741\n",
            "Epoch 1/30\n",
            "36/36 [==============================] - 0s 6ms/step - loss: 0.6856 - accuracy: 0.5487 - val_loss: 0.6088 - val_accuracy: 0.7143\n",
            "Epoch 2/30\n",
            "36/36 [==============================] - 0s 6ms/step - loss: 0.6965 - accuracy: 0.5456 - val_loss: 0.7008 - val_accuracy: 0.3959\n",
            "Epoch 3/30\n",
            "36/36 [==============================] - 0s 6ms/step - loss: 0.6786 - accuracy: 0.5987 - val_loss: 0.6199 - val_accuracy: 0.6653\n",
            "Epoch 4/30\n",
            "36/36 [==============================] - 0s 6ms/step - loss: 0.5937 - accuracy: 0.6886 - val_loss: 0.6025 - val_accuracy: 0.6776\n",
            "Epoch 5/30\n",
            "36/36 [==============================] - 0s 6ms/step - loss: 0.5461 - accuracy: 0.7421 - val_loss: 0.5529 - val_accuracy: 0.7306\n",
            "Epoch 6/30\n",
            "36/36 [==============================] - 0s 5ms/step - loss: 0.5354 - accuracy: 0.7338 - val_loss: 0.5956 - val_accuracy: 0.6918\n",
            "Epoch 7/30\n",
            "36/36 [==============================] - 0s 6ms/step - loss: 0.5285 - accuracy: 0.7390 - val_loss: 0.5863 - val_accuracy: 0.6837\n",
            "Epoch 8/30\n",
            "36/36 [==============================] - 0s 6ms/step - loss: 0.5373 - accuracy: 0.7307 - val_loss: 0.5502 - val_accuracy: 0.7306\n",
            "Epoch 9/30\n",
            "36/36 [==============================] - 0s 6ms/step - loss: 0.5080 - accuracy: 0.7452 - val_loss: 0.5554 - val_accuracy: 0.7224\n",
            "Epoch 10/30\n",
            "36/36 [==============================] - 0s 6ms/step - loss: 0.4975 - accuracy: 0.7518 - val_loss: 0.5967 - val_accuracy: 0.6673\n",
            "Epoch 11/30\n",
            "36/36 [==============================] - 0s 6ms/step - loss: 0.4824 - accuracy: 0.7539 - val_loss: 0.5984 - val_accuracy: 0.6755\n",
            "Epoch 12/30\n",
            "36/36 [==============================] - 0s 6ms/step - loss: 0.4756 - accuracy: 0.7693 - val_loss: 0.5915 - val_accuracy: 0.6755\n",
            "Epoch 13/30\n",
            "36/36 [==============================] - 0s 6ms/step - loss: 0.4764 - accuracy: 0.7684 - val_loss: 0.5813 - val_accuracy: 0.6878\n",
            "Epoch 14/30\n",
            "36/36 [==============================] - 0s 6ms/step - loss: 0.4696 - accuracy: 0.7724 - val_loss: 0.6383 - val_accuracy: 0.6449\n",
            "Epoch 15/30\n",
            "36/36 [==============================] - 0s 6ms/step - loss: 0.4591 - accuracy: 0.7811 - val_loss: 0.6208 - val_accuracy: 0.6796\n",
            "Epoch 16/30\n",
            "36/36 [==============================] - 0s 6ms/step - loss: 0.4648 - accuracy: 0.7741 - val_loss: 0.6341 - val_accuracy: 0.6408\n",
            "Epoch 17/30\n",
            "36/36 [==============================] - 0s 6ms/step - loss: 0.4687 - accuracy: 0.7750 - val_loss: 0.5640 - val_accuracy: 0.7245\n",
            "Epoch 18/30\n",
            "36/36 [==============================] - 0s 6ms/step - loss: 0.4670 - accuracy: 0.7746 - val_loss: 0.6504 - val_accuracy: 0.6367\n",
            "Epoch 19/30\n",
            "36/36 [==============================] - 0s 6ms/step - loss: 0.4513 - accuracy: 0.7877 - val_loss: 0.5703 - val_accuracy: 0.7306\n",
            "Epoch 20/30\n",
            "36/36 [==============================] - 0s 6ms/step - loss: 0.4412 - accuracy: 0.8035 - val_loss: 0.6604 - val_accuracy: 0.6837\n",
            "Epoch 21/30\n",
            "36/36 [==============================] - 0s 6ms/step - loss: 0.4409 - accuracy: 0.7789 - val_loss: 0.6048 - val_accuracy: 0.6816\n",
            "Epoch 22/30\n",
            "36/36 [==============================] - 0s 5ms/step - loss: 0.4388 - accuracy: 0.7917 - val_loss: 0.6115 - val_accuracy: 0.6918\n",
            "Epoch 23/30\n",
            "36/36 [==============================] - 0s 6ms/step - loss: 0.4220 - accuracy: 0.7987 - val_loss: 0.6849 - val_accuracy: 0.6551\n",
            "Epoch 24/30\n",
            "36/36 [==============================] - 0s 6ms/step - loss: 0.4192 - accuracy: 0.8000 - val_loss: 0.6284 - val_accuracy: 0.6735\n",
            "Epoch 25/30\n",
            "36/36 [==============================] - 0s 6ms/step - loss: 0.4155 - accuracy: 0.8026 - val_loss: 0.6384 - val_accuracy: 0.6551\n",
            "Epoch 26/30\n",
            "36/36 [==============================] - 0s 6ms/step - loss: 0.4332 - accuracy: 0.7947 - val_loss: 0.6570 - val_accuracy: 0.6898\n",
            "Epoch 27/30\n",
            "36/36 [==============================] - 0s 6ms/step - loss: 0.4085 - accuracy: 0.8083 - val_loss: 0.7269 - val_accuracy: 0.6735\n",
            "Epoch 28/30\n",
            "36/36 [==============================] - 0s 6ms/step - loss: 0.3987 - accuracy: 0.8175 - val_loss: 0.6767 - val_accuracy: 0.6837\n",
            "Epoch 29/30\n",
            "36/36 [==============================] - 0s 6ms/step - loss: 0.3889 - accuracy: 0.8202 - val_loss: 0.7005 - val_accuracy: 0.6980\n",
            "Epoch 30/30\n",
            "36/36 [==============================] - 0s 5ms/step - loss: 0.4163 - accuracy: 0.8088 - val_loss: 0.7134 - val_accuracy: 0.6347\n",
            "0.6673469543457031\n",
            "Epoch 1/30\n",
            "36/36 [==============================] - 0s 6ms/step - loss: 0.6954 - accuracy: 0.5083 - val_loss: 0.6830 - val_accuracy: 0.5857\n",
            "Epoch 2/30\n",
            "36/36 [==============================] - 0s 6ms/step - loss: 0.6865 - accuracy: 0.5531 - val_loss: 0.6711 - val_accuracy: 0.5857\n",
            "Epoch 3/30\n",
            "36/36 [==============================] - 0s 6ms/step - loss: 0.6915 - accuracy: 0.5364 - val_loss: 0.7480 - val_accuracy: 0.4143\n",
            "Epoch 4/30\n",
            "36/36 [==============================] - 0s 6ms/step - loss: 0.6952 - accuracy: 0.4996 - val_loss: 0.7077 - val_accuracy: 0.4184\n",
            "Epoch 5/30\n",
            "36/36 [==============================] - 0s 6ms/step - loss: 0.6672 - accuracy: 0.5904 - val_loss: 0.5826 - val_accuracy: 0.7102\n",
            "Epoch 6/30\n",
            "36/36 [==============================] - 0s 6ms/step - loss: 0.6049 - accuracy: 0.6825 - val_loss: 0.5793 - val_accuracy: 0.7306\n",
            "Epoch 7/30\n",
            "36/36 [==============================] - 0s 6ms/step - loss: 0.5647 - accuracy: 0.7026 - val_loss: 0.5664 - val_accuracy: 0.7122\n",
            "Epoch 8/30\n",
            "36/36 [==============================] - 0s 6ms/step - loss: 0.5610 - accuracy: 0.7140 - val_loss: 0.6313 - val_accuracy: 0.6653\n",
            "Epoch 9/30\n",
            "36/36 [==============================] - 0s 6ms/step - loss: 0.5517 - accuracy: 0.7197 - val_loss: 0.5677 - val_accuracy: 0.7184\n",
            "Epoch 10/30\n",
            "36/36 [==============================] - 0s 6ms/step - loss: 0.5597 - accuracy: 0.7202 - val_loss: 0.5525 - val_accuracy: 0.7327\n",
            "Epoch 11/30\n",
            "36/36 [==============================] - 0s 6ms/step - loss: 0.5538 - accuracy: 0.7289 - val_loss: 0.5657 - val_accuracy: 0.7204\n",
            "Epoch 12/30\n",
            "36/36 [==============================] - 0s 6ms/step - loss: 0.5464 - accuracy: 0.7228 - val_loss: 0.5458 - val_accuracy: 0.7184\n",
            "Epoch 13/30\n",
            "36/36 [==============================] - 0s 6ms/step - loss: 0.5379 - accuracy: 0.7285 - val_loss: 0.5479 - val_accuracy: 0.7327\n",
            "Epoch 14/30\n",
            "36/36 [==============================] - 0s 6ms/step - loss: 0.5364 - accuracy: 0.7364 - val_loss: 0.5591 - val_accuracy: 0.6959\n",
            "Epoch 15/30\n",
            "36/36 [==============================] - 0s 6ms/step - loss: 0.5318 - accuracy: 0.7254 - val_loss: 0.7134 - val_accuracy: 0.6020\n",
            "Epoch 16/30\n",
            "36/36 [==============================] - 0s 6ms/step - loss: 0.5307 - accuracy: 0.7382 - val_loss: 0.5732 - val_accuracy: 0.7000\n",
            "Epoch 17/30\n",
            "36/36 [==============================] - 0s 5ms/step - loss: 0.5171 - accuracy: 0.7487 - val_loss: 0.6318 - val_accuracy: 0.6796\n",
            "Epoch 18/30\n",
            "36/36 [==============================] - 0s 6ms/step - loss: 0.5144 - accuracy: 0.7434 - val_loss: 0.6462 - val_accuracy: 0.6061\n",
            "Epoch 19/30\n",
            "36/36 [==============================] - 0s 6ms/step - loss: 0.5095 - accuracy: 0.7478 - val_loss: 0.6162 - val_accuracy: 0.6694\n",
            "Epoch 20/30\n",
            "36/36 [==============================] - 0s 5ms/step - loss: 0.5039 - accuracy: 0.7496 - val_loss: 0.6590 - val_accuracy: 0.6429\n",
            "Epoch 21/30\n",
            "36/36 [==============================] - 0s 6ms/step - loss: 0.4963 - accuracy: 0.7592 - val_loss: 0.5864 - val_accuracy: 0.7000\n",
            "Epoch 22/30\n",
            "36/36 [==============================] - 0s 6ms/step - loss: 0.5049 - accuracy: 0.7408 - val_loss: 0.6451 - val_accuracy: 0.6694\n",
            "Epoch 23/30\n",
            "36/36 [==============================] - 0s 6ms/step - loss: 0.5040 - accuracy: 0.7518 - val_loss: 0.5910 - val_accuracy: 0.6837\n",
            "Epoch 24/30\n",
            "36/36 [==============================] - 0s 6ms/step - loss: 0.4885 - accuracy: 0.7579 - val_loss: 0.6723 - val_accuracy: 0.6429\n",
            "Epoch 25/30\n",
            "36/36 [==============================] - 0s 6ms/step - loss: 0.4738 - accuracy: 0.7640 - val_loss: 0.7601 - val_accuracy: 0.6122\n",
            "Epoch 26/30\n",
            "36/36 [==============================] - 0s 6ms/step - loss: 0.4915 - accuracy: 0.7623 - val_loss: 0.6320 - val_accuracy: 0.6612\n",
            "Epoch 27/30\n",
            "36/36 [==============================] - 0s 7ms/step - loss: 0.4934 - accuracy: 0.7667 - val_loss: 0.5834 - val_accuracy: 0.7102\n",
            "Epoch 28/30\n",
            "36/36 [==============================] - 0s 6ms/step - loss: 0.4967 - accuracy: 0.7553 - val_loss: 0.5876 - val_accuracy: 0.7122\n",
            "Epoch 29/30\n",
            "36/36 [==============================] - 0s 6ms/step - loss: 0.5035 - accuracy: 0.7518 - val_loss: 0.6604 - val_accuracy: 0.6673\n",
            "Epoch 30/30\n",
            "36/36 [==============================] - 0s 6ms/step - loss: 0.4799 - accuracy: 0.7706 - val_loss: 0.7240 - val_accuracy: 0.6388\n",
            "0.7326530814170837\n",
            "Epoch 1/30\n",
            "36/36 [==============================] - 0s 7ms/step - loss: 0.6729 - accuracy: 0.6154 - val_loss: 0.7881 - val_accuracy: 0.2857\n",
            "Epoch 2/30\n",
            "36/36 [==============================] - 0s 6ms/step - loss: 0.6665 - accuracy: 0.6140 - val_loss: 0.8097 - val_accuracy: 0.2857\n",
            "Epoch 3/30\n",
            "36/36 [==============================] - 0s 6ms/step - loss: 0.6861 - accuracy: 0.5917 - val_loss: 0.8308 - val_accuracy: 0.2857\n",
            "Epoch 4/30\n",
            "36/36 [==============================] - 0s 6ms/step - loss: 0.6367 - accuracy: 0.6338 - val_loss: 1.1145 - val_accuracy: 0.3510\n",
            "Epoch 5/30\n",
            "36/36 [==============================] - 0s 6ms/step - loss: 0.6645 - accuracy: 0.6075 - val_loss: 0.7395 - val_accuracy: 0.4122\n",
            "Epoch 6/30\n",
            "36/36 [==============================] - 0s 7ms/step - loss: 0.6090 - accuracy: 0.6776 - val_loss: 0.6523 - val_accuracy: 0.7020\n",
            "Epoch 7/30\n",
            "36/36 [==============================] - 0s 6ms/step - loss: 0.5782 - accuracy: 0.6961 - val_loss: 0.6017 - val_accuracy: 0.7082\n",
            "Epoch 8/30\n",
            "36/36 [==============================] - 0s 6ms/step - loss: 0.5700 - accuracy: 0.7110 - val_loss: 0.5905 - val_accuracy: 0.7041\n",
            "Epoch 9/30\n",
            "36/36 [==============================] - 0s 6ms/step - loss: 0.5620 - accuracy: 0.7215 - val_loss: 0.5178 - val_accuracy: 0.7694\n",
            "Epoch 10/30\n",
            "36/36 [==============================] - 0s 6ms/step - loss: 0.5638 - accuracy: 0.7145 - val_loss: 0.5222 - val_accuracy: 0.7469\n",
            "Epoch 11/30\n",
            "36/36 [==============================] - 0s 6ms/step - loss: 0.5514 - accuracy: 0.7298 - val_loss: 0.4812 - val_accuracy: 0.7980\n",
            "Epoch 12/30\n",
            "36/36 [==============================] - 0s 6ms/step - loss: 0.5497 - accuracy: 0.7250 - val_loss: 0.6001 - val_accuracy: 0.7204\n",
            "Epoch 13/30\n",
            "36/36 [==============================] - 0s 6ms/step - loss: 0.5508 - accuracy: 0.7193 - val_loss: 0.6245 - val_accuracy: 0.7082\n",
            "Epoch 14/30\n",
            "36/36 [==============================] - 0s 6ms/step - loss: 0.5459 - accuracy: 0.7250 - val_loss: 0.5747 - val_accuracy: 0.7122\n",
            "Epoch 15/30\n",
            "36/36 [==============================] - 0s 7ms/step - loss: 0.5369 - accuracy: 0.7303 - val_loss: 0.5016 - val_accuracy: 0.7592\n",
            "Epoch 16/30\n",
            "36/36 [==============================] - 0s 6ms/step - loss: 0.5318 - accuracy: 0.7390 - val_loss: 0.5977 - val_accuracy: 0.6776\n",
            "Epoch 17/30\n",
            "36/36 [==============================] - 0s 6ms/step - loss: 0.5334 - accuracy: 0.7311 - val_loss: 0.6218 - val_accuracy: 0.6837\n",
            "Epoch 18/30\n",
            "36/36 [==============================] - 0s 6ms/step - loss: 0.5222 - accuracy: 0.7289 - val_loss: 0.4905 - val_accuracy: 0.7857\n",
            "Epoch 19/30\n",
            "36/36 [==============================] - 0s 6ms/step - loss: 0.5293 - accuracy: 0.7311 - val_loss: 0.5145 - val_accuracy: 0.7837\n",
            "Epoch 20/30\n",
            "36/36 [==============================] - 0s 6ms/step - loss: 0.5278 - accuracy: 0.7325 - val_loss: 0.5540 - val_accuracy: 0.7041\n",
            "Epoch 21/30\n",
            "36/36 [==============================] - 0s 6ms/step - loss: 0.5324 - accuracy: 0.7250 - val_loss: 0.5407 - val_accuracy: 0.7510\n",
            "Epoch 22/30\n",
            "36/36 [==============================] - 0s 6ms/step - loss: 0.5266 - accuracy: 0.7342 - val_loss: 0.6130 - val_accuracy: 0.6980\n",
            "Epoch 23/30\n",
            "36/36 [==============================] - 0s 6ms/step - loss: 0.5147 - accuracy: 0.7412 - val_loss: 0.4951 - val_accuracy: 0.7735\n",
            "Epoch 24/30\n",
            "36/36 [==============================] - 0s 6ms/step - loss: 0.5201 - accuracy: 0.7311 - val_loss: 0.5599 - val_accuracy: 0.7510\n",
            "Epoch 25/30\n",
            "36/36 [==============================] - 0s 6ms/step - loss: 0.5176 - accuracy: 0.7386 - val_loss: 0.5203 - val_accuracy: 0.7469\n",
            "Epoch 26/30\n",
            "36/36 [==============================] - 0s 6ms/step - loss: 0.5131 - accuracy: 0.7386 - val_loss: 0.6182 - val_accuracy: 0.6939\n",
            "Epoch 27/30\n",
            "36/36 [==============================] - 0s 6ms/step - loss: 0.5091 - accuracy: 0.7417 - val_loss: 0.5782 - val_accuracy: 0.7224\n",
            "Epoch 28/30\n",
            "36/36 [==============================] - 0s 6ms/step - loss: 0.5030 - accuracy: 0.7491 - val_loss: 0.6158 - val_accuracy: 0.6857\n",
            "Epoch 29/30\n",
            "36/36 [==============================] - 0s 6ms/step - loss: 0.4968 - accuracy: 0.7531 - val_loss: 0.5361 - val_accuracy: 0.7408\n",
            "Epoch 30/30\n",
            "36/36 [==============================] - 0s 6ms/step - loss: 0.4968 - accuracy: 0.7553 - val_loss: 0.5908 - val_accuracy: 0.7184\n",
            "0.7469387650489807\n"
          ],
          "name": "stdout"
        }
      ]
    },
    {
      "cell_type": "code",
      "metadata": {
        "colab": {
          "base_uri": "https://localhost:8080/"
        },
        "id": "_78qrcPXoVVy",
        "outputId": "908d4f56-acdb-458d-c096-26193b613009"
      },
      "source": [
        "np.mean(acc)"
      ],
      "execution_count": 35,
      "outputs": [
        {
          "output_type": "execute_result",
          "data": {
            "text/plain": [
              "0.7126530647277832"
            ]
          },
          "metadata": {
            "tags": []
          },
          "execution_count": 35
        }
      ]
    },
    {
      "cell_type": "code",
      "metadata": {
        "colab": {
          "base_uri": "https://localhost:8080/"
        },
        "id": "ZbMuV7YfkVyA",
        "outputId": "8736d796-0010-4e51-b11c-510ee8768bd3"
      },
      "source": [
        "with tf.device('/device:GPU:0'):\n",
        "  model=Sequential()\n",
        "  model.add(tf.compat.v1.keras.layers.CuDNNLSTM(50,return_sequences=True,input_shape=(11,1)))\n",
        "  model.add(Dropout(0.1))\n",
        "  model.add(tf.compat.v1.keras.layers.CuDNNLSTM(50))\n",
        "  model.add(Dropout(0.1))\n",
        "  model.add(Dense(1, activation='sigmoid'))\n",
        "  opt = tf.keras.optimizers.Adam(beta_1=0.9,beta_2=0.999,learning_rate=0.02)\n",
        "  model.compile(loss='binary_crossentropy', optimizer=opt, metrics=['accuracy'])\n",
        "  model.fit(x_train_full ,y_train_full,epochs=30,batch_size=64,verbose=1 )"
      ],
      "execution_count": 36,
      "outputs": [
        {
          "output_type": "stream",
          "text": [
            "Epoch 1/30\n",
            "48/48 [==============================] - 2s 5ms/step - loss: 0.6893 - accuracy: 0.5742\n",
            "Epoch 2/30\n",
            "48/48 [==============================] - 0s 5ms/step - loss: 0.6456 - accuracy: 0.6224\n",
            "Epoch 3/30\n",
            "48/48 [==============================] - 0s 5ms/step - loss: 0.6137 - accuracy: 0.6782\n",
            "Epoch 4/30\n",
            "48/48 [==============================] - 0s 5ms/step - loss: 0.5707 - accuracy: 0.7200\n",
            "Epoch 5/30\n",
            "48/48 [==============================] - 0s 5ms/step - loss: 0.5512 - accuracy: 0.7310\n",
            "Epoch 6/30\n",
            "48/48 [==============================] - 0s 5ms/step - loss: 0.5489 - accuracy: 0.7200\n",
            "Epoch 7/30\n",
            "48/48 [==============================] - 0s 5ms/step - loss: 0.5458 - accuracy: 0.7267\n",
            "Epoch 8/30\n",
            "48/48 [==============================] - 0s 5ms/step - loss: 0.5329 - accuracy: 0.7307\n",
            "Epoch 9/30\n",
            "48/48 [==============================] - 0s 5ms/step - loss: 0.5324 - accuracy: 0.7366\n",
            "Epoch 10/30\n",
            "48/48 [==============================] - 0s 5ms/step - loss: 0.5226 - accuracy: 0.7326\n",
            "Epoch 11/30\n",
            "48/48 [==============================] - 0s 5ms/step - loss: 0.5287 - accuracy: 0.7340\n",
            "Epoch 12/30\n",
            "48/48 [==============================] - 0s 5ms/step - loss: 0.5192 - accuracy: 0.7406\n",
            "Epoch 13/30\n",
            "48/48 [==============================] - 0s 5ms/step - loss: 0.5193 - accuracy: 0.7416\n",
            "Epoch 14/30\n",
            "48/48 [==============================] - 0s 5ms/step - loss: 0.5081 - accuracy: 0.7459\n",
            "Epoch 15/30\n",
            "48/48 [==============================] - 0s 5ms/step - loss: 0.5072 - accuracy: 0.7466\n",
            "Epoch 16/30\n",
            "48/48 [==============================] - 0s 5ms/step - loss: 0.5090 - accuracy: 0.7416\n",
            "Epoch 17/30\n",
            "48/48 [==============================] - 0s 5ms/step - loss: 0.5089 - accuracy: 0.7409\n",
            "Epoch 18/30\n",
            "48/48 [==============================] - 0s 5ms/step - loss: 0.5036 - accuracy: 0.7549\n",
            "Epoch 19/30\n",
            "48/48 [==============================] - 0s 5ms/step - loss: 0.4984 - accuracy: 0.7586\n",
            "Epoch 20/30\n",
            "48/48 [==============================] - 0s 5ms/step - loss: 0.4884 - accuracy: 0.7629\n",
            "Epoch 21/30\n",
            "48/48 [==============================] - 0s 5ms/step - loss: 0.5536 - accuracy: 0.7217\n",
            "Epoch 22/30\n",
            "48/48 [==============================] - 0s 5ms/step - loss: 0.5111 - accuracy: 0.7489\n",
            "Epoch 23/30\n",
            "48/48 [==============================] - 0s 5ms/step - loss: 0.4902 - accuracy: 0.7502\n",
            "Epoch 24/30\n",
            "48/48 [==============================] - 0s 5ms/step - loss: 0.4962 - accuracy: 0.7546\n",
            "Epoch 25/30\n",
            "48/48 [==============================] - 0s 5ms/step - loss: 0.4928 - accuracy: 0.7595\n",
            "Epoch 26/30\n",
            "48/48 [==============================] - 0s 5ms/step - loss: 0.4873 - accuracy: 0.7612\n",
            "Epoch 27/30\n",
            "48/48 [==============================] - 0s 5ms/step - loss: 0.4881 - accuracy: 0.7632\n",
            "Epoch 28/30\n",
            "48/48 [==============================] - 0s 5ms/step - loss: 0.4916 - accuracy: 0.7576\n",
            "Epoch 29/30\n",
            "48/48 [==============================] - 0s 5ms/step - loss: 0.4735 - accuracy: 0.7778\n",
            "Epoch 30/30\n",
            "48/48 [==============================] - 0s 5ms/step - loss: 0.4716 - accuracy: 0.7715\n"
          ],
          "name": "stdout"
        }
      ]
    },
    {
      "cell_type": "code",
      "metadata": {
        "id": "T8l2hfr1rq52"
      },
      "source": [
        "x_test=np.array(closing_price[3011:])\n",
        "y_test=np.array(label[3011:])\n",
        "index = np.arange(len(closing_price) - 3011)\n",
        "x_test,y_test = window(x_test,index , y_test,1)\n",
        "\n",
        "x_test = x_test / np.mean(x_test,axis = 1).reshape((len(x_test) , 1))\n",
        "x_test = x_test - np.ones((len(x_test) ,1))\n",
        "x_test =x_test.reshape(x_test.shape[0],x_test.shape[1] , 1)\n",
        "y_test = (y_test + 1)//2"
      ],
      "execution_count": 46,
      "outputs": []
    },
    {
      "cell_type": "code",
      "metadata": {
        "colab": {
          "base_uri": "https://localhost:8080/"
        },
        "id": "PgtCVqpjmDFm",
        "outputId": "3359f0ec-0ad8-48b8-febb-440593742fee"
      },
      "source": [
        "model.evaluate(x_test,y_test)"
      ],
      "execution_count": 47,
      "outputs": [
        {
          "output_type": "stream",
          "text": [
            "120/120 [==============================] - 0s 3ms/step - loss: 0.5955 - accuracy: 0.6947\n"
          ],
          "name": "stdout"
        },
        {
          "output_type": "execute_result",
          "data": {
            "text/plain": [
              "[0.5955130457878113, 0.6946545243263245]"
            ]
          },
          "metadata": {
            "tags": []
          },
          "execution_count": 47
        }
      ]
    },
    {
      "cell_type": "code",
      "metadata": {
        "colab": {
          "base_uri": "https://localhost:8080/"
        },
        "id": "-8jL326Gpp7g",
        "outputId": "1665dd87-b30b-45b7-b04d-d35d32f7dc42"
      },
      "source": [
        "predict = model.predict_classes(x_test)"
      ],
      "execution_count": 52,
      "outputs": [
        {
          "output_type": "stream",
          "text": [
            "/usr/local/lib/python3.7/dist-packages/tensorflow/python/keras/engine/sequential.py:455: UserWarning: `model.predict_classes()` is deprecated and will be removed after 2021-01-01. Please use instead:* `np.argmax(model.predict(x), axis=-1)`,   if your model does multi-class classification   (e.g. if it uses a `softmax` last-layer activation).* `(model.predict(x) > 0.5).astype(\"int32\")`,   if your model does binary classification   (e.g. if it uses a `sigmoid` last-layer activation).\n",
            "  warnings.warn('`model.predict_classes()` is deprecated and '\n"
          ],
          "name": "stderr"
        }
      ]
    },
    {
      "cell_type": "code",
      "metadata": {
        "colab": {
          "base_uri": "https://localhost:8080/"
        },
        "id": "J9BB0letpvEY",
        "outputId": "60b6397a-3703-456b-ec53-dd2d22f9e711"
      },
      "source": [
        "buy_and_hold(np.array(closing_price[3011:]) ,predict[ : , 0],0 )"
      ],
      "execution_count": 58,
      "outputs": [
        {
          "output_type": "stream",
          "text": [
            "2\n"
          ],
          "name": "stdout"
        },
        {
          "output_type": "execute_result",
          "data": {
            "text/plain": [
              "1.767116834170854"
            ]
          },
          "metadata": {
            "tags": []
          },
          "execution_count": 58
        }
      ]
    },
    {
      "cell_type": "code",
      "metadata": {
        "id": "24ct8VT8y9oV"
      },
      "source": [
        "x_train , y_train , x_val ,y_val = prepare_data(data, y_t,walk_forward_splits)"
      ],
      "execution_count": 59,
      "outputs": []
    },
    {
      "cell_type": "code",
      "metadata": {
        "colab": {
          "base_uri": "https://localhost:8080/"
        },
        "id": "JSXkVUC1zFjO",
        "outputId": "c8ab024a-de22-4593-b5bd-7cf80056a41a"
      },
      "source": [
        "acc = train_data(x_train , y_train , x_val ,y_val,False)"
      ],
      "execution_count": 60,
      "outputs": [
        {
          "output_type": "stream",
          "text": [
            "0.6632652878761292\n",
            "0.6714285612106323\n",
            "0.6510204076766968\n",
            "0.6571428775787354\n"
          ],
          "name": "stdout"
        }
      ]
    },
    {
      "cell_type": "markdown",
      "metadata": {
        "id": "JgcBhB_7UccF"
      },
      "source": [
        "Training data with 2 layer GRU with hidden size 50 "
      ]
    },
    {
      "cell_type": "code",
      "metadata": {
        "colab": {
          "base_uri": "https://localhost:8080/"
        },
        "id": "xAaqteGXRZ9i",
        "outputId": "dfb901cd-cb22-4b0c-fdbb-d55bdc5d7180"
      },
      "source": [
        "with tf.device('/device:GPU:0'):\n",
        "  model=Sequential()\n",
        "  model.add(tf.compat.v1.keras.layers.CuDNNGRU(50,return_sequences=True,input_shape=(11,1)))\n",
        "  model.add(Dropout(0.1))\n",
        "  model.add(tf.compat.v1.keras.layers.CuDNNGRU(50))\n",
        "  model.add(Dropout(0.1))\n",
        "  model.add(Dense(1, activation='sigmoid'))\n",
        "  opt = tf.keras.optimizers.Adam(beta_1=0.9,beta_2=0.999,learning_rate=0.02)\n",
        "  model.compile(loss='binary_crossentropy', optimizer=opt, metrics=['accuracy'])\n",
        "  model.save_weights('model.h5')\n",
        "  acc = []\n",
        "  for i,x in enumerate(x_train):\n",
        "    model.load_weights('model.h5')\n",
        "    hist = model.fit(x,y_train[i],validation_data=(x_val[i],y_val[i]),epochs=10,batch_size=64,verbose=0)\n",
        "    print(hist.history['val_accuracy'][9])\n",
        "    acc.append(hist.history['val_accuracy'][9])"
      ],
      "execution_count": null,
      "outputs": [
        {
          "output_type": "stream",
          "text": [
            "0.6877551078796387\n",
            "0.6836734414100647\n",
            "0.6836734414100647\n",
            "0.6877551078796387\n",
            "0.7122448682785034\n",
            "0.8204081654548645\n"
          ],
          "name": "stdout"
        }
      ]
    },
    {
      "cell_type": "code",
      "metadata": {
        "colab": {
          "base_uri": "https://localhost:8080/"
        },
        "id": "iAypX918oo_l",
        "outputId": "fe991128-d972-4682-cdd3-5e961414ce9a"
      },
      "source": [
        "np.mean(acc\n",
        "        )"
      ],
      "execution_count": null,
      "outputs": [
        {
          "output_type": "execute_result",
          "data": {
            "text/plain": [
              "0.7125850220521291"
            ]
          },
          "metadata": {
            "tags": []
          },
          "execution_count": 38
        }
      ]
    },
    {
      "cell_type": "markdown",
      "metadata": {
        "id": "Fh43s6vGUkDF"
      },
      "source": [
        "#My approach"
      ]
    },
    {
      "cell_type": "markdown",
      "metadata": {
        "id": "QW4qElevUx-J"
      },
      "source": [
        "sampling form 44 previous data with sample size 11 and equal distance between samples"
      ]
    },
    {
      "cell_type": "code",
      "metadata": {
        "id": "YBFM2y1Q3eDr"
      },
      "source": [
        "expand_data = np.array([closing_price[i:i+44] for i in range(len(closing_price) - 43) ])\n",
        "\n",
        "\n",
        "#x_df = np.array([np.convolve(x,np.ones(4)/4,mode='valid') for x in x_df])\n",
        "final_data_x = np.array([np.array([x[i] for i in range(3,44,4)]) for x in expand_data])\n",
        "final_data_x = final_data_x / np.mean(final_data_x,axis = 1).reshape((len(final_data_x) , 1))\n",
        "final_data_x = final_data_x - np.ones((len(final_data_x) ,1))\n",
        "\n",
        "final_data_y = label[43:]\n",
        "\n",
        "\n",
        "x_train = final_data_x[0:3011]\n",
        "y_train = final_data_y[0:3011]\n",
        "x_test= final_data_x[3011:]\n",
        "y_test = final_data_y[3011:]\n",
        "\n",
        "\n",
        "y_train = (y_train + 1)//2\n",
        "y_test = (y_test + 1)//2\n",
        "\n",
        "\n",
        "x_train =x_train.reshape(x_train.shape[0],x_train.shape[1] , 1)\n",
        "x_test = x_test.reshape(x_test.shape[0],x_test.shape[1] , 1)\n"
      ],
      "execution_count": null,
      "outputs": []
    },
    {
      "cell_type": "code",
      "metadata": {
        "colab": {
          "base_uri": "https://localhost:8080/"
        },
        "id": "G49PiUxncGeZ",
        "outputId": "5d04b06b-ab7a-41f9-d944-46dd1cefc526"
      },
      "source": [
        "with tf.device('/device:GPU:0'):\n",
        "  model=Sequential()\n",
        "  model.add(tf.compat.v1.keras.layers.CuDNNGRU(50,return_sequences=True,input_shape=(11,1)))\n",
        "  model.add(Dropout(0.1))\n",
        "  model.add(tf.compat.v1.keras.layers.CuDNNGRU(50))\n",
        "  model.add(Dropout(0.1))\n",
        "  model.add(Dense(1, activation='sigmoid'))\n",
        "  opt = tf.keras.optimizers.Adam(beta_1=0.9,beta_2=0.999,learning_rate=0.02)\n",
        "  model.compile(loss='binary_crossentropy', optimizer=opt, metrics=['accuracy'])\n",
        "  model.fit(x_train,y_train,validation_data=(x_test,y_test),epochs=20,batch_size=64,verbose=2)"
      ],
      "execution_count": null,
      "outputs": [
        {
          "output_type": "stream",
          "text": [
            "Epoch 1/20\n",
            "48/48 - 2s - loss: 0.6129 - accuracy: 0.6533 - val_loss: 0.5397 - val_accuracy: 0.7354\n",
            "Epoch 2/20\n",
            "48/48 - 0s - loss: 0.5206 - accuracy: 0.7386 - val_loss: 0.5497 - val_accuracy: 0.7038\n",
            "Epoch 3/20\n",
            "48/48 - 0s - loss: 0.4904 - accuracy: 0.7669 - val_loss: 0.5291 - val_accuracy: 0.7275\n",
            "Epoch 4/20\n",
            "48/48 - 0s - loss: 0.4736 - accuracy: 0.7795 - val_loss: 0.5497 - val_accuracy: 0.7007\n",
            "Epoch 5/20\n",
            "48/48 - 0s - loss: 0.4541 - accuracy: 0.7924 - val_loss: 0.5881 - val_accuracy: 0.6781\n",
            "Epoch 6/20\n",
            "48/48 - 0s - loss: 0.4669 - accuracy: 0.7778 - val_loss: 0.5355 - val_accuracy: 0.7275\n",
            "Epoch 7/20\n",
            "48/48 - 0s - loss: 0.4432 - accuracy: 0.8067 - val_loss: 0.5858 - val_accuracy: 0.6996\n",
            "Epoch 8/20\n",
            "48/48 - 0s - loss: 0.4420 - accuracy: 0.7921 - val_loss: 0.5690 - val_accuracy: 0.7151\n",
            "Epoch 9/20\n",
            "48/48 - 0s - loss: 0.4252 - accuracy: 0.8084 - val_loss: 0.5494 - val_accuracy: 0.7207\n",
            "Epoch 10/20\n",
            "48/48 - 0s - loss: 0.4279 - accuracy: 0.8044 - val_loss: 0.5702 - val_accuracy: 0.6912\n",
            "Epoch 11/20\n",
            "48/48 - 0s - loss: 0.4031 - accuracy: 0.8134 - val_loss: 0.6114 - val_accuracy: 0.6931\n",
            "Epoch 12/20\n",
            "48/48 - 0s - loss: 0.4159 - accuracy: 0.8074 - val_loss: 0.5737 - val_accuracy: 0.6938\n",
            "Epoch 13/20\n",
            "48/48 - 0s - loss: 0.4522 - accuracy: 0.7881 - val_loss: 0.5973 - val_accuracy: 0.6886\n",
            "Epoch 14/20\n",
            "48/48 - 0s - loss: 0.4310 - accuracy: 0.7961 - val_loss: 0.6076 - val_accuracy: 0.6975\n",
            "Epoch 15/20\n",
            "48/48 - 0s - loss: 0.4541 - accuracy: 0.7851 - val_loss: 0.6051 - val_accuracy: 0.6920\n",
            "Epoch 16/20\n",
            "48/48 - 0s - loss: 0.4386 - accuracy: 0.7934 - val_loss: 0.5723 - val_accuracy: 0.6902\n",
            "Epoch 17/20\n",
            "48/48 - 0s - loss: 0.4652 - accuracy: 0.7841 - val_loss: 0.5464 - val_accuracy: 0.7186\n",
            "Epoch 18/20\n",
            "48/48 - 0s - loss: 0.4182 - accuracy: 0.8153 - val_loss: 0.5654 - val_accuracy: 0.7241\n",
            "Epoch 19/20\n",
            "48/48 - 0s - loss: 0.4438 - accuracy: 0.7928 - val_loss: 0.5718 - val_accuracy: 0.6923\n",
            "Epoch 20/20\n",
            "48/48 - 0s - loss: 0.4636 - accuracy: 0.7781 - val_loss: 0.5375 - val_accuracy: 0.7307\n"
          ],
          "name": "stdout"
        }
      ]
    },
    {
      "cell_type": "code",
      "metadata": {
        "id": "tfp915AjGUmh"
      },
      "source": [
        "x_train = final_data_x[0:3011]\n",
        "y_train = final_data_y[0:3011]\n",
        "x_test= final_data_x[3011:]\n",
        "y_test = final_data_y[3011:]\n",
        "\n",
        "fea = x_train.shape[1]\n",
        "rn = np.random.rand(fea,50)\n",
        "x_train = np.dot(x_train,rn)\n",
        "x_test = np.dot(x_test,rn)\n",
        "\n",
        "\n",
        "\n"
      ],
      "execution_count": null,
      "outputs": []
    },
    {
      "cell_type": "code",
      "metadata": {
        "colab": {
          "base_uri": "https://localhost:8080/"
        },
        "id": "GrOxi8gXHdLI",
        "outputId": "e5041b73-8d9b-431b-9979-5c741b812a3b"
      },
      "source": [
        "x_train.shape"
      ],
      "execution_count": null,
      "outputs": [
        {
          "output_type": "execute_result",
          "data": {
            "text/plain": [
              "(3011, 100)"
            ]
          },
          "metadata": {
            "tags": []
          },
          "execution_count": 21
        }
      ]
    },
    {
      "cell_type": "code",
      "metadata": {
        "id": "7n4vuSf8Hbk_"
      },
      "source": [
        "y_train = (y_train + 1)//2\n",
        "y_test = (y_test + 1)//2\n",
        "\n",
        "\n",
        "x_train =x_train.reshape(x_train.shape[0],x_train.shape[1] , 1)\n",
        "x_test = x_test.reshape(x_test.shape[0],x_test.shape[1] , 1)\n"
      ],
      "execution_count": null,
      "outputs": []
    },
    {
      "cell_type": "code",
      "metadata": {
        "colab": {
          "base_uri": "https://localhost:8080/"
        },
        "id": "ekxvhC_IGprq",
        "outputId": "2ac6b980-e6fb-4519-827d-9bc7a0a20fc1"
      },
      "source": [
        "with tf.device('/device:GPU:0'):\n",
        "  model=Sequential()\n",
        "  model.add(tf.compat.v1.keras.layers.CuDNNGRU(50,return_sequences=True,input_shape=(11,1)))\n",
        "  model.add(Dropout(0.1))\n",
        "  model.add(tf.compat.v1.keras.layers.CuDNNGRU(50))\n",
        "  model.add(Dropout(0.1))\n",
        "  model.add(Dense(1, activation='sigmoid'))\n",
        "  opt = tf.keras.optimizers.Adam(beta_1=0.9,beta_2=0.999,learning_rate=0.02)\n",
        "  model.compile(loss='binary_crossentropy', optimizer=opt, metrics=['accuracy'])\n",
        "  model.fit(x_train,y_train,validation_data=(x_test,y_test),epochs=20,batch_size=64,verbose=2)"
      ],
      "execution_count": null,
      "outputs": [
        {
          "output_type": "stream",
          "text": [
            "Epoch 1/20\n",
            "WARNING:tensorflow:Model was constructed with shape (None, 11, 1) for input KerasTensor(type_spec=TensorSpec(shape=(None, 11, 1), dtype=tf.float32, name='cu_dnngru_8_input'), name='cu_dnngru_8_input', description=\"created by layer 'cu_dnngru_8_input'\"), but it was called on an input with incompatible shape (None, 50, 1).\n",
            "WARNING:tensorflow:Model was constructed with shape (None, 11, 1) for input KerasTensor(type_spec=TensorSpec(shape=(None, 11, 1), dtype=tf.float32, name='cu_dnngru_8_input'), name='cu_dnngru_8_input', description=\"created by layer 'cu_dnngru_8_input'\"), but it was called on an input with incompatible shape (None, 50, 1).\n",
            "WARNING:tensorflow:Model was constructed with shape (None, 11, 1) for input KerasTensor(type_spec=TensorSpec(shape=(None, 11, 1), dtype=tf.float32, name='cu_dnngru_8_input'), name='cu_dnngru_8_input', description=\"created by layer 'cu_dnngru_8_input'\"), but it was called on an input with incompatible shape (None, 50, 1).\n",
            "48/48 - 2s - loss: 0.6680 - accuracy: 0.5991 - val_loss: 0.6534 - val_accuracy: 0.6273\n",
            "Epoch 2/20\n",
            "48/48 - 0s - loss: 0.5865 - accuracy: 0.7001 - val_loss: 0.5865 - val_accuracy: 0.6986\n",
            "Epoch 3/20\n",
            "48/48 - 0s - loss: 0.5490 - accuracy: 0.7240 - val_loss: 0.5739 - val_accuracy: 0.6928\n",
            "Epoch 4/20\n",
            "48/48 - 0s - loss: 0.5238 - accuracy: 0.7476 - val_loss: 0.5567 - val_accuracy: 0.7154\n",
            "Epoch 5/20\n",
            "48/48 - 0s - loss: 0.5287 - accuracy: 0.7522 - val_loss: 0.5540 - val_accuracy: 0.7307\n",
            "Epoch 6/20\n",
            "48/48 - 0s - loss: 0.5235 - accuracy: 0.7400 - val_loss: 0.6425 - val_accuracy: 0.7186\n",
            "Epoch 7/20\n",
            "48/48 - 0s - loss: 0.5110 - accuracy: 0.7559 - val_loss: 0.5431 - val_accuracy: 0.7299\n",
            "Epoch 8/20\n",
            "48/48 - 0s - loss: 0.4976 - accuracy: 0.7635 - val_loss: 0.5598 - val_accuracy: 0.7059\n",
            "Epoch 9/20\n",
            "48/48 - 0s - loss: 0.5048 - accuracy: 0.7599 - val_loss: 0.5390 - val_accuracy: 0.7249\n",
            "Epoch 10/20\n",
            "48/48 - 0s - loss: 0.5036 - accuracy: 0.7635 - val_loss: 0.5947 - val_accuracy: 0.6733\n",
            "Epoch 11/20\n",
            "48/48 - 0s - loss: 0.4841 - accuracy: 0.7742 - val_loss: 0.5541 - val_accuracy: 0.7233\n",
            "Epoch 12/20\n",
            "48/48 - 0s - loss: 0.5065 - accuracy: 0.7562 - val_loss: 0.5631 - val_accuracy: 0.7012\n",
            "Epoch 13/20\n",
            "48/48 - 0s - loss: 0.4994 - accuracy: 0.7652 - val_loss: 0.5394 - val_accuracy: 0.7370\n",
            "Epoch 14/20\n",
            "48/48 - 0s - loss: 0.4905 - accuracy: 0.7688 - val_loss: 0.5577 - val_accuracy: 0.7238\n",
            "Epoch 15/20\n",
            "48/48 - 0s - loss: 0.6571 - accuracy: 0.6244 - val_loss: 0.6350 - val_accuracy: 0.5957\n",
            "Epoch 16/20\n",
            "48/48 - 0s - loss: 0.6500 - accuracy: 0.6270 - val_loss: 0.6571 - val_accuracy: 0.6186\n",
            "Epoch 17/20\n",
            "48/48 - 0s - loss: 0.6795 - accuracy: 0.5945 - val_loss: 0.6900 - val_accuracy: 0.5839\n",
            "Epoch 18/20\n",
            "48/48 - 0s - loss: 0.6841 - accuracy: 0.5942 - val_loss: 0.5994 - val_accuracy: 0.6923\n",
            "Epoch 19/20\n",
            "48/48 - 0s - loss: 0.6341 - accuracy: 0.6486 - val_loss: 0.6250 - val_accuracy: 0.6552\n",
            "Epoch 20/20\n",
            "48/48 - 0s - loss: 0.6385 - accuracy: 0.6496 - val_loss: 0.5905 - val_accuracy: 0.7123\n"
          ],
          "name": "stdout"
        }
      ]
    },
    {
      "cell_type": "code",
      "metadata": {
        "colab": {
          "base_uri": "https://localhost:8080/",
          "height": 333
        },
        "id": "h-dHU1M3KI-s",
        "outputId": "2aa15372-ff1f-48d9-dc48-0121b1db54dd"
      },
      "source": [
        "from sklearn import metrics\n",
        "import seaborn as sns\n",
        "y_pred = model.predict(x_test)\n",
        "y_pred = np.array([1 if y >=0.5 else 0 for y in y_pred])\n",
        "print(\"Accuracy:{:.6f}\".format(metrics.accuracy_score(y_test, y_pred)))\n",
        "print(\"Precision:{:.6f}\".format(metrics.precision_score(y_test, y_pred)))\n",
        "print(\"Recall:{:.6f}\".format(metrics.recall_score(y_test, y_pred)))\n",
        "print(\"F1 score:{:.6f}\".format(metrics.f1_score(y_test, y_pred)))\n",
        "    \n",
        "# Print Confusion Matrix\n",
        "confusion_matrix = pd.DataFrame(metrics.confusion_matrix(y_test, y_pred)) \n",
        "sns.heatmap(confusion_matrix, annot=True, cmap=\"Blues\");"
      ],
      "execution_count": null,
      "outputs": [
        {
          "output_type": "stream",
          "text": [
            "Accuracy:0.712257\n",
            "Precision:0.752739\n",
            "Recall:0.699467\n",
            "F1 score:0.725126\n"
          ],
          "name": "stdout"
        },
        {
          "output_type": "display_data",
          "data": {
            "image/png": "[encoded data removed]",
            "text/plain": [
              "<Figure size 432x288 with 2 Axes>"
            ]
          },
          "metadata": {
            "tags": [],
            "needs_background": "light"
          }
        }
      ]
    },
    {
      "cell_type": "code",
      "metadata": {
        "colab": {
          "base_uri": "https://localhost:8080/"
        },
        "id": "kJDMe69vKZyg",
        "outputId": "738f99c6-885f-40c2-9b97-991c0af41f3c"
      },
      "source": [
        "y_pred"
      ],
      "execution_count": null,
      "outputs": [
        {
          "output_type": "execute_result",
          "data": {
            "text/plain": [
              "array([[0.67370343],\n",
              "       [0.6712601 ],\n",
              "       [0.6663634 ],\n",
              "       ...,\n",
              "       [0.43360442],\n",
              "       [0.4261445 ],\n",
              "       [0.41190097]], dtype=float32)"
            ]
          },
          "metadata": {
            "tags": []
          },
          "execution_count": 31
        }
      ]
    },
    {
      "cell_type": "code",
      "metadata": {
        "id": "iaHVaZsVdFLi"
      },
      "source": [
        "def  buy_and_hold(pric , pred , index):\n",
        "  i = 0\n",
        "  for i,p in enumerate(pred):\n",
        "    if p == 1 :\n",
        "      break\n",
        "  value = pric[index + i]\n",
        "  a = 0 \n",
        "  a=value\n",
        "  i +=1\n",
        "  for j in range(len(pred) - i):\n",
        "    if pred[i + j] == 1:\n",
        "      value = pric[i+j + index]\n",
        "  return value / a  \n",
        "\n",
        "\n"
      ],
      "execution_count": 56,
      "outputs": []
    }
  ]
}