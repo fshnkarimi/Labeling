{
  "nbformat": 4,
  "nbformat_minor": 0,
  "metadata": {
    "colab": {
      "name": "Time_Series_Labelling.ipynb",
      "provenance": [],
      "collapsed_sections": [],
      "include_colab_link": true
    },
    "kernelspec": {
      "name": "python3",
      "display_name": "Python 3"
    },
    "language_info": {
      "name": "python"
    },
    "accelerator": "GPU"
  },
  "cells": [
    {
      "cell_type": "markdown",
      "metadata": {
        "id": "view-in-github",
        "colab_type": "text"
      },
      "source": [
        "<a href=\"https://colab.research.google.com/github/fshnkarimi/Labeling/blob/Afshin/Time_Series_Labelling.ipynb\" target=\"_parent\"><img src=\"https://colab.research.google.com/assets/colab-badge.svg\" alt=\"Open In Colab\"/></a>"
      ]
    },
    {
      "cell_type": "code",
      "metadata": {
        "colab": {
          "base_uri": "https://localhost:8080/"
        },
        "id": "aMURxUHNk5sf",
        "outputId": "40bc8c79-9cb7-4f2e-d2a1-477a828989ef"
      },
      "source": [
        "%tensorflow_version 2.x\n",
        "import tensorflow as tf\n",
        "device_name = tf.test.gpu_device_name()\n",
        "if device_name != '/device:GPU:0':\n",
        "  raise SystemError('GPU device not found')\n",
        "print('Found GPU at: {}'.format(device_name))"
      ],
      "execution_count": 1,
      "outputs": [
        {
          "output_type": "stream",
          "text": [
            "Found GPU at: /device:GPU:0\n"
          ],
          "name": "stdout"
        }
      ]
    },
    {
      "cell_type": "markdown",
      "metadata": {
        "id": "-lrRB1spRjj2"
      },
      "source": [
        "Reading Data"
      ]
    },
    {
      "cell_type": "code",
      "metadata": {
        "id": "HXSg_jfxlaWw"
      },
      "source": [
        "import pandas as pd\n",
        "import numpy as np\n",
        "from sklearn.linear_model import LinearRegression\n",
        "dfs = pd.read_excel(\"000001data.xlsx\")"
      ],
      "execution_count": 2,
      "outputs": []
    },
    {
      "cell_type": "markdown",
      "metadata": {
        "id": "_a-OsIVVR1pz"
      },
      "source": [
        "Implementing Labelling algorithm "
      ]
    },
    {
      "cell_type": "code",
      "metadata": {
        "id": "tqwGOVvDRqvH"
      },
      "source": [
        "#labelling algorithm X is price and w is our threshould\n",
        "def labeling(X,w):\n",
        "    n = len(X)\n",
        "    y = np.array([0 for i in range(n)])\n",
        "    FP=X[0]\n",
        "    xh = X[0]\n",
        "    xl = X[0]\n",
        "    HT = 0\n",
        "    LT = 0\n",
        "    cid = 0\n",
        "    FP_N = 0\n",
        "    for i in range(n):\n",
        "        if(X[i] > FP + X[0]*w):\n",
        "            xh,HT,FP_N,cid  = X[i],i,i,1\n",
        "            break\n",
        "        if(X[i] < FP - X[0]*w):\n",
        "            xh,HT,FP_N,cid  = X[i],i,i,-1\n",
        "            break\n",
        "    for i in range(FP_N+1,n):\n",
        "        if(cid > 0):\n",
        "            if(X[i]>xh):\n",
        "                xh,HT = X[i],i\n",
        "            if(X[i] < xh - xh*w and LT<= HT ):\n",
        "                for j in range(n):\n",
        "                    if(j>LT and j<=HT):\n",
        "                        y[j] = 1\n",
        "                xl,LT,cid = X[i],i,-1\n",
        "        if(cid < 0):\n",
        "            if(X[i]<xl):\n",
        "                xl,LT = X[i],i\n",
        "            if(X[i] > xl + xl*w and HT<= LT ):\n",
        "                for j in range(n):\n",
        "                    if(j>HT and j<=LT):\n",
        "                        y[j] = -1\n",
        "                xh,HT,cid = X[i],i,1\n",
        "    return y"
      ],
      "execution_count": 16,
      "outputs": []
    },
    {
      "cell_type": "markdown",
      "metadata": {
        "id": "MfIUNs4ER-ww"
      },
      "source": [
        "labelling data"
      ]
    },
    {
      "cell_type": "code",
      "metadata": {
        "id": "5zUQ57f_RrB1"
      },
      "source": [
        "label=labeling(dfs[\"closingprice\"],0.15)    "
      ],
      "execution_count": 17,
      "outputs": []
    },
    {
      "cell_type": "markdown",
      "metadata": {
        "id": "2raClgQCSNeh"
      },
      "source": [
        "Creat windows with size 11 "
      ]
    },
    {
      "cell_type": "code",
      "metadata": {
        "id": "trtJyd9FSh5X"
      },
      "source": [
        "closing_price= dfs['closingprice']\n",
        "\n",
        "#windows size is 11\n",
        "expand_data = np.array([closing_price[i:i+11] for i in range(len(closing_price) - 10) ])"
      ],
      "execution_count": 18,
      "outputs": []
    },
    {
      "cell_type": "markdown",
      "metadata": {
        "id": "yWXlg2f2So4Q"
      },
      "source": [
        "normalize Data \n",
        "\\begin{align*}\n",
        "        f_{ij} & = \\frac{x_{ij} - M^{\\lambda}_{i}}{M^{\\lambda}_{i}} ,x_{ij} \\in X\\\\\n",
        "        M^{\\lambda}_{s}& = \\frac{\\sum_{i=s}^{s+ \\lambda -1} x_i}{\\lambda} , x_i \\in x\n",
        "    \\end{align*}"
      ]
    },
    {
      "cell_type": "code",
      "metadata": {
        "id": "DPiKNgIulg_Q"
      },
      "source": [
        "#normalizatin\n",
        "final_data_x = expand_data / np.mean(expand_data,axis = 1).reshape((len(expand_data) , 1))\n",
        "final_data_x = final_data_x - np.ones((len(final_data_x) ,1))"
      ],
      "execution_count": 19,
      "outputs": []
    },
    {
      "cell_type": "code",
      "metadata": {
        "id": "9SZSPp6FTGA0"
      },
      "source": [
        "#finalizing data\n",
        "final_data_y = label[10:]\n",
        "#split data to test and train\n",
        "x_train = final_data_x[0:3011]\n",
        "y_train = final_data_y[0:3011]\n",
        "x_test= final_data_x[3011:]\n",
        "y_test = final_data_y[3011:]\n",
        "\n",
        "#(-1,1) --> (0,1)\n",
        "y_train = (y_train + 1)//2\n",
        "y_test = (y_test + 1)//2\n",
        "\n",
        "x_train =x_train.reshape(x_train.shape[0],x_train.shape[1], 1)\n",
        "x_test = x_test.reshape(x_test.shape[0],x_test.shape[1], 1)\n",
        "\n"
      ],
      "execution_count": 20,
      "outputs": []
    },
    {
      "cell_type": "code",
      "metadata": {
        "id": "rjVx32AQjJkw"
      },
      "source": [
        "# Define a def for scores\n",
        "\n",
        "from sklearn import metrics\n",
        "import seaborn as sns\n",
        "\n",
        "def scores(y_pred, label):\n",
        "    results=[]\n",
        "    results.append(metrics.accuracy_score(label, y_pred))\n",
        "    results.append(metrics.precision_score(label, y_pred))\n",
        "    results.append(metrics.recall_score(label, y_pred))\n",
        "    results.append(metrics.f1_score(label, y_pred))\n",
        "    print(\"Accuracy:{:.6f}\".format(metrics.accuracy_score(label, y_pred)))\n",
        "    print(\"Precision:{:.6f}\".format(metrics.precision_score(label, y_pred)))\n",
        "    print(\"Recall:{:.6f}\".format(metrics.recall_score(label, y_pred)))\n",
        "    print(\"F1 score:{:.6f}\".format(metrics.f1_score(label, y_pred)))\n",
        "    # Print Confusion Matrix\n",
        "    confusion_matrix = pd.DataFrame(metrics.confusion_matrix(label, y_pred)) \n",
        "    sns.heatmap(confusion_matrix, annot=True, cmap=\"Blues\");\n",
        "    return results"
      ],
      "execution_count": 21,
      "outputs": []
    },
    {
      "cell_type": "markdown",
      "metadata": {
        "id": "yfIBpl9YUTH2"
      },
      "source": [
        "Training data with 2 layer LSTM with hidden size 50 "
      ]
    },
    {
      "cell_type": "code",
      "metadata": {
        "colab": {
          "base_uri": "https://localhost:8080/",
          "height": 1000
        },
        "id": "a8cNforDl1S5",
        "outputId": "a680aad7-a865-4926-e4a1-bb35a542c904"
      },
      "source": [
        "import tensorflow as tf\n",
        "from tensorflow.keras.models import Sequential\n",
        "from tensorflow.keras.layers import Dense\n",
        "from tensorflow.keras.layers import LSTM\n",
        "from tensorflow.keras.layers import Dropout\n",
        "with tf.device('/device:GPU:0'):\n",
        "  model=Sequential()\n",
        "  model.add(tf.compat.v1.keras.layers.CuDNNLSTM(50,return_sequences=True,input_shape=(11,1)))\n",
        "  model.add(Dropout(0.1))\n",
        "  model.add(tf.compat.v1.keras.layers.CuDNNLSTM(50))\n",
        "  model.add(Dropout(0.1))\n",
        "  model.add(Dense(1, activation='sigmoid'))\n",
        "  opt = tf.keras.optimizers.Adam(beta_1=0.9,beta_2=0.999,learning_rate=0.02)\n",
        "  model.compile(loss='binary_crossentropy', optimizer=opt, metrics=['accuracy'])\n",
        "  model.fit(x_train,y_train,validation_data=(x_test,y_test),epochs=20,batch_size=64,verbose=2)\n",
        "  \n",
        "  # Predictions on test data\n",
        "  preds = model.predict(x_test)\n",
        "  preds = np.array([1 if y >= 0.5 else 0 for y in preds])\n",
        "  lstm_results = scores(preds, y_test)"
      ],
      "execution_count": 22,
      "outputs": [
        {
          "output_type": "stream",
          "text": [
            "Epoch 1/20\n",
            "48/48 - 2s - loss: 0.6598 - accuracy: 0.6088 - val_loss: 0.6304 - val_accuracy: 0.6699\n",
            "Epoch 2/20\n",
            "48/48 - 0s - loss: 0.5913 - accuracy: 0.6998 - val_loss: 0.7088 - val_accuracy: 0.5570\n",
            "Epoch 3/20\n",
            "48/48 - 0s - loss: 0.5977 - accuracy: 0.6838 - val_loss: 0.5989 - val_accuracy: 0.6816\n",
            "Epoch 4/20\n",
            "48/48 - 0s - loss: 0.5599 - accuracy: 0.7197 - val_loss: 0.6442 - val_accuracy: 0.6297\n",
            "Epoch 5/20\n",
            "48/48 - 0s - loss: 0.5475 - accuracy: 0.7253 - val_loss: 0.6625 - val_accuracy: 0.6185\n",
            "Epoch 6/20\n",
            "48/48 - 0s - loss: 0.5515 - accuracy: 0.7250 - val_loss: 0.6003 - val_accuracy: 0.6782\n",
            "Epoch 7/20\n",
            "48/48 - 0s - loss: 0.5381 - accuracy: 0.7320 - val_loss: 0.5987 - val_accuracy: 0.6743\n",
            "Epoch 8/20\n",
            "48/48 - 0s - loss: 0.5374 - accuracy: 0.7310 - val_loss: 0.5966 - val_accuracy: 0.6795\n",
            "Epoch 9/20\n",
            "48/48 - 1s - loss: 0.5344 - accuracy: 0.7370 - val_loss: 0.5896 - val_accuracy: 0.6837\n",
            "Epoch 10/20\n",
            "48/48 - 0s - loss: 0.5328 - accuracy: 0.7403 - val_loss: 0.5943 - val_accuracy: 0.6850\n",
            "Epoch 11/20\n",
            "48/48 - 0s - loss: 0.5277 - accuracy: 0.7340 - val_loss: 0.6076 - val_accuracy: 0.6704\n",
            "Epoch 12/20\n",
            "48/48 - 0s - loss: 0.5228 - accuracy: 0.7313 - val_loss: 0.5911 - val_accuracy: 0.6785\n",
            "Epoch 13/20\n",
            "48/48 - 0s - loss: 0.5166 - accuracy: 0.7423 - val_loss: 0.5976 - val_accuracy: 0.6806\n",
            "Epoch 14/20\n",
            "48/48 - 0s - loss: 0.5145 - accuracy: 0.7449 - val_loss: 0.6239 - val_accuracy: 0.6615\n",
            "Epoch 15/20\n",
            "48/48 - 1s - loss: 0.5087 - accuracy: 0.7486 - val_loss: 0.5826 - val_accuracy: 0.6829\n",
            "Epoch 16/20\n",
            "48/48 - 0s - loss: 0.4991 - accuracy: 0.7566 - val_loss: 0.5966 - val_accuracy: 0.6720\n",
            "Epoch 17/20\n",
            "48/48 - 0s - loss: 0.5130 - accuracy: 0.7486 - val_loss: 0.5990 - val_accuracy: 0.6847\n",
            "Epoch 18/20\n",
            "48/48 - 0s - loss: 0.5018 - accuracy: 0.7512 - val_loss: 0.5924 - val_accuracy: 0.6876\n",
            "Epoch 19/20\n",
            "48/48 - 0s - loss: 0.5058 - accuracy: 0.7559 - val_loss: 0.5947 - val_accuracy: 0.6840\n",
            "Epoch 20/20\n",
            "48/48 - 0s - loss: 0.4964 - accuracy: 0.7615 - val_loss: 0.5836 - val_accuracy: 0.6926\n",
            "Accuracy:0.692568\n",
            "Precision:0.686722\n",
            "Recall:0.796056\n",
            "F1 score:0.737358\n"
          ],
          "name": "stdout"
        },
        {
          "output_type": "display_data",
          "data": {
            "image/png": "[encoded data removed]",
            "text/plain": [
              "<Figure size 432x288 with 2 Axes>"
            ]
          },
          "metadata": {
            "tags": [],
            "needs_background": "light"
          }
        }
      ]
    },
    {
      "cell_type": "code",
      "metadata": {
        "id": "duZ_Mhn7-6AV",
        "outputId": "1c610565-c913-420c-c540-8166426d1292",
        "colab": {
          "base_uri": "https://localhost:8080/"
        }
      },
      "source": [
        "lstm_results"
      ],
      "execution_count": 23,
      "outputs": [
        {
          "output_type": "execute_result",
          "data": {
            "text/plain": [
              "[0.6925684485006519, 0.6867219917012448, 0.796055796055796, 0.7373579861884607]"
            ]
          },
          "metadata": {
            "tags": []
          },
          "execution_count": 23
        }
      ]
    },
    {
      "cell_type": "markdown",
      "metadata": {
        "id": "JgcBhB_7UccF"
      },
      "source": [
        "Training data with 2 layer GRU with hidden size 50 "
      ]
    },
    {
      "cell_type": "code",
      "metadata": {
        "colab": {
          "base_uri": "https://localhost:8080/",
          "height": 1000
        },
        "id": "xAaqteGXRZ9i",
        "outputId": "198ed43f-07ee-40b0-b17c-25857427f488"
      },
      "source": [
        "with tf.device('/device:GPU:0'):\n",
        "  model=Sequential()\n",
        "  model.add(tf.compat.v1.keras.layers.CuDNNGRU(50,return_sequences=True,input_shape=(11,1)))\n",
        "  model.add(Dropout(0.1))\n",
        "  model.add(tf.compat.v1.keras.layers.CuDNNGRU(50))\n",
        "  model.add(Dropout(0.1))\n",
        "  model.add(Dense(1, activation='sigmoid'))\n",
        "  opt = tf.keras.optimizers.Adam(beta_1=0.9,beta_2=0.999,learning_rate=0.02)\n",
        "  model.compile(loss='binary_crossentropy', optimizer=opt, metrics=['accuracy'])\n",
        "  model.fit(x_train,y_train,validation_data=(x_test,y_test),epochs=20,batch_size=64,verbose=2)\n",
        "\n",
        "  # Predictions on test data\n",
        "  preds = model.predict(x_test)\n",
        "  preds = np.array([1 if y >= 0.5 else 0 for y in preds])\n",
        "  gru_results = scores(preds, y_test)"
      ],
      "execution_count": 24,
      "outputs": [
        {
          "output_type": "stream",
          "text": [
            "Epoch 1/20\n",
            "48/48 - 2s - loss: 0.6340 - accuracy: 0.6387 - val_loss: 0.6054 - val_accuracy: 0.6696\n",
            "Epoch 2/20\n",
            "48/48 - 0s - loss: 0.5625 - accuracy: 0.7184 - val_loss: 0.5981 - val_accuracy: 0.6806\n",
            "Epoch 3/20\n",
            "48/48 - 0s - loss: 0.5496 - accuracy: 0.7224 - val_loss: 0.5979 - val_accuracy: 0.6829\n",
            "Epoch 4/20\n",
            "48/48 - 0s - loss: 0.5390 - accuracy: 0.7343 - val_loss: 0.6022 - val_accuracy: 0.6686\n",
            "Epoch 5/20\n",
            "48/48 - 0s - loss: 0.5335 - accuracy: 0.7386 - val_loss: 0.5848 - val_accuracy: 0.6892\n",
            "Epoch 6/20\n",
            "48/48 - 0s - loss: 0.5235 - accuracy: 0.7340 - val_loss: 0.6334 - val_accuracy: 0.6801\n",
            "Epoch 7/20\n",
            "48/48 - 0s - loss: 0.5224 - accuracy: 0.7403 - val_loss: 0.5923 - val_accuracy: 0.6887\n",
            "Epoch 8/20\n",
            "48/48 - 0s - loss: 0.5208 - accuracy: 0.7390 - val_loss: 0.6211 - val_accuracy: 0.6754\n",
            "Epoch 9/20\n",
            "48/48 - 0s - loss: 0.5288 - accuracy: 0.7370 - val_loss: 0.6111 - val_accuracy: 0.6691\n",
            "Epoch 10/20\n",
            "48/48 - 0s - loss: 0.5112 - accuracy: 0.7489 - val_loss: 0.6135 - val_accuracy: 0.6621\n",
            "Epoch 11/20\n",
            "48/48 - 0s - loss: 0.5141 - accuracy: 0.7502 - val_loss: 0.5802 - val_accuracy: 0.6986\n",
            "Epoch 12/20\n",
            "48/48 - 0s - loss: 0.5091 - accuracy: 0.7502 - val_loss: 0.5843 - val_accuracy: 0.6926\n",
            "Epoch 13/20\n",
            "48/48 - 0s - loss: 0.5076 - accuracy: 0.7519 - val_loss: 0.5861 - val_accuracy: 0.6957\n",
            "Epoch 14/20\n",
            "48/48 - 0s - loss: 0.5063 - accuracy: 0.7526 - val_loss: 0.5825 - val_accuracy: 0.6900\n",
            "Epoch 15/20\n",
            "48/48 - 0s - loss: 0.5141 - accuracy: 0.7473 - val_loss: 0.5912 - val_accuracy: 0.6881\n",
            "Epoch 16/20\n",
            "48/48 - 0s - loss: 0.5048 - accuracy: 0.7576 - val_loss: 0.6288 - val_accuracy: 0.6735\n",
            "Epoch 17/20\n",
            "48/48 - 0s - loss: 0.4971 - accuracy: 0.7615 - val_loss: 0.5838 - val_accuracy: 0.6983\n",
            "Epoch 18/20\n",
            "48/48 - 0s - loss: 0.5058 - accuracy: 0.7576 - val_loss: 0.5801 - val_accuracy: 0.7059\n",
            "Epoch 19/20\n",
            "48/48 - 0s - loss: 0.5100 - accuracy: 0.7476 - val_loss: 0.7128 - val_accuracy: 0.6391\n",
            "Epoch 20/20\n",
            "48/48 - 0s - loss: 0.5211 - accuracy: 0.7390 - val_loss: 0.5907 - val_accuracy: 0.6934\n",
            "Accuracy:0.693351\n",
            "Precision:0.703654\n",
            "Recall:0.750361\n",
            "F1 score:0.726257\n"
          ],
          "name": "stdout"
        },
        {
          "output_type": "display_data",
          "data": {
            "image/png": "[encoded data removed]",
            "text/plain": [
              "<Figure size 432x288 with 2 Axes>"
            ]
          },
          "metadata": {
            "tags": [],
            "needs_background": "light"
          }
        }
      ]
    },
    {
      "cell_type": "code",
      "metadata": {
        "id": "AFLBTh4y_OS_",
        "outputId": "6c47db20-913c-435b-8de5-cbb8f6a5511f",
        "colab": {
          "base_uri": "https://localhost:8080/"
        }
      },
      "source": [
        "gru_results"
      ],
      "execution_count": 25,
      "outputs": [
        {
          "output_type": "execute_result",
          "data": {
            "text/plain": [
              "[0.6933507170795307,\n",
              " 0.7036535859269283,\n",
              " 0.7503607503607503,\n",
              " 0.7262569832402236]"
            ]
          },
          "metadata": {
            "tags": []
          },
          "execution_count": 25
        }
      ]
    },
    {
      "cell_type": "markdown",
      "metadata": {
        "id": "EzhhC-0EaGN6"
      },
      "source": [
        "Training data with XGBoost"
      ]
    },
    {
      "cell_type": "code",
      "metadata": {
        "colab": {
          "base_uri": "https://localhost:8080/",
          "height": 1000
        },
        "id": "knFB8EKWaF_z",
        "outputId": "a8e321b2-24ff-4d52-affa-55ee45a7e2bb"
      },
      "source": [
        "import xgboost as xgb\n",
        "import numpy as np\n",
        "\n",
        "X_train = x_train.reshape(x_train.shape[0],x_train.shape[1])\n",
        "X_test = x_test.reshape(x_test.shape[0],x_test.shape[1])\n",
        "\n",
        "# XGBoost classifier with Early-stopping\n",
        "clf = xgb.XGBClassifier(n_jobs=1)\n",
        "clf.fit(X_train, y_train, early_stopping_rounds=50, eval_metric=\"auc\",\n",
        "        eval_set=[(X_test, y_test)])\n",
        "\n",
        "preds = clf.predict(X_test)\n",
        "xgboost_results = scores(y_test, preds)\n"
      ],
      "execution_count": 26,
      "outputs": [
        {
          "output_type": "stream",
          "text": [
            "[0]\tvalidation_0-auc:0.731009\n",
            "Will train until validation_0-auc hasn't improved in 50 rounds.\n",
            "[1]\tvalidation_0-auc:0.731291\n",
            "[2]\tvalidation_0-auc:0.731218\n",
            "[3]\tvalidation_0-auc:0.731854\n",
            "[4]\tvalidation_0-auc:0.732589\n",
            "[5]\tvalidation_0-auc:0.732487\n",
            "[6]\tvalidation_0-auc:0.740994\n",
            "[7]\tvalidation_0-auc:0.743101\n",
            "[8]\tvalidation_0-auc:0.743565\n",
            "[9]\tvalidation_0-auc:0.742532\n",
            "[10]\tvalidation_0-auc:0.742988\n",
            "[11]\tvalidation_0-auc:0.742518\n",
            "[12]\tvalidation_0-auc:0.743228\n",
            "[13]\tvalidation_0-auc:0.74337\n",
            "[14]\tvalidation_0-auc:0.743477\n",
            "[15]\tvalidation_0-auc:0.743484\n",
            "[16]\tvalidation_0-auc:0.743919\n",
            "[17]\tvalidation_0-auc:0.74442\n",
            "[18]\tvalidation_0-auc:0.744942\n",
            "[19]\tvalidation_0-auc:0.74594\n",
            "[20]\tvalidation_0-auc:0.745706\n",
            "[21]\tvalidation_0-auc:0.746255\n",
            "[22]\tvalidation_0-auc:0.746086\n",
            "[23]\tvalidation_0-auc:0.746581\n",
            "[24]\tvalidation_0-auc:0.746946\n",
            "[25]\tvalidation_0-auc:0.746795\n",
            "[26]\tvalidation_0-auc:0.747\n",
            "[27]\tvalidation_0-auc:0.747143\n",
            "[28]\tvalidation_0-auc:0.74756\n",
            "[29]\tvalidation_0-auc:0.747364\n",
            "[30]\tvalidation_0-auc:0.747528\n",
            "[31]\tvalidation_0-auc:0.747747\n",
            "[32]\tvalidation_0-auc:0.747874\n",
            "[33]\tvalidation_0-auc:0.747918\n",
            "[34]\tvalidation_0-auc:0.747722\n",
            "[35]\tvalidation_0-auc:0.74789\n",
            "[36]\tvalidation_0-auc:0.747826\n",
            "[37]\tvalidation_0-auc:0.747603\n",
            "[38]\tvalidation_0-auc:0.747715\n",
            "[39]\tvalidation_0-auc:0.747733\n",
            "[40]\tvalidation_0-auc:0.74775\n",
            "[41]\tvalidation_0-auc:0.747763\n",
            "[42]\tvalidation_0-auc:0.747697\n",
            "[43]\tvalidation_0-auc:0.747635\n",
            "[44]\tvalidation_0-auc:0.747605\n",
            "[45]\tvalidation_0-auc:0.747499\n",
            "[46]\tvalidation_0-auc:0.747698\n",
            "[47]\tvalidation_0-auc:0.74763\n",
            "[48]\tvalidation_0-auc:0.74766\n",
            "[49]\tvalidation_0-auc:0.747705\n",
            "[50]\tvalidation_0-auc:0.747571\n",
            "[51]\tvalidation_0-auc:0.747646\n",
            "[52]\tvalidation_0-auc:0.747724\n",
            "[53]\tvalidation_0-auc:0.747636\n",
            "[54]\tvalidation_0-auc:0.7475\n",
            "[55]\tvalidation_0-auc:0.747419\n",
            "[56]\tvalidation_0-auc:0.747462\n",
            "[57]\tvalidation_0-auc:0.747477\n",
            "[58]\tvalidation_0-auc:0.747505\n",
            "[59]\tvalidation_0-auc:0.747475\n",
            "[60]\tvalidation_0-auc:0.747516\n",
            "[61]\tvalidation_0-auc:0.747434\n",
            "[62]\tvalidation_0-auc:0.747361\n",
            "[63]\tvalidation_0-auc:0.747543\n",
            "[64]\tvalidation_0-auc:0.747385\n",
            "[65]\tvalidation_0-auc:0.747884\n",
            "[66]\tvalidation_0-auc:0.748003\n",
            "[67]\tvalidation_0-auc:0.747903\n",
            "[68]\tvalidation_0-auc:0.747743\n",
            "[69]\tvalidation_0-auc:0.747736\n",
            "[70]\tvalidation_0-auc:0.747738\n",
            "[71]\tvalidation_0-auc:0.747774\n",
            "[72]\tvalidation_0-auc:0.74779\n",
            "[73]\tvalidation_0-auc:0.747776\n",
            "[74]\tvalidation_0-auc:0.747856\n",
            "[75]\tvalidation_0-auc:0.747753\n",
            "[76]\tvalidation_0-auc:0.747787\n",
            "[77]\tvalidation_0-auc:0.747778\n",
            "[78]\tvalidation_0-auc:0.747696\n",
            "[79]\tvalidation_0-auc:0.747792\n",
            "[80]\tvalidation_0-auc:0.747831\n",
            "[81]\tvalidation_0-auc:0.747795\n",
            "[82]\tvalidation_0-auc:0.747892\n",
            "[83]\tvalidation_0-auc:0.747894\n",
            "[84]\tvalidation_0-auc:0.747922\n",
            "[85]\tvalidation_0-auc:0.747967\n",
            "[86]\tvalidation_0-auc:0.747912\n",
            "[87]\tvalidation_0-auc:0.748132\n",
            "[88]\tvalidation_0-auc:0.748033\n",
            "[89]\tvalidation_0-auc:0.748263\n",
            "[90]\tvalidation_0-auc:0.748224\n",
            "[91]\tvalidation_0-auc:0.748294\n",
            "[92]\tvalidation_0-auc:0.748225\n",
            "[93]\tvalidation_0-auc:0.748379\n",
            "[94]\tvalidation_0-auc:0.748393\n",
            "[95]\tvalidation_0-auc:0.748426\n",
            "[96]\tvalidation_0-auc:0.748426\n",
            "[97]\tvalidation_0-auc:0.748494\n",
            "[98]\tvalidation_0-auc:0.748287\n",
            "[99]\tvalidation_0-auc:0.748287\n",
            "Accuracy:0.689961\n",
            "Precision:0.752285\n",
            "Recall:0.698838\n",
            "F1 score:0.724577\n"
          ],
          "name": "stdout"
        },
        {
          "output_type": "display_data",
          "data": {
            "image/png": "[encoded data removed]",
            "text/plain": [
              "<Figure size 432x288 with 2 Axes>"
            ]
          },
          "metadata": {
            "tags": [],
            "needs_background": "light"
          }
        }
      ]
    },
    {
      "cell_type": "code",
      "metadata": {
        "id": "A1IIzOGh_Wmf",
        "outputId": "8bf92239-1d54-4e3d-fc43-b430864ca45f",
        "colab": {
          "base_uri": "https://localhost:8080/"
        }
      },
      "source": [
        "xgboost_results"
      ],
      "execution_count": 27,
      "outputs": [
        {
          "output_type": "execute_result",
          "data": {
            "text/plain": [
              "[0.689960886571056, 0.7522847522847523, 0.6988382484361036, 0.7245772527217975]"
            ]
          },
          "metadata": {
            "tags": []
          },
          "execution_count": 27
        }
      ]
    },
    {
      "cell_type": "markdown",
      "metadata": {
        "id": "Fh43s6vGUkDF"
      },
      "source": [
        "#My approach"
      ]
    },
    {
      "cell_type": "markdown",
      "metadata": {
        "id": "QW4qElevUx-J"
      },
      "source": [
        "sampling form 44 previous data with sample size 11 and equal distance between samples"
      ]
    },
    {
      "cell_type": "code",
      "metadata": {
        "id": "YBFM2y1Q3eDr"
      },
      "source": [
        "expand_data = np.array([closing_price[i:i+44] for i in range(len(closing_price) - 43) ])\n",
        "\n",
        "\n",
        "#x_df = np.array([np.convolve(x,np.ones(4)/4,mode='valid') for x in x_df])\n",
        "final_data_x = np.array([np.array([x[i] for i in range(3,44,4)]) for x in expand_data])\n",
        "final_data_x = final_data_x / np.mean(final_data_x,axis = 1).reshape((len(final_data_x) , 1))\n",
        "final_data_x = final_data_x - np.ones((len(final_data_x) ,1))\n",
        "\n",
        "final_data_y = label[43:]\n",
        "\n",
        "\n",
        "x_train = final_data_x[0:3011]\n",
        "y_train = final_data_y[0:3011]\n",
        "x_test= final_data_x[3011:]\n",
        "y_test = final_data_y[3011:]\n",
        "\n",
        "\n",
        "y_train = (y_train + 1)//2\n",
        "y_test = (y_test + 1)//2\n",
        "\n",
        "\n",
        "x_train =x_train.reshape(x_train.shape[0],x_train.shape[1] , 1)\n",
        "x_test = x_test.reshape(x_test.shape[0],x_test.shape[1] , 1)\n"
      ],
      "execution_count": 28,
      "outputs": []
    },
    {
      "cell_type": "code",
      "metadata": {
        "colab": {
          "base_uri": "https://localhost:8080/",
          "height": 1000
        },
        "id": "ekxvhC_IGprq",
        "outputId": "1dd9be6e-63fc-4b92-a3e3-774da96f2df2"
      },
      "source": [
        "with tf.device('/device:GPU:0'):\n",
        "  model=Sequential()\n",
        "  model.add(tf.compat.v1.keras.layers.CuDNNLSTM(50,return_sequences=True,input_shape=(11,1)))\n",
        "  model.add(Dropout(0.1))\n",
        "  model.add(tf.compat.v1.keras.layers.CuDNNLSTM(50))\n",
        "  model.add(Dropout(0.1))\n",
        "  model.add(Dense(1, activation='sigmoid'))\n",
        "  opt = tf.keras.optimizers.Adam(beta_1=0.9,beta_2=0.999,learning_rate=0.02)\n",
        "  model.compile(loss='binary_crossentropy', optimizer=opt, metrics=['accuracy'])\n",
        "  model.fit(x_train,y_train,validation_data=(x_test,y_test),epochs=20,batch_size=64,verbose=2)\n",
        "\n",
        "  # Predictions on test data\n",
        "  preds = model.predict(x_test)\n",
        "  preds = np.array([1 if y >= 0.5 else 0 for y in preds])\n",
        "  lstm_results_beta = scores(preds, y_test)"
      ],
      "execution_count": 31,
      "outputs": [
        {
          "output_type": "stream",
          "text": [
            "Epoch 1/20\n",
            "48/48 - 2s - loss: 0.6739 - accuracy: 0.5849 - val_loss: 0.6712 - val_accuracy: 0.5526\n",
            "Epoch 2/20\n",
            "48/48 - 0s - loss: 0.6012 - accuracy: 0.6885 - val_loss: 0.7367 - val_accuracy: 0.4784\n",
            "Epoch 3/20\n",
            "48/48 - 0s - loss: 0.5672 - accuracy: 0.6974 - val_loss: 0.5314 - val_accuracy: 0.7378\n",
            "Epoch 4/20\n",
            "48/48 - 0s - loss: 0.5181 - accuracy: 0.7443 - val_loss: 0.5306 - val_accuracy: 0.7299\n",
            "Epoch 5/20\n",
            "48/48 - 0s - loss: 0.4964 - accuracy: 0.7635 - val_loss: 0.5292 - val_accuracy: 0.7362\n",
            "Epoch 6/20\n",
            "48/48 - 0s - loss: 0.4672 - accuracy: 0.7718 - val_loss: 0.5337 - val_accuracy: 0.7380\n",
            "Epoch 7/20\n",
            "48/48 - 0s - loss: 0.4491 - accuracy: 0.7901 - val_loss: 0.5354 - val_accuracy: 0.7230\n",
            "Epoch 8/20\n",
            "48/48 - 0s - loss: 0.4405 - accuracy: 0.7971 - val_loss: 0.5374 - val_accuracy: 0.7378\n",
            "Epoch 9/20\n",
            "48/48 - 0s - loss: 0.4394 - accuracy: 0.7878 - val_loss: 0.5510 - val_accuracy: 0.7299\n",
            "Epoch 10/20\n",
            "48/48 - 0s - loss: 0.4430 - accuracy: 0.7904 - val_loss: 0.5311 - val_accuracy: 0.7449\n",
            "Epoch 11/20\n",
            "48/48 - 0s - loss: 0.4391 - accuracy: 0.7964 - val_loss: 0.5592 - val_accuracy: 0.7175\n",
            "Epoch 12/20\n",
            "48/48 - 0s - loss: 0.4279 - accuracy: 0.8011 - val_loss: 0.5443 - val_accuracy: 0.7472\n",
            "Epoch 13/20\n",
            "48/48 - 0s - loss: 0.4046 - accuracy: 0.8087 - val_loss: 0.5453 - val_accuracy: 0.7225\n",
            "Epoch 14/20\n",
            "48/48 - 0s - loss: 0.4156 - accuracy: 0.8160 - val_loss: 0.5760 - val_accuracy: 0.7012\n",
            "Epoch 15/20\n",
            "48/48 - 0s - loss: 0.3889 - accuracy: 0.8203 - val_loss: 0.6178 - val_accuracy: 0.6860\n",
            "Epoch 16/20\n",
            "48/48 - 0s - loss: 0.3896 - accuracy: 0.8227 - val_loss: 0.5974 - val_accuracy: 0.7102\n",
            "Epoch 17/20\n",
            "48/48 - 0s - loss: 0.3609 - accuracy: 0.8333 - val_loss: 0.6186 - val_accuracy: 0.7104\n",
            "Epoch 18/20\n",
            "48/48 - 0s - loss: 0.3672 - accuracy: 0.8416 - val_loss: 0.5963 - val_accuracy: 0.7157\n",
            "Epoch 19/20\n",
            "48/48 - 0s - loss: 0.3623 - accuracy: 0.8323 - val_loss: 0.6836 - val_accuracy: 0.6883\n",
            "Epoch 20/20\n",
            "48/48 - 0s - loss: 0.3666 - accuracy: 0.8336 - val_loss: 0.6386 - val_accuracy: 0.7028\n",
            "Accuracy:0.702788\n",
            "Precision:0.735725\n",
            "Recall:0.705768\n",
            "F1 score:0.720435\n"
          ],
          "name": "stdout"
        },
        {
          "output_type": "display_data",
          "data": {
            "image/png": "[encoded data removed]",
            "text/plain": [
              "<Figure size 432x288 with 2 Axes>"
            ]
          },
          "metadata": {
            "tags": [],
            "needs_background": "light"
          }
        }
      ]
    },
    {
      "cell_type": "code",
      "metadata": {
        "id": "3P8VKgvtAbcu",
        "outputId": "3cef43c4-443c-4a8f-ab91-f49c6ba25876",
        "colab": {
          "base_uri": "https://localhost:8080/"
        }
      },
      "source": [
        "lstm_results_beta"
      ],
      "execution_count": 32,
      "outputs": [
        {
          "output_type": "execute_result",
          "data": {
            "text/plain": [
              "[0.7027880063124671,\n",
              " 0.7357251136937848,\n",
              " 0.7057682985942801,\n",
              " 0.7204354280059376]"
            ]
          },
          "metadata": {
            "tags": []
          },
          "execution_count": 32
        }
      ]
    },
    {
      "cell_type": "code",
      "metadata": {
        "colab": {
          "base_uri": "https://localhost:8080/",
          "height": 1000
        },
        "id": "G49PiUxncGeZ",
        "outputId": "37f51dc9-cef3-41b0-b72a-9364aa2b81d6"
      },
      "source": [
        "with tf.device('/device:GPU:0'):\n",
        "  model=Sequential()\n",
        "  model.add(tf.compat.v1.keras.layers.CuDNNGRU(50,return_sequences=True,input_shape=(11,1)))\n",
        "  model.add(Dropout(0.1))\n",
        "  model.add(tf.compat.v1.keras.layers.CuDNNGRU(50))\n",
        "  model.add(Dropout(0.1))\n",
        "  model.add(Dense(1, activation='sigmoid'))\n",
        "  opt = tf.keras.optimizers.Adam(beta_1=0.9,beta_2=0.999,learning_rate=0.02)\n",
        "  model.compile(loss='binary_crossentropy', optimizer=opt, metrics=['accuracy'])\n",
        "  model.fit(x_train,y_train,validation_data=(x_test,y_test),epochs=20,batch_size=64,verbose=2)\n",
        "\n",
        "  # Predictions on test data\n",
        "  preds = model.predict(x_test)\n",
        "  preds = np.array([1 if y >= 0.5 else 0 for y in preds])\n",
        "  gru_results_beta = scores(preds, y_test)"
      ],
      "execution_count": 29,
      "outputs": [
        {
          "output_type": "stream",
          "text": [
            "Epoch 1/20\n",
            "48/48 - 2s - loss: 0.6055 - accuracy: 0.6563 - val_loss: 0.6470 - val_accuracy: 0.5992\n",
            "Epoch 2/20\n",
            "48/48 - 0s - loss: 0.5452 - accuracy: 0.7283 - val_loss: 0.5238 - val_accuracy: 0.7354\n",
            "Epoch 3/20\n",
            "48/48 - 0s - loss: 0.4857 - accuracy: 0.7672 - val_loss: 0.5697 - val_accuracy: 0.7038\n",
            "Epoch 4/20\n",
            "48/48 - 0s - loss: 0.4876 - accuracy: 0.7659 - val_loss: 0.5362 - val_accuracy: 0.7344\n",
            "Epoch 5/20\n",
            "48/48 - 0s - loss: 0.4629 - accuracy: 0.7868 - val_loss: 0.5729 - val_accuracy: 0.7088\n",
            "Epoch 6/20\n",
            "48/48 - 0s - loss: 0.4555 - accuracy: 0.7884 - val_loss: 0.5733 - val_accuracy: 0.6965\n",
            "Epoch 7/20\n",
            "48/48 - 0s - loss: 0.4649 - accuracy: 0.7781 - val_loss: 0.5788 - val_accuracy: 0.6931\n",
            "Epoch 8/20\n",
            "48/48 - 0s - loss: 0.4358 - accuracy: 0.7974 - val_loss: 0.5822 - val_accuracy: 0.7096\n",
            "Epoch 9/20\n",
            "48/48 - 0s - loss: 0.4644 - accuracy: 0.7825 - val_loss: 0.5482 - val_accuracy: 0.7317\n",
            "Epoch 10/20\n",
            "48/48 - 0s - loss: 0.4513 - accuracy: 0.7884 - val_loss: 0.5770 - val_accuracy: 0.7170\n",
            "Epoch 11/20\n",
            "48/48 - 0s - loss: 0.4495 - accuracy: 0.7957 - val_loss: 0.5791 - val_accuracy: 0.6931\n",
            "Epoch 12/20\n",
            "48/48 - 0s - loss: 0.4405 - accuracy: 0.7961 - val_loss: 0.5746 - val_accuracy: 0.7180\n",
            "Epoch 13/20\n",
            "48/48 - 0s - loss: 0.5116 - accuracy: 0.7483 - val_loss: 0.5360 - val_accuracy: 0.7228\n",
            "Epoch 14/20\n",
            "48/48 - 0s - loss: 0.4795 - accuracy: 0.7722 - val_loss: 0.5806 - val_accuracy: 0.6781\n",
            "Epoch 15/20\n",
            "48/48 - 0s - loss: 0.4546 - accuracy: 0.7828 - val_loss: 0.5311 - val_accuracy: 0.7420\n",
            "Epoch 16/20\n",
            "48/48 - 0s - loss: 0.4385 - accuracy: 0.7924 - val_loss: 0.5572 - val_accuracy: 0.7296\n",
            "Epoch 17/20\n",
            "48/48 - 0s - loss: 0.4355 - accuracy: 0.8011 - val_loss: 0.5307 - val_accuracy: 0.7378\n",
            "Epoch 18/20\n",
            "48/48 - 0s - loss: 0.4601 - accuracy: 0.7881 - val_loss: 0.5693 - val_accuracy: 0.7162\n",
            "Epoch 19/20\n",
            "48/48 - 0s - loss: 0.4296 - accuracy: 0.7974 - val_loss: 0.5902 - val_accuracy: 0.6949\n",
            "Epoch 20/20\n",
            "48/48 - 0s - loss: 0.4138 - accuracy: 0.8087 - val_loss: 0.5733 - val_accuracy: 0.7078\n",
            "Accuracy:0.707785\n",
            "Precision:0.704117\n",
            "Recall:0.795928\n",
            "F1 score:0.747213\n"
          ],
          "name": "stdout"
        },
        {
          "output_type": "display_data",
          "data": {
            "image/png": "[encoded data removed]",
            "text/plain": [
              "<Figure size 432x288 with 2 Axes>"
            ]
          },
          "metadata": {
            "tags": [],
            "needs_background": "light"
          }
        }
      ]
    },
    {
      "cell_type": "code",
      "metadata": {
        "id": "AAiL7uSS_lrL",
        "outputId": "80d15bd0-17b8-49f2-a22f-523df033ac9b",
        "colab": {
          "base_uri": "https://localhost:8080/"
        }
      },
      "source": [
        "gru_results_beta"
      ],
      "execution_count": 30,
      "outputs": [
        {
          "output_type": "execute_result",
          "data": {
            "text/plain": [
              "[0.7077853761178328,\n",
              " 0.7041166380789022,\n",
              " 0.7959282598158022,\n",
              " 0.7472127417519909]"
            ]
          },
          "metadata": {
            "tags": []
          },
          "execution_count": 30
        }
      ]
    },
    {
      "cell_type": "markdown",
      "metadata": {
        "id": "wgWe8O8SkB-N"
      },
      "source": [
        "XGBoost on new approach"
      ]
    },
    {
      "cell_type": "code",
      "metadata": {
        "colab": {
          "base_uri": "https://localhost:8080/",
          "height": 1000
        },
        "id": "gJm_mceJkBlg",
        "outputId": "3818c197-8ef1-46e2-b2bc-7464c85470f2"
      },
      "source": [
        "import xgboost as xgb\n",
        "import numpy as np\n",
        "\n",
        "X_train = x_train.reshape(x_train.shape[0],x_train.shape[1])\n",
        "X_test = x_test.reshape(x_test.shape[0],x_test.shape[1])\n",
        "\n",
        "# XGBoost classifier with Early-stopping\n",
        "clf = xgb.XGBClassifier(n_jobs=1)\n",
        "clf.fit(X_train, y_train, early_stopping_rounds=50, eval_metric=\"auc\",\n",
        "        eval_set=[(X_test, y_test)])\n",
        "\n",
        "preds = clf.predict(X_test)\n",
        "xgboost_results_beta = scores(y_test, preds)"
      ],
      "execution_count": 33,
      "outputs": [
        {
          "output_type": "stream",
          "text": [
            "[0]\tvalidation_0-auc:0.784383\n",
            "Will train until validation_0-auc hasn't improved in 50 rounds.\n",
            "[1]\tvalidation_0-auc:0.78591\n",
            "[2]\tvalidation_0-auc:0.794936\n",
            "[3]\tvalidation_0-auc:0.798763\n",
            "[4]\tvalidation_0-auc:0.800806\n",
            "[5]\tvalidation_0-auc:0.801058\n",
            "[6]\tvalidation_0-auc:0.801886\n",
            "[7]\tvalidation_0-auc:0.801478\n",
            "[8]\tvalidation_0-auc:0.80242\n",
            "[9]\tvalidation_0-auc:0.804822\n",
            "[10]\tvalidation_0-auc:0.804515\n",
            "[11]\tvalidation_0-auc:0.803101\n",
            "[12]\tvalidation_0-auc:0.803229\n",
            "[13]\tvalidation_0-auc:0.801766\n",
            "[14]\tvalidation_0-auc:0.802255\n",
            "[15]\tvalidation_0-auc:0.802485\n",
            "[16]\tvalidation_0-auc:0.803993\n",
            "[17]\tvalidation_0-auc:0.804558\n",
            "[18]\tvalidation_0-auc:0.804713\n",
            "[19]\tvalidation_0-auc:0.804486\n",
            "[20]\tvalidation_0-auc:0.805602\n",
            "[21]\tvalidation_0-auc:0.804159\n",
            "[22]\tvalidation_0-auc:0.804091\n",
            "[23]\tvalidation_0-auc:0.806169\n",
            "[24]\tvalidation_0-auc:0.806494\n",
            "[25]\tvalidation_0-auc:0.80419\n",
            "[26]\tvalidation_0-auc:0.804639\n",
            "[27]\tvalidation_0-auc:0.805265\n",
            "[28]\tvalidation_0-auc:0.804684\n",
            "[29]\tvalidation_0-auc:0.804643\n",
            "[30]\tvalidation_0-auc:0.804954\n",
            "[31]\tvalidation_0-auc:0.805208\n",
            "[32]\tvalidation_0-auc:0.805418\n",
            "[33]\tvalidation_0-auc:0.805463\n",
            "[34]\tvalidation_0-auc:0.805807\n",
            "[35]\tvalidation_0-auc:0.805719\n",
            "[36]\tvalidation_0-auc:0.805311\n",
            "[37]\tvalidation_0-auc:0.805091\n",
            "[38]\tvalidation_0-auc:0.805197\n",
            "[39]\tvalidation_0-auc:0.80499\n",
            "[40]\tvalidation_0-auc:0.804689\n",
            "[41]\tvalidation_0-auc:0.804533\n",
            "[42]\tvalidation_0-auc:0.804543\n",
            "[43]\tvalidation_0-auc:0.804879\n",
            "[44]\tvalidation_0-auc:0.804275\n",
            "[45]\tvalidation_0-auc:0.802497\n",
            "[46]\tvalidation_0-auc:0.80217\n",
            "[47]\tvalidation_0-auc:0.801986\n",
            "[48]\tvalidation_0-auc:0.801999\n",
            "[49]\tvalidation_0-auc:0.800172\n",
            "[50]\tvalidation_0-auc:0.800209\n",
            "[51]\tvalidation_0-auc:0.79999\n",
            "[52]\tvalidation_0-auc:0.800073\n",
            "[53]\tvalidation_0-auc:0.799879\n",
            "[54]\tvalidation_0-auc:0.79988\n",
            "[55]\tvalidation_0-auc:0.799994\n",
            "[56]\tvalidation_0-auc:0.800001\n",
            "[57]\tvalidation_0-auc:0.799946\n",
            "[58]\tvalidation_0-auc:0.799673\n",
            "[59]\tvalidation_0-auc:0.799432\n",
            "[60]\tvalidation_0-auc:0.799391\n",
            "[61]\tvalidation_0-auc:0.79906\n",
            "[62]\tvalidation_0-auc:0.799181\n",
            "[63]\tvalidation_0-auc:0.799229\n",
            "[64]\tvalidation_0-auc:0.799076\n",
            "[65]\tvalidation_0-auc:0.798962\n",
            "[66]\tvalidation_0-auc:0.798884\n",
            "[67]\tvalidation_0-auc:0.798848\n",
            "[68]\tvalidation_0-auc:0.798404\n",
            "[69]\tvalidation_0-auc:0.798362\n",
            "[70]\tvalidation_0-auc:0.798216\n",
            "[71]\tvalidation_0-auc:0.79819\n",
            "[72]\tvalidation_0-auc:0.798104\n",
            "[73]\tvalidation_0-auc:0.79735\n",
            "[74]\tvalidation_0-auc:0.796865\n",
            "Stopping. Best iteration:\n",
            "[24]\tvalidation_0-auc:0.806494\n",
            "\n",
            "Accuracy:0.739611\n",
            "Precision:0.734367\n",
            "Recall:0.774144\n",
            "F1 score:0.753731\n"
          ],
          "name": "stdout"
        },
        {
          "output_type": "display_data",
          "data": {
            "image/png": "[encoded data removed]",
            "text/plain": [
              "<Figure size 432x288 with 2 Axes>"
            ]
          },
          "metadata": {
            "tags": [],
            "needs_background": "light"
          }
        }
      ]
    },
    {
      "cell_type": "code",
      "metadata": {
        "id": "WUw7iWzBAjy0",
        "outputId": "4ed71536-86ba-4c32-aed9-f4cc8e4d3f80",
        "colab": {
          "base_uri": "https://localhost:8080/"
        }
      },
      "source": [
        "xgboost_results_beta"
      ],
      "execution_count": 34,
      "outputs": [
        {
          "output_type": "execute_result",
          "data": {
            "text/plain": [
              "[0.7396107311941084, 0.7343674260785265, 0.774144098109351, 0.7537313432835822]"
            ]
          },
          "metadata": {
            "tags": []
          },
          "execution_count": 34
        }
      ]
    },
    {
      "cell_type": "markdown",
      "metadata": {
        "id": "Shgz1Kd30pMH"
      },
      "source": [
        "### Visualization"
      ]
    },
    {
      "cell_type": "code",
      "metadata": {
        "id": "MUP3BIMRpnOF"
      },
      "source": [
        "from prettytable import PrettyTable\n",
        "x = PrettyTable()"
      ],
      "execution_count": 43,
      "outputs": []
    },
    {
      "cell_type": "code",
      "metadata": {
        "id": "epAbnEmKA6wt"
      },
      "source": [
        "x.field_names = [\"Model\", \"Accuracy\", \"Precision\", \"Recall\", \"F1 score\"]\n",
        "lstm_results.insert(0,\"LSTM\")\n",
        "gru_results.insert(0,\"GRU\")\n",
        "xgboost_results.insert(0,\"XGBoost\")\n",
        "lstm_results_beta.insert(0,\"LSTM with 44 previous data\")\n",
        "gru_results_beta.insert(0,\"GRU with 44 previous data\")\n",
        "xgboost_results_beta.insert(0,\"XGBoost with 44 previous data\")\n",
        "x.add_row(lstm_results)\n",
        "x.add_row(gru_results)\n",
        "x.add_row(xgboost_results)\n",
        "x.add_row(lstm_results_beta)\n",
        "x.add_row(gru_results_beta)\n",
        "x.add_row(xgboost_results_beta)"
      ],
      "execution_count": 44,
      "outputs": []
    },
    {
      "cell_type": "code",
      "metadata": {
        "id": "x6ZyrhAWDHcI",
        "outputId": "0008f2e1-3e1f-4ba0-9560-595e36e12b61",
        "colab": {
          "base_uri": "https://localhost:8080/"
        }
      },
      "source": [
        "print(x)"
      ],
      "execution_count": 45,
      "outputs": [
        {
          "output_type": "stream",
          "text": [
            "+-------------------------------+--------------------+--------------------+--------------------+--------------------+\n",
            "|             Model             |      Accuracy      |     Precision      |       Recall       |      F1 score      |\n",
            "+-------------------------------+--------------------+--------------------+--------------------+--------------------+\n",
            "|              LSTM             | 0.6925684485006519 | 0.6867219917012448 | 0.796055796055796  | 0.7373579861884607 |\n",
            "|              GRU              | 0.6933507170795307 | 0.7036535859269283 | 0.7503607503607503 | 0.7262569832402236 |\n",
            "|            XGBoost            | 0.689960886571056  | 0.7522847522847523 | 0.6988382484361036 | 0.7245772527217975 |\n",
            "|   LSTM with 44 previous data  | 0.7027880063124671 | 0.7357251136937848 | 0.7057682985942801 | 0.7204354280059376 |\n",
            "|   GRU with 44 previous data   | 0.7077853761178328 | 0.7041166380789022 | 0.7959282598158022 | 0.7472127417519909 |\n",
            "| XGBoost with 44 previous data | 0.7396107311941084 | 0.7343674260785265 | 0.774144098109351  | 0.7537313432835822 |\n",
            "+-------------------------------+--------------------+--------------------+--------------------+--------------------+\n"
          ],
          "name": "stdout"
        }
      ]
    },
    {
      "cell_type": "code",
      "metadata": {
        "id": "FBkYgm5qDNLr"
      },
      "source": [
        ""
      ],
      "execution_count": null,
      "outputs": []
    }
  ]
}